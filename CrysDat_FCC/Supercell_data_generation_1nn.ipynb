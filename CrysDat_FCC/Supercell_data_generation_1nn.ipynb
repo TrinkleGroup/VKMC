{
 "cells": [
  {
   "cell_type": "code",
   "execution_count": 1,
   "metadata": {},
   "outputs": [],
   "source": [
    "from onsager import crystal, supercell, cluster\n",
    "import numpy as np"
   ]
  },
  {
   "cell_type": "code",
   "execution_count": 2,
   "metadata": {},
   "outputs": [],
   "source": [
    "N_units = 8 # No. of unit cells along each axis in the supercell\n",
    "MaxOrder = 2\n",
    "MaxOrderTrans = 3\n",
    "\n",
    "a0 = 1.0\n",
    "cut = 1.01*a0/np.sqrt(2)  # Nearest neighbor cutoff\n",
    "\n",
    "crys = crystal.Crystal.FCC(a0, chemistry=\"A\")\n",
    "jnetFCC = crys.jumpnetwork(0, cut)\n",
    "\n",
    "superlatt = N_units * np.eye(3, dtype=int)\n",
    "superFCC = supercell.ClusterSupercell(crys, superlatt)\n",
    "# Since the \"spectator\" tuple in the argument is left empty, all\n",
    "# sites of chemistry 0 will be mobile sites.\n",
    "\n",
    "vacsite = cluster.ClusterSite((0, 0), np.zeros(3, dtype=int))\n",
    "vacsiteInd = superFCC.index(np.zeros(3, dtype=int), (0, 0))[0]\n",
    "assert vacsiteInd == 0"
   ]
  },
  {
   "cell_type": "code",
   "execution_count": 3,
   "metadata": {},
   "outputs": [],
   "source": [
    "# Next, for every site, make indices\n",
    "RtoSiteInd = np.zeros((N_units, N_units, N_units), dtype=int)\n",
    "SiteIndtoR = np.zeros((N_units*N_units*N_units, 3), dtype=int)\n",
    "\n",
    "for i in range(N_units):\n",
    "    for j in range(N_units):\n",
    "        for k in range(N_units):\n",
    "            Rsite=np.array([i,j,k])\n",
    "            siteInd = superFCC.index(Rsite, (0,0))[0]\n",
    "            RtoSiteInd[i,j,k] = siteInd\n",
    "            SiteIndtoR[siteInd] = Rsite"
   ]
  },
  {
   "cell_type": "code",
   "execution_count": 4,
   "metadata": {},
   "outputs": [],
   "source": [
    "# Convert the jump displacements into lattice translation\n",
    "dxR = np.zeros((len(jnetFCC[0]), 3), dtype=int)\n",
    "dxList = np.zeros((len(jnetFCC[0]), 3))\n",
    "jList = np.zeros(len(jnetFCC[0]), dtype=int)\n",
    "for jInd, ((i, j), dx) in enumerate(jnetFCC[0]):\n",
    "    Rnn = np.dot(np.linalg.inv(crys.lattice), dx).round(decimals=3).astype(int)\n",
    "    dxR[jInd] = Rnn\n",
    "    dxList[jInd] = dx\n",
    "    Rnn %= N_units\n",
    "    siteIndNgb = RtoSiteInd[Rnn[0], Rnn[1], Rnn[2]]\n",
    "    jList[jInd] = siteIndNgb"
   ]
  },
  {
   "cell_type": "code",
   "execution_count": 5,
   "metadata": {},
   "outputs": [
    {
     "data": {
      "text/plain": [
       "12"
      ]
     },
     "execution_count": 5,
     "metadata": {},
     "output_type": "execute_result"
    }
   ],
   "source": [
    "N_ngb = len(dxR)\n",
    "N_ngb"
   ]
  },
  {
   "cell_type": "code",
   "execution_count": 6,
   "metadata": {},
   "outputs": [],
   "source": [
    "GIndtoGDict = {}\n",
    "count = 0\n",
    "for g in crys.G:\n",
    "    # Check if the group op is identity\n",
    "    if np.allclose(g.cartrot, np.eye(3)):\n",
    "        GIndtoGDict[0] = g\n",
    "    else:\n",
    "        count += 1\n",
    "        GIndtoGDict[count] = g"
   ]
  },
  {
   "cell_type": "code",
   "execution_count": 7,
   "metadata": {},
   "outputs": [
    {
     "data": {
      "text/plain": [
       "48"
      ]
     },
     "execution_count": 7,
     "metadata": {},
     "output_type": "execute_result"
    }
   ],
   "source": [
    "len(GIndtoGDict)"
   ]
  },
  {
   "cell_type": "code",
   "execution_count": 8,
   "metadata": {},
   "outputs": [
    {
     "data": {
      "text/plain": [
       "512"
      ]
     },
     "execution_count": 8,
     "metadata": {},
     "output_type": "execute_result"
    }
   ],
   "source": [
    "len(superFCC.mobilepos)"
   ]
  },
  {
   "cell_type": "code",
   "execution_count": 9,
   "metadata": {},
   "outputs": [],
   "source": [
    "# Next, for each site, store the nearest neighbors\n",
    "Nsites = len(superFCC.mobilepos)\n",
    "NNList = np.zeros((N_ngb + 1, Nsites), dtype=int)\n",
    "for siteInd in range(Nsites):\n",
    "    NNList[0, siteInd] = siteInd\n",
    "    Rsite = SiteIndtoR[siteInd]\n",
    "    for ngbInd, Rnn in enumerate(dxR):\n",
    "        RsiteNN = (Rsite + Rnn)%N_units\n",
    "        siteIndNN = RtoSiteInd[RsiteNN[0], RsiteNN[1], RsiteNN[2]]\n",
    "        NNList[ngbInd + 1, siteInd] = siteIndNN"
   ]
  },
  {
   "cell_type": "markdown",
   "metadata": {},
   "source": [
    "## Store permutation of nearest neighbors"
   ]
  },
  {
   "cell_type": "code",
   "execution_count": 11,
   "metadata": {},
   "outputs": [],
   "source": [
    "# For each group operation, store the permuation of the nearest neighbors\n",
    "# First assign indices to nearest neighbor vectors\n",
    "nntoIdx = {}\n",
    "for ngbInd, Rnn in enumerate(dxR):\n",
    "    RnnTup = tuple(Rnn)\n",
    "    nntoIdx[RnnTup] = ngbInd+1"
   ]
  },
  {
   "cell_type": "code",
   "execution_count": 12,
   "metadata": {},
   "outputs": [],
   "source": [
    "# Now for each group operation, store, the permutation of the nearest neighbors\n",
    "GpermIdx = np.zeros((len(GIndtoGDict), N_ngb + 1), dtype=np.uint8)\n",
    "for gInd, g in GIndtoGDict.items():\n",
    "    for nnTup, nnIdx in nntoIdx.items():\n",
    "        nnVec = np.array(nnTup)\n",
    "        nnRot, _ = crys.g_pos(g.inv(), nnVec, (0, 0))\n",
    "        nnIdxNew = nntoIdx[tuple(nnRot)]\n",
    "        GpermIdx[gInd, nnIdx] = nnIdxNew"
   ]
  },
  {
   "cell_type": "code",
   "execution_count": 13,
   "metadata": {},
   "outputs": [],
   "source": [
    "# store how each jump changes occupancies, if we keep the vacancy at the origin\n",
    "Nsites = SiteIndtoR.shape[0]\n",
    "Njumps = dxR.shape[0]\n",
    "jumpSiteIndex = np.zeros((Njumps, Nsites), dtype=int)\n",
    "for jumpInd in range(Njumps):\n",
    "    Rjump = dxR[jumpInd]%N_units\n",
    "    RjumpNeg = -dxR[jumpInd]%N_units\n",
    "    siteExchange = RtoSiteInd[Rjump[0], Rjump[1], Rjump[2]]\n",
    "    siteExchangeNew = RtoSiteInd[RjumpNeg[0], RjumpNeg[1], RjumpNeg[2]]\n",
    "    jumpSiteIndex[jumpInd, siteExchangeNew] = siteExchange  # the exchanged site\n",
    "    for siteInd in range(1, Nsites): # vacancy doesn't move so don't include it\n",
    "        if siteInd == siteExchange:\n",
    "            continue\n",
    "        Rsite = SiteIndtoR[siteInd]\n",
    "        RsiteNew = (Rsite - dxR[jumpInd])%N_units\n",
    "        siteIndNew = RtoSiteInd[RsiteNew[0], RsiteNew[1], RsiteNew[2]]\n",
    "        jumpSiteIndex[jumpInd, siteIndNew] = siteInd"
   ]
  },
  {
   "cell_type": "code",
   "execution_count": 14,
   "metadata": {},
   "outputs": [],
   "source": [
    "# Now save everything\n",
    "import pickle\n",
    "np.save(\"NNsites_sitewise.npy\", NNList)\n",
    "np.save(\"nnJumpLatVecs.npy\", dxR)\n",
    "np.save(\"RtoSiteInd.npy\", RtoSiteInd)\n",
    "np.save(\"SiteIndtoR.npy\", SiteIndtoR)\n",
    "np.save(\"GroupNNpermutations.npy\", GpermIdx)\n",
    "np.save(\"dxList.npy\", dxList)\n",
    "np.save(\"jList.npy\", jList)\n",
    "np.save(\"dxR.npy\", dxR)\n",
    "\n",
    "with open(\"GroupOpsIndices.pkl\", \"wb\") as fl:\n",
    "    pickle.dump(GIndtoGDict, fl)\n",
    "\n",
    "with open(\"supercellFCC.pkl\", \"wb\") as fl:\n",
    "    pickle.dump(superFCC, fl)\n",
    "\n",
    "with open(\"jnetFCC.pkl\", \"wb\") as fl:\n",
    "    pickle.dump(jnetFCC, fl)\n",
    "    \n",
    "np.save(\"JumpNewSiteIndices.npy\", jumpSiteIndex)"
   ]
  }
 ],
 "metadata": {
  "kernelspec": {
   "display_name": "Python 3 (ipykernel)",
   "language": "python",
   "name": "python3"
  },
  "language_info": {
   "codemirror_mode": {
    "name": "ipython",
    "version": 3
   },
   "file_extension": ".py",
   "mimetype": "text/x-python",
   "name": "python",
   "nbconvert_exporter": "python",
   "pygments_lexer": "ipython3",
   "version": "3.8.10"
  }
 },
 "nbformat": 4,
 "nbformat_minor": 4
}
