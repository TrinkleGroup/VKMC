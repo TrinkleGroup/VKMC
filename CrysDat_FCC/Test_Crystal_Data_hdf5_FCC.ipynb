{
 "cells": [
  {
   "cell_type": "markdown",
   "id": "d52dd3ac",
   "metadata": {},
   "source": [
    "## Example code to test saved crystal structure data"
   ]
  },
  {
   "cell_type": "code",
   "execution_count": 1,
   "id": "71dd6d93",
   "metadata": {},
   "outputs": [],
   "source": [
    "import numpy as np\n",
    "import pickle\n",
    "import h5py\n",
    "from tqdm import tqdm\n",
    "from onsager import crystal, supercell"
   ]
  },
  {
   "cell_type": "markdown",
   "id": "bdb35a13",
   "metadata": {},
   "source": [
    "## Load the hdf5 file with the crystal structure and supercell data"
   ]
  },
  {
   "cell_type": "code",
   "execution_count": 2,
   "id": "95436f42",
   "metadata": {},
   "outputs": [],
   "source": [
    "with h5py.File(\"CrystData.h5\", \"r\") as fl:\n",
    "    lattice = np.array(fl[\"Lattice_basis_vectors\"])\n",
    "    superlatt = np.array(fl[\"SuperLatt\"])\n",
    "    siteIndtoR = np.array(fl[\"SiteIndToR\"])\n",
    "    RtoSiteInd = np.array(fl[\"RToSiteInd\"])\n",
    "    dxList = np.array(fl[\"dxList_1nn\"])\n",
    "    NNList = np.array(fl[\"NNsiteList_sitewise\"])\n",
    "    jumpNewIndices = np.array(fl[\"JumpSiteIndexPermutation\"])\n",
    "    GroupOpLatticeCartRotMatrices = np.array(fl[\"GroupOpLatticeCartRotMatrices\"])\n",
    "    GpermNNIdx = np.array(fl[\"GroupNNPermutation\"])\n",
    "\n",
    "\n",
    "jList = NNList[1:, 0]\n",
    "\n",
    "crys = crystal.Crystal(lattice=lattice, basis=[[np.array([0., 0., 0.])]], chemistry=[\"A\"])\n",
    "superCell = supercell.ClusterSupercell(crys, superlatt)"
   ]
  },
  {
   "cell_type": "code",
   "execution_count": 3,
   "id": "c821ac20",
   "metadata": {},
   "outputs": [
    {
     "data": {
      "text/plain": [
       "array([[ 0. , -0.5,  0.5],\n",
       "       [-0. ,  0.5, -0.5],\n",
       "       [ 0.5,  0. , -0.5],\n",
       "       [-0.5, -0. ,  0.5],\n",
       "       [ 0. , -0.5, -0.5],\n",
       "       [-0. ,  0.5,  0.5],\n",
       "       [-0.5, -0.5,  0. ],\n",
       "       [ 0.5,  0.5, -0. ],\n",
       "       [ 0.5,  0. ,  0.5],\n",
       "       [-0.5, -0. , -0.5],\n",
       "       [ 0.5, -0.5,  0. ],\n",
       "       [-0.5,  0.5, -0. ]])"
      ]
     },
     "execution_count": 3,
     "metadata": {},
     "output_type": "execute_result"
    }
   ],
   "source": [
    "dxList # contains the jump vectors."
   ]
  },
  {
   "cell_type": "markdown",
   "id": "b3bce320",
   "metadata": {},
   "source": [
    "## Verify Nearest neighbor sites under saved order of jumps"
   ]
  },
  {
   "cell_type": "code",
   "execution_count": 4,
   "id": "8586387d",
   "metadata": {},
   "outputs": [],
   "source": [
    "# Convert nearest neighbors to lattice vectors.\n",
    "dxNNVecs = np.zeros_like(dxList).astype(int)\n",
    "for jmp in range(dxList.shape[0]):\n",
    "    dx = dxList[jmp]\n",
    "    dxNN, _ = superCell.crys.cart2pos(dx)\n",
    "    dxNNVecs[jmp, :] = dxNN[:]"
   ]
  },
  {
   "cell_type": "code",
   "execution_count": 5,
   "id": "afb33bed",
   "metadata": {},
   "outputs": [
    {
     "name": "stderr",
     "output_type": "stream",
     "text": [
      "100%|████████████████████████| 512/512 [00:00<00:00, 3920.40it/s]\n"
     ]
    }
   ],
   "source": [
    "for siteInd in tqdm(range(NNList.shape[1]), position=0, leave=True, ncols=65):\n",
    "    assert NNList[0, siteInd] == siteInd\n",
    "    ciSite, Rsite = superCell.ciR(siteInd)\n",
    "    for jmp in range(NNList.shape[0] - 1):\n",
    "        RsiteNew = Rsite + dxNNVecs[jmp]\n",
    "        siteNew, _ = superCell.index(RsiteNew, (ciSite))\n",
    "        assert NNList[jmp + 1, siteInd] == siteNew\n",
    "    \n",
    "        if siteInd == 0:\n",
    "            assert jList[jmp] == siteNew"
   ]
  },
  {
   "cell_type": "markdown",
   "id": "d1938005",
   "metadata": {},
   "source": [
    "## Now test the group permutation of nearest neigbhors"
   ]
  },
  {
   "cell_type": "code",
   "execution_count": 6,
   "id": "083b608a",
   "metadata": {},
   "outputs": [],
   "source": [
    "# We first reconstruct the group operations dictionary\n",
    "# This will let us test the consistency in the sequence of the group operations\n",
    "considered = set()\n",
    "GIndtoGDict = {}\n",
    "for g in list(superCell.crys.G):\n",
    "    cartrot = g.cartrot\n",
    "    for rotInd in range(GroupOpLatticeCartRotMatrices.shape[0]):\n",
    "        if np.allclose(cartrot, GroupOpLatticeCartRotMatrices[rotInd]):\n",
    "            assert g not in considered # A group operation cannot be repeated \n",
    "            considered.add(g)\n",
    "            GIndtoGDict[rotInd] = g"
   ]
  },
  {
   "cell_type": "code",
   "execution_count": 7,
   "id": "66f0f896",
   "metadata": {},
   "outputs": [
    {
     "name": "stderr",
     "output_type": "stream",
     "text": [
      "100%|████████████████████████████| 48/48 [00:00<00:00, 97.03it/s]\n"
     ]
    }
   ],
   "source": [
    "# Then test that the nearest neighbors have been consistently stored\n",
    "for gInd, g in tqdm(GIndtoGDict.items(), position=0, leave=True, ncols=65):\n",
    "    for jmp in range(dxList.shape[0]):\n",
    "        jmpvec = dxList[jmp]\n",
    "        jmpvecRot = superCell.crys.g_cart(g, jmpvec)\n",
    "        \n",
    "        idxnew = None\n",
    "        count = 0\n",
    "        for jmpNew in range(dxList.shape[0]):\n",
    "            if np.allclose(dxList[jmpNew], jmpvecRot):\n",
    "                count += 1\n",
    "                idxnew = jmpNew\n",
    "        assert count == 1\n",
    "        assert GpermNNIdx[gInd, idxnew + 1] == jmp + 1\n",
    "\n",
    "assert len(GIndtoGDict) == 48"
   ]
  },
  {
   "cell_type": "markdown",
   "id": "4df7b439",
   "metadata": {},
   "source": [
    "## Now check re-indexing of sites after jumps, when sites are translated back under PBC so that the vacancy comes back at (0,0,0)"
   ]
  },
  {
   "cell_type": "code",
   "execution_count": 8,
   "id": "151ddc6e",
   "metadata": {},
   "outputs": [
    {
     "name": "stdout",
     "output_type": "stream",
     "text": [
      "(512,)\n"
     ]
    },
    {
     "name": "stderr",
     "output_type": "stream",
     "text": [
      "100%|████████████████████████████| 12/12 [00:00<00:00, 86.15it/s]\n"
     ]
    }
   ],
   "source": [
    "# Now for each jump, displace periodically and check\n",
    "# Now test the nearest neighbor indexing\n",
    "randomState = np.random.randint(1, 5, NNList.shape[1], dtype=np.int8)\n",
    "print(randomState.shape)\n",
    "# Put a vacancy at 0\n",
    "randomState[0] = 0\n",
    "\n",
    "\n",
    "for jmp in tqdm(range(dxList.shape[0]), position=0, leave=True, ncols=65):\n",
    "    \n",
    "    dxRVec, _ = superCell.crys.cart2pos(dxList[jmp])\n",
    "    \n",
    "    state2 = randomState.copy()\n",
    "    assert state2[0] == 0 # check initially there was vacancy\n",
    "    state2[0] = state2[jList[jmp]]\n",
    "    state2[jList[jmp]] = 0\n",
    "    state2Trans = np.zeros_like(state2)\n",
    "    for site in range(NNList.shape[1]):\n",
    "        ciSite, Rsite = superCell.ciR(site)\n",
    "        RsiteNew = Rsite - dxRVec # translate by negative of vac jump\n",
    "        siteIndNew, _ = superCell.index(RsiteNew, ciSite)\n",
    "        state2Trans[siteIndNew] = state2[site]\n",
    "    \n",
    "    assert state2Trans[0] == 0\n",
    "    assert np.array_equal(randomState[jumpNewIndices[jmp]], state2Trans)"
   ]
  },
  {
   "cell_type": "markdown",
   "id": "2e8267d1",
   "metadata": {},
   "source": [
    "## Check the site index arrays"
   ]
  },
  {
   "cell_type": "code",
   "execution_count": 9,
   "id": "bc9d03b6",
   "metadata": {},
   "outputs": [],
   "source": [
    "for siteInd in range(siteIndtoR.shape[0]):\n",
    "    R = siteIndtoR[siteInd]\n",
    "    siteIndCalc = R[0] * 8 * 8 + R[1] * 8 + R[2]\n",
    "    assert siteIndCalc == siteInd\n",
    "    assert RtoSiteInd[R[0], R[1], R[2]] == siteInd\n",
    "    siteIndSuperCell , _ = superCell.index(R, (0,0))\n",
    "    assert siteIndCalc == siteIndSuperCell"
   ]
  },
  {
   "cell_type": "code",
   "execution_count": 10,
   "id": "245a27d7",
   "metadata": {},
   "outputs": [
    {
     "data": {
      "text/plain": [
       "array([ 15,  57, 449,  71, 448,  64,   7,   1,   8,  56, 456, 120])"
      ]
     },
     "execution_count": 10,
     "metadata": {},
     "output_type": "execute_result"
    }
   ],
   "source": [
    "jList"
   ]
  },
  {
   "cell_type": "code",
   "execution_count": null,
   "id": "bc90f566",
   "metadata": {},
   "outputs": [],
   "source": []
  }
 ],
 "metadata": {
  "kernelspec": {
   "display_name": "Python 3 (ipykernel)",
   "language": "python",
   "name": "python3"
  },
  "language_info": {
   "codemirror_mode": {
    "name": "ipython",
    "version": 3
   },
   "file_extension": ".py",
   "mimetype": "text/x-python",
   "name": "python",
   "nbconvert_exporter": "python",
   "pygments_lexer": "ipython3",
   "version": "3.8.10"
  }
 },
 "nbformat": 4,
 "nbformat_minor": 5
}
