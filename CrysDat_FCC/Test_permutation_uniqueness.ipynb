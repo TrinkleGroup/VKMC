{
 "cells": [
  {
   "cell_type": "code",
   "execution_count": 1,
   "id": "29adf572",
   "metadata": {},
   "outputs": [],
   "source": [
    "import numpy as np"
   ]
  },
  {
   "cell_type": "code",
   "execution_count": 2,
   "id": "17162259",
   "metadata": {},
   "outputs": [],
   "source": [
    "GNNPerms = np.load(\"GroupNNpermutations.npy\")"
   ]
  },
  {
   "cell_type": "code",
   "execution_count": 3,
   "id": "adedfb46",
   "metadata": {},
   "outputs": [
    {
     "data": {
      "text/plain": [
       "(48, 13)"
      ]
     },
     "execution_count": 3,
     "metadata": {},
     "output_type": "execute_result"
    }
   ],
   "source": [
    "GNNPerms.shape"
   ]
  },
  {
   "cell_type": "code",
   "execution_count": 5,
   "id": "8c68095f",
   "metadata": {},
   "outputs": [],
   "source": [
    "for i in range(1, GNNPerms.shape[0]):\n",
    "    for j in range(i):\n",
    "        if np.array_equal(GNNPerms[i], GNNPerms[j]):\n",
    "            print(i, j)"
   ]
  },
  {
   "cell_type": "code",
   "execution_count": null,
   "id": "fa076afc",
   "metadata": {},
   "outputs": [],
   "source": []
  }
 ],
 "metadata": {
  "kernelspec": {
   "display_name": "Python 3 (ipykernel)",
   "language": "python",
   "name": "python3"
  },
  "language_info": {
   "codemirror_mode": {
    "name": "ipython",
    "version": 3
   },
   "file_extension": ".py",
   "mimetype": "text/x-python",
   "name": "python",
   "nbconvert_exporter": "python",
   "pygments_lexer": "ipython3",
   "version": "3.8.10"
  }
 },
 "nbformat": 4,
 "nbformat_minor": 5
}
