{
 "cells": [
  {
   "cell_type": "markdown",
   "metadata": {},
   "source": [
    "## Example of generating necessary FCC crystal data from Onsager code to run the symmetric neural networks for 5x5x6 orthogonal supercells."
   ]
  },
  {
   "cell_type": "code",
   "execution_count": 1,
   "metadata": {},
   "outputs": [],
   "source": [
    "from onsager import crystal, supercell, cluster\n",
    "import numpy as np\n",
    "import h5py"
   ]
  },
  {
   "cell_type": "code",
   "execution_count": 2,
   "metadata": {},
   "outputs": [
    {
     "name": "stdout",
     "output_type": "stream",
     "text": [
      "#Lattice:\n",
      "  a1 = [1. 0. 0.]\n",
      "  a2 = [0. 1. 0.]\n",
      "  a3 = [0. 0. 1.]\n",
      "#Basis:\n",
      "  (A) 0.0 = [0. 0. 0.]\n",
      "  (A) 0.1 = [0.  0.5 0.5]\n",
      "  (A) 0.2 = [0.5 0.  0.5]\n",
      "  (A) 0.3 = [0.5 0.5 0. ]\n"
     ]
    }
   ],
   "source": [
    "a0 = 1.0\n",
    "basis_cube_fcc = [np.array([0, 0, 0]), np.array([0, 0.5, 0.5]), np.array([0.5, 0., 0.5]), np.array([0.5, 0.5, 0.])]\n",
    "crys = crystal.Crystal(lattice=np.eye(3)*a0, basis=[basis_cube_fcc], chemistry=[\"A\"], noreduce=True)\n",
    "print(crys)"
   ]
  },
  {
   "cell_type": "code",
   "execution_count": 3,
   "metadata": {},
   "outputs": [
    {
     "name": "stdout",
     "output_type": "stream",
     "text": [
      "[[5. 0. 0.]\n",
      " [0. 5. 0.]\n",
      " [0. 0. 5.]]\n",
      "500\n"
     ]
    },
    {
     "data": {
      "text/plain": [
       "0"
      ]
     },
     "execution_count": 3,
     "metadata": {},
     "output_type": "execute_result"
    }
   ],
   "source": [
    "a0 = 1.0\n",
    "cut = 1.01*a0/np.sqrt(2)  # Nearest neighbor cutoff + tolerance of 1%\n",
    "fcc_primitive = crystal.Crystal.FCC(a0, chemistry=\"A\")\n",
    "lattice_primitive = fcc_primitive.lattice\n",
    "jnetFCC = fcc_primitive.jumpnetwork(0, cut)\n",
    "\n",
    "N_units = 5\n",
    "superlatt = np.eye(crys.dim, dtype=int)*N_units\n",
    "superFCC = supercell.ClusterSupercell(crys, superlatt)\n",
    "print(superFCC.lattice)\n",
    "print(len(superFCC.mobilepos))\n",
    "#we'll put the vacancy at cartesian position 0,0,0\n",
    "x_site = np.zeros(3)\n",
    "R, ci = crys.cart2pos(x_site)\n",
    "vacsiteInd = superFCC.index(R, ci)[0]\n",
    "vacsiteInd"
   ]
  },
  {
   "cell_type": "code",
   "execution_count": 4,
   "metadata": {},
   "outputs": [
    {
     "data": {
      "text/plain": [
       "[((0, 0), array([ 0. , -0.5, -0.5])),\n",
       " ((0, 0), array([-0. ,  0.5,  0.5])),\n",
       " ((0, 0), array([ 0. , -0.5,  0.5])),\n",
       " ((0, 0), array([-0. ,  0.5, -0.5])),\n",
       " ((0, 0), array([-0.5, -0.5,  0. ])),\n",
       " ((0, 0), array([ 0.5,  0.5, -0. ])),\n",
       " ((0, 0), array([-0.5,  0. ,  0.5])),\n",
       " ((0, 0), array([ 0.5, -0. , -0.5])),\n",
       " ((0, 0), array([-0.5,  0. , -0.5])),\n",
       " ((0, 0), array([ 0.5, -0. ,  0.5])),\n",
       " ((0, 0), array([ 0.5, -0.5,  0. ])),\n",
       " ((0, 0), array([-0.5,  0.5, -0. ]))]"
      ]
     },
     "execution_count": 4,
     "metadata": {},
     "output_type": "execute_result"
    }
   ],
   "source": [
    "jnetFCC[0]"
   ]
  },
  {
   "cell_type": "code",
   "execution_count": 5,
   "metadata": {},
   "outputs": [
    {
     "name": "stdout",
     "output_type": "stream",
     "text": [
      "3\n"
     ]
    }
   ],
   "source": [
    "print(superFCC.crys.dim)"
   ]
  },
  {
   "cell_type": "code",
   "execution_count": 6,
   "metadata": {},
   "outputs": [
    {
     "name": "stdout",
     "output_type": "stream",
     "text": [
      "500\n",
      "[[ 0.  -0.5 -0.5]\n",
      " [-0.   0.5  0.5]\n",
      " [ 0.  -0.5  0.5]\n",
      " [-0.   0.5 -0.5]\n",
      " [-0.5 -0.5  0. ]\n",
      " [ 0.5  0.5 -0. ]\n",
      " [-0.5  0.   0.5]\n",
      " [ 0.5 -0.  -0.5]\n",
      " [-0.5  0.  -0.5]\n",
      " [ 0.5 -0.   0.5]\n",
      " [ 0.5 -0.5  0. ]\n",
      " [-0.5  0.5 -0. ]]\n"
     ]
    }
   ],
   "source": [
    "# Next, for each site, store the nearest neighbors\n",
    "N_ngb = len(jnetFCC[0])\n",
    "Nsites = len(superFCC.mobilepos)\n",
    "print(Nsites)\n",
    "NNList = np.zeros((N_ngb + 1, Nsites), dtype=int)\n",
    "\n",
    "dxList_1nn = np.array([j[1] for j in jnetFCC[0]])\n",
    "print(dxList_1nn)\n",
    "\n",
    "for siteInd in range(Nsites):\n",
    "    # First, store the site as its own 0th neighbor\n",
    "    NNList[0, siteInd] = siteInd\n",
    "    ciSite, Rsite = superFCC.ciR(siteInd)\n",
    "    x_site = superFCC.crys.pos2cart(Rsite, ciSite)\n",
    "    \n",
    "    for jInd in range(dxList_1nn.shape[0]):\n",
    "        x_NN = x_site + dxList_1nn[jInd]\n",
    "        R_NN, ci_NN = superFCC.crys.cart2pos(x_NN)\n",
    "        idx_NN = superFCC.index(R_NN, ci_NN)[0]\n",
    "        \n",
    "        NNList[jInd + 1, siteInd] = idx_NN"
   ]
  },
  {
   "cell_type": "code",
   "execution_count": 7,
   "metadata": {},
   "outputs": [],
   "source": [
    "## Since the onsager code does not store group operations in any particular order,\n",
    "## We'll give them indices and store them for further use.\n",
    "GIndtoGDict = {}\n",
    "count = 0\n",
    "for g in crys.G:\n",
    "    # Check if the group op is identity - give it the zero index - not necessary, just a choice\n",
    "    if np.allclose(g.cartrot, np.eye(3)):\n",
    "        GIndtoGDict[0] = g\n",
    "    else:\n",
    "        count += 1\n",
    "        GIndtoGDict[count] = g"
   ]
  },
  {
   "cell_type": "code",
   "execution_count": 8,
   "metadata": {},
   "outputs": [
    {
     "data": {
      "text/plain": [
       "48"
      ]
     },
     "execution_count": 8,
     "metadata": {},
     "output_type": "execute_result"
    }
   ],
   "source": [
    "len(GIndtoGDict)"
   ]
  },
  {
   "cell_type": "code",
   "execution_count": 9,
   "metadata": {},
   "outputs": [],
   "source": [
    "# Next, store the cartesian rotation matrices of the group operations.\n",
    "GroupOpLatticeCartRotMatrices = np.zeros((len(GIndtoGDict), 3, 3))\n",
    "for key in GIndtoGDict.keys():\n",
    "    GroupOpLatticeCartRotMatrices[key, :, :] = GIndtoGDict[key].cartrot"
   ]
  },
  {
   "cell_type": "code",
   "execution_count": 10,
   "metadata": {},
   "outputs": [],
   "source": [
    "# Now for each group operation, store, the permutation of the nearest neighbors due to its inverse\n",
    "GpermNNIdx = np.zeros((len(GIndtoGDict), dxList_1nn.shape[0] + 1), dtype=int)\n",
    "for gInd, g in GIndtoGDict.items():\n",
    "    for jInd in range(dxList_1nn.shape[0]):\n",
    "        dx = dxList_1nn[jInd]\n",
    "        dxRot = superFCC.crys.g_cart(g.inv(), dx)\n",
    "        count = 0\n",
    "        idxRot = None\n",
    "        for jIndRot in range(dxList_1nn.shape[0]):\n",
    "            if np.allclose(dxRot, dxList_1nn[jIndRot], atol=1e-8, rtol=0):\n",
    "                idxRot = jIndRot\n",
    "                count += 1\n",
    "        \n",
    "        assert count == 1\n",
    "        GpermNNIdx[gInd, jInd + 1] = idxRot + 1"
   ]
  },
  {
   "cell_type": "code",
   "execution_count": 11,
   "metadata": {},
   "outputs": [
    {
     "name": "stdout",
     "output_type": "stream",
     "text": [
      "(0, 0) [0 0 0]\n",
      "[0. 0. 0.]\n"
     ]
    }
   ],
   "source": [
    "ciVac, RVac = superFCC.ciR(vacsiteInd)\n",
    "print(ci, R)\n",
    "x_vac = superFCC.crys.pos2cart(RVac, ciVac)\n",
    "print(x_vac)"
   ]
  },
  {
   "cell_type": "code",
   "execution_count": 12,
   "metadata": {},
   "outputs": [
    {
     "name": "stdout",
     "output_type": "stream",
     "text": [
      "[0. 0. 0.] 0\n"
     ]
    }
   ],
   "source": [
    "# store how each jump changes occupancies, if we keep the vacancy at the (cartesian) origin in both states\n",
    "jumpSiteIndex = np.zeros((dxList_1nn.shape[0], Nsites), dtype=int)\n",
    "jumpSiteIndex[:, vacsiteInd] = vacsiteInd\n",
    "print(x_vac, vacsiteInd)\n",
    "for jumpInd in range(dxList_1nn.shape[0]):\n",
    "    \n",
    "    dxJump = dxList_1nn[jumpInd]\n",
    "    \n",
    "    x_site_exchange = x_vac + dxJump\n",
    "    Rsite_exchange, ciSite_exchange = superFCC.crys.cart2pos(x_site_exchange)\n",
    "    siteExchange = superFCC.index(Rsite_exchange, ciSite_exchange)[0]\n",
    "    \n",
    "    assert siteExchange == NNList[1+jumpInd, vacsiteInd]\n",
    "    \n",
    "    x_site_exchange_new = x_vac - dxJump # Relative to the vacancy, this site moves to the opposite site\n",
    "    Rsite_exchange_new, ciSite_exchange_new = superFCC.crys.cart2pos(x_site_exchange_new)\n",
    "    siteExchangeNew = superFCC.index(Rsite_exchange_new, ciSite_exchange_new)[0]\n",
    "    \n",
    "    jumpSiteIndex[jumpInd, siteExchangeNew] = siteExchange  # the exchanged site\n",
    "    \n",
    "    for siteInd in range(Nsites):\n",
    "        # vacancy doesn't move so don't include it\n",
    "        # Exchange site already done so don't include it either\n",
    "        if siteInd == siteExchange or siteInd == vacsiteInd:\n",
    "            continue\n",
    "        \n",
    "        ciSite, Rsite = superFCC.ciR(siteInd)\n",
    "        xSite = superFCC.crys.pos2cart(Rsite, ciSite)\n",
    "        \n",
    "        # Translate the site by the negative of the jump vector\n",
    "        xsiteNew = xSite - dxJump\n",
    "        \n",
    "        RsiteNew, ciSiteNew = superFCC.crys.cart2pos(xsiteNew)\n",
    "        \n",
    "        siteIndNew, _ = superFCC.index(RsiteNew, ciSiteNew)\n",
    "        \n",
    "        assert siteIndNew != vacsiteInd\n",
    "        assert siteIndNew != siteExchangeNew\n",
    "        \n",
    "        jumpSiteIndex[jumpInd, siteIndNew] = siteInd"
   ]
  },
  {
   "cell_type": "code",
   "execution_count": 13,
   "metadata": {},
   "outputs": [],
   "source": [
    "superCellSiteToCart = np.zeros((Nsites, superFCC.crys.dim))\n",
    "for siteInd in range(Nsites):\n",
    "    ciSite, Rsite = superFCC.ciR(siteInd)\n",
    "    xSite = superFCC.crys.pos2cart(Rsite, ciSite)\n",
    "    \n",
    "    assert np.allclose(xSite, np.dot(superFCC.lattice, superFCC.mobilepos[siteInd]))\n",
    "    superCellSiteToCart[siteInd, :] = xSite[:]"
   ]
  },
  {
   "cell_type": "code",
   "execution_count": 14,
   "metadata": {},
   "outputs": [],
   "source": [
    "with h5py.File(\"CrystData_ortho_{}_cube.h5\".format(N_units), \"w\") as fl:\n",
    "    fl.create_dataset(\"Lattice_basis_vectors\", data=superFCC.crys.lattice)\n",
    "    fl.create_dataset(\"SuperLatt\", data=superlatt)\n",
    "    fl.create_dataset(\"GroupOpLatticeCartRotMatrices\", data=GroupOpLatticeCartRotMatrices)\n",
    "    fl.create_dataset(\"dxList_1nn\", data=dxList_1nn)\n",
    "    fl.create_dataset(\"NNsiteList_sitewise\", data=NNList)\n",
    "    fl.create_dataset(\"JumpSiteIndexPermutation\", data=jumpSiteIndex)\n",
    "    fl.create_dataset(\"GroupNNPermutation\", data=GpermNNIdx)\n",
    "    \n",
    "    # Other than this, let's also store the cartesian positions of the sites\n",
    "    # and the basis of the cubic crystal\n",
    "    fl.create_dataset(\"basis_sites\", data=np.array(basis_cube_fcc))\n",
    "    fl.create_dataset(\"superCellSiteToCart\", data=superCellSiteToCart)"
   ]
  },
  {
   "cell_type": "code",
   "execution_count": null,
   "metadata": {},
   "outputs": [],
   "source": []
  }
 ],
 "metadata": {
  "kernelspec": {
   "display_name": "Python [conda env:VKMC_python_3.7] *",
   "language": "python",
   "name": "conda-env-VKMC_python_3.7-py"
  },
  "language_info": {
   "codemirror_mode": {
    "name": "ipython",
    "version": 3
   },
   "file_extension": ".py",
   "mimetype": "text/x-python",
   "name": "python",
   "nbconvert_exporter": "python",
   "pygments_lexer": "ipython3",
   "version": "3.7.16"
  }
 },
 "nbformat": 4,
 "nbformat_minor": 4
}
