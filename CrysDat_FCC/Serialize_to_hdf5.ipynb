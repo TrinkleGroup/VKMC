{
 "cells": [
  {
   "cell_type": "code",
   "execution_count": 1,
   "id": "76c6aaeb",
   "metadata": {},
   "outputs": [],
   "source": [
    "import numpy as np\n",
    "import h5py\n",
    "import pickle"
   ]
  },
  {
   "cell_type": "code",
   "execution_count": 2,
   "id": "b90daea2",
   "metadata": {},
   "outputs": [],
   "source": [
    "NNList = np.load(\"NNsites_sitewise.npy\")\n",
    "GpermNNIdx = np.load(\"GroupNNpermutations.npy\")\n",
    "dxList = np.load(\"dxList.npy\")\n",
    "jList = np.load(\"jList.npy\")\n",
    "dxR = np.load(\"dxR.npy\")\n",
    "jumpSiteIndex = np.load(\"JumpNewSiteIndices.npy\")\n",
    "\n",
    "RtoSiteInd = np.load(\"RtoSiteInd.npy\")\n",
    "siteIndtoR = np.load(\"SiteIndtoR.npy\")\n",
    "\n",
    "GpermNNIdx_2nn = np.load(\"GroupNNpermutations_2nn.npy\")\n",
    "dxR_2nn = np.load(\"nnJumpLatVecs_2nn.npy\")\n",
    "NNsites_2nn = np.load(\"NNsites_sitewise_2nn.npy\")"
   ]
  },
  {
   "cell_type": "code",
   "execution_count": null,
   "id": "ca905234",
   "metadata": {},
   "outputs": [],
   "source": []
  },
  {
   "cell_type": "code",
   "execution_count": 4,
   "id": "134a0c60",
   "metadata": {},
   "outputs": [],
   "source": [
    "with open(\"GroupOpsIndices.pkl\", \"rb\") as fl:\n",
    "    GIndtoGDict = pickle.load(fl)\n",
    "\n",
    "with open(\"supercellFCC.pkl\", \"rb\") as fl:\n",
    "    superFCC = pickle.load(fl)\n",
    "\n",
    "with open(\"jnetFCC.pkl\", \"rb\") as fl:\n",
    "    jnetFCC = pickle.load(fl)\n",
    "    \n",
    "lattice = superFCC.crys.lattice"
   ]
  },
  {
   "cell_type": "code",
   "execution_count": 9,
   "id": "b78d6aee",
   "metadata": {},
   "outputs": [
    {
     "data": {
      "text/plain": [
       "array([[ 0. , -0.5,  0.5],\n",
       "       [ 0. ,  0.5, -0.5],\n",
       "       [ 0.5,  0. , -0.5],\n",
       "       [-0.5,  0. ,  0.5],\n",
       "       [ 0. , -0.5, -0.5],\n",
       "       [ 0. ,  0.5,  0.5],\n",
       "       [-0.5, -0.5,  0. ],\n",
       "       [ 0.5,  0.5,  0. ],\n",
       "       [ 0.5,  0. ,  0.5],\n",
       "       [-0.5,  0. , -0.5],\n",
       "       [ 0.5, -0.5,  0. ],\n",
       "       [-0.5,  0.5,  0. ],\n",
       "       [ 1. ,  0. ,  0. ],\n",
       "       [-1. ,  0. ,  0. ],\n",
       "       [ 0. , -1. ,  0. ],\n",
       "       [ 0. ,  1. ,  0. ],\n",
       "       [ 0. ,  0. ,  1. ],\n",
       "       [ 0. ,  0. , -1. ]])"
      ]
     },
     "execution_count": 9,
     "metadata": {},
     "output_type": "execute_result"
    }
   ],
   "source": [
    "dxR_2nn_cart = np.dot(lattice, dxR_2nn.T).T\n",
    "dxR_2nn_cart"
   ]
  },
  {
   "cell_type": "code",
   "execution_count": 7,
   "id": "603dbf35",
   "metadata": {},
   "outputs": [],
   "source": [
    "GroupOpLatticeCartRotMatrices = np.zeros((len(GIndtoGDict), 3, 3))\n",
    "for key in GIndtoGDict.keys():\n",
    "    GroupOpLatticeCartRotMatrices[key, :, :] = GIndtoGDict[key].cartrot"
   ]
  },
  {
   "cell_type": "code",
   "execution_count": 10,
   "id": "56aa9ab9",
   "metadata": {},
   "outputs": [],
   "source": [
    "with h5py.File(\"CrystDat_FCC_8Sup.h5\", \"w\") as fl:\n",
    "    fl.create_dataset(\"Lattice_basis_vectors\", data=lattice)\n",
    "    fl.create_dataset(\"SiteIndToR\", data=siteIndtoR)\n",
    "    fl.create_dataset(\"RToSiteInd\", data=RtoSiteInd)\n",
    "    fl.create_dataset(\"GroupOpLatticeCartRotMatrices\", data=GroupOpLatticeCartRotMatrices)\n",
    "    fl.create_dataset(\"dxList_1nn\", data=dxList)\n",
    "    fl.create_dataset(\"NNsiteList_sitewise\", data=NNList)\n",
    "    fl.create_dataset(\"JumpSiteIndexPermutation\", data=jumpSiteIndex)\n",
    "    fl.create_dataset(\"GroupNNPermutation\", data=GpermNNIdx)\n",
    "    \n",
    "    fl.create_dataset(\"GroupNNPermutation_2nn\", data=GpermNNIdx_2nn)\n",
    "    fl.create_dataset(\"NNsiteList_sitewise_2nn\", data=GpermNNIdx_2nn)\n",
    "    fl.create_dataset(\"dxList_2nn\", data=dxR_2nn_cart)"
   ]
  },
  {
   "cell_type": "code",
   "execution_count": null,
   "id": "b5b77575",
   "metadata": {},
   "outputs": [],
   "source": []
  }
 ],
 "metadata": {
  "kernelspec": {
   "display_name": "Python 3 (ipykernel)",
   "language": "python",
   "name": "python3"
  },
  "language_info": {
   "codemirror_mode": {
    "name": "ipython",
    "version": 3
   },
   "file_extension": ".py",
   "mimetype": "text/x-python",
   "name": "python",
   "nbconvert_exporter": "python",
   "pygments_lexer": "ipython3",
   "version": "3.8.10"
  }
 },
 "nbformat": 4,
 "nbformat_minor": 5
}
