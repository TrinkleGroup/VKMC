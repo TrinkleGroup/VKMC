{
 "cells": [
  {
   "cell_type": "code",
   "execution_count": 1,
   "id": "71dd6d93",
   "metadata": {},
   "outputs": [],
   "source": [
    "import numpy as np\n",
    "import pickle\n",
    "import h5py\n",
    "from tqdm import tqdm"
   ]
  },
  {
   "cell_type": "markdown",
   "id": "bdb35a13",
   "metadata": {},
   "source": [
    "## Load the objects with the crystal structure and supercell data"
   ]
  },
  {
   "cell_type": "code",
   "execution_count": 2,
   "id": "d6ed129e",
   "metadata": {},
   "outputs": [],
   "source": [
    "NNList = np.load(\"NNsites_sitewise.npy\")\n",
    "GpermNNIdx = np.load(\"GroupNNpermutations.npy\")\n",
    "dxList = np.load(\"dxList.npy\")\n",
    "jList = np.load(\"jList.npy\")\n",
    "dxR = np.load(\"dxR.npy\")\n",
    "jumpSiteIndex = np.load(\"JumpNewSiteIndices.npy\")\n",
    "\n",
    "RtoSiteInd = np.load(\"RtoSiteInd.npy\")\n",
    "siteIndtoR = np.load(\"SiteIndtoR.npy\")\n",
    "\n",
    "with open(\"GroupOpsIndices.pkl\", \"rb\") as fl:\n",
    "    GIndtoGDict = pickle.load(fl)\n",
    "\n",
    "with open(\"supercellFCC.pkl\", \"rb\") as fl:\n",
    "    superFCC = pickle.load(fl)\n",
    "\n",
    "with open(\"jnetFCC.pkl\", \"rb\") as fl:\n",
    "    jnetFCC = pickle.load(fl)"
   ]
  },
  {
   "cell_type": "code",
   "execution_count": 3,
   "id": "c821ac20",
   "metadata": {},
   "outputs": [
    {
     "data": {
      "text/plain": [
       "array([[ 0. , -0.5,  0.5],\n",
       "       [-0. ,  0.5, -0.5],\n",
       "       [ 0.5,  0. , -0.5],\n",
       "       [-0.5, -0. ,  0.5],\n",
       "       [ 0. , -0.5, -0.5],\n",
       "       [-0. ,  0.5,  0.5],\n",
       "       [-0.5, -0.5,  0. ],\n",
       "       [ 0.5,  0.5, -0. ],\n",
       "       [ 0.5,  0. ,  0.5],\n",
       "       [-0.5, -0. , -0.5],\n",
       "       [ 0.5, -0.5,  0. ],\n",
       "       [-0.5,  0.5, -0. ]])"
      ]
     },
     "execution_count": 3,
     "metadata": {},
     "output_type": "execute_result"
    }
   ],
   "source": [
    "dxList # contains the jump vectors."
   ]
  },
  {
   "cell_type": "code",
   "execution_count": 4,
   "id": "8586387d",
   "metadata": {},
   "outputs": [],
   "source": [
    "# Convert to lattice vectors.\n",
    "dxNNVecs = np.zeros_like(dxList).astype(int)\n",
    "for jmp in range(dxList.shape[0]):\n",
    "    dx = dxList[jmp]\n",
    "    dxNN, _ = superFCC.crys.cart2pos(dx)\n",
    "    dxNNVecs[jmp, :] = dxNN[:]\n",
    "    \n",
    "assert np.array_equal(dxNNVecs, dxR)"
   ]
  },
  {
   "cell_type": "markdown",
   "id": "b3bce320",
   "metadata": {},
   "source": [
    "## Verify Nearest neighbor sites under saved order of jumps"
   ]
  },
  {
   "cell_type": "code",
   "execution_count": 6,
   "id": "afb33bed",
   "metadata": {},
   "outputs": [
    {
     "name": "stderr",
     "output_type": "stream",
     "text": [
      "100%|████████████████████████| 512/512 [00:00<00:00, 4787.55it/s]\n"
     ]
    }
   ],
   "source": [
    "for siteInd in tqdm(range(NNList.shape[1]), position=0, leave=True, ncols=65):\n",
    "    assert NNList[0, siteInd] == siteInd\n",
    "    ciSite, Rsite = superFCC.ciR(siteInd)\n",
    "    for jmp in range(NNList.shape[0] - 1):\n",
    "        RsiteNew = Rsite + dxR[jmp]\n",
    "        siteNew, _ = superFCC.index(RsiteNew, (ciSite))\n",
    "        assert NNList[jmp + 1, siteInd] == siteNew\n",
    "    \n",
    "        if siteInd == 0:\n",
    "            assert jList[jmp] == siteNew"
   ]
  },
  {
   "cell_type": "markdown",
   "id": "d1938005",
   "metadata": {},
   "source": [
    "## Now test the group permutation of nearest neigbhors"
   ]
  },
  {
   "cell_type": "code",
   "execution_count": 15,
   "id": "66f0f896",
   "metadata": {},
   "outputs": [
    {
     "name": "stderr",
     "output_type": "stream",
     "text": [
      "100%|███████████████████████████| 48/48 [00:00<00:00, 123.63it/s]\n"
     ]
    }
   ],
   "source": [
    "considered = set()\n",
    "for gInd, g in tqdm(GIndtoGDict.items(), position=0, leave=True, ncols=65):\n",
    "    assert g in superFCC.crys.G\n",
    "    assert g not in considered\n",
    "    considered.add(g)\n",
    "    for jmp in range(dxList.shape[0]):\n",
    "        jmpvec = dxList[jmp]\n",
    "        jmpvecRot = superFCC.crys.g_cart(g, jmpvec)\n",
    "        \n",
    "        idxnew = None\n",
    "        count = 0\n",
    "        for jmpNew in range(dxList.shape[0]):\n",
    "            if np.allclose(dxList[jmpNew], jmpvecRot):\n",
    "                count += 1\n",
    "                idxnew = jmpNew\n",
    "        assert count == 1\n",
    "        assert GpermNNIdx[gInd, idxnew + 1] == jmp + 1\n",
    "\n",
    "assert len(GIndtoGDict) == 48"
   ]
  },
  {
   "cell_type": "markdown",
   "id": "4df7b439",
   "metadata": {},
   "source": [
    "## Now check re-indexing of sites after jumps"
   ]
  },
  {
   "cell_type": "code",
   "execution_count": 11,
   "id": "151ddc6e",
   "metadata": {},
   "outputs": [
    {
     "name": "stdout",
     "output_type": "stream",
     "text": [
      "(512,)\n"
     ]
    },
    {
     "name": "stderr",
     "output_type": "stream",
     "text": [
      "100%|████████████████████████████| 12/12 [00:00<00:00, 84.07it/s]\n"
     ]
    }
   ],
   "source": [
    "# Now for each jump, displace periodically and check\n",
    "# Now test the nearest neighbor indexing\n",
    "randomState = np.random.randint(1, 5, NNList.shape[1], dtype=np.int8)\n",
    "print(randomState.shape)\n",
    "# Put a vacancy at 0\n",
    "randomState[0] = 0\n",
    "\n",
    "\n",
    "for jmp in tqdm(range(dxList.shape[0]), position=0, leave=True, ncols=65):\n",
    "    \n",
    "    dxRVec, _ = superFCC.crys.cart2pos(dxList[jmp])\n",
    "    \n",
    "    state2 = randomState.copy()\n",
    "    assert state2[0] == 0 # check initially there was vacancy\n",
    "    state2[0] = state2[jList[jmp]]\n",
    "    state2[jList[jmp]] = 0\n",
    "    state2Trans = np.zeros_like(state2)\n",
    "    for site in range(NNList.shape[1]):\n",
    "        ciSite, Rsite = superFCC.ciR(site)\n",
    "        RsiteNew = Rsite - dxRVec # translate by negative of vac jump\n",
    "        siteIndNew = superFCC.index(RsiteNew, ciSite)\n",
    "        state2Trans[siteIndNew] = state2[site]\n",
    "    \n",
    "    assert state2Trans[0] == 0\n",
    "    assert np.array_equal(randomState[jumpSiteIndex[jmp]], state2Trans)"
   ]
  },
  {
   "cell_type": "markdown",
   "id": "2e8267d1",
   "metadata": {},
   "source": [
    "## Check the site index arrays"
   ]
  },
  {
   "cell_type": "code",
   "execution_count": 13,
   "id": "bc9d03b6",
   "metadata": {},
   "outputs": [],
   "source": [
    "for siteInd in range(siteIndtoR.shape[0]):\n",
    "    R = siteIndtoR[siteInd]\n",
    "    siteIndCalc = R[0] * 8 * 8 + R[1] * 8 + R[2]\n",
    "    assert siteIndCalc == siteInd\n",
    "    assert RtoSiteInd[R[0], R[1], R[2]] == siteInd\n",
    "    siteIndSuperCell , _ = superFCC.index(R, (0,0))\n",
    "    assert siteIndCalc == siteIndSuperCell"
   ]
  },
  {
   "cell_type": "markdown",
   "id": "7680be67",
   "metadata": {},
   "source": [
    "## Now test the 2nn arrays"
   ]
  },
  {
   "cell_type": "code",
   "execution_count": null,
   "id": "2b3d5626",
   "metadata": {},
   "outputs": [],
   "source": [
    "GpermNNIdx_2nn = np.load(\"GroupNNpermutations_2nn.npy\")\n",
    "dxR_2nn = np.load(\"nnJumpLatVecs_2nn.npy\")\n",
    "NNsites_2nn = np.load(\"NNsites_sitewise_2nn.npy\")"
   ]
  },
  {
   "cell_type": "markdown",
   "id": "cd789296",
   "metadata": {},
   "source": [
    "## First, the group permutations of the nearest neighbors"
   ]
  },
  {
   "cell_type": "code",
   "execution_count": 23,
   "id": "73a3756a",
   "metadata": {},
   "outputs": [
    {
     "name": "stderr",
     "output_type": "stream",
     "text": [
      "100%|████████████████████████████| 48/48 [00:01<00:00, 46.01it/s]\n"
     ]
    }
   ],
   "source": [
    "considered = set()\n",
    "for gInd, g in tqdm(GIndtoGDict.items(), position=0, leave=True, ncols=65):\n",
    "    considered.add(g)\n",
    "    for RnnInd in range(dxR_2nn.shape[0]):\n",
    "        Rnn = dxR_2nn[RnnInd]\n",
    "        RnnRot, _ = superFCC.crys.g_pos(g, Rnn, (0, 0))\n",
    "        idxnew = None\n",
    "        count = 0\n",
    "        for RnnInd_New in range(dxR_2nn.shape[0]):\n",
    "            if np.allclose(dxR_2nn[RnnInd_New], RnnRot):\n",
    "                count += 1\n",
    "                idxnew = RnnInd_New\n",
    "        assert count == 1\n",
    "        assert GpermNNIdx_2nn[gInd, idxnew + 1] == RnnInd + 1"
   ]
  },
  {
   "cell_type": "markdown",
   "id": "cb2cd901",
   "metadata": {},
   "source": [
    "## Then the nearest neighbors"
   ]
  },
  {
   "cell_type": "code",
   "execution_count": 24,
   "id": "bae245df",
   "metadata": {},
   "outputs": [
    {
     "name": "stderr",
     "output_type": "stream",
     "text": [
      "100%|████████████████████████| 512/512 [00:00<00:00, 3363.82it/s]\n"
     ]
    }
   ],
   "source": [
    "for siteInd in tqdm(range(NNsites_2nn.shape[1]), position=0, leave=True, ncols=65):\n",
    "    assert NNsites_2nn[0, siteInd] == siteInd\n",
    "    ciSite, Rsite = superFCC.ciR(siteInd)\n",
    "    for jmp in range(NNsites_2nn.shape[0] - 1):\n",
    "        RsiteNew = Rsite + dxR_2nn[jmp]\n",
    "        siteNew, _ = superFCC.index(RsiteNew, (ciSite))\n",
    "        assert NNsites_2nn[jmp + 1, siteInd] == siteNew\n",
    "    \n",
    "        if siteInd == 0 and jmp < dxList.shape[0]:\n",
    "            assert jList[jmp] == siteNew == NNList[jmp+1, 0]"
   ]
  },
  {
   "cell_type": "code",
   "execution_count": null,
   "id": "245a27d7",
   "metadata": {},
   "outputs": [],
   "source": []
  }
 ],
 "metadata": {
  "kernelspec": {
   "display_name": "Python 3 (ipykernel)",
   "language": "python",
   "name": "python3"
  },
  "language_info": {
   "codemirror_mode": {
    "name": "ipython",
    "version": 3
   },
   "file_extension": ".py",
   "mimetype": "text/x-python",
   "name": "python",
   "nbconvert_exporter": "python",
   "pygments_lexer": "ipython3",
   "version": "3.8.10"
  }
 },
 "nbformat": 4,
 "nbformat_minor": 5
}
