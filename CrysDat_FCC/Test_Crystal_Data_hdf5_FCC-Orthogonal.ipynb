{
 "cells": [
  {
   "cell_type": "markdown",
   "id": "d52dd3ac",
   "metadata": {},
   "source": [
    "## Example code to test saved crystal structure data"
   ]
  },
  {
   "cell_type": "code",
   "execution_count": 1,
   "id": "71dd6d93",
   "metadata": {},
   "outputs": [],
   "source": [
    "import numpy as np\n",
    "import pickle\n",
    "import h5py\n",
    "from tqdm import tqdm\n",
    "from onsager import crystal, supercell"
   ]
  },
  {
   "cell_type": "markdown",
   "id": "bdb35a13",
   "metadata": {},
   "source": [
    "## Load the hdf5 file with the crystal structure and supercell data"
   ]
  },
  {
   "cell_type": "code",
   "execution_count": 2,
   "id": "95436f42",
   "metadata": {},
   "outputs": [
    {
     "name": "stdout",
     "output_type": "stream",
     "text": [
      "#Lattice:\n",
      "  a1 = [1. 0. 0.]\n",
      "  a2 = [0. 1. 0.]\n",
      "  a3 = [0. 0. 1.]\n",
      "#Basis:\n",
      "  (A) 0.0 = [0. 0. 0.]\n",
      "  (A) 0.1 = [0.  0.5 0.5]\n",
      "  (A) 0.2 = [0.5 0.  0.5]\n",
      "  (A) 0.3 = [0.5 0.5 0. ]\n",
      "0\n"
     ]
    }
   ],
   "source": [
    "N_units = 5\n",
    "with h5py.File(\"CrystData_ortho_{}_cube.h5\".format(N_units), \"r\") as fl:\n",
    "    lattice = np.array(fl[\"Lattice_basis_vectors\"])\n",
    "    superlatt = np.array(fl[\"SuperLatt\"])\n",
    "    basis_cubic = np.array(fl[\"basis_sites\"])\n",
    "    dxList = np.array(fl[\"dxList_1nn\"])\n",
    "    NNList = np.array(fl[\"NNsiteList_sitewise\"])\n",
    "    jumpNewIndices = np.array(fl[\"JumpSiteIndexPermutation\"])\n",
    "    GroupOpLatticeCartRotMatrices = np.array(fl[\"GroupOpLatticeCartRotMatrices\"])\n",
    "    GpermNNIdx = np.array(fl[\"GroupNNPermutation\"])\n",
    "\n",
    "crys = crystal.Crystal(lattice=lattice, basis=[[b for b in basis_cubic]], chemistry=[\"A\"], noreduce=True)\n",
    "print(crys)\n",
    "superCell = supercell.ClusterSupercell(crys, superlatt)\n",
    "\n",
    "x_vac = np.zeros(3)\n",
    "Rvac, civac = superCell.crys.cart2pos(x_vac)\n",
    "vacSiteInd = superCell.index(Rvac, civac)[0]\n",
    "print(vacSiteInd)\n",
    "jList = NNList[1:, vacSiteInd]"
   ]
  },
  {
   "cell_type": "code",
   "execution_count": 3,
   "id": "c821ac20",
   "metadata": {},
   "outputs": [
    {
     "data": {
      "text/plain": [
       "array([[ 0. , -0.5, -0.5],\n",
       "       [-0. ,  0.5,  0.5],\n",
       "       [ 0. , -0.5,  0.5],\n",
       "       [-0. ,  0.5, -0.5],\n",
       "       [-0.5, -0.5,  0. ],\n",
       "       [ 0.5,  0.5, -0. ],\n",
       "       [-0.5,  0. ,  0.5],\n",
       "       [ 0.5, -0. , -0.5],\n",
       "       [-0.5,  0. , -0.5],\n",
       "       [ 0.5, -0. ,  0.5],\n",
       "       [ 0.5, -0.5,  0. ],\n",
       "       [-0.5,  0.5, -0. ]])"
      ]
     },
     "execution_count": 3,
     "metadata": {},
     "output_type": "execute_result"
    }
   ],
   "source": [
    "dxList # contains the jump vectors."
   ]
  },
  {
   "cell_type": "markdown",
   "id": "b3bce320",
   "metadata": {},
   "source": [
    "## Verify Nearest neighbor sites under saved order of jumps"
   ]
  },
  {
   "cell_type": "code",
   "execution_count": 4,
   "id": "afb33bed",
   "metadata": {},
   "outputs": [
    {
     "name": "stderr",
     "output_type": "stream",
     "text": [
      "100%|█████████████████████████| 500/500 [00:01<00:00, 294.02it/s]\n"
     ]
    }
   ],
   "source": [
    "for siteInd in tqdm(range(NNList.shape[1]), position=0, leave=True, ncols=65):\n",
    "    assert NNList[0, siteInd] == siteInd\n",
    "    ciSite, Rsite = superCell.ciR(siteInd)\n",
    "    xSite = superCell.crys.pos2cart(Rsite, ciSite)\n",
    "    for jmp in range(NNList.shape[0] - 1):\n",
    "        xSiteNew = xSite + dxList[jmp]\n",
    "        RsiteNew, ciSiteNew = superCell.crys.cart2pos(xSiteNew)\n",
    "        siteNew, _ = superCell.index(RsiteNew, ciSiteNew)\n",
    "        assert NNList[jmp + 1, siteInd] == siteNew\n",
    "\n",
    "        if siteInd == vacSiteInd:\n",
    "            assert jList[jmp] == siteNew"
   ]
  },
  {
   "cell_type": "markdown",
   "id": "d1938005",
   "metadata": {},
   "source": [
    "## Now test the group permutation of nearest neigbhors"
   ]
  },
  {
   "cell_type": "code",
   "execution_count": 5,
   "id": "083b608a",
   "metadata": {},
   "outputs": [],
   "source": [
    "# We first reconstruct the group operations dictionary\n",
    "# This will let us test the consistency in the sequence of the group operations\n",
    "considered = set()\n",
    "GIndtoGDict = {}\n",
    "for g in list(superCell.crys.G):\n",
    "    cartrot = g.cartrot\n",
    "    for rotInd in range(GroupOpLatticeCartRotMatrices.shape[0]):\n",
    "        if np.allclose(cartrot, GroupOpLatticeCartRotMatrices[rotInd]):\n",
    "            assert g not in considered # A group operation cannot be repeated \n",
    "            considered.add(g)\n",
    "            GIndtoGDict[rotInd] = g"
   ]
  },
  {
   "cell_type": "code",
   "execution_count": 6,
   "id": "66f0f896",
   "metadata": {},
   "outputs": [
    {
     "name": "stderr",
     "output_type": "stream",
     "text": [
      "100%|███████████████████████████| 48/48 [00:00<00:00, 120.29it/s]\n"
     ]
    }
   ],
   "source": [
    "# Then test that the nearest neighbors have been consistently stored\n",
    "for gInd, g in tqdm(GIndtoGDict.items(), position=0, leave=True, ncols=65):\n",
    "    for jmp in range(dxList.shape[0]):\n",
    "        jmpvec = dxList[jmp]\n",
    "        jmpvecRot = superCell.crys.g_cart(g, jmpvec)\n",
    "        \n",
    "        idxnew = None\n",
    "        count = 0\n",
    "        for jmpNew in range(dxList.shape[0]):\n",
    "            if np.allclose(dxList[jmpNew], jmpvecRot):\n",
    "                count += 1\n",
    "                idxnew = jmpNew\n",
    "        assert count == 1\n",
    "        assert GpermNNIdx[gInd, idxnew + 1] == jmp + 1\n",
    "\n",
    "assert len(GIndtoGDict) == 48"
   ]
  },
  {
   "cell_type": "markdown",
   "id": "4df7b439",
   "metadata": {},
   "source": [
    "## Now check re-indexing of sites after jumps, when sites are translated back under PBC so that the vacancy comes back at (0,0,0)"
   ]
  },
  {
   "cell_type": "code",
   "execution_count": 7,
   "id": "151ddc6e",
   "metadata": {},
   "outputs": [
    {
     "name": "stdout",
     "output_type": "stream",
     "text": [
      "(500,)\n",
      "0\n"
     ]
    },
    {
     "name": "stderr",
     "output_type": "stream",
     "text": [
      "100%|████████████████████████████| 12/12 [00:01<00:00,  6.97it/s]\n"
     ]
    }
   ],
   "source": [
    "# Now for each jump, displace periodically and check\n",
    "randomState = np.random.randint(1, 5, NNList.shape[1], dtype=np.int8)\n",
    "print(randomState.shape)\n",
    "# Put a vacancy (species 0) at the vacancy site\n",
    "x_vac = np.zeros(3)\n",
    "Rvac, civac = superCell.crys.cart2pos(x_vac)\n",
    "vacSiteInd = superCell.index(Rvac, civac)[0]\n",
    "randomState[vacSiteInd] = 0\n",
    "print(vacSiteInd)\n",
    "\n",
    "for jmp in tqdm(range(dxList.shape[0]), position=0, leave=True, ncols=65):\n",
    "    \n",
    "    state2 = randomState.copy()\n",
    "    assert state2[vacSiteInd] == 0 # check initially there was vacancy\n",
    "    \n",
    "    # Then do the vacancy exchange\n",
    "    assert jList[jmp] == NNList[1+jmp, vacSiteInd]\n",
    "    state2[vacSiteInd] = state2[jList[jmp]]\n",
    "    state2[jList[jmp]] = 0\n",
    "    \n",
    "    # Now translate the state\n",
    "    state2Trans = np.zeros_like(state2)\n",
    "    for site in range(NNList.shape[1]):\n",
    "        ciSite, Rsite = superCell.ciR(site)\n",
    "        \n",
    "        xSite = superCell.crys.pos2cart(Rsite, ciSite)\n",
    "        \n",
    "        xSiteNew = xSite - dxList[jmp] # translate by negative of vac jump\n",
    "        \n",
    "        RsiteNew, ciSiteNew = superCell.crys.cart2pos(xSiteNew)\n",
    "        \n",
    "        assert ciSiteNew is not None\n",
    "        \n",
    "        siteIndNew, _ = superCell.index(RsiteNew, ciSiteNew)\n",
    "        state2Trans[siteIndNew] = state2[site]\n",
    "    \n",
    "    assert state2Trans[vacSiteInd] == 0\n",
    "    assert np.array_equal(randomState[jumpNewIndices[jmp]], state2Trans)"
   ]
  },
  {
   "cell_type": "markdown",
   "id": "1b21330a",
   "metadata": {},
   "source": [
    "## check positions with an ASE supercell to make sure site indices and positions match\n",
    "Note: For non-diagonal superlatt matrices that break the cubic symmetry of the supercell, the indices do not match between ASE and Onsager. But in all our runs, we'll use diagonal superlattices, for which Onsager and ASE give the same indices."
   ]
  },
  {
   "cell_type": "code",
   "execution_count": 8,
   "id": "877efd5a",
   "metadata": {},
   "outputs": [],
   "source": [
    "from ase.spacegroup import crystal as crystal_ASE\n",
    "from ase.build import make_supercell"
   ]
  },
  {
   "cell_type": "code",
   "execution_count": 9,
   "id": "166356d3",
   "metadata": {},
   "outputs": [
    {
     "name": "stdout",
     "output_type": "stream",
     "text": [
      "1.0\n"
     ]
    }
   ],
   "source": [
    "a = superCell.crys.lattice[0,0]\n",
    "print(a)\n",
    "superlatt = np.diag([N_units, N_units, N_units])\n",
    "\n",
    "fcc_ASE = crystal_ASE('Ni', [(0, 0, 0)], spacegroup=225, cellpar=[a, a, a, 90, 90, 90], primitive_cell=False)\n",
    "superFCC_ASE = make_supercell(fcc_ASE, superlatt)"
   ]
  },
  {
   "cell_type": "code",
   "execution_count": 10,
   "id": "b7ee1a22",
   "metadata": {},
   "outputs": [
    {
     "name": "stderr",
     "output_type": "stream",
     "text": [
      "100%|████████████████████████| 500/500 [00:00<00:00, 5878.03it/s]\n"
     ]
    }
   ],
   "source": [
    "for site in tqdm(range(len(superFCC_ASE)), position=0, leave=True, ncols=65):\n",
    "    ciSite, Rsite = superCell.ciR(site)\n",
    "    x_site = superCell.crys.pos2cart(Rsite, ciSite)\n",
    "    assert np.allclose(x_site, np.dot(superCell.lattice, superCell.mobilepos[site]), rtol=0, atol=1e-15)\n",
    "    assert np.allclose(x_site, superFCC_ASE[site].position, atol=1e-15)"
   ]
  },
  {
   "cell_type": "code",
   "execution_count": null,
   "id": "066669c6",
   "metadata": {},
   "outputs": [],
   "source": []
  }
 ],
 "metadata": {
  "kernelspec": {
   "display_name": "Python 3 (ipykernel)",
   "language": "python",
   "name": "python3"
  },
  "language_info": {
   "codemirror_mode": {
    "name": "ipython",
    "version": 3
   },
   "file_extension": ".py",
   "mimetype": "text/x-python",
   "name": "python",
   "nbconvert_exporter": "python",
   "pygments_lexer": "ipython3",
   "version": "3.7.16"
  }
 },
 "nbformat": 4,
 "nbformat_minor": 5
}
