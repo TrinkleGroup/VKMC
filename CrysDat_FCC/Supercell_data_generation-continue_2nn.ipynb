{
 "cells": [
  {
   "cell_type": "code",
   "execution_count": 1,
   "metadata": {},
   "outputs": [],
   "source": [
    "from onsager import crystal, supercell, cluster\n",
    "import numpy as np\n",
    "import pickle"
   ]
  },
  {
   "cell_type": "code",
   "execution_count": 2,
   "metadata": {},
   "outputs": [],
   "source": [
    "# Load pre-saved arrays for 1nn\n",
    "with open(\"supercellFCC.pkl\", \"rb\") as fl:\n",
    "    superFCC = pickle.load(fl)\n",
    "crys = superFCC.crys\n",
    "    \n",
    "with open(\"jnetFCC.pkl\", \"rb\") as fl:\n",
    "    jnetFCC = pickle.load(fl)\n",
    "\n",
    "a0 = 1.0\n",
    "cut = 1.01*a0 # 2nn cutoff\n",
    "jnetFCC_2nn = crys.jumpnetwork(0, cut)"
   ]
  },
  {
   "cell_type": "code",
   "execution_count": 4,
   "metadata": {},
   "outputs": [],
   "source": [
    "# replace the 1nn jumpnetwork with what we had before\n",
    "# for consistency\n",
    "jnetFCC_2nn[0] = jnetFCC[0]"
   ]
  },
  {
   "cell_type": "code",
   "execution_count": 6,
   "metadata": {},
   "outputs": [],
   "source": [
    "vacsite = cluster.ClusterSite((0, 0), np.zeros(3, dtype=int))\n",
    "vacsiteInd = superFCC.index(np.zeros(3, dtype=int), (0, 0))[0]\n",
    "assert vacsiteInd == 0"
   ]
  },
  {
   "cell_type": "code",
   "execution_count": 8,
   "metadata": {},
   "outputs": [
    {
     "data": {
      "text/plain": [
       "array([[0. , 0.5, 0.5],\n",
       "       [0.5, 0. , 0.5],\n",
       "       [0.5, 0.5, 0. ]])"
      ]
     },
     "execution_count": 8,
     "metadata": {},
     "output_type": "execute_result"
    }
   ],
   "source": [
    "crys.lattice"
   ]
  },
  {
   "cell_type": "code",
   "execution_count": 9,
   "metadata": {},
   "outputs": [
    {
     "data": {
      "text/plain": [
       "[[((0, 0), array([ 0. , -0.5,  0.5])),\n",
       "  ((0, 0), array([-0. ,  0.5, -0.5])),\n",
       "  ((0, 0), array([ 0.5,  0. , -0.5])),\n",
       "  ((0, 0), array([-0.5, -0. ,  0.5])),\n",
       "  ((0, 0), array([ 0. , -0.5, -0.5])),\n",
       "  ((0, 0), array([-0. ,  0.5,  0.5])),\n",
       "  ((0, 0), array([-0.5, -0.5,  0. ])),\n",
       "  ((0, 0), array([ 0.5,  0.5, -0. ])),\n",
       "  ((0, 0), array([0.5, 0. , 0.5])),\n",
       "  ((0, 0), array([-0.5, -0. , -0.5])),\n",
       "  ((0, 0), array([ 0.5, -0.5,  0. ])),\n",
       "  ((0, 0), array([-0.5,  0.5, -0. ]))]]"
      ]
     },
     "execution_count": 9,
     "metadata": {},
     "output_type": "execute_result"
    }
   ],
   "source": [
    "jnetFCC"
   ]
  },
  {
   "cell_type": "markdown",
   "metadata": {},
   "source": [
    "## State generation"
   ]
  },
  {
   "cell_type": "code",
   "execution_count": 10,
   "metadata": {},
   "outputs": [],
   "source": [
    "RtoSiteInd = np.load(\"RtoSiteInd.npy\")\n",
    "SiteIndtoR = np.load(\"SiteIndtoR.npy\")"
   ]
  },
  {
   "cell_type": "code",
   "execution_count": 11,
   "metadata": {},
   "outputs": [
    {
     "data": {
      "text/plain": [
       "8"
      ]
     },
     "execution_count": 11,
     "metadata": {},
     "output_type": "execute_result"
    }
   ],
   "source": [
    "N_units = superFCC.superlatt[0,0]\n",
    "N_units"
   ]
  },
  {
   "cell_type": "code",
   "execution_count": 13,
   "metadata": {},
   "outputs": [],
   "source": [
    "# Convert the jump displacements into lattice translation\n",
    "dxR = []\n",
    "for jList in jnetFCC_2nn:\n",
    "    for (i, j), dx in jList:\n",
    "        Rnn = np.dot(np.linalg.inv(crys.lattice), dx).astype(int)\n",
    "        dxR.append(Rnn)\n",
    "dxR = np.array(dxR)"
   ]
  },
  {
   "cell_type": "code",
   "execution_count": 14,
   "metadata": {},
   "outputs": [
    {
     "data": {
      "text/plain": [
       "18"
      ]
     },
     "execution_count": 14,
     "metadata": {},
     "output_type": "execute_result"
    }
   ],
   "source": [
    "N_ngb = len(dxR)\n",
    "N_ngb"
   ]
  },
  {
   "cell_type": "code",
   "execution_count": 15,
   "metadata": {},
   "outputs": [],
   "source": [
    "# Load the 1nn dxR and check they are in the same order\n",
    "dxR_1nn = np.load(\"nnJumpLatVecs.npy\")\n",
    "assert np.array_equal(dxR_1nn, dxR[:dxR_1nn.shape[0]])"
   ]
  },
  {
   "cell_type": "markdown",
   "metadata": {},
   "source": [
    "## Gather Nearest neighborhood"
   ]
  },
  {
   "cell_type": "code",
   "execution_count": 16,
   "metadata": {},
   "outputs": [
    {
     "name": "stdout",
     "output_type": "stream",
     "text": [
      "512\n"
     ]
    }
   ],
   "source": [
    "# Next, for each site, store the nearest neighbors\n",
    "Nsites = len(superFCC.mobilepos)\n",
    "print(Nsites)\n",
    "NNList = np.zeros((N_ngb + 1, Nsites), dtype=int)\n",
    "for siteInd in range(Nsites):\n",
    "    NNList[0, siteInd] = siteInd\n",
    "    Rsite = SiteIndtoR[siteInd]\n",
    "    for ngbInd, Rnn in enumerate(dxR):\n",
    "        RsiteNN = (Rsite + Rnn)%N_units\n",
    "        siteIndNN = RtoSiteInd[RsiteNN[0], RsiteNN[1], RsiteNN[2]]\n",
    "        NNList[ngbInd + 1, siteInd] = siteIndNN"
   ]
  },
  {
   "cell_type": "code",
   "execution_count": 17,
   "metadata": {},
   "outputs": [
    {
     "data": {
      "text/plain": [
       "array([  0,  15,  57, 449,  71, 448,  64,   7,   1,   8,  56, 456, 120,\n",
       "       457, 127, 463, 121,  79, 505])"
      ]
     },
     "execution_count": 17,
     "metadata": {},
     "output_type": "execute_result"
    }
   ],
   "source": [
    "NNList[:, 0]"
   ]
  },
  {
   "cell_type": "code",
   "execution_count": 18,
   "metadata": {},
   "outputs": [
    {
     "data": {
      "text/plain": [
       "array([  0,  15,  57, 449,  71, 448,  64,   7,   1,   8,  56, 456, 120])"
      ]
     },
     "execution_count": 18,
     "metadata": {},
     "output_type": "execute_result"
    }
   ],
   "source": [
    "# Check that the 1nn neighbors don't have their orders changes\n",
    "NNList_1nn = np.load(\"NNsites_sitewise.npy\")\n",
    "NNList_1nn[:, 0]"
   ]
  },
  {
   "cell_type": "code",
   "execution_count": 19,
   "metadata": {},
   "outputs": [],
   "source": [
    "assert np.array_equal(NNList_1nn[:, :], NNList[:dxR_1nn.shape[0]+1, :])"
   ]
  },
  {
   "cell_type": "markdown",
   "metadata": {},
   "source": [
    "## Store permutation of nearest neighbors"
   ]
  },
  {
   "cell_type": "code",
   "execution_count": 20,
   "metadata": {},
   "outputs": [],
   "source": [
    "# For each group operation, store the permuation of the nearest neighbors\n",
    "# First assign indices to nearest neighbor vectors\n",
    "nntoIdx = {}\n",
    "for ngbInd, Rnn in enumerate(dxR):\n",
    "    RnnTup = tuple(Rnn)\n",
    "    nntoIdx[RnnTup] = ngbInd+1"
   ]
  },
  {
   "cell_type": "code",
   "execution_count": 21,
   "metadata": {},
   "outputs": [],
   "source": [
    "# Load the group operations with the same indices they were given\n",
    "with open(\"GroupOpsIndices.pkl\", \"rb\") as fl:\n",
    "    GIndtoGDict = pickle.load(fl)"
   ]
  },
  {
   "cell_type": "code",
   "execution_count": 22,
   "metadata": {},
   "outputs": [],
   "source": [
    "# Now for each group operation, store, the permutation of the nearest neighbors\n",
    "GpermIdx = np.zeros((len(GIndtoGDict), N_ngb + 1), dtype=np.uint8)\n",
    "for gInd, g in GIndtoGDict.items():\n",
    "    for nnTup, nnIdx in nntoIdx.items():\n",
    "        nnVec = np.array(nnTup)\n",
    "        nnRot, _ = crys.g_pos(g.inv(), nnVec, (0, 0))\n",
    "        nnIdxNew = nntoIdx[tuple(nnRot)]\n",
    "        GpermIdx[gInd, nnIdx] = nnIdxNew"
   ]
  },
  {
   "cell_type": "code",
   "execution_count": 23,
   "metadata": {},
   "outputs": [],
   "source": [
    "GpermIdx_1nn = np.load(\"GroupNNpermutations.npy\")\n",
    "assert np.array_equal(GpermIdx_1nn[:, :], GpermIdx[:, :dxR_1nn.shape[0]+1])"
   ]
  },
  {
   "cell_type": "code",
   "execution_count": 24,
   "metadata": {},
   "outputs": [],
   "source": [
    "# Now save everything\n",
    "np.save(\"NNsites_sitewise_2nn.npy\", NNList)\n",
    "np.save(\"nnJumpLatVecs_2nn.npy\", dxR)\n",
    "np.save(\"GroupNNpermutations_2nn.npy\", GpermIdx)"
   ]
  },
  {
   "cell_type": "code",
   "execution_count": null,
   "metadata": {},
   "outputs": [],
   "source": []
  }
 ],
 "metadata": {
  "kernelspec": {
   "display_name": "Python 3 (ipykernel)",
   "language": "python",
   "name": "python3"
  },
  "language_info": {
   "codemirror_mode": {
    "name": "ipython",
    "version": 3
   },
   "file_extension": ".py",
   "mimetype": "text/x-python",
   "name": "python",
   "nbconvert_exporter": "python",
   "pygments_lexer": "ipython3",
   "version": "3.8.10"
  }
 },
 "nbformat": 4,
 "nbformat_minor": 4
}
