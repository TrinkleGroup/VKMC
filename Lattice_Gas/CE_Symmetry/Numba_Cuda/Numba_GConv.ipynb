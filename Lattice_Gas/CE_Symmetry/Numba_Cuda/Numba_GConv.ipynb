{
  "nbformat": 4,
  "nbformat_minor": 0,
  "metadata": {
    "colab": {
      "name": "Numba_GConv.ipynb",
      "provenance": [],
      "collapsed_sections": [],
      "authorship_tag": "ABX9TyN7mc/NfiGB6Wj1w0TX9HdB",
      "include_colab_link": true
    },
    "kernelspec": {
      "name": "python3",
      "display_name": "Python 3"
    },
    "language_info": {
      "name": "python"
    },
    "accelerator": "GPU"
  },
  "cells": [
    {
      "cell_type": "markdown",
      "metadata": {
        "id": "view-in-github",
        "colab_type": "text"
      },
      "source": [
        "<a href=\"https://colab.research.google.com/github/sohamch/VKMC/blob/SymmNets/Lattice_Gas/CE_Symmetry/Numba_Cuda/Numba_GConv.ipynb\" target=\"_parent\"><img src=\"https://colab.research.google.com/assets/colab-badge.svg\" alt=\"Open In Colab\"/></a>"
      ]
    },
    {
      "cell_type": "code",
      "metadata": {
        "id": "xSaJJD1KHq4M"
      },
      "source": [
        "import numpy as np\n",
        "import math\n",
        "from numba import cuda, jit, float32, float64, int64, uint8, int16"
      ],
      "execution_count": 1,
      "outputs": []
    },
    {
      "cell_type": "code",
      "metadata": {
        "id": "fw5DCJjSIdYS",
        "colab": {
          "base_uri": "https://localhost:8080/"
        },
        "outputId": "cc6ac63d-1dc3-4e99-ca4f-33250f3e6c02"
      },
      "source": [
        "from google.colab import drive\n",
        "drive.mount('/content/drive')"
      ],
      "execution_count": 2,
      "outputs": [
        {
          "output_type": "stream",
          "text": [
            "Drive already mounted at /content/drive; to attempt to forcibly remount, call drive.mount(\"/content/drive\", force_remount=True).\n"
          ],
          "name": "stdout"
        }
      ]
    },
    {
      "cell_type": "code",
      "metadata": {
        "id": "5xW6pzhYIgho"
      },
      "source": [
        "FP = \"/content/drive/My Drive/Colab/Numba_Cuda/GConv/\""
      ],
      "execution_count": 3,
      "outputs": []
    },
    {
      "cell_type": "code",
      "metadata": {
        "id": "xScrwF0oI-if"
      },
      "source": [
        "NsitesMax = 1024\n",
        "NChMax = 100\n",
        "NngbMax = 13 # maximum for close packed structs +1 for the site itself     \n",
        "NChSitesMax = NChMax*NngbMax                                               "
      ],
      "execution_count": 4,
      "outputs": []
    },
    {
      "cell_type": "code",
      "metadata": {
        "id": "SngK_IiXLoZU"
      },
      "source": [
        "# write device function for softplus\n",
        "@cuda.jit(device=True)\n",
        "def softPlus(x, beta, threshold):\n",
        "    if x < -threshold:\n",
        "        return 0.0\n",
        "    elif x > threshold:\n",
        "        return x\n",
        "    else:\n",
        "        return math.log(1.0 + math.exp(beta*x))/beta\n",
        "\n",
        "@cuda.jit(device=True)\n",
        "def gradSoftPlus(x, beta, threshold):\n",
        "    if x < -threshold:\n",
        "        return 0.0\n",
        "    elif x > threshold:\n",
        "        return 1.0\n",
        "    else:\n",
        "        return 1./(1.0 + math.exp(-beta*x))"
      ],
      "execution_count": 5,
      "outputs": []
    },
    {
      "cell_type": "code",
      "metadata": {
        "id": "Rc9v2r5pdU8P"
      },
      "source": [
        "@cuda.jit\n",
        "def Gconv(InputImage, Psi, OutImage, SiteNeighbors, GnnPerms,\n",
        "          Nsites, NInCh, NOutCh, N_ngb, Ng,\n",
        "          sp_beta, sp_threshold):\n",
        "    # first get locations\n",
        "    ty = cuda.threadIdx.y\n",
        "    bx, by, bz = cuda.blockIdx.x, cuda.blockIdx.y, cuda.blockIdx.z\n",
        "\n",
        "    bSizeX, bSizeY, bSizeZ = cuda.blockDim.x, cuda.blockDim.y, cuda.blockDim.z\n",
        "\n",
        "    # Get the necessary output indices\n",
        "    batchInd = bx # which sample the thread is working with\n",
        "    outCh = (by*bSizeY + ty)//Nsites  # thread's output channel\n",
        "    siteInd = (by*bSizeY + ty)%Nsites # which site the conv is over\n",
        "    gInd = bz  # which group operation the thread is handling\n",
        "\n",
        "    # Get the neighborhood of the current site\n",
        "    # in the thread's local memory\n",
        "    NgbIndices = cuda.local.array(shape=(NngbMax,), dtype=int64)\n",
        "    for ngb in range(N_ngb):\n",
        "        NgbIndices[ngb] = SiteNeighbors[siteInd, ngb]\n",
        "\n",
        "    # create the shared arrays to store filters and input elements\n",
        "    InChannel = cuda.shared.array(shape=(NsitesMax,), dtype=float64)\n",
        "    Filter = cuda.shared.array(shape=(NChSitesMax,), dtype=float64)\n",
        "\n",
        "    # Store the Group rotations of nns into shared memory\n",
        "    gnnRotShared = cuda.local.array(shape=(NngbMax,), dtype=uint8)\n",
        "    if ty < N_ngb:\n",
        "        gnnRotShared[ty] = GnnPerms[gInd, ty]\n",
        "\n",
        "    linSum = 0.\n",
        "    for inCh in range(NInCh):\n",
        "        # First read the input channel into shared memory\n",
        "        for sweep in range(Nsites//bSizeY + 1):\n",
        "            threadSiteInd = sweep*bSizeY + ty\n",
        "            if threadSiteInd < Nsites:\n",
        "                InChannel[threadSiteInd] = InputImage[batchInd, inCh, threadSiteInd]\n",
        "        \n",
        "        # Then read the filter for this input channel\n",
        "        # Apply Group permutation to it as well\n",
        "        for sweep in range((NOutCh*N_ngb)//bSizeY + 1):\n",
        "            threadElemInd = sweep*bSizeY + ty\n",
        "            if threadElemInd < NOutCh*N_ngb:\n",
        "                Filter[threadElemInd] = Psi[inCh, threadElemInd]\n",
        "        \n",
        "        # synchronize the block\n",
        "        cuda.syncthreads()\n",
        "\n",
        "        # Reading phase is done - now convolve\n",
        "        for ngb in range(N_ngb):\n",
        "            ngbSite = NgbIndices[ngb]\n",
        "            linSum += Filter[outCh*N_ngb + gnnRotShared[ngb]] * InChannel[ngbSite]\n",
        "    \n",
        "    # Apply non-linearity\n",
        "    if bx == 0 and by == 0 and bz == 0 and ty == 0:\n",
        "        print(linSum)\n",
        "    nonLin = softPlus(linSum,sp_beta, sp_threshold)/Ng\n",
        "    # atomically sum out the group channel\n",
        "    cuda.atomic.add(OutImage, (batchInd, outCh, siteInd), nonLin)"
      ],
      "execution_count": 19,
      "outputs": []
    },
    {
      "cell_type": "code",
      "metadata": {
        "id": "BSQDvKTqIOBM",
        "colab": {
          "base_uri": "https://localhost:8080/"
        },
        "outputId": "f3c8ce28-822e-4e72-83d8-8c1d7c90f4b2"
      },
      "source": [
        "# load the data\n",
        "NNSites = np.load(FP + \"NNsites_sitewise.npy\").T\n",
        "GNNperms = np.load(FP + \"GroupNNpermutations.npy\")\n",
        "RtoSiteInd = np.load(FP + \"RtoSiteInd.npy\")\n",
        "SiteIndtoR = np.load(FP + \"SiteIndtoR.npy\")\n",
        "(Nsites, N_ngb) = NNSites.shape\n",
        "Ng = GNNperms.shape[0]\n",
        "print(N_ngb, Nsites, Ng)"
      ],
      "execution_count": 7,
      "outputs": [
        {
          "output_type": "stream",
          "text": [
            "9 512 48\n"
          ],
          "name": "stdout"
        }
      ]
    },
    {
      "cell_type": "code",
      "metadata": {
        "id": "hkg_6PjwKwfp"
      },
      "source": [
        "# # load the pickle files\n",
        "# import pickle\n",
        "# with open(FP + \"supercellBCC.pkl\", \"rb\") as fl:\n",
        "#     superBCC = pickle.load(fl)\n",
        "\n",
        "# with open(FP + \"GroupOpsIndices.pkl\", \"rb\") as fl:\n",
        "#     GIndices = pickle.load(fl)\n",
        "\n",
        "# with open(FP + \"jnetBCC.pkl\") as fl:\n",
        "#     jNetBCC = pickle.load(fl)"
      ],
      "execution_count": 8,
      "outputs": []
    },
    {
      "cell_type": "code",
      "metadata": {
        "id": "kBYKzC30LNim"
      },
      "source": [
        "# Create a random input and output image map\n",
        "Nsites = 512\n",
        "Nbatch = 512\n",
        "Nch = 16\n",
        "InImage = np.random.rand(Nbatch, Nch, Nsites)\n",
        "OutImage = np.zeros_like(InImage)"
      ],
      "execution_count": 9,
      "outputs": []
    },
    {
      "cell_type": "code",
      "metadata": {
        "id": "raX02dI6NgMu"
      },
      "source": [
        "# Now set up a random filter\n",
        "NchIn = Nch\n",
        "NchOut = Nch\n",
        "Psi = np.random.rand(NchIn, NchOut*N_ngb)"
      ],
      "execution_count": 10,
      "outputs": []
    },
    {
      "cell_type": "code",
      "metadata": {
        "colab": {
          "base_uri": "https://localhost:8080/"
        },
        "id": "bnvFqy22ajYm",
        "outputId": "811b4800-3f45-46f4-fc99-6578d5a9f1fe"
      },
      "source": [
        "%set_env NUMBA_ENABLE_CUDASIM=0"
      ],
      "execution_count": 11,
      "outputs": [
        {
          "output_type": "stream",
          "text": [
            "env: NUMBA_ENABLE_CUDASIM=0\n"
          ],
          "name": "stdout"
        }
      ]
    },
    {
      "cell_type": "code",
      "metadata": {
        "id": "hr6YrpqWPVWT"
      },
      "source": [
        "ty = 512\n",
        "bX = Nbatch\n",
        "bY = int(np.ceil((NchOut*Nsites)/ty))\n",
        "bZ = Ng\n",
        "Gconv[(bX, bY, bZ), (1, ty, 1)](InImage, Psi, OutImage, NNSites, GNNperms,\n",
        "          Nsites, NchIn, NchOut, N_ngb, Ng,\n",
        "          1.0, 20.0)"
      ],
      "execution_count": 20,
      "outputs": []
    },
    {
      "cell_type": "code",
      "metadata": {
        "colab": {
          "base_uri": "https://localhost:8080/"
        },
        "id": "T4p3Se0iVbwK",
        "outputId": "ba22bb21-6581-4f60-de1e-d8d869b1cead"
      },
      "source": [
        "OutImage"
      ],
      "execution_count": 21,
      "outputs": [
        {
          "output_type": "execute_result",
          "data": {
            "text/plain": [
              "array([[[34.59003748, 33.94122186, 34.19041154, ..., 31.08898973,\n",
              "         33.98492315, 31.31758821],\n",
              "        [40.01868216, 38.58942009, 37.48764429, ..., 35.68409973,\n",
              "         37.59834848, 35.5276061 ],\n",
              "        [29.71314876, 29.03688173, 29.7769282 , ..., 28.71980396,\n",
              "         30.43905587, 26.61015658],\n",
              "        ...,\n",
              "        [29.92650512, 30.19706379, 29.94789087, ..., 26.19271117,\n",
              "         27.11581482, 26.96959061],\n",
              "        [37.50528878, 36.36744794, 35.12226739, ..., 35.33934287,\n",
              "         36.67261652, 30.47746882],\n",
              "        [38.84330405, 37.79402773, 36.60048424, ..., 36.36139601,\n",
              "         37.73520401, 34.24692371]],\n",
              "\n",
              "       [[33.31328284, 33.044159  , 30.29345855, ..., 30.23745493,\n",
              "         30.96375277, 30.50626938],\n",
              "        [39.22643302, 37.04493396, 35.15656585, ..., 35.57957602,\n",
              "         35.10637221, 35.43267637],\n",
              "        [29.47664286, 29.21678915, 27.77897542, ..., 26.21949307,\n",
              "         25.99886551, 26.57794049],\n",
              "        ...,\n",
              "        [27.96822064, 28.22965828, 27.10141243, ..., 27.81856844,\n",
              "         24.51263689, 25.45059167],\n",
              "        [34.85398212, 34.21480947, 33.38441376, ..., 33.05546202,\n",
              "         31.76766652, 33.79683511],\n",
              "        [35.18655158, 35.17488906, 32.97501265, ..., 34.27190857,\n",
              "         32.04411491, 32.658021  ]],\n",
              "\n",
              "       [[32.94812353, 34.29330328, 31.3741021 , ..., 30.5584259 ,\n",
              "         32.1687223 , 31.04697985],\n",
              "        [35.49431399, 37.56922831, 34.67240247, ..., 34.6094946 ,\n",
              "         36.68603768, 36.89037676],\n",
              "        [28.67978728, 29.13877406, 27.58587907, ..., 26.0084303 ,\n",
              "         27.84716418, 26.87838086],\n",
              "        ...,\n",
              "        [28.35251836, 28.69860666, 28.17407679, ..., 25.75265737,\n",
              "         27.24176244, 28.49587431],\n",
              "        [33.75432444, 37.24503641, 33.81012999, ..., 32.52932728,\n",
              "         34.80596801, 35.89096739],\n",
              "        [36.71618849, 36.5152731 , 35.05824795, ..., 32.90941082,\n",
              "         35.58525262, 36.22687622]],\n",
              "\n",
              "       ...,\n",
              "\n",
              "       [[30.63089588, 34.77005319, 31.9865952 , ..., 34.32708339,\n",
              "         33.91234091, 31.80893693],\n",
              "        [35.00709897, 38.61769507, 36.03318858, ..., 39.02221521,\n",
              "         38.41220743, 35.96177362],\n",
              "        [24.82728065, 29.64646666, 26.97009194, ..., 29.29935712,\n",
              "         28.71253621, 27.27738308],\n",
              "        ...,\n",
              "        [26.41125759, 28.69878126, 27.75049472, ..., 29.26261635,\n",
              "         29.17321032, 26.26934426],\n",
              "        [31.91844872, 37.1131241 , 33.79909647, ..., 37.16487561,\n",
              "         37.83755939, 34.22745853],\n",
              "        [33.80361891, 36.81153545, 33.94773378, ..., 37.65769657,\n",
              "         37.73434831, 34.87746034]],\n",
              "\n",
              "       [[30.68798437, 30.30988953, 31.96487866, ..., 28.79751189,\n",
              "         31.83416828, 29.3564478 ],\n",
              "        [36.12659587, 36.3342766 , 36.75397668, ..., 33.44677464,\n",
              "         36.04226834, 34.77543246],\n",
              "        [26.95833374, 28.22703377, 28.76343172, ..., 25.24496733,\n",
              "         25.77447662, 26.26658955],\n",
              "        ...,\n",
              "        [27.04248068, 28.34514359, 27.47192687, ..., 26.47856608,\n",
              "         27.79384193, 28.04245505],\n",
              "        [32.02860419, 34.87261671, 34.08083643, ..., 32.45687406,\n",
              "         34.13461191, 32.03430341],\n",
              "        [33.74501239, 35.69395345, 34.22612877, ..., 34.29358663,\n",
              "         35.39254344, 34.31413994]],\n",
              "\n",
              "       [[37.54569256, 34.43003433, 32.14649144, ..., 33.46534478,\n",
              "         34.94176559, 31.38419396],\n",
              "        [40.18832498, 37.54674824, 34.65424398, ..., 38.36551475,\n",
              "         38.85077981, 35.43567327],\n",
              "        [29.49853158, 28.86583461, 27.88214275, ..., 29.50257731,\n",
              "         28.72187226, 25.76400412],\n",
              "        ...,\n",
              "        [27.91223031, 28.62024662, 26.79663876, ..., 28.91742114,\n",
              "         27.7341966 , 26.65822138],\n",
              "        [37.40366959, 37.28534194, 34.17765385, ..., 36.58443877,\n",
              "         37.01216963, 32.60169678],\n",
              "        [36.92969335, 35.85958812, 33.59568139, ..., 37.35441808,\n",
              "         35.90668513, 32.82006504]]])"
            ]
          },
          "metadata": {
            "tags": []
          },
          "execution_count": 21
        }
      ]
    },
    {
      "cell_type": "code",
      "metadata": {
        "id": "iK2lgwUhdVMD"
      },
      "source": [
        ""
      ],
      "execution_count": null,
      "outputs": []
    }
  ]
}