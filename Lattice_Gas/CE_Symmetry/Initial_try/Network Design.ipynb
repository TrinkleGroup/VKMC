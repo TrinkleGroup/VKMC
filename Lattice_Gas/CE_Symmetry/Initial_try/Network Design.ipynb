{
 "cells": [
  {
   "cell_type": "code",
   "execution_count": 1,
   "metadata": {},
   "outputs": [],
   "source": [
    "import torch as pt\n",
    "import torch.nn as nn\n",
    "import torch.nn.functional as F\n",
    "\n",
    "import numpy as np"
   ]
  },
  {
   "cell_type": "code",
   "execution_count": 2,
   "metadata": {},
   "outputs": [],
   "source": [
    "class Net(nn.Module):\n",
    "    \n",
    "    def __init__(self, m, jList):\n",
    "        \"\"\"\n",
    "        m : input dimensionality\n",
    "        \"\"\"\n",
    "        super().__init__()\n",
    "        \n",
    "        self.N1L1 = nn.Linear(m, 64)\n",
    "        self.N1L2 = nn.Linear(64, 64)\n",
    "        self.N1L3 = nn.Linear(64, 64)\n",
    "        self.N1L4 = nn.Linear(64, 3, bias=False)\n",
    "        \n",
    "        self.N2L1 = nn.Linear(6, 64)\n",
    "        self.N2L2 = nn.Linear(64, 64)\n",
    "        self.N2L3 = nn.Linear(64, 64)\n",
    "        self.N2L4 = nn.Linear(64, 3, bias=False)\n",
    "        \n",
    "        self.jList = jList\n",
    "    \n",
    "    def subNet1(self, inState):\n",
    "        out1 = F.leaky_relu(self.N1L1(inState))\n",
    "        out1 = F.leaky_relu(self.N1L2(out1))\n",
    "        out1 = F.leaky_relu(self.N1L3(out1))\n",
    "        return self.N1L4(out1)\n",
    "    \n",
    "    def subNet2(self, in2):\n",
    "        out2 = F.leaky_relu(self.N2L1(in2))\n",
    "        out2 = F.leaky_relu(self.N2L2(out2))\n",
    "        out2 = F.leaky_relu(self.N2L3(out2))\n",
    "        return self.N2L4(out2)\n",
    "    \n",
    "    def forward(self, inState):\n",
    "        \n",
    "        out1 = self.subNet1(inState)\n",
    "        \n",
    "        out2 = pt.zeros_like(out1)\n",
    "        \n",
    "        for j in self.jList:\n",
    "            # concatenate the q values for this site to all sites\n",
    "            # Self correlation allowed for now\n",
    "            out1j = out1[j].repeat([out1.shape[0], 1])\n",
    "            in2 = pt.cat((out1, out1j), dim = 1)\n",
    "            out2 += self.subNet2(in2)\n",
    "        \n",
    "        return out2"
   ]
  },
  {
   "cell_type": "code",
   "execution_count": 3,
   "metadata": {},
   "outputs": [
    {
     "data": {
      "text/plain": [
       "(tensor([[0.6021, 0.0649, 0.5998],\n",
       "         [0.1056, 0.6579, 0.0586],\n",
       "         [0.4123, 0.4300, 0.1710],\n",
       "         [0.8238, 0.8015, 0.6003],\n",
       "         [0.6230, 0.5182, 0.6396]]),\n",
       " tensor([0.7019, 0.2249, 0.1857]))"
      ]
     },
     "execution_count": 3,
     "metadata": {},
     "output_type": "execute_result"
    }
   ],
   "source": [
    "x = pt.rand(5,3)\n",
    "y = pt.rand(3)\n",
    "x,y"
   ]
  },
  {
   "cell_type": "code",
   "execution_count": 4,
   "metadata": {},
   "outputs": [
    {
     "data": {
      "text/plain": [
       "tensor([[0.7019, 0.2249, 0.1857],\n",
       "        [0.7019, 0.2249, 0.1857],\n",
       "        [0.7019, 0.2249, 0.1857],\n",
       "        [0.7019, 0.2249, 0.1857],\n",
       "        [0.7019, 0.2249, 0.1857]])"
      ]
     },
     "execution_count": 4,
     "metadata": {},
     "output_type": "execute_result"
    }
   ],
   "source": [
    "z = y.repeat([5,1])\n",
    "z"
   ]
  },
  {
   "cell_type": "code",
   "execution_count": 5,
   "metadata": {},
   "outputs": [
    {
     "data": {
      "text/plain": [
       "tensor([[0.6021, 0.0649, 0.5998, 0.7019, 0.2249, 0.1857],\n",
       "        [0.1056, 0.6579, 0.0586, 0.7019, 0.2249, 0.1857],\n",
       "        [0.4123, 0.4300, 0.1710, 0.7019, 0.2249, 0.1857],\n",
       "        [0.8238, 0.8015, 0.6003, 0.7019, 0.2249, 0.1857],\n",
       "        [0.6230, 0.5182, 0.6396, 0.7019, 0.2249, 0.1857]])"
      ]
     },
     "execution_count": 5,
     "metadata": {},
     "output_type": "execute_result"
    }
   ],
   "source": [
    "pt.cat((x,z), dim=1)"
   ]
  },
  {
   "cell_type": "code",
   "execution_count": 6,
   "metadata": {},
   "outputs": [
    {
     "data": {
      "text/plain": [
       "tensor([[0.6409, 0.5702, 0.7404, 0.0263],\n",
       "        [0.4199, 0.7718, 0.8205, 0.4603],\n",
       "        [0.4594, 0.5396, 0.9294, 0.8874],\n",
       "        [0.8762, 0.2657, 0.7161, 0.8022],\n",
       "        [0.7508, 0.1731, 0.3376, 0.4173],\n",
       "        [0.8306, 0.5140, 0.5209, 0.7198],\n",
       "        [0.2668, 0.9711, 0.4964, 0.4781]], dtype=torch.float64)"
      ]
     },
     "execution_count": 6,
     "metadata": {},
     "output_type": "execute_result"
    }
   ],
   "source": [
    "m = 4  # no. of features per site\n",
    "N = 7 # No. of sites\n",
    "jList = [1,3,4] # jump sites\n",
    "X = pt.rand((N, m)).double()\n",
    "X"
   ]
  },
  {
   "cell_type": "code",
   "execution_count": 7,
   "metadata": {},
   "outputs": [],
   "source": [
    "net = Net(m, jList).double()"
   ]
  },
  {
   "cell_type": "code",
   "execution_count": 8,
   "metadata": {},
   "outputs": [],
   "source": [
    "Y_x = net.forward(X)"
   ]
  },
  {
   "cell_type": "code",
   "execution_count": 9,
   "metadata": {},
   "outputs": [
    {
     "data": {
      "text/plain": [
       "tensor([5, 4, 0, 1, 3, 2, 6])"
      ]
     },
     "execution_count": 9,
     "metadata": {},
     "output_type": "execute_result"
    }
   ],
   "source": [
    "# simulate group op with random permutation\n",
    "# with constraint that sites in jList are permuted\n",
    "# amongst each other only\n",
    "perm = pt.randperm(Y_x.shape[0])\n",
    "perm[1] = 4\n",
    "perm[3] = 1\n",
    "perm[4] = 3\n",
    "while pt.unique(perm).shape[0] != Y_x.shape[0]:\n",
    "    perm = pt.randperm(Y_x.shape[0])\n",
    "    perm[1] = 4\n",
    "    perm[3] = 1\n",
    "    perm[4] = 3\n",
    "perm"
   ]
  },
  {
   "cell_type": "code",
   "execution_count": 10,
   "metadata": {},
   "outputs": [],
   "source": [
    "Y_x_perm = net.forward(X[perm])"
   ]
  },
  {
   "cell_type": "code",
   "execution_count": 11,
   "metadata": {},
   "outputs": [
    {
     "data": {
      "text/plain": [
       "True"
      ]
     },
     "execution_count": 11,
     "metadata": {},
     "output_type": "execute_result"
    }
   ],
   "source": [
    "# Floating pt addition is not\n",
    "# always associative - use allclose\n",
    "pt.allclose(Y_x_perm, Y_x[perm])"
   ]
  },
  {
   "cell_type": "code",
   "execution_count": 13,
   "metadata": {},
   "outputs": [],
   "source": [
    "# Check if gradient works\n",
    "def sq_sum(y):\n",
    "    return pt.sum(pt.sum(y*y, dim=1))*0.5\n",
    "\n",
    "opt = pt.optim.SGD(net.parameters(), lr=0.01)\n",
    "y = net.forward(X)\n",
    "l = sq_sum(y)\n",
    "l.backward()"
   ]
  },
  {
   "cell_type": "code",
   "execution_count": 14,
   "metadata": {},
   "outputs": [],
   "source": [
    "net = Net(m, jList).double()\n",
    "out1 = net.subNet1(X)\n",
    "Y_x = net.forward(X) "
   ]
  },
  {
   "cell_type": "code",
   "execution_count": 15,
   "metadata": {},
   "outputs": [],
   "source": [
    "for i in range(N):\n",
    "    out1_i = out1[i].view(-1,3)\n",
    "    out2_i = pt.zeros(3).view(-1,3).double()\n",
    "    for j in jList:\n",
    "        in2 = pt.cat((out1_i, out1[j].view(-1,3)), dim=1)\n",
    "        out2_i += net.subNet2(in2)\n",
    "    \n",
    "    assert pt.allclose(Y_x[i], out2_i), i"
   ]
  },
  {
   "cell_type": "code",
   "execution_count": null,
   "metadata": {},
   "outputs": [],
   "source": []
  }
 ],
 "metadata": {
  "kernelspec": {
   "display_name": "Python 3",
   "language": "python",
   "name": "python3"
  },
  "language_info": {
   "codemirror_mode": {
    "name": "ipython",
    "version": 3
   },
   "file_extension": ".py",
   "mimetype": "text/x-python",
   "name": "python",
   "nbconvert_exporter": "python",
   "pygments_lexer": "ipython3",
   "version": "3.6.9"
  }
 },
 "nbformat": 4,
 "nbformat_minor": 4
}
