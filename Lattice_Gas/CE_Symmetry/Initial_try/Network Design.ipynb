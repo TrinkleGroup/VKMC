{
 "cells": [
  {
   "cell_type": "code",
   "execution_count": 1,
   "metadata": {},
   "outputs": [],
   "source": [
    "import torch as pt\n",
    "import torch.nn as nn\n",
    "import torch.nn.functional as F\n",
    "\n",
    "import numpy as np"
   ]
  },
  {
   "cell_type": "code",
   "execution_count": 14,
   "metadata": {},
   "outputs": [],
   "source": [
    "class Net(nn.Module):\n",
    "    \n",
    "    def __init__(self, m, jList):\n",
    "        \"\"\"\n",
    "        m : input dimensionality\n",
    "        \"\"\"\n",
    "        super().__init__()\n",
    "        \n",
    "        self.N1L1 = nn.Linear(m, 64)\n",
    "        self.N1L2 = nn.Linear(64, 64)\n",
    "        self.N1L3 = nn.Linear(64, 64)\n",
    "        self.N1L4 = nn.Linear(64, 3)\n",
    "        \n",
    "        self.N2L1 = nn.Linear(6, 64)\n",
    "        self.N2L2 = nn.Linear(64, 64)\n",
    "        self.N2L3 = nn.Linear(64, 64)\n",
    "        self.N2L4 = nn.Linear(64, 3)\n",
    "        \n",
    "        self.jList = jList\n",
    "    \n",
    "    def subNet1(self, inState):\n",
    "        out1 = F.leaky_relu(self.N1L1(inState))\n",
    "        out1 = F.leaky_relu(self.N1L2(out1))\n",
    "        out1 = F.leaky_relu(self.N1L3(out1))\n",
    "        return self.N1L4(out1)\n",
    "    \n",
    "    def subNet2(self, in2):\n",
    "        out2 = F.leaky_relu(self.N2L1(in2))\n",
    "        out2 = F.leaky_relu(self.N2L2(out2))\n",
    "        out2 = F.leaky_relu(self.N2L3(out2))\n",
    "        return self.N2L4(out2)\n",
    "    \n",
    "    def forward(self, inState):\n",
    "        \n",
    "        out1 = self.subNet1(inState)\n",
    "        \n",
    "        out2 = pt.zeros_like(out1)\n",
    "        \n",
    "        for j in self.jList:\n",
    "            # concatenate the q values for this site to all sites\n",
    "            # Self correlation allowed for now\n",
    "            in2 = pt.cat((out1, out1[j].repeat([out1.shape[0], 1])), dim = 1)\n",
    "            out2 += self.subNet2(in2)\n",
    "        \n",
    "        return out2"
   ]
  },
  {
   "cell_type": "code",
   "execution_count": null,
   "metadata": {},
   "outputs": [],
   "source": [
    "x = pt.rand(5,3)\n",
    "y = pt.rand(3)\n",
    "x,y"
   ]
  },
  {
   "cell_type": "code",
   "execution_count": null,
   "metadata": {},
   "outputs": [],
   "source": [
    "z = y.repeat([5,1])\n",
    "z"
   ]
  },
  {
   "cell_type": "code",
   "execution_count": null,
   "metadata": {},
   "outputs": [],
   "source": [
    "pt.cat((x,z), dim=1)"
   ]
  },
  {
   "cell_type": "code",
   "execution_count": 4,
   "metadata": {},
   "outputs": [
    {
     "data": {
      "text/plain": [
       "tensor([[0.7734, 0.1324, 0.5890, 0.2512],\n",
       "        [0.4313, 0.6103, 0.3311, 0.6348],\n",
       "        [0.5896, 0.4304, 0.7134, 0.6115],\n",
       "        [0.5376, 0.2732, 0.6855, 0.5245],\n",
       "        [0.8192, 0.6285, 0.3535, 0.2143],\n",
       "        [0.2955, 0.6404, 0.8958, 0.8796],\n",
       "        [0.8777, 0.1423, 0.9256, 0.0512]], dtype=torch.float64)"
      ]
     },
     "execution_count": 4,
     "metadata": {},
     "output_type": "execute_result"
    }
   ],
   "source": [
    "m = 4\n",
    "N = 7\n",
    "jList = [1,3,4]\n",
    "X = pt.rand((N, m)).double()\n",
    "X"
   ]
  },
  {
   "cell_type": "code",
   "execution_count": 15,
   "metadata": {},
   "outputs": [],
   "source": [
    "net = Net(m, jList).double()"
   ]
  },
  {
   "cell_type": "code",
   "execution_count": 17,
   "metadata": {},
   "outputs": [],
   "source": [
    "Y_x = net.forward(X)"
   ]
  },
  {
   "cell_type": "code",
   "execution_count": 22,
   "metadata": {},
   "outputs": [
    {
     "data": {
      "text/plain": [
       "tensor([2, 4, 5, 1, 3, 0, 6])"
      ]
     },
     "execution_count": 22,
     "metadata": {},
     "output_type": "execute_result"
    }
   ],
   "source": [
    "# simulate group op with random permutation\n",
    "# with constraint that sites in jList are permuted\n",
    "# amongst each other only\n",
    "perm = pt.randperm(Y_x.shape[0])\n",
    "perm[1] = 4\n",
    "perm[3] = 1\n",
    "perm[4] = 3\n",
    "while pt.unique(perm).shape[0] != Y_x.shape[0]:\n",
    "    perm = pt.randperm(Y_x.shape[0])\n",
    "    perm[1] = 4\n",
    "    perm[3] = 1\n",
    "    perm[4] = 3\n",
    "perm"
   ]
  },
  {
   "cell_type": "code",
   "execution_count": 27,
   "metadata": {},
   "outputs": [
    {
     "data": {
      "text/plain": [
       "tensor([[-0.3569, -0.4478,  0.0506],\n",
       "        [-0.3579, -0.4477,  0.0503],\n",
       "        [-0.3561, -0.4478,  0.0509],\n",
       "        [-0.3569, -0.4479,  0.0509],\n",
       "        [-0.3569, -0.4478,  0.0508],\n",
       "        [-0.3579, -0.4476,  0.0503],\n",
       "        [-0.3581, -0.4475,  0.0498]], dtype=torch.float64,\n",
       "       grad_fn=<AddBackward0>)"
      ]
     },
     "execution_count": 27,
     "metadata": {},
     "output_type": "execute_result"
    }
   ],
   "source": [
    "Y_x_perm = net.forward(X[perm])\n",
    "Y_x_perm"
   ]
  },
  {
   "cell_type": "code",
   "execution_count": 32,
   "metadata": {},
   "outputs": [
    {
     "data": {
      "text/plain": [
       "True"
      ]
     },
     "execution_count": 32,
     "metadata": {},
     "output_type": "execute_result"
    }
   ],
   "source": [
    "# Floating pt addition is not\n",
    "# always associative - use allclose\n",
    "pt.allclose(Y_x_perm, Y_x[perm])"
   ]
  },
  {
   "cell_type": "code",
   "execution_count": 31,
   "metadata": {},
   "outputs": [
    {
     "data": {
      "text/plain": [
       "tensor([[-0.3569, -0.4478,  0.0506],\n",
       "        [-0.3579, -0.4477,  0.0503],\n",
       "        [-0.3561, -0.4478,  0.0509],\n",
       "        [-0.3569, -0.4479,  0.0509],\n",
       "        [-0.3569, -0.4478,  0.0508],\n",
       "        [-0.3579, -0.4476,  0.0503],\n",
       "        [-0.3581, -0.4475,  0.0498]], dtype=torch.float64,\n",
       "       grad_fn=<IndexBackward>)"
      ]
     },
     "execution_count": 31,
     "metadata": {},
     "output_type": "execute_result"
    }
   ],
   "source": [
    "Y_x[perm]"
   ]
  },
  {
   "cell_type": "code",
   "execution_count": 42,
   "metadata": {},
   "outputs": [],
   "source": [
    "def sq_sum(y):\n",
    "    return pt.sum(pt.sum(y*y, dim=1))*0.5"
   ]
  },
  {
   "cell_type": "code",
   "execution_count": 44,
   "metadata": {},
   "outputs": [],
   "source": [
    "opt = pt.optim.SGD(net.parameters(), lr=0.01)\n",
    "y = net.forward(X)\n",
    "l = sq_sum(y)\n",
    "l.backward()"
   ]
  },
  {
   "cell_type": "code",
   "execution_count": null,
   "metadata": {},
   "outputs": [],
   "source": []
  }
 ],
 "metadata": {
  "kernelspec": {
   "display_name": "Python 3",
   "language": "python",
   "name": "python3"
  },
  "language_info": {
   "codemirror_mode": {
    "name": "ipython",
    "version": 3
   },
   "file_extension": ".py",
   "mimetype": "text/x-python",
   "name": "python",
   "nbconvert_exporter": "python",
   "pygments_lexer": "ipython3",
   "version": "3.6.9"
  }
 },
 "nbformat": 4,
 "nbformat_minor": 4
}
