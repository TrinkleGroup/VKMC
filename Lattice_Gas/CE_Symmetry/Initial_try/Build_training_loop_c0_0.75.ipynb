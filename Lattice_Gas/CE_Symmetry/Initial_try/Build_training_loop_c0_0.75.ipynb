{
 "cells": [
  {
   "cell_type": "code",
   "execution_count": 1,
   "metadata": {},
   "outputs": [],
   "source": [
    "import sys\n",
    "sys.path.append(\"../../../\")"
   ]
  },
  {
   "cell_type": "code",
   "execution_count": 2,
   "metadata": {},
   "outputs": [
    {
     "name": "stderr",
     "output_type": "stream",
     "text": [
      "/home/soham/.local/lib/python3.6/site-packages/numba/core/errors.py:144: UserWarning: Insufficiently recent colorama version found. Numba requires colorama >= 0.3.9\n",
      "  warnings.warn(msg)\n",
      "/usr/local/lib/python3.6/dist-packages/onsager-1.3.3.1-py3.6.egg/onsager/cluster.py:804: NumbaDeprecationWarning: The 'numba.jitclass' decorator has moved to 'numba.experimental.jitclass' to better reflect the experimental nature of the functionality. Please update your imports to accommodate this change and see http://numba.pydata.org/numba-doc/latest/reference/deprecation.html#change-of-jitclass-location for the time frame.\n"
     ]
    }
   ],
   "source": [
    "from onsager import crystal, supercell, cluster\n",
    "import numpy as np\n",
    "import scipy as sp\n",
    "import itertools\n",
    "import Transitions\n",
    "import Cluster_Expansion\n",
    "import MC_JIT\n",
    "import time\n",
    "from tqdm import tqdm\n",
    "from numba import jit, int64, float64"
   ]
  },
  {
   "cell_type": "code",
   "execution_count": 3,
   "metadata": {},
   "outputs": [],
   "source": [
    "# Import ML modules here"
   ]
  },
  {
   "cell_type": "code",
   "execution_count": 4,
   "metadata": {},
   "outputs": [],
   "source": [
    "# Set up the neural network here "
   ]
  },
  {
   "cell_type": "markdown",
   "metadata": {},
   "source": [
    "## Set up the vector cluster expander"
   ]
  },
  {
   "cell_type": "code",
   "execution_count": 3,
   "metadata": {},
   "outputs": [
    {
     "name": "stdout",
     "output_type": "stream",
     "text": [
      "Pre-created Cluster expander found\n"
     ]
    }
   ],
   "source": [
    "import pickle\n",
    "\n",
    "# See if a cluster expander already exists\n",
    "try:\n",
    "    with open(\"ClusterExpander.pkl\", \"rb\") as fl:\n",
    "        print(\"Pre-created Cluster expander found\")\n",
    "        VclusExp = pickle.load(fl)\n",
    "\n",
    "# Otherwise make one\n",
    "except:\n",
    "    N_units = 8 # No. of unit cells along each axis in the supercell\n",
    "    NSpec = 3\n",
    "    MaxOrder = 3\n",
    "    MaxOrderTrans = 3\n",
    "\n",
    "    a0 = 1.0\n",
    "    cut = 1.01*a0*np.sqrt(3)/2  # Nearest neighbor cutoff\n",
    "\n",
    "    crys = crystal.Crystal.BCC(a0, chemistry=\"A\")\n",
    "    jnetBCC = crys.jumpnetwork(0, cut)\n",
    "\n",
    "    superlatt = N_units * np.eye(3, dtype=int)\n",
    "    superBCC = supercell.ClusterSupercell(crys, superlatt)\n",
    "    # Since the \"spectator\" tuple in the argument is left empty, all\n",
    "    # sites of chemistry 0 will be mobile sites.\n",
    "\n",
    "    vacsite = cluster.ClusterSite((0, 0), np.zeros(3, dtype=int))\n",
    "    vacsiteInd = superBCC.index(np.zeros(3, dtype=int), (0, 0))[0]\n",
    "    assert vacsiteInd == 0\n",
    "\n",
    "    clusexp = cluster.makeclusters(crys, 1.01*a0, MaxOrder)  # Search for 2-body nn clusters\n",
    "    Tclusexp = cluster.makeclusters(crys, 1.01*a0, MaxOrderTrans)\n",
    "\n",
    "    VclusExp = Cluster_Expansion.VectorClusterExpansion(superBCC, clusexp, Tclusexp, jnetBCC,\n",
    "                                                             NSpec, 1, vacsite, MaxOrder,\n",
    "                                                             MaxOrderTrans)\n",
    "\n",
    "    print(\"Done setting up\")\n",
    "    \n",
    "    # save it for later\n",
    "    with open(\"ClusterExpander.pkl\", \"wb\") as fl:\n",
    "        pickle.dump(VclusExp, fl)"
   ]
  },
  {
   "cell_type": "markdown",
   "metadata": {},
   "source": [
    "## Set up the JIT classes for MC and KMC"
   ]
  },
  {
   "cell_type": "code",
   "execution_count": 5,
   "metadata": {},
   "outputs": [
    {
     "name": "stdout",
     "output_type": "stream",
     "text": [
      "Done Indexing interactions : 0.7331323623657227\n",
      "Done with chemical and symmetry class data for interactions : 0.5700802803039551\n",
      "Done with vector and energy data for interactions : 1.1408350467681885\n"
     ]
    }
   ],
   "source": [
    "# First, we have to generate all the arrays\n",
    "# Lattice gas - set all energies to zero\n",
    "Energies = np.zeros(len(VclusExp.SpecClusters))\n",
    "KRAEnergies = [np.zeros(len(val)) for (key, val) in VclusExp.KRAexpander.clusterSpeciesJumps.items()]\n",
    "\n",
    "numSitesInteracts, SupSitesInteracts, SpecOnInteractSites, Interaction2En, numVecsInteracts,\\\n",
    "VecsInteracts, VecGroupInteracts, numInteractsSiteSpec, SiteSpecInterArray, vacSiteInd,\\\n",
    "InteractionIndexDict, InteractionRepClusDict, Index2InteractionDict, repClustCounter,\\\n",
    "Interact2RepClusArray, Interact2SymClassArray\\\n",
    "= VclusExp.makeJitInteractionsData(Energies)\n",
    "\n",
    "TsInteractIndexDict, Index2TSinteractDict, numSitesTSInteracts, TSInteractSites, TSInteractSpecs, \\\n",
    "jumpFinSites, jumpFinSpec, FinSiteFinSpecJumpInd, numJumpPointGroups, numTSInteractsInPtGroups, \\\n",
    "JumpInteracts, Jump2KRAEng =\\\n",
    "    VclusExp.KRAexpander.makeTransJitData(KRAEnergies)"
   ]
  },
  {
   "cell_type": "code",
   "execution_count": 7,
   "metadata": {},
   "outputs": [],
   "source": [
    "# Make the MC class to sample initial states\n",
    "N_units=8\n",
    "MCJit = MC_JIT.MCSamplerClass(\n",
    "    numSitesInteracts, SupSitesInteracts, SpecOnInteractSites, Interaction2En, Interact2RepClusArray,\n",
    "    Interact2SymClassArray, numVecsInteracts, VecsInteracts, VecGroupInteracts, numInteractsSiteSpec,\n",
    "    SiteSpecInterArray, numSitesTSInteracts, TSInteractSites, TSInteractSpecs, jumpFinSites, jumpFinSpec,\n",
    "    FinSiteFinSpecJumpInd, numJumpPointGroups, numTSInteractsInPtGroups, JumpInteracts, Jump2KRAEng\n",
    ")\n",
    "# Make the KMC class to generate trajectories\n",
    "siteIndtoR, RtoSiteInd = VclusExp.makeSiteIndToSite()\n",
    "KMCJit = MC_JIT.KMC_JIT(numSitesInteracts, SupSitesInteracts, SpecOnInteractSites, Interaction2En,\n",
    "                        Interact2RepClusArray, Interact2SymClassArray, numVecsInteracts, VecsInteracts,\n",
    "                        VecGroupInteracts, numInteractsSiteSpec, SiteSpecInterArray, numSitesTSInteracts,\n",
    "                        TSInteractSites, TSInteractSpecs, jumpFinSites, jumpFinSpec, FinSiteFinSpecJumpInd,\n",
    "                        numJumpPointGroups, numTSInteractsInPtGroups, JumpInteracts, Jump2KRAEng,\n",
    "                        siteIndtoR, RtoSiteInd, N_units)"
   ]
  },
  {
   "cell_type": "markdown",
   "metadata": {},
   "source": [
    "## Set up an initial state"
   ]
  },
  {
   "cell_type": "code",
   "execution_count": 10,
   "metadata": {},
   "outputs": [
    {
     "name": "stdout",
     "output_type": "stream",
     "text": [
      "N0:383, N1:128, Nvac:1\n"
     ]
    }
   ],
   "source": [
    "NSpec = 3\n",
    "state = np.zeros(VclusExp.Nsites, dtype=int)\n",
    "c0 = 0.75\n",
    "N0 = int(c0*VclusExp.Nsites)\n",
    "for i in range(N0):\n",
    "    state[i] = 0\n",
    "for i in range(N0, VclusExp.Nsites):\n",
    "    state[i] = 1\n",
    "\n",
    "# permute it\n",
    "state = np.random.permutation(state)\n",
    "# put the vacancy at the origin\n",
    "state[vacSiteInd] = NSpec - 1\n",
    "specs, counts = np.unique(state, return_counts=True)\n",
    "print(\"N0:{}, N1:{}, Nvac:{}\".format(counts[0], counts[1], counts[2]))"
   ]
  },
  {
   "cell_type": "code",
   "execution_count": 11,
   "metadata": {},
   "outputs": [],
   "source": [
    "# Make the initial state of the trajectory\n",
    "stateInit = state.copy()\n",
    "offscInit = MC_JIT.GetOffSite(stateInit, MCJit.numSitesInteracts,\n",
    "                          MCJit.SupSitesInteracts, MCJit.SpecOnInteractSites)\n",
    "\n",
    "# Get the site and total cluster symmetry information\n",
    "statePrintInit, StateTotalSymInit = VclusExp.GetStateSymInfo(stateInit)"
   ]
  },
  {
   "cell_type": "code",
   "execution_count": 12,
   "metadata": {},
   "outputs": [
    {
     "data": {
      "text/plain": [
       "(array([  1,   7, 511,  73,   8,  56,  64, 448]),\n",
       " array([[ 0.5,  0.5, -0.5],\n",
       "        [-0.5, -0.5,  0.5],\n",
       "        [-0.5, -0.5, -0.5],\n",
       "        [ 0.5,  0.5,  0.5],\n",
       "        [ 0.5, -0.5,  0.5],\n",
       "        [-0.5,  0.5, -0.5],\n",
       "        [-0.5,  0.5,  0.5],\n",
       "        [ 0.5, -0.5, -0.5]]))"
      ]
     },
     "execution_count": 12,
     "metadata": {},
     "output_type": "execute_result"
    }
   ],
   "source": [
    "# Get the jump site lists\n",
    "jList, dxList = VclusExp.KRAexpander.ijList, VclusExp.KRAexpander.dxList\n",
    "jList, dxList"
   ]
  },
  {
   "cell_type": "code",
   "execution_count": null,
   "metadata": {
    "scrolled": false
   },
   "outputs": [],
   "source": [
    "# Make the training loop here\n",
    "Ntraj = 0\n",
    "Nsteps = 1\n",
    "Spec = 1 # Species whose diff we are interested in\n",
    "NswapTrials = 0\n",
    "swapTrials = np.zeros((initSites.shape[0], 2))\n",
    "\n",
    "# Copy the initial state information\n",
    "offscNext = offscInit.copy()\n",
    "stateNext = stateInit.copy()\n",
    "siteSymCountsNext = siteSymCountsInit.copy()\n",
    "symCountsTotalNext = SymCountsTotalInit.copy()\n",
    "\n",
    "# Set vacancy exchange rates\n",
    "SpecRates = np.array([0.001, 1.])\n",
    "\n",
    "# Set up ML hyperparameters here\n",
    "\n",
    "for traj in range(Ntraj):\n",
    "        \n",
    "    # Inputs for first state\n",
    "    in1 = siteSymCountsNext.copy()\n",
    "    sym1 = SymCountsTotalNext.copy()\n",
    "    \n",
    "    # Extract vector information for state 1 to compute y1\n",
    "    \n",
    "    \n",
    "    # ...\n",
    "    \n",
    "    # Compute y1\n",
    "    # ...\n",
    "    \n",
    "    \n",
    "    X_steps, t_steps, jmpSelectSteps, jmpFinSiteList = KMCJit.LatGasTraj(stateNext, siteSymCountsNext, \n",
    "                                                                         symCountsTotalNext, offscNext, \n",
    "                                                                         SpecRates, Nsteps, ijList,\n",
    "                                                                         dxList, vacSiteInd)\n",
    "\n",
    "    # Translate the final state to bring the vacancy back to the origin\n",
    "    in2 = siteSymCountsNext.copy()\n",
    "    sym2 = symCountsTotalNext.copy()\n",
    "    \n",
    "    # Extract vector information for state2 to compute y2\n",
    "    # ...\n",
    "    # Compute y2\n",
    "    # ...\n",
    "    \n",
    "    # Compute delY, loss and back-propagate\n",
    "    \n",
    "    ## Set up the next iteration\n",
    "    # We have a lattice gas, so all states have equal probability\n",
    "    # Generate initial state for the next run by randomly permuting stateNext (since offscNext can be\n",
    "    # easily updated)\n",
    "    \n",
    "    # First, translate stateNext so that the vacancy is at vacSiteInd\n",
    "    \n",
    "    # Get where the vacancy is now in stateNext\n",
    "    vacSiteNow = np.where(stateNext == NSpec-1)[0][0]\n",
    "    # if single step, assert that this is a jump site\n",
    "    # if Nsteps == 1:\n",
    "        # assert vacSiteNow in ijList\n",
    "        # assert vacSiteNow == ijList[jmpSelectSteps[0]]\n",
    "    \n",
    "    stateNext = KMCJit.TranslateState(stateNext, vacSiteInd, vacSiteNow, siteSymCountsNext)\n",
    "    assert stateNext[vacSiteInd] == NSpec - 1\n",
    "    \n",
    "    # Gather the random swaps\n",
    "    stateSwap = stateNext.copy()\n",
    "    initSites, finSites = MC_JIT.DoRandSwap(stateSwap, NswapTrials, vacSiteInd)\n",
    "    \n",
    "    # Now also concatenate the permutation of jump site occupancies\n",
    "    initSites = np.concatenate((initSites, jList))\n",
    "    finSites = np.concatenate((finSites, np.random.permuation(jList)))\n",
    "    \n",
    "    swapTrials[:, 0] = initSites\n",
    "    swpaTrials[:, 1] = finSites\n",
    "    \n",
    "    # Now update stateNext for the next trajectory\n",
    "    MCJit.GetNewRandState(stateNext, offScNext, siteSymCountsNext, symCountsTotalNext,\n",
    "                          swapTrials, 0.0)"
   ]
  },
  {
   "cell_type": "code",
   "execution_count": 23,
   "metadata": {},
   "outputs": [
    {
     "data": {
      "text/plain": [
       "173"
      ]
     },
     "execution_count": 23,
     "metadata": {},
     "output_type": "execute_result"
    }
   ],
   "source": [
    "MCJit.numInteractsSiteSpec[0, 2]"
   ]
  },
  {
   "cell_type": "code",
   "execution_count": 38,
   "metadata": {},
   "outputs": [],
   "source": [
    "nums = set()\n",
    "for site in range(VclusExp.Nsites):\n",
    "    for spec in range(NSpec):\n",
    "        nums.add((MCJit.numInteractsSiteSpec[site, spec], spec))"
   ]
  },
  {
   "cell_type": "code",
   "execution_count": 39,
   "metadata": {},
   "outputs": [
    {
     "data": {
      "text/plain": [
       "{(173, 2), (331, 0), (331, 1)}"
      ]
     },
     "execution_count": 39,
     "metadata": {},
     "output_type": "execute_result"
    }
   ],
   "source": [
    "nums"
   ]
  },
  {
   "cell_type": "code",
   "execution_count": null,
   "metadata": {},
   "outputs": [],
   "source": []
  }
 ],
 "metadata": {
  "kernelspec": {
   "display_name": "Python 3",
   "language": "python",
   "name": "python3"
  },
  "language_info": {
   "codemirror_mode": {
    "name": "ipython",
    "version": 3
   },
   "file_extension": ".py",
   "mimetype": "text/x-python",
   "name": "python",
   "nbconvert_exporter": "python",
   "pygments_lexer": "ipython3",
   "version": "3.6.9"
  }
 },
 "nbformat": 4,
 "nbformat_minor": 4
}
