{
 "cells": [
  {
   "cell_type": "code",
   "execution_count": 2,
   "metadata": {},
   "outputs": [],
   "source": [
    "import sys\n",
    "sys.path.append(\"../../../\")"
   ]
  },
  {
   "cell_type": "code",
   "execution_count": 3,
   "metadata": {},
   "outputs": [],
   "source": [
    "from onsager import crystal, supercell, cluster\n",
    "import numpy as np\n",
    "import scipy as sp\n",
    "import itertools\n",
    "import Transitions\n",
    "import Cluster_Expansion\n",
    "import MC_JIT\n",
    "import time\n",
    "from tqdm import tqdm\n",
    "from numba import jit, int64, float64"
   ]
  },
  {
   "cell_type": "markdown",
   "metadata": {},
   "source": [
    "## Set up the vector cluster expander"
   ]
  },
  {
   "cell_type": "code",
   "execution_count": 19,
   "metadata": {},
   "outputs": [
    {
     "name": "stdout",
     "output_type": "stream",
     "text": [
      "Generated clusters with species: 0.4390\n",
      "Generated vector basis data 0.9689\n",
      "Generated Indexing data 0.1643\n",
      "Generated Interaction data 74.3339\n",
      "Done setting up\n"
     ]
    }
   ],
   "source": [
    "import pickle\n",
    "\n",
    "# See if a cluster expander already exists\n",
    "try:\n",
    "    with open(\"ClusterExpander.pkl\", \"rb\") as fl:\n",
    "        print(\"Pre-created Cluster expander found\")\n",
    "        VclusExp = pickle.load(fl)\n",
    "\n",
    "# Otherwise make one\n",
    "except:\n",
    "    N_units = 8 # No. of unit cells along each axis in the supercell\n",
    "    NSpec = 5\n",
    "    MaxOrder = 3\n",
    "    MaxOrderTrans = 3\n",
    "\n",
    "    a0 = 1.0\n",
    "    cut = 1.01*a0*np.sqrt(3)/2  # Nearest neighbor cutoff\n",
    "\n",
    "    crys = crystal.Crystal.BCC(a0, chemistry=\"A\")\n",
    "    jnetBCC = crys.jumpnetwork(0, cut)\n",
    "\n",
    "    superlatt = N_units * np.eye(3, dtype=int)\n",
    "    superBCC = supercell.ClusterSupercell(crys, superlatt)\n",
    "    # Since the \"spectator\" tuple in the argument is left empty, all\n",
    "    # sites of chemistry 0 will be mobile sites.\n",
    "\n",
    "    vacsite = cluster.ClusterSite((0, 0), np.zeros(3, dtype=int))\n",
    "    vacsiteInd = superBCC.index(np.zeros(3, dtype=int), (0, 0))[0]\n",
    "    assert vacsiteInd == 0\n",
    "\n",
    "    clusexp = cluster.makeclusters(crys, 1.01*a0, MaxOrder)\n",
    "    Tclusexp = cluster.makeclusters(crys, 1.01*a0, MaxOrderTrans)\n",
    "\n",
    "    VclusExp = Cluster_Expansion.VectorClusterExpansion(superBCC, clusexp, Tclusexp, jnetBCC,\n",
    "                                                             NSpec, vacsite, MaxOrder,\n",
    "                                                             MaxOrderTrans, NoTrans=False)\n",
    "\n",
    "    print(\"Done setting up\")\n",
    "    \n",
    "    # save it for later\n",
    "    with open(\"ClusterExpander.pkl\", \"wb\") as fl:\n",
    "        pickle.dump(VclusExp, fl)"
   ]
  },
  {
   "cell_type": "code",
   "execution_count": 20,
   "metadata": {},
   "outputs": [
    {
     "data": {
      "text/plain": [
       "132"
      ]
     },
     "execution_count": 20,
     "metadata": {},
     "output_type": "execute_result"
    }
   ],
   "source": [
    "len(VclusExp.vecClus)"
   ]
  },
  {
   "cell_type": "code",
   "execution_count": 6,
   "metadata": {},
   "outputs": [
    {
     "name": "stdout",
     "output_type": "stream",
     "text": [
      "Done Indexing interactions : 0.8431355953216553\n",
      "Done with chemical and symmetry class data for interactions : 0.6313838958740234\n",
      "Done with vector and energy data for interactions : 1.081432819366455\n"
     ]
    }
   ],
   "source": [
    "# First, we have to generate all the arrays\n",
    "# Lattice gas - set all energies to zero\n",
    "Energies = np.zeros(len(VclusExp.SpecClusters))\n",
    "KRAEnergies = [np.zeros(len(val)) for (key, val) in VclusExp.KRAexpander.clusterSpeciesJumps.items()]\n",
    "\n",
    "numSitesInteracts, SupSitesInteracts, SpecOnInteractSites, Interaction2En, numVecsInteracts,\\\n",
    "VecsInteracts, VecGroupInteracts, numInteractsSiteSpec, SiteSpecInterArray, vacSiteInd,\\\n",
    "InteractionIndexDict, InteractionRepClusDict, Index2InteractionDict, repClustCounter,\\\n",
    "Interact2RepClusArray, Interact2SymClassArray\\\n",
    "= VclusExp.makeJitInteractionsData(Energies)\n",
    "\n",
    "TsInteractIndexDict, Index2TSinteractDict, numSitesTSInteracts, TSInteractSites, TSInteractSpecs, \\\n",
    "jumpFinSites, jumpFinSpec, FinSiteFinSpecJumpInd, numJumpPointGroups, numTSInteractsInPtGroups, \\\n",
    "JumpInteracts, Jump2KRAEng =\\\n",
    "    VclusExp.KRAexpander.makeTransJitData(KRAEnergies)"
   ]
  },
  {
   "cell_type": "code",
   "execution_count": 7,
   "metadata": {},
   "outputs": [],
   "source": [
    "# Make the MC class\n",
    "N_units=8\n",
    "MCJit = MC_JIT.MCSamplerClass(\n",
    "    numSitesInteracts, SupSitesInteracts, SpecOnInteractSites, Interaction2En, Interact2RepClusArray,\n",
    "    Interact2SymClassArray, numVecsInteracts, VecsInteracts, VecGroupInteracts, numInteractsSiteSpec,\n",
    "    SiteSpecInterArray, numSitesTSInteracts, TSInteractSites, TSInteractSpecs, jumpFinSites, jumpFinSpec,\n",
    "    FinSiteFinSpecJumpInd, numJumpPointGroups, numTSInteractsInPtGroups, JumpInteracts, Jump2KRAEng\n",
    ")\n",
    "# Make the KMC class to generate trajectories\n",
    "siteIndtoR, RtoSiteInd = VclusExp.makeSiteIndToSite()\n",
    "KMCJit = MC_JIT.KMC_JIT(numSitesInteracts, SupSitesInteracts, SpecOnInteractSites, Interaction2En,\n",
    "                        Interact2RepClusArray, Interact2SymClassArray, numVecsInteracts, VecsInteracts,\n",
    "                        VecGroupInteracts, numInteractsSiteSpec, SiteSpecInterArray, numSitesTSInteracts,\n",
    "                        TSInteractSites, TSInteractSpecs, jumpFinSites, jumpFinSpec, FinSiteFinSpecJumpInd,\n",
    "                        numJumpPointGroups, numTSInteractsInPtGroups, JumpInteracts, Jump2KRAEng,\n",
    "                        siteIndtoR, RtoSiteInd, N_units)"
   ]
  },
  {
   "cell_type": "code",
   "execution_count": 8,
   "metadata": {},
   "outputs": [
    {
     "name": "stdout",
     "output_type": "stream",
     "text": [
      "N0:383, N1:128, Nvac:1\n"
     ]
    }
   ],
   "source": [
    "# Set up a random binary alloy\n",
    "NSpec = 3\n",
    "state = np.zeros(VclusExp.Nsites, dtype=int)\n",
    "c0 = 0.75\n",
    "N0 = int(c0*VclusExp.Nsites)\n",
    "for i in range(N0):\n",
    "    state[i] = 0\n",
    "for i in range(N0, VclusExp.Nsites):\n",
    "    state[i] = 1\n",
    "\n",
    "# permute it\n",
    "state = np.random.permutation(state)\n",
    "# put the vacancy at the origin\n",
    "state[vacSiteInd] = NSpec - 1\n",
    "specs, counts = np.unique(state, return_counts=True)\n",
    "print(\"N0:{}, N1:{}, Nvac:{}\".format(counts[0], counts[1], counts[2]))"
   ]
  },
  {
   "cell_type": "code",
   "execution_count": 9,
   "metadata": {},
   "outputs": [],
   "source": [
    "jList, dxList = VclusExp.KRAexpander.ijList, VclusExp.KRAexpander.dxList"
   ]
  },
  {
   "cell_type": "code",
   "execution_count": 10,
   "metadata": {},
   "outputs": [],
   "source": [
    "# expand\n",
    "specRates = np.array([0.001, 1.0])\n",
    "NVclus = len(VclusExp.vecVec)\n",
    "offsc = MC_JIT.GetOffSite(state, numSitesInteracts, SupSitesInteracts, SpecOnInteractSites)"
   ]
  },
  {
   "cell_type": "code",
   "execution_count": 11,
   "metadata": {},
   "outputs": [
    {
     "data": {
      "text/plain": [
       "144384"
      ]
     },
     "execution_count": 11,
     "metadata": {},
     "output_type": "execute_result"
    }
   ],
   "source": [
    "# Let's make the NoTrans vector cluster arrays\n",
    "len(VclusExp.Interact2VecInteract)"
   ]
  },
  {
   "cell_type": "code",
   "execution_count": 12,
   "metadata": {},
   "outputs": [],
   "source": [
    "lens=[]\n",
    "for interact in InteractionIndexDict.keys():\n",
    "    try:\n",
    "        lens.append(len(VclusExp.Interact2VecInteract[interact]))\n",
    "    except:\n",
    "        repClust = InteractionRepClusDict[interact]\n",
    "        assert VclusExp.clus2LenVecClus[VclusExp.clust2SpecClus[repClust][0]] == 0"
   ]
  },
  {
   "cell_type": "code",
   "execution_count": 13,
   "metadata": {},
   "outputs": [
    {
     "data": {
      "text/plain": [
       "144384"
      ]
     },
     "execution_count": 13,
     "metadata": {},
     "output_type": "execute_result"
    }
   ],
   "source": [
    "len(lens)"
   ]
  },
  {
   "cell_type": "code",
   "execution_count": 14,
   "metadata": {},
   "outputs": [
    {
     "data": {
      "text/plain": [
       "(5676, 5676)"
      ]
     },
     "execution_count": 14,
     "metadata": {},
     "output_type": "execute_result"
    }
   ],
   "source": [
    "len(VclusExp.InteractVecInteracts), len(VclusExp.InteractVecVecs)"
   ]
  },
  {
   "cell_type": "code",
   "execution_count": 15,
   "metadata": {},
   "outputs": [],
   "source": [
    "numInteracts = len(InteractionIndexDict)\n",
    "VecsInteracts = np.zeros((numInteracts, 3, 3))\n",
    "VecGroupInteracts = np.full((numInteracts, 3), -1, dtype=int)"
   ]
  },
  {
   "cell_type": "code",
   "execution_count": 16,
   "metadata": {},
   "outputs": [],
   "source": [
    "for interaction, repClus in InteractionRepClusDict.items():\n",
    "    idx = InteractionIndexDict[interaction]\n",
    "    # get the vector basis data here\n",
    "    # if vector basis is empty, keep no of elements to -1.\n",
    "    if VclusExp.clus2LenVecClus[VclusExp.clust2SpecClus[repClus][0]] == 0:\n",
    "        continue\n",
    "    vecList = VclusExp.clust2vecClus[repClus]\n",
    "    vecList2 = VclusExp.Interact2VecInteract[interaction]\n",
    "    \n",
    "    vecsRepclust = [VclusExp.vecVec[i][j] for (i, j) in vecList]\n",
    "    vecsInt = [VclusExp.InteractVecVecs[i][j] for (i, j) in vecList2]\n",
    "    \n",
    "    assert np.allclose(np.array(vecsRepclust), np.array(vecsInt))\n",
    "    \n",
    "    assert len(vecList) == MCJit.numVecsInteracts[idx]\n",
    "    \n",
    "    # store the vector\n",
    "    for vecidx, tup in enumerate(vecList2):\n",
    "        VecsInteracts[idx, vecidx, :] = VclusExp.InteractVecVecs[tup[0]][tup[1]].copy()\n",
    "        VecGroupInteracts[idx, vecidx] = tup[0]"
   ]
  },
  {
   "cell_type": "code",
   "execution_count": 17,
   "metadata": {},
   "outputs": [
    {
     "name": "stdout",
     "output_type": "stream",
     "text": [
      "6 s ± 36.1 ms per loop (mean ± std. dev. of 7 runs, 1 loop each)\n"
     ]
    }
   ],
   "source": [
    "%%timeit\n",
    "NVClusNoTrans = len(VclusExp.InteractVecVecs)\n",
    "WBar, BBar = MCJit.ExpandLatGasNoTrans(state, jList, \n",
    "                                       dxList, offsc, \n",
    "                                       specRates, NVClusNoTrans,\n",
    "                                       VecGroupInteracts,\n",
    "                                       VecsInteracts,\n",
    "                                       vacSiteInd)"
   ]
  },
  {
   "cell_type": "code",
   "execution_count": null,
   "metadata": {},
   "outputs": [],
   "source": []
  }
 ],
 "metadata": {
  "kernelspec": {
   "display_name": "Python 3",
   "language": "python",
   "name": "python3"
  },
  "language_info": {
   "codemirror_mode": {
    "name": "ipython",
    "version": 3
   },
   "file_extension": ".py",
   "mimetype": "text/x-python",
   "name": "python",
   "nbconvert_exporter": "python",
   "pygments_lexer": "ipython3",
   "version": "3.6.9"
  }
 },
 "nbformat": 4,
 "nbformat_minor": 4
}
