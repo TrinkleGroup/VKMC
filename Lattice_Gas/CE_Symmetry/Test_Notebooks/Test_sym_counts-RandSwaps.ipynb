{
 "cells": [
  {
   "cell_type": "code",
   "execution_count": 1,
   "metadata": {},
   "outputs": [],
   "source": [
    "import sys\n",
    "sys.path.append(\"../../../\")"
   ]
  },
  {
   "cell_type": "code",
   "execution_count": 2,
   "metadata": {},
   "outputs": [],
   "source": [
    "from onsager import crystal, supercell, cluster\n",
    "import numpy as np\n",
    "import scipy as sp\n",
    "import itertools\n",
    "import Transitions\n",
    "import Cluster_Expansion\n",
    "import MC_JIT\n",
    "import time\n",
    "from tqdm import tqdm\n",
    "from numba import jit, int64, float64"
   ]
  },
  {
   "cell_type": "code",
   "execution_count": 3,
   "metadata": {},
   "outputs": [],
   "source": [
    "# Function to get symmtery info by full cluster translation\n",
    "def ClusterSymmInfo(state, VclusExp, Nsym):\n",
    "    \n",
    "    allSpCl = [spcl for clList in VclusExp.SpecClusters for spcl in clList]\n",
    "    symCountsTotal = np.zeros(Nsym, dtype=int)\n",
    "    symCountSites = np.zeros((VclusExp.Nsites, Nsym), dtype=int)\n",
    "\n",
    "    for siteInd in range(VclusExp.Nsites):\n",
    "        ci, R = VclusExp.sup.ciR(siteInd)\n",
    "\n",
    "        # Now translate the clusters about with this translation\n",
    "        for spcl in allSpCl:\n",
    "            offcount = 0 # count if the cluster is on for this translation\n",
    "            for (site, spec) in spcl.SiteSpecs:\n",
    "                siteNew = VclusExp.sup.index(site.R + R, site.ci)\n",
    "                if state[siteNew] != spec:\n",
    "                    offcount += 1\n",
    "\n",
    "            if offcount == 0:\n",
    "                # get the symmetry class\n",
    "                symclass = VclusExp.clust2SpecClus[spcl][0] \n",
    "                # 0th element - symmetry class\n",
    "                # 1st element - index into the symmetry class's list\n",
    "\n",
    "                # Increment On count for symmetry class\n",
    "                symCountsTotal[symclass] += 1\n",
    "\n",
    "                # Increment symmetry count for each site\n",
    "                for (site, spec) in spcl.SiteSpecs:\n",
    "                    SupSite = VclusExp.sup.index(site.R + R, site.ci)[0]\n",
    "                    symCountSites[SupSite, symclass] +=1\n",
    "    \n",
    "    return symCountsTotal, symCountSites"
   ]
  },
  {
   "cell_type": "markdown",
   "metadata": {},
   "source": [
    "## Set up the vector cluster expander"
   ]
  },
  {
   "cell_type": "code",
   "execution_count": 4,
   "metadata": {},
   "outputs": [
    {
     "name": "stdout",
     "output_type": "stream",
     "text": [
      "Pre-created Cluster expander found\n"
     ]
    }
   ],
   "source": [
    "import pickle\n",
    "\n",
    "# See if a cluster expander already exists\n",
    "try:\n",
    "    with open(\"ClusterExpander.pkl\", \"rb\") as fl:\n",
    "        print(\"Pre-created Cluster expander found\")\n",
    "        VclusExp = pickle.load(fl)\n",
    "\n",
    "# Otherwise make one\n",
    "except:\n",
    "    N_units = 8 # No. of unit cells along each axis in the supercell\n",
    "    NSpec = 3\n",
    "    MaxOrder = 3\n",
    "    MaxOrderTrans = 3\n",
    "\n",
    "    a0 = 1.0\n",
    "    cut = 1.01*a0*np.sqrt(3)/2  # Nearest neighbor cutoff\n",
    "\n",
    "    crys = crystal.Crystal.BCC(a0, chemistry=\"A\")\n",
    "    jnetBCC = crys.jumpnetwork(0, cut)\n",
    "\n",
    "    superlatt = N_units * np.eye(3, dtype=int)\n",
    "    superBCC = supercell.ClusterSupercell(crys, superlatt)\n",
    "    # Since the \"spectator\" tuple in the argument is left empty, all\n",
    "    # sites of chemistry 0 will be mobile sites.\n",
    "\n",
    "    vacsite = cluster.ClusterSite((0, 0), np.zeros(3, dtype=int))\n",
    "    vacsiteInd = superBCC.index(np.zeros(3, dtype=int), (0, 0))[0]\n",
    "    assert vacsiteInd == 0\n",
    "\n",
    "    clusexp = cluster.makeclusters(crys, 1.01*a0, MaxOrder)  # Search for 2-body nn clusters\n",
    "    Tclusexp = cluster.makeclusters(crys, 1.01*a0, MaxOrderTrans)\n",
    "\n",
    "    VclusExp = Cluster_Expansion.VectorClusterExpansion(superBCC, clusexp, Tclusexp, jnetBCC,\n",
    "                                                             NSpec, vacsite, MaxOrder,\n",
    "                                                             MaxOrderTrans)\n",
    "\n",
    "    print(\"Done setting up\")\n",
    "    \n",
    "    # save it for later\n",
    "    with open(\"ClusterExpander.pkl\", \"wb\") as fl:\n",
    "        pickle.dump(VclusExp, fl)"
   ]
  },
  {
   "cell_type": "markdown",
   "metadata": {},
   "source": [
    "## Set up the JIT classes for MC and KMC"
   ]
  },
  {
   "cell_type": "code",
   "execution_count": 5,
   "metadata": {},
   "outputs": [
    {
     "name": "stdout",
     "output_type": "stream",
     "text": [
      "Done Indexing interactions : 0.685859203338623\n",
      "Done with chemical and symmetry class data for interactions : 0.5251574516296387\n",
      "Done with vector and energy data for interactions : 0.9310939311981201\n"
     ]
    }
   ],
   "source": [
    "# First, we have to generate all the arrays\n",
    "# Lattice gas - set all energies to zero\n",
    "Nsym = len(VclusExp.SpecClusters)\n",
    "Energies = np.zeros(Nsym)\n",
    "KRAEnergies = [np.zeros(len(val)) for (key, val) in VclusExp.KRAexpander.clusterSpeciesJumps.items()]\n",
    "\n",
    "numSitesInteracts, SupSitesInteracts, SpecOnInteractSites, Interaction2En, numVecsInteracts,\\\n",
    "VecsInteracts, VecGroupInteracts, numInteractsSiteSpec, SiteSpecInterArray, vacSiteInd,\\\n",
    "InteractionIndexDict, InteractionRepClusDict, Index2InteractionDict, repClustCounter,\\\n",
    "Interact2RepClusArray, Interact2SymClassArray\\\n",
    "= VclusExp.makeJitInteractionsData(Energies)\n",
    "\n",
    "TsInteractIndexDict, Index2TSinteractDict, numSitesTSInteracts, TSInteractSites, TSInteractSpecs, \\\n",
    "jumpFinSites, jumpFinSpec, FinSiteFinSpecJumpInd, numJumpPointGroups, numTSInteractsInPtGroups, \\\n",
    "JumpInteracts, Jump2KRAEng =\\\n",
    "    VclusExp.KRAexpander.makeTransJitData(KRAEnergies)"
   ]
  },
  {
   "cell_type": "code",
   "execution_count": 6,
   "metadata": {},
   "outputs": [],
   "source": [
    "# Make the MC class to sample initial states\n",
    "N_units = 8\n",
    "MCJit = MC_JIT.MCSamplerClass(\n",
    "    numSitesInteracts, SupSitesInteracts, SpecOnInteractSites, Interaction2En, Interact2RepClusArray,\n",
    "    Interact2SymClassArray, numVecsInteracts, VecsInteracts, VecGroupInteracts, numInteractsSiteSpec,\n",
    "    SiteSpecInterArray, numSitesTSInteracts, TSInteractSites, TSInteractSpecs, jumpFinSites, jumpFinSpec,\n",
    "    FinSiteFinSpecJumpInd, numJumpPointGroups, numTSInteractsInPtGroups, JumpInteracts, Jump2KRAEng\n",
    ")\n",
    "# Make the KMC class to generate trajectories\n",
    "siteIndtoR, RtoSiteInd = VclusExp.makeSiteIndToSite()\n",
    "KMCJit = MC_JIT.KMC_JIT(numSitesInteracts, SupSitesInteracts, SpecOnInteractSites, Interaction2En,\n",
    "                        Interact2RepClusArray, Interact2SymClassArray, numVecsInteracts, VecsInteracts,\n",
    "                        VecGroupInteracts, numInteractsSiteSpec, SiteSpecInterArray, numSitesTSInteracts,\n",
    "                        TSInteractSites, TSInteractSpecs, jumpFinSites, jumpFinSpec, FinSiteFinSpecJumpInd,\n",
    "                        numJumpPointGroups, numTSInteractsInPtGroups, JumpInteracts, Jump2KRAEng,\n",
    "                        siteIndtoR, RtoSiteInd, N_units)"
   ]
  },
  {
   "cell_type": "markdown",
   "metadata": {},
   "source": [
    "## Let's set up a random state with a single vacancy"
   ]
  },
  {
   "cell_type": "code",
   "execution_count": 18,
   "metadata": {},
   "outputs": [],
   "source": [
    "# Let's make a state\n",
    "NSpec = 3\n",
    "vacsiteInd = VclusExp.sup.index(VclusExp.vacSite.R, VclusExp.vacSite.ci)[0]\n",
    "assert vacsiteInd == 0 == vacSiteInd\n",
    "del(vacsiteInd)\n",
    "state = np.zeros(VclusExp.Nsites, dtype=int)\n",
    "c0 = 0.6\n",
    "N0 = int(c0*VclusExp.Nsites)\n",
    "\n",
    "for i in range(N0):\n",
    "    state[i] = 0\n",
    "for i in range(N0, VclusExp.Nsites):\n",
    "    state[i] = 1\n",
    "\n",
    "# permute it\n",
    "state = np.random.permutation(state)\n",
    "# put the vacancy at the origin\n",
    "state[vacSiteInd] = NSpec - 1\n",
    "state_orig = state.copy()  # store a copy in case needed later"
   ]
  },
  {
   "cell_type": "markdown",
   "metadata": {},
   "source": [
    "### Construct the state's symmetry counts explicitly"
   ]
  },
  {
   "cell_type": "code",
   "execution_count": 19,
   "metadata": {},
   "outputs": [],
   "source": [
    "# %%time\n",
    "statePrint, StateTotalSym = VclusExp.GetStateSymInfo(state)"
   ]
  },
  {
   "cell_type": "markdown",
   "metadata": {},
   "source": [
    "### Now swap sites to generate the new state and get symmetry counts for it too"
   ]
  },
  {
   "cell_type": "code",
   "execution_count": 24,
   "metadata": {},
   "outputs": [],
   "source": [
    "# Let's produce the swapped state explicitly\n",
    "Ntrials = 1\n",
    "initSiteList, finSiteList = MC_JIT.DoRandSwap(state, Ntrials, vacSiteInd)\n",
    "stateSwap = state.copy()\n",
    "for trialInd in range(initSiteList.shape[0]):\n",
    "    siteA = initSiteList[trialInd]\n",
    "    siteB = finSiteList[trialInd]\n",
    "    temp = stateSwap[siteA]\n",
    "    stateSwap[siteA] = stateSwap[siteB]\n",
    "    stateSwap[siteB] = temp"
   ]
  },
  {
   "cell_type": "code",
   "execution_count": 25,
   "metadata": {},
   "outputs": [],
   "source": [
    "# Now generate the Fingerprint for this swapped state\n",
    "StateSwapPrint, StateSwapTotalSym = VclusExp.GetStateSymInfo(stateSwap)"
   ]
  },
  {
   "cell_type": "code",
   "execution_count": 26,
   "metadata": {},
   "outputs": [],
   "source": [
    "# let's verify the obtained fingerprints by explicit cluster translations\n",
    "\n",
    "# First, for the original state\n",
    "stateSymFull, stateSiteSymFull = ClusterSymmInfo(state, VclusExp, Nsym)\n",
    "assert np.array_equal(stateSymFull, StateTotalSym)\n",
    "assert np.array_equal(statePrint, stateSiteSymFull)\n",
    "\n",
    "# Now for the swapped state\n",
    "stateSwapSymFull, stateSwapSiteFull = ClusterSymmInfo(stateSwap, VclusExp, Nsym)\n",
    "assert np.array_equal(StateSwapPrint, stateSwapSiteFull)\n",
    "assert np.array_equal(StateSwapTotalSym, stateSwapSymFull)"
   ]
  },
  {
   "cell_type": "markdown",
   "metadata": {},
   "source": [
    "## Now use the swapping function in MCJit object to update symmetry counts"
   ]
  },
  {
   "cell_type": "code",
   "execution_count": 27,
   "metadata": {},
   "outputs": [],
   "source": [
    "# Now, let's try to generate the new state with the JIT swapping code\n",
    "swapTrials = np.zeros((Ntrials, 2), dtype=int)\n",
    "swapTrials[:, 0] = initSiteList\n",
    "swapTrials[:, 1] = finSiteList\n",
    "\n",
    "Offsc = MC_JIT.GetOffSite(state, numSitesInteracts, SupSitesInteracts, SpecOnInteractSites)\n",
    "StatePrintJit, StateSymCountsJit = statePrint.copy(), StateTotalSym.copy()\n",
    "En = 0.\n",
    "MCJit.GetNewRandState(state, Offsc, StatePrintJit, StateSymCountsJit,\n",
    "                      swapTrials, En)"
   ]
  },
  {
   "cell_type": "code",
   "execution_count": 28,
   "metadata": {},
   "outputs": [],
   "source": [
    "assert np.array_equal(state, stateSwap)\n",
    "assert np.array_equal(StateSwapPrint, StatePrintJit)\n",
    "assert np.array_equal(StateSwapTotalSym, StateSymCountsJit)\n",
    "assert np.allclose(En, 0)"
   ]
  },
  {
   "cell_type": "markdown",
   "metadata": {},
   "source": [
    "# Next, we test a KMC trajectory"
   ]
  },
  {
   "cell_type": "markdown",
   "metadata": {},
   "source": [
    "## Set up a Fresh random state for this"
   ]
  },
  {
   "cell_type": "code",
   "execution_count": 21,
   "metadata": {},
   "outputs": [],
   "source": [
    "state = np.zeros(VclusExp.Nsites, dtype=int)\n",
    "c0 = 0.6\n",
    "N0 = int(c0*VclusExp.Nsites)\n",
    "\n",
    "for i in range(N0):\n",
    "    state[i] = 0\n",
    "for i in range(N0, VclusExp.Nsites):\n",
    "    state[i] = 1\n",
    "\n",
    "# permute it\n",
    "state = np.random.permutation(state)\n",
    "# put the vacancy at the origin\n",
    "state[vacSiteInd] = NSpec - 1\n",
    "state_orig = state.copy()  # store a copy in case needed later\n",
    "\n",
    "statePrint, StateTotalSym = VclusExp.GetStateSymInfo(state)"
   ]
  },
  {
   "cell_type": "code",
   "execution_count": 22,
   "metadata": {},
   "outputs": [
    {
     "data": {
      "text/plain": [
       "(dtype('int64'), dtype('int64'), dtype('int64'))"
      ]
     },
     "execution_count": 22,
     "metadata": {},
     "output_type": "execute_result"
    }
   ],
   "source": [
    "# Set vacancy exchange rates\n",
    "SpecRates = np.array([0.25, 1.])\n",
    "# Gather the initial state of the trajectory\n",
    "stateInit = state.copy()\n",
    "offscInit = MC_JIT.GetOffSite(stateInit, MCJit.numSitesInteracts,\n",
    "                          MCJit.SupSitesInteracts, MCJit.SpecOnInteractSites)\n",
    "siteSymCountsInit = statePrint.copy()\n",
    "SymCountsTotalInit = StateTotalSym.copy()\n",
    "stateInit.dtype, siteSymCountsInit.dtype, SymCountsTotalInit.dtype"
   ]
  },
  {
   "cell_type": "code",
   "execution_count": 23,
   "metadata": {},
   "outputs": [
    {
     "data": {
      "text/plain": [
       "(array([  1,   7, 511,  73,   8,  56,  64, 448]),\n",
       " array([[ 0.5,  0.5, -0.5],\n",
       "        [-0.5, -0.5,  0.5],\n",
       "        [-0.5, -0.5, -0.5],\n",
       "        [ 0.5,  0.5,  0.5],\n",
       "        [ 0.5, -0.5,  0.5],\n",
       "        [-0.5,  0.5, -0.5],\n",
       "        [-0.5,  0.5,  0.5],\n",
       "        [ 0.5, -0.5, -0.5]]))"
      ]
     },
     "execution_count": 23,
     "metadata": {},
     "output_type": "execute_result"
    }
   ],
   "source": [
    "# Get the jump site lists\n",
    "ijList, dxList = VclusExp.KRAexpander.ijList, VclusExp.KRAexpander.dxList\n",
    "ijList, dxList"
   ]
  },
  {
   "cell_type": "code",
   "execution_count": 24,
   "metadata": {
    "scrolled": false
   },
   "outputs": [],
   "source": [
    "# Let's make a few steps\n",
    "offscNext = offscInit.copy()\n",
    "stateNext = stateInit.copy()\n",
    "siteSymCountsNext = siteSymCountsInit.copy()\n",
    "symCountsTotalNext = SymCountsTotalInit.copy()\n",
    "\n",
    "Nsteps = 1\n",
    "X_steps, t_steps, jmpSelectSteps, jmpFinSiteList = KMCJit.LatGasTraj(stateNext, siteSymCountsNext, \n",
    "                                                                     symCountsTotalNext, offscNext, \n",
    "                                                                     SpecRates, Nsteps, ijList,\n",
    "                                                                     dxList, vacSiteInd)\n",
    "\n",
    "# Translate the final state to bring the vacancy back to the origin\n",
    "vacSiteNow = np.where(stateNext == NSpec-1)[0][0]\n",
    "# Since single step, assert that this is a jump site\n",
    "assert vacSiteNow in ijList\n",
    "assert vacSiteNow == ijList[jmpSelectSteps[0]]\n",
    "stateTrans = KMCJit.TranslateState(stateNext, vacSiteInd, vacSiteNow, None)"
   ]
  },
  {
   "cell_type": "code",
   "execution_count": 34,
   "metadata": {},
   "outputs": [],
   "source": [
    "# Let's try to swap the state manually\n",
    "assert np.where(stateInit == NSpec-1)[0][0] == vacSiteInd\n",
    "stateNextSwap = stateInit.copy()\n",
    "OffScNextSwap = offscInit.copy()\n",
    "siteSymCountsNextSwap = siteSymCountsInit.copy()\n",
    "symCountsTotalNextSwap = SymCountsTotalInit.copy()\n",
    "siteA = vacSiteInd\n",
    "siteB = ijList[jmpSelectSteps[0]]\n",
    "NswapTrials = 1\n",
    "swapTrials = np.array([[siteA, siteB]])\n",
    "stateNextSwap = MCJit.GetNewRandState(stateNextSwap, OffScNextSwap, siteSymCountsNextSwap,\n",
    "                                      symCountsTotalNextSwap, swapTrials, 0.0)"
   ]
  },
  {
   "cell_type": "code",
   "execution_count": 28,
   "metadata": {},
   "outputs": [],
   "source": [
    "# Now, let's try to translate with fingerprint update\n",
    "stateTrans = KMCJit.TranslateState(stateNext, vacSiteInd, vacSiteNow, siteSymCountsNext)"
   ]
  },
  {
   "cell_type": "code",
   "execution_count": 30,
   "metadata": {},
   "outputs": [
    {
     "data": {
      "text/plain": [
       "True"
      ]
     },
     "execution_count": 30,
     "metadata": {},
     "output_type": "execute_result"
    }
   ],
   "source": [
    "np.array_equal(symCountsTotalNextSwap, symCountsTotalNext)"
   ]
  },
  {
   "cell_type": "code",
   "execution_count": 31,
   "metadata": {},
   "outputs": [],
   "source": [
    "# Now for stateTrans, compute the siteSymCounts manually\n",
    "symCountsNextTransDirect = np.zeros((VclusExp.Nsites, Nsym), dtype=int)\n",
    "offScTrans = MC_JIT.GetOffSite(stateTrans, numSitesInteracts, SupSitesInteracts, SpecOnInteractSites)\n",
    "# Go through interactions and get their offcounts\n",
    "for interactInd in range(offScTrans.shape[0]):\n",
    "    # Check if the interaction is on\n",
    "    if offScTrans[interactInd] == 0:\n",
    "        # get the symmetry class of the interaction\n",
    "        symclassInteract = Interact2SymClassArray[interactInd]\n",
    "        # Go through it's sites\n",
    "        for intSiteInd in range(numSitesInteracts[interactInd]):\n",
    "            # Get the site\n",
    "            supSite = SupSitesInteracts[interactInd, intSiteInd]\n",
    "            # update the symmetry count\n",
    "            symCountsNextTransDirect[supSite, symclassInteract] += 1"
   ]
  },
  {
   "cell_type": "code",
   "execution_count": 32,
   "metadata": {},
   "outputs": [
    {
     "data": {
      "text/plain": [
       "True"
      ]
     },
     "execution_count": 32,
     "metadata": {},
     "output_type": "execute_result"
    }
   ],
   "source": [
    "np.array_equal(symCountsNextTransDirect, siteSymCountsNext)"
   ]
  },
  {
   "cell_type": "markdown",
   "metadata": {},
   "source": [
    "# Additional test(s)"
   ]
  },
  {
   "cell_type": "markdown",
   "metadata": {},
   "source": [
    "### generate finger prints using the JIT arrays"
   ]
  },
  {
   "cell_type": "code",
   "execution_count": null,
   "metadata": {},
   "outputs": [],
   "source": [
    "# Now we first need to calculate the total symcounts\n",
    "# Also check Offsitecounts here\n",
    "Offsc = MC_JIT.GetOffSite(state, numSitesInteracts, SupSitesInteracts, SpecOnInteractSites)\n",
    "StateSymCountsJit = np.zeros(Nsym, dtype=int)\n",
    "StatePrintJit = np.zeros((VclusExp.Nsites, Nsym), dtype=int)\n",
    "\n",
    "for interactInd in range(numSitesInteracts.shape[0]):\n",
    "    numSites=numSitesInteracts[interactInd]\n",
    "    offCount = 0\n",
    "    for intSiteInd in range(numSites):\n",
    "        intSite = SupSitesInteracts[interactInd, intSiteInd]\n",
    "        intSpec = SpecOnInteractSites[interactInd, intSiteInd]\n",
    "        if state[intSite] != intSpec:\n",
    "            offCount += 1\n",
    "    assert Offsc[interactInd] == offCount\n",
    "    if offCount == 0:\n",
    "        # Get the symmetry class of this cluster\n",
    "        symClass = Interact2SymClassArray[interactInd]\n",
    "        repClus = VclusExp.Num2Clus[Interact2RepClusArray[interactInd]]\n",
    "        assert symClass == VclusExp.clust2SpecClus[repClus][0]\n",
    "        StateSymCountsJit[symClass] += 1\n",
    "        for intSiteInd in range(numSites):\n",
    "            intSite = SupSitesInteracts[interactInd, intSiteInd]\n",
    "            intSpec = SpecOnInteractSites[interactInd, intSiteInd]\n",
    "            StatePrintJit[intSite, symClass] += 1"
   ]
  },
  {
   "cell_type": "code",
   "execution_count": null,
   "metadata": {},
   "outputs": [],
   "source": [
    "assert np.array_equal(StateTotalSym, StateSymCountsJit)"
   ]
  },
  {
   "cell_type": "code",
   "execution_count": null,
   "metadata": {},
   "outputs": [],
   "source": [
    "assert np.array_equal(StatePrintJit, statePrint)"
   ]
  },
  {
   "cell_type": "code",
   "execution_count": null,
   "metadata": {},
   "outputs": [],
   "source": []
  }
 ],
 "metadata": {
  "kernelspec": {
   "display_name": "Python 3",
   "language": "python",
   "name": "python3"
  },
  "language_info": {
   "codemirror_mode": {
    "name": "ipython",
    "version": 3
   },
   "file_extension": ".py",
   "mimetype": "text/x-python",
   "name": "python",
   "nbconvert_exporter": "python",
   "pygments_lexer": "ipython3",
   "version": "3.6.9"
  }
 },
 "nbformat": 4,
 "nbformat_minor": 4
}
