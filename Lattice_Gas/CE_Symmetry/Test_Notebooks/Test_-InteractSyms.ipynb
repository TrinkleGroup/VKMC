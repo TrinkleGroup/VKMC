{
 "cells": [
  {
   "cell_type": "code",
   "execution_count": 1,
   "metadata": {},
   "outputs": [],
   "source": [
    "import sys\n",
    "sys.path.append(\"../../../\")"
   ]
  },
  {
   "cell_type": "code",
   "execution_count": 2,
   "metadata": {},
   "outputs": [],
   "source": [
    "from onsager import crystal, supercell, cluster\n",
    "import numpy as np\n",
    "import scipy as sp\n",
    "import itertools\n",
    "import Transitions\n",
    "import Cluster_Expansion\n",
    "import MC_JIT\n",
    "import time\n",
    "from tqdm import tqdm\n",
    "from numba import jit, int64, float64"
   ]
  },
  {
   "cell_type": "markdown",
   "metadata": {},
   "source": [
    "## Set up the vector cluster expander"
   ]
  },
  {
   "cell_type": "code",
   "execution_count": 3,
   "metadata": {},
   "outputs": [
    {
     "name": "stdout",
     "output_type": "stream",
     "text": [
      "Pre-created Cluster expander found\n"
     ]
    }
   ],
   "source": [
    "import pickle\n",
    "\n",
    "# See if a cluster expander already exists\n",
    "try:\n",
    "    with open(\"ClusterExpander.pkl\", \"rb\") as fl:\n",
    "        print(\"Pre-created Cluster expander found\")\n",
    "        VclusExp = pickle.load(fl)\n",
    "\n",
    "# Otherwise make one\n",
    "except:\n",
    "    N_units = 8 # No. of unit cells along each axis in the supercell\n",
    "    NSpec = 3\n",
    "    MaxOrder = 3\n",
    "    MaxOrderTrans = 3\n",
    "\n",
    "    a0 = 1.0\n",
    "    cut = 1.01*a0*np.sqrt(3)/2  # Nearest neighbor cutoff\n",
    "\n",
    "    crys = crystal.Crystal.BCC(a0, chemistry=\"A\")\n",
    "    jnetBCC = crys.jumpnetwork(0, cut)\n",
    "\n",
    "    superlatt = N_units * np.eye(3, dtype=int)\n",
    "    superBCC = supercell.ClusterSupercell(crys, superlatt)\n",
    "    # Since the \"spectator\" tuple in the argument is left empty, all\n",
    "    # sites of chemistry 0 will be mobile sites.\n",
    "\n",
    "    vacsite = cluster.ClusterSite((0, 0), np.zeros(3, dtype=int))\n",
    "    vacsiteInd = superBCC.index(np.zeros(3, dtype=int), (0, 0))[0]\n",
    "    assert vacsiteInd == 0\n",
    "\n",
    "    clusexp = cluster.makeclusters(crys, 1.01*a0, MaxOrder)\n",
    "    Tclusexp = cluster.makeclusters(crys, 1.01*a0, MaxOrderTrans)\n",
    "\n",
    "    VclusExp = Cluster_Expansion.VectorClusterExpansion(superBCC, clusexp, Tclusexp, jnetBCC,\n",
    "                                                             NSpec, vacsite, MaxOrder,\n",
    "                                                             MaxOrderTrans, NoTrans=True)\n",
    "\n",
    "    print(\"Done setting up\")\n",
    "    \n",
    "    # save it for later\n",
    "    with open(\"ClusterExpander.pkl\", \"wb\") as fl:\n",
    "        pickle.dump(VclusExp, fl)"
   ]
  },
  {
   "cell_type": "code",
   "execution_count": 4,
   "metadata": {},
   "outputs": [
    {
     "data": {
      "text/plain": [
       "(5676, 5676)"
      ]
     },
     "execution_count": 4,
     "metadata": {},
     "output_type": "execute_result"
    }
   ],
   "source": [
    "len(VclusExp.InteractVecInteracts), len(VclusExp.InteractVecVecs)"
   ]
  },
  {
   "cell_type": "code",
   "execution_count": 5,
   "metadata": {},
   "outputs": [
    {
     "name": "stdout",
     "output_type": "stream",
     "text": [
      "Test complete - vectors match with representative clusters\n"
     ]
    }
   ],
   "source": [
    "# Check the correctness of the vectors - if they were assigned for the proper clusters\n",
    "for interaction, vecInfo in VclusExp.Interact2VecInteract.items():\n",
    "    # get the vectors for the interaction\n",
    "    Intvecs = np.array([VclusExp.InteractVecVecs[info[0]][info[1]] for info in vecInfo])\n",
    "    \n",
    "    for classInd, interactInd in vecInfo:\n",
    "        assert VclusExp.InteractVecInteracts[classInd][interactInd] == interaction\n",
    "    \n",
    "    # get the vectors for the representative cluster\n",
    "    clRep = list(VclusExp.Interact2RepClustDict[interaction])[0]\n",
    "    clVecs = np.array([VclusExp.vecVec[info[0]][info[1]] for info in VclusExp.clust2vecClus[clRep]])\n",
    "    \n",
    "    assert np.allclose(clVecs, Intvecs)\n",
    "print(\"Test complete - vectors match with representative clusters\")"
   ]
  },
  {
   "cell_type": "code",
   "execution_count": 6,
   "metadata": {},
   "outputs": [
    {
     "name": "stdout",
     "output_type": "stream",
     "text": [
      "Test complete - representative clusters match with interactions\n"
     ]
    }
   ],
   "source": [
    "# Next - match the clusters with the interactions\n",
    "count = 0\n",
    "for interaction, vecInfo in VclusExp.Interact2VecInteract.items():\n",
    "    # get the vectors for the interaction\n",
    "    Int0Sites = [(cluster.ClusterSite(ci=info[0], R=info[1]), spec) for info, spec in\n",
    "                [(VclusExp.sup.ciR(siteInd), spec) for siteInd, spec in interaction]]\n",
    "    \n",
    "    siteList = [site for site, spec in Int0Sites]\n",
    "    specList = [spec for site, spec in Int0Sites]\n",
    "    \n",
    "    repClust = Cluster_Expansion.ClusterSpecies(specList, siteList)\n",
    "    siteSpecs = list(repClust.SiteSpecs)\n",
    "    # Bring all sites within the unit cell and then translate\n",
    "    siteListNew = [cluster.ClusterSite(R=site.R%8, ci=site.ci) for site,spec in siteSpecs]\n",
    "    specListNew = [spec for site, spec in siteSpecs]\n",
    "    repClust = Cluster_Expansion.ClusterSpecies(specListNew, siteListNew)\n",
    "    \n",
    "    # get the vectors for the representative cluster\n",
    "    clRep = list(VclusExp.Interact2RepClustDict[interaction])[0]\n",
    "    \n",
    "    assert clRep == repClust, \"\\n count: {}\\n From Interaction : {} \\n Stored :\\\n",
    "    {} \\n SitesOld:{} \\n SiteNew: {} \\n Specs: {}\".format(count, repClust, clRep, siteList,\n",
    "                                                              siteListNew, specList)\n",
    "    \n",
    "    count += 1\n",
    "    \n",
    "print(\"Test complete - representative clusters match with interactions\")"
   ]
  },
  {
   "cell_type": "code",
   "execution_count": 7,
   "metadata": {},
   "outputs": [
    {
     "name": "stdout",
     "output_type": "stream",
     "text": [
      "Test complete - dimensionality match found\n"
     ]
    }
   ],
   "source": [
    "# Next - get the dimensionality of the representative clusters\n",
    "count = 0\n",
    "for interaction, vecInfo in VclusExp.Interact2VecInteract.items():\n",
    "    assert len(VclusExp.Interact2RepClustDict[interaction]) == 1\n",
    "    # get the vectors for the representative cluster\n",
    "    clRep = list(VclusExp.Interact2RepClustDict[interaction])[0]\n",
    "    Glist = []\n",
    "    for gop in VclusExp.crys.G:\n",
    "        clNew = clRep.g(VclusExp.crys, gop)\n",
    "        if clNew == clRep:\n",
    "            Glist.append(gop.cartrot)\n",
    "    \n",
    "    G0 = sum(Glist)/len(Glist)\n",
    "    \n",
    "    vals, vecs = np.linalg.eig(G0)\n",
    "    dim = 0\n",
    "    for eigval in vals:\n",
    "        if np.allclose(eigval, 1.0):\n",
    "            dim += 1\n",
    "    \n",
    "    assert dim == len(vecInfo)\n",
    "    \n",
    "print(\"Test complete - dimensionality match found\")"
   ]
  },
  {
   "cell_type": "code",
   "execution_count": null,
   "metadata": {},
   "outputs": [],
   "source": []
  }
 ],
 "metadata": {
  "kernelspec": {
   "display_name": "Python 3",
   "language": "python",
   "name": "python3"
  },
  "language_info": {
   "codemirror_mode": {
    "name": "ipython",
    "version": 3
   },
   "file_extension": ".py",
   "mimetype": "text/x-python",
   "name": "python",
   "nbconvert_exporter": "python",
   "pygments_lexer": "ipython3",
   "version": "3.6.9"
  }
 },
 "nbformat": 4,
 "nbformat_minor": 4
}
