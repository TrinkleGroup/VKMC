{
 "cells": [
  {
   "cell_type": "code",
   "execution_count": 1,
   "metadata": {},
   "outputs": [],
   "source": [
    "import sys\n",
    "sys.path.append(\"../../../\")"
   ]
  },
  {
   "cell_type": "code",
   "execution_count": 2,
   "metadata": {},
   "outputs": [],
   "source": [
    "from onsager import crystal, supercell, cluster\n",
    "import numpy as np\n",
    "import scipy as sp\n",
    "import itertools\n",
    "import Transitions\n",
    "import Cluster_Expansion\n",
    "import MC_JIT\n",
    "import time\n",
    "from tqdm import tqdm\n",
    "from numba import jit, int64, float64"
   ]
  },
  {
   "cell_type": "markdown",
   "metadata": {},
   "source": [
    "## Set up the vector cluster expander"
   ]
  },
  {
   "cell_type": "code",
   "execution_count": 3,
   "metadata": {},
   "outputs": [
    {
     "name": "stdout",
     "output_type": "stream",
     "text": [
      "Done setting up\n"
     ]
    }
   ],
   "source": [
    "import pickle\n",
    "\n",
    "# See if a cluster expander already exists\n",
    "try:\n",
    "    with open(\"ClusterExpander.pkl\", \"rb\") as fl:\n",
    "        print(\"Pre-created Cluster expander found\")\n",
    "        VclusExp = pickle.load(fl)\n",
    "\n",
    "# Otherwise make one\n",
    "except:\n",
    "    N_units = 8 # No. of unit cells along each axis in the supercell\n",
    "    NSpec = 3\n",
    "    MaxOrder = 3\n",
    "    MaxOrderTrans = 3\n",
    "\n",
    "    a0 = 1.0\n",
    "    cut = 1.01*a0*np.sqrt(3)/2  # Nearest neighbor cutoff\n",
    "\n",
    "    crys = crystal.Crystal.BCC(a0, chemistry=\"A\")\n",
    "    jnetBCC = crys.jumpnetwork(0, cut)\n",
    "\n",
    "    superlatt = N_units * np.eye(3, dtype=int)\n",
    "    superBCC = supercell.ClusterSupercell(crys, superlatt)\n",
    "    # Since the \"spectator\" tuple in the argument is left empty, all\n",
    "    # sites of chemistry 0 will be mobile sites.\n",
    "\n",
    "    vacsite = cluster.ClusterSite((0, 0), np.zeros(3, dtype=int))\n",
    "    vacsiteInd = superBCC.index(np.zeros(3, dtype=int), (0, 0))[0]\n",
    "    assert vacsiteInd == 0\n",
    "\n",
    "    clusexp = cluster.makeclusters(crys, 1.01*a0, MaxOrder)\n",
    "    Tclusexp = cluster.makeclusters(crys, 1.01*a0, MaxOrderTrans)\n",
    "\n",
    "    VclusExp = Cluster_Expansion.VectorClusterExpansion(superBCC, clusexp, Tclusexp, jnetBCC,\n",
    "                                                             NSpec, vacsite, MaxOrder,\n",
    "                                                             MaxOrderTrans)\n",
    "\n",
    "    print(\"Done setting up\")\n",
    "    \n",
    "    # save it for later\n",
    "    with open(\"ClusterExpander.pkl\", \"wb\") as fl:\n",
    "        pickle.dump(VclusExp, fl)"
   ]
  },
  {
   "cell_type": "code",
   "execution_count": 4,
   "metadata": {},
   "outputs": [
    {
     "name": "stdout",
     "output_type": "stream",
     "text": [
      "Done Indexing interactions : 1.8469595909118652\n",
      "Done with chemical and symmetry class data for interactions : 1.6350266933441162\n",
      "Done with vector and energy data for interactions : 2.6501846313476562\n"
     ]
    }
   ],
   "source": [
    "# First, we have to generate all the arrays\n",
    "# Lattice gas - set all energies to zero\n",
    "Energies = np.zeros(len(VclusExp.SpecClusters))\n",
    "KRAEnergies = [np.zeros(len(val)) for (key, val) in VclusExp.KRAexpander.clusterSpeciesJumps.items()]\n",
    "\n",
    "numSitesInteracts, SupSitesInteracts, SpecOnInteractSites, Interaction2En, numVecsInteracts,\\\n",
    "VecsInteracts, VecGroupInteracts, numInteractsSiteSpec, SiteSpecInterArray, vacSiteInd,\\\n",
    "InteractionIndexDict, InteractionRepClusDict, Index2InteractionDict, repClustCounter,\\\n",
    "Interact2RepClusArray, Interact2SymClassArray\\\n",
    "= VclusExp.makeJitInteractionsData(Energies)\n",
    "\n",
    "TsInteractIndexDict, Index2TSinteractDict, numSitesTSInteracts, TSInteractSites, TSInteractSpecs, \\\n",
    "jumpFinSites, jumpFinSpec, FinSiteFinSpecJumpInd, numJumpPointGroups, numTSInteractsInPtGroups, \\\n",
    "JumpInteracts, Jump2KRAEng =\\\n",
    "    VclusExp.KRAexpander.makeTransJitData(KRAEnergies)"
   ]
  },
  {
   "cell_type": "code",
   "execution_count": 5,
   "metadata": {},
   "outputs": [],
   "source": [
    "# Make the MC class\n",
    "N_units=8\n",
    "MCJit = MC_JIT.MCSamplerClass(\n",
    "    numSitesInteracts, SupSitesInteracts, SpecOnInteractSites, Interaction2En, Interact2RepClusArray,\n",
    "    Interact2SymClassArray, numVecsInteracts, VecsInteracts, VecGroupInteracts, numInteractsSiteSpec,\n",
    "    SiteSpecInterArray, numSitesTSInteracts, TSInteractSites, TSInteractSpecs, jumpFinSites, jumpFinSpec,\n",
    "    FinSiteFinSpecJumpInd, numJumpPointGroups, numTSInteractsInPtGroups, JumpInteracts, Jump2KRAEng\n",
    ")\n",
    "# Make the KMC class to generate trajectories\n",
    "siteIndtoR, RtoSiteInd = VclusExp.makeSiteIndToSite()\n",
    "KMCJit = MC_JIT.KMC_JIT(numSitesInteracts, SupSitesInteracts, SpecOnInteractSites, Interaction2En,\n",
    "                        Interact2RepClusArray, Interact2SymClassArray, numVecsInteracts, VecsInteracts,\n",
    "                        VecGroupInteracts, numInteractsSiteSpec, SiteSpecInterArray, numSitesTSInteracts,\n",
    "                        TSInteractSites, TSInteractSpecs, jumpFinSites, jumpFinSpec, FinSiteFinSpecJumpInd,\n",
    "                        numJumpPointGroups, numTSInteractsInPtGroups, JumpInteracts, Jump2KRAEng,\n",
    "                        siteIndtoR, RtoSiteInd, N_units)"
   ]
  },
  {
   "cell_type": "code",
   "execution_count": 6,
   "metadata": {},
   "outputs": [
    {
     "name": "stdout",
     "output_type": "stream",
     "text": [
      "N0:383, N1:128, Nvac:1\n"
     ]
    }
   ],
   "source": [
    "# Set up a random binary alloy\n",
    "NSpec = 3\n",
    "state = np.zeros(VclusExp.Nsites, dtype=int)\n",
    "c0 = 0.75\n",
    "N0 = int(c0*VclusExp.Nsites)\n",
    "for i in range(N0):\n",
    "    state[i] = 0\n",
    "for i in range(N0, VclusExp.Nsites):\n",
    "    state[i] = 1\n",
    "\n",
    "# permute it\n",
    "state = np.random.permutation(state)\n",
    "# put the vacancy at the origin\n",
    "state[vacSiteInd] = NSpec - 1\n",
    "specs, counts = np.unique(state, return_counts=True)\n",
    "print(\"N0:{}, N1:{}, Nvac:{}\".format(counts[0], counts[1], counts[2]))"
   ]
  },
  {
   "cell_type": "code",
   "execution_count": 7,
   "metadata": {},
   "outputs": [],
   "source": [
    "jList, dxList = VclusExp.KRAexpander.ijList, VclusExp.KRAexpander.dxList"
   ]
  },
  {
   "cell_type": "code",
   "execution_count": 8,
   "metadata": {},
   "outputs": [],
   "source": [
    "# expand\n",
    "specRates = np.array([0.001, 1.0])\n",
    "NVclus = len(VclusExp.vecVec)\n",
    "offsc = MC_JIT.GetOffSite(state, numSitesInteracts, SupSitesInteracts, SpecOnInteractSites)"
   ]
  },
  {
   "cell_type": "code",
   "execution_count": 9,
   "metadata": {},
   "outputs": [
    {
     "data": {
      "text/plain": [
       "(array([0, 1, 2, 3]), array([10240, 52138, 66062, 24648]))"
      ]
     },
     "execution_count": 9,
     "metadata": {},
     "output_type": "execute_result"
    }
   ],
   "source": [
    "np.unique(offsc, return_counts=True)"
   ]
  },
  {
   "cell_type": "code",
   "execution_count": null,
   "metadata": {},
   "outputs": [],
   "source": []
  },
  {
   "cell_type": "code",
   "execution_count": 28,
   "metadata": {},
   "outputs": [],
   "source": [
    "WbarJit, BbarJit = MCJit.ExpandLatGas(state, jList, dxList, offsc, specRates, NVclus)"
   ]
  },
  {
   "cell_type": "code",
   "execution_count": 19,
   "metadata": {},
   "outputs": [
    {
     "name": "stdout",
     "output_type": "stream",
     "text": [
      "Test Complete - Wbar and Bbar matched against JIT calculations explicitly\n"
     ]
    }
   ],
   "source": [
    "# Now let's do this manually\n",
    "Wbar_test = np.zeros_like(WbarJit, dtype=float)\n",
    "Bbar_test = np.zeros_like(BbarJit, dtype=float)\n",
    "\n",
    "# Now test the rate expansion by explicitly constructing it\n",
    "for vs1 in range(len(VclusExp.vecVec)):\n",
    "    for vs2 in range(len(VclusExp.vecVec)):\n",
    "        # Go through all the jumps\n",
    "        for TInd in range(len(jList)):\n",
    "            # For every jump, reset the offsite count\n",
    "            offscjit = offsc.copy()\n",
    "\n",
    "            vec1 = np.zeros(3, dtype=float)\n",
    "            vec2 = np.zeros(3, dtype=float)\n",
    "\n",
    "            siteB = jList[TInd]\n",
    "            siteA = vacSiteInd\n",
    "            # Check that the initial site is always the vacancy\n",
    "            specA = state[siteA]  # the vacancy\n",
    "            assert specA==NSpec - 1\n",
    "            specB = state[siteB]\n",
    "\n",
    "            for interactnun in range(numInteractsSiteSpec[siteA, specA]):\n",
    "                interactInd = SiteSpecInterArray[siteA, specA, interactnun]\n",
    "                repClus = InteractionRepClusDict[Index2InteractionDict[interactInd]]\n",
    "                vecList = VclusExp.clust2vecClus[repClus]\n",
    "\n",
    "                if len(vecList) > 0:\n",
    "                    assert numVecsInteracts[interactInd]==len(vecList)\n",
    "                else:\n",
    "                    assert numVecsInteracts[interactInd]==-1\n",
    "\n",
    "                for i in range(numVecsInteracts[interactInd]):\n",
    "                    assert np.allclose(VecsInteracts[interactInd, i, :],\n",
    "                                       VclusExp.vecVec[vecList[i][0]][vecList[i][1]])\n",
    "                    \n",
    "                if offscjit[interactInd] == 0:\n",
    "                    for tupInd, tup in enumerate(vecList):\n",
    "                        if tup[0] == vs1:\n",
    "                            vec1 -= VecsInteracts[interactInd, tupInd, :]\n",
    "                    for tupInd, tup in enumerate(vecList):\n",
    "                        if tup[0] == vs2:\n",
    "                            vec2 -= VecsInteracts[interactInd, tupInd, :]\n",
    "                offscjit[interactInd] += 1\n",
    "\n",
    "            for interactnun in range(numInteractsSiteSpec[siteB, specB]):\n",
    "                interactInd = SiteSpecInterArray[siteB, specB, interactnun]\n",
    "                repClus = InteractionRepClusDict[Index2InteractionDict[interactInd]]\n",
    "                vecList = VclusExp.clust2vecClus[repClus]\n",
    "\n",
    "                if len(vecList) > 0:\n",
    "                    assert numVecsInteracts[interactInd]==len(vecList)\n",
    "                else:\n",
    "                    assert numVecsInteracts[interactInd]==-1\n",
    "\n",
    "                for i in range(numVecsInteracts[interactInd]):\n",
    "                    assert np.allclose(VecsInteracts[interactInd, i, :],\n",
    "                                       VclusExp.vecVec[vecList[i][0]][vecList[i][1]])\n",
    "                    \n",
    "                if offscjit[interactInd] == 0:\n",
    "                    for tupInd, tup in enumerate(vecList):\n",
    "                        if tup[0] == vs1:\n",
    "                            vec1 -= VecsInteracts[interactInd, tupInd, :]\n",
    "                    for tupInd, tup in enumerate(vecList):\n",
    "                        if tup[0] == vs2:\n",
    "                            vec2 -= VecsInteracts[interactInd, tupInd, :]\n",
    "                offscjit[interactInd] += 1\n",
    "\n",
    "            for interactnun in range(numInteractsSiteSpec[siteA, specB]):\n",
    "                interactInd = SiteSpecInterArray[siteA, specB, interactnun]\n",
    "\n",
    "                repClus = InteractionRepClusDict[Index2InteractionDict[interactInd]]\n",
    "                vecList = VclusExp.clust2vecClus[repClus]\n",
    "\n",
    "                if len(vecList) > 0:\n",
    "                    assert numVecsInteracts[interactInd]==len(vecList)\n",
    "                else:\n",
    "                    assert numVecsInteracts[interactInd]==-1\n",
    "\n",
    "                for i in range(numVecsInteracts[interactInd]):\n",
    "                    assert np.allclose(VecsInteracts[interactInd, i, :],\n",
    "                                       VclusExp.vecVec[vecList[i][0]][vecList[i][1]])\n",
    "\n",
    "                offscjit[interactInd] -= 1\n",
    "                if offscjit[interactInd] == 0:\n",
    "                    for tupInd, tup in enumerate(vecList):\n",
    "                        if tup[0] == vs1:\n",
    "                            vec1 += VecsInteracts[interactInd, tupInd, :]\n",
    "                    for tupInd, tup in enumerate(vecList):\n",
    "                        if tup[0] == vs2:\n",
    "                            vec2 += VecsInteracts[interactInd, tupInd, :]\n",
    "\n",
    "            for interactnun in range(numInteractsSiteSpec[siteB, specA]):\n",
    "                interactInd = SiteSpecInterArray[siteB, specA, interactnun]\n",
    "\n",
    "                repClus = InteractionRepClusDict[Index2InteractionDict[interactInd]]\n",
    "                vecList = VclusExp.clust2vecClus[repClus]\n",
    "\n",
    "                if len(vecList) > 0:\n",
    "                    assert numVecsInteracts[interactInd]==len(vecList)\n",
    "                else:\n",
    "                    assert numVecsInteracts[interactInd]==-1\n",
    "\n",
    "                for i in range(numVecsInteracts[interactInd]):\n",
    "                    assert np.allclose(VecsInteracts[interactInd, i, :],\n",
    "                                       VclusExp.vecVec[vecList[i][0]][vecList[i][1]])\n",
    "\n",
    "                offscjit[interactInd] -= 1\n",
    "                if offscjit[interactInd] == 0:\n",
    "                    for tupInd, tup in enumerate(vecList):\n",
    "                        if tup[0] == vs1:\n",
    "                            # assertEqual(VecGroupInteracts[interactInd, tupInd], vs1)\n",
    "                            vec1 += VecsInteracts[interactInd, tupInd, :]\n",
    "                    for tupInd, tup in enumerate(vecList):\n",
    "                        if tup[0] == vs2:\n",
    "                            # assertEqual(VecGroupInteracts[interactInd, tupInd], vs2)\n",
    "                            vec2 += VecsInteracts[interactInd, tupInd, :]\n",
    "            # get the rate\n",
    "            rate = specRates[specB]\n",
    "            # get the dot product\n",
    "            dot = np.dot(vec1, vec2)\n",
    "\n",
    "            Wbar_test[vs1, vs2] += rate*dot\n",
    "            if vs1 == 0:\n",
    "                Bbar_test[vs2] += rate*np.dot(dxList[TInd], vec2)\n",
    "\n",
    "        assert np.allclose(WbarJit[vs1, vs2], Wbar_test[vs1, vs2])\n",
    "\n",
    "assert np.allclose(BbarJit, Bbar_test)\n",
    "print(\"Test Complete - Wbar and Bbar matched against JIT calculations explicitly\")"
   ]
  },
  {
   "cell_type": "code",
   "execution_count": 11,
   "metadata": {},
   "outputs": [
    {
     "name": "stdout",
     "output_type": "stream",
     "text": [
      "4.31 ms ± 113 µs per loop (mean ± std. dev. of 7 runs, 100 loops each)\n"
     ]
    }
   ],
   "source": [
    "%%timeit\n",
    "offsc = MC_JIT.GetOffSite(state, numSitesInteracts, SupSitesInteracts, SpecOnInteractSites)"
   ]
  },
  {
   "cell_type": "code",
   "execution_count": null,
   "metadata": {},
   "outputs": [],
   "source": [
    "lamb = np.zeros(3)\n",
    "for interactInd in range(offsc.shape[0]):\n",
    "    "
   ]
  }
 ],
 "metadata": {
  "kernelspec": {
   "display_name": "Python 3",
   "language": "python",
   "name": "python3"
  },
  "language_info": {
   "codemirror_mode": {
    "name": "ipython",
    "version": 3
   },
   "file_extension": ".py",
   "mimetype": "text/x-python",
   "name": "python",
   "nbconvert_exporter": "python",
   "pygments_lexer": "ipython3",
   "version": "3.6.9"
  }
 },
 "nbformat": 4,
 "nbformat_minor": 4
}
