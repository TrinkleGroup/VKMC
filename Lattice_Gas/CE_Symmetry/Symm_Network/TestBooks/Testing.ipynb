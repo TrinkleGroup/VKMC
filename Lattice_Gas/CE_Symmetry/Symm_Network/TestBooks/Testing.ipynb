{
 "cells": [
  {
   "cell_type": "code",
   "execution_count": 14,
   "id": "813b515c",
   "metadata": {},
   "outputs": [],
   "source": [
    "import torch as pt"
   ]
  },
  {
   "cell_type": "code",
   "execution_count": 15,
   "id": "d98e799a",
   "metadata": {},
   "outputs": [],
   "source": [
    "a = []\n",
    "x = pt.rand(3,3)"
   ]
  },
  {
   "cell_type": "code",
   "execution_count": 16,
   "id": "bd59fef1",
   "metadata": {},
   "outputs": [],
   "source": [
    "def modX(x, a):\n",
    "    x = pt.rand(3,3)\n",
    "    a.append(x)\n",
    "    return x"
   ]
  },
  {
   "cell_type": "code",
   "execution_count": 17,
   "id": "5fb10ab8",
   "metadata": {},
   "outputs": [
    {
     "name": "stdout",
     "output_type": "stream",
     "text": [
      "tensor([[0.8424, 0.8350, 0.5359],\n",
      "        [0.4980, 0.4414, 0.5556],\n",
      "        [0.6699, 0.3497, 0.4575]])\n"
     ]
    }
   ],
   "source": [
    "print(x)"
   ]
  },
  {
   "cell_type": "code",
   "execution_count": 18,
   "id": "28432da3",
   "metadata": {},
   "outputs": [],
   "source": [
    "y = modX(x, a)"
   ]
  },
  {
   "cell_type": "code",
   "execution_count": 19,
   "id": "2086bb49",
   "metadata": {},
   "outputs": [
    {
     "name": "stdout",
     "output_type": "stream",
     "text": [
      "tensor([[0.8424, 0.8350, 0.5359],\n",
      "        [0.4980, 0.4414, 0.5556],\n",
      "        [0.6699, 0.3497, 0.4575]])\n"
     ]
    }
   ],
   "source": [
    "print(x)"
   ]
  },
  {
   "cell_type": "code",
   "execution_count": 20,
   "id": "4f687a42",
   "metadata": {},
   "outputs": [
    {
     "data": {
      "text/plain": [
       "tensor([[0.3631, 0.5531, 0.0532],\n",
       "        [0.1774, 0.6437, 0.5217],\n",
       "        [0.1245, 0.2576, 0.8071]])"
      ]
     },
     "execution_count": 20,
     "metadata": {},
     "output_type": "execute_result"
    }
   ],
   "source": [
    "y"
   ]
  },
  {
   "cell_type": "code",
   "execution_count": 21,
   "id": "201b9ec9",
   "metadata": {},
   "outputs": [
    {
     "data": {
      "text/plain": [
       "[tensor([[0.3631, 0.5531, 0.0532],\n",
       "         [0.1774, 0.6437, 0.5217],\n",
       "         [0.1245, 0.2576, 0.8071]])]"
      ]
     },
     "execution_count": 21,
     "metadata": {},
     "output_type": "execute_result"
    }
   ],
   "source": [
    "a"
   ]
  },
  {
   "cell_type": "code",
   "execution_count": null,
   "id": "6719cfd0",
   "metadata": {},
   "outputs": [],
   "source": []
  }
 ],
 "metadata": {
  "kernelspec": {
   "display_name": "Python 3",
   "language": "python",
   "name": "python3"
  },
  "language_info": {
   "codemirror_mode": {
    "name": "ipython",
    "version": 3
   },
   "file_extension": ".py",
   "mimetype": "text/x-python",
   "name": "python",
   "nbconvert_exporter": "python",
   "pygments_lexer": "ipython3",
   "version": "3.7.10"
  }
 },
 "nbformat": 4,
 "nbformat_minor": 5
}
