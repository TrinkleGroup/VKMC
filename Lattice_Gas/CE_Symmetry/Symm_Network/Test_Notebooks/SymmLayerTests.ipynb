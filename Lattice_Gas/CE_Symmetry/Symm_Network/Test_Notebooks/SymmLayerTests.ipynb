{
 "cells": [
  {
   "cell_type": "code",
   "execution_count": 1,
   "metadata": {},
   "outputs": [],
   "source": [
    "import sys\n",
    "sys.path.append(\"../\")"
   ]
  },
  {
   "cell_type": "code",
   "execution_count": 2,
   "metadata": {},
   "outputs": [],
   "source": [
    "import numpy as np\n",
    "import torch as pt\n",
    "import torch.nn as nn\n",
    "import torch.nn.functional as F\n",
    "import pickle"
   ]
  },
  {
   "cell_type": "code",
   "execution_count": 3,
   "metadata": {},
   "outputs": [],
   "source": [
    "from onsager import crystal, cluster, supercell\n",
    "from SymmLayers import GConv, GAvg, R3Conv"
   ]
  },
  {
   "cell_type": "code",
   "execution_count": 4,
   "metadata": {},
   "outputs": [],
   "source": [
    "# Read and convert all the crystal data\n",
    "# Load test data\n",
    "TestStates = np.load(\"../CrystalDat/TestStates.npy\")\n",
    "dxNN = np.load(\"../CrystalDat/nnJumpLatVecs.npy\")\n",
    "RtoSiteInd = np.load(\"../CrystalDat/RtoSiteInd.npy\")\n",
    "SiteIndtoR = np.load(\"../CrystalDat/SiteIndtoR.npy\")\n",
    "GpermNNIdx = np.load(\"../CrystalDat/GroupNNpermutations.npy\")\n",
    "\n",
    "NNsiteList = np.load(\"../CrystalDat/NNsites_sitewise.npy\")\n",
    "N_ngb = NNsiteList.shape[0]\n",
    "Nsites = NNsiteList.shape[1]\n",
    "with open(\"../CrystalDat/GroupOpsIndices.pkl\", \"rb\") as fl:\n",
    "    GIndtoGDict = pickle.load(fl)\n",
    "\n",
    "with open(\"../CrystalDat/supercellBCC.pkl\", \"rb\") as fl:\n",
    "    superBCC = pickle.load(fl)"
   ]
  },
  {
   "cell_type": "code",
   "execution_count": 5,
   "metadata": {},
   "outputs": [
    {
     "data": {
      "text/plain": [
       "(9, 512)"
      ]
     },
     "execution_count": 5,
     "metadata": {},
     "output_type": "execute_result"
    }
   ],
   "source": [
    "N_ngb, Nsites"
   ]
  },
  {
   "cell_type": "code",
   "execution_count": 6,
   "metadata": {},
   "outputs": [],
   "source": [
    "N_units = 8"
   ]
  },
  {
   "cell_type": "markdown",
   "metadata": {},
   "source": [
    "## Try constructing with half-translation"
   ]
  },
  {
   "cell_type": "code",
   "execution_count": 7,
   "metadata": {},
   "outputs": [],
   "source": [
    "def periodic(x, N_units):\n",
    "    half = N_units//2\n",
    "    \n",
    "    if x > half:\n",
    "        x -= N_units\n",
    "    \n",
    "    elif x < -half:\n",
    "        x += N_units     \n",
    "\n",
    "    return x\n",
    "\n",
    "periodNp = np.frompyfunc(periodic, 2, 1)\n",
    "\n",
    "# Next, let's sort them according to distance\n",
    "def sortkey(shell):\n",
    "    R = periodNp(SiteIndtoR[shell[0]], N_units)\n",
    "    xmin = np.linalg.norm(np.dot(superBCC.crys.lattice, R))\n",
    "    for siteInd in shell:\n",
    "        R = periodNp(SiteIndtoR[siteInd], N_units)\n",
    "        x = np.linalg.norm(np.dot(superBCC.crys.lattice, R))\n",
    "        if x < xmin:\n",
    "            xmin= x\n",
    "    return xmin"
   ]
  },
  {
   "cell_type": "code",
   "execution_count": 8,
   "metadata": {},
   "outputs": [],
   "source": [
    "# Make shells for symmetry-grouping sites\n",
    "shells = []\n",
    "BCvec = np.ones(3, dtype=int)\n",
    "AllSites = set()\n",
    "for siteInd in range(Nsites):\n",
    "    if siteInd not in AllSites:\n",
    "        Rsite = periodNp(SiteIndtoR[siteInd], N_units)\n",
    "        newShell = set()\n",
    "        for gIng, g in GIndtoGDict.items():\n",
    "            Rnew = periodNp(superBCC.crys.g_pos(g, Rsite, (0, 0))[0], N_units)\n",
    "            siteIndNew = RtoSiteInd[Rnew[0], Rnew[1], Rnew[2]]\n",
    "            newShell.add(siteIndNew)\n",
    "        AllSites.update(newShell)\n",
    "        shells.append(list(newShell))"
   ]
  },
  {
   "cell_type": "code",
   "execution_count": 9,
   "metadata": {},
   "outputs": [],
   "source": [
    "shellsSorted = sorted(shells, key=sortkey)"
   ]
  },
  {
   "cell_type": "code",
   "execution_count": 10,
   "metadata": {},
   "outputs": [
    {
     "data": {
      "text/plain": [
       "(tensor([ 0,  1,  2,  3,  4,  5,  6,  7,  8,  9, 10, 11, 12, 13, 14, 15, 16, 17,\n",
       "         18, 19, 20, 21, 22, 23, 24, 25, 26, 27, 28]),\n",
       " tensor([ 1,  8,  6, 12, 24,  8,  6, 24, 24, 24,  8, 24, 12, 48, 24,  6, 24, 24,\n",
       "         24,  4, 24, 24, 24, 24, 48,  3, 12, 12,  6]))"
      ]
     },
     "execution_count": 10,
     "metadata": {},
     "output_type": "execute_result"
    }
   ],
   "source": [
    "# Now let's assign shells to sites\n",
    "SitesToShells = pt.zeros(Nsites).long()\n",
    "for shellInd, shell in enumerate(shellsSorted):\n",
    "    for siteInd in shell:\n",
    "        SitesToShells[siteInd] = shellInd\n",
    "pt.unique(SitesToShells, return_counts=True)"
   ]
  },
  {
   "cell_type": "markdown",
   "metadata": {},
   "source": [
    "## Next we make symmetry parameters"
   ]
  },
  {
   "cell_type": "code",
   "execution_count": 20,
   "metadata": {},
   "outputs": [],
   "source": [
    "GnnPerms = pt.tensor(GpermNNIdx)\n",
    "NNsites = pt.tensor(NNsiteList)\n",
    "\n",
    "Ng = GnnPerms.shape[0]\n",
    "Ndim = 3\n",
    "gdiags = pt.zeros(Ng*Ndim, Ng*Ndim).double()\n",
    "for gInd, g in GIndtoGDict.items():\n",
    "    rowStart = gInd * Ndim\n",
    "    rowEnd = (gInd + 1) * Ndim\n",
    "    gdiags[rowStart : rowEnd, rowStart : rowEnd] = pt.tensor(g.cartrot)"
   ]
  },
  {
   "cell_type": "code",
   "execution_count": 21,
   "metadata": {},
   "outputs": [],
   "source": [
    "# Now let's build the network\n",
    "class GCNet(nn.Module):\n",
    "    def __init__(self, GnnPerms, NNsites, SitesToShells,\n",
    "                dim=3, N_ngb=N_ngb, mean=1.0, std=0.1):\n",
    "        \n",
    "        super().__init__()\n",
    "        \n",
    "        self.net = nn.Sequential(\n",
    "            GConv(1, 4, GnnPerms, NNsites, N_ngb, mean=1.0, std=0.1),\n",
    "            nn.Softplus(),\n",
    "            GAvg(),\n",
    "            GConv(4, 1, GnnPerms, NNsites, N_ngb, mean=1.0, std=0.1),\n",
    "            nn.Softplus(),\n",
    "            GAvg(),\n",
    "            R3Conv(SitesToShells, GnnPerms, gdiags, NNsites, N_ngb,\n",
    "                   dim, mean=1.0, std=0.1)        \n",
    "        )\n",
    "    \n",
    "    def forward(self, InState):\n",
    "        y = self.net(InState)\n",
    "        return y"
   ]
  },
  {
   "cell_type": "code",
   "execution_count": 22,
   "metadata": {},
   "outputs": [],
   "source": [
    "gNet = GCNet(GnnPerms.long(), NNsites, SitesToShells,\n",
    "                dim=3, N_ngb=N_ngb, mean=1.0, std=0.1).double()"
   ]
  },
  {
   "cell_type": "code",
   "execution_count": 35,
   "metadata": {},
   "outputs": [
    {
     "data": {
      "text/plain": [
       "torch.Size([48, 1, 512])"
      ]
     },
     "execution_count": 35,
     "metadata": {},
     "output_type": "execute_result"
    }
   ],
   "source": [
    "Nbatch = TestStates.shape[0]\n",
    "StateTensors = pt.tensor(TestStates/2.0).double().view(Nbatch, 1, TestStates.shape[1])\n",
    "StateTensors.shape"
   ]
  },
  {
   "cell_type": "code",
   "execution_count": 36,
   "metadata": {},
   "outputs": [],
   "source": [
    "y=gNet(StateTensors)"
   ]
  },
  {
   "cell_type": "code",
   "execution_count": 37,
   "metadata": {},
   "outputs": [],
   "source": [
    "y_np = y.data.numpy().copy()"
   ]
  },
  {
   "cell_type": "code",
   "execution_count": 40,
   "metadata": {},
   "outputs": [
    {
     "name": "stdout",
     "output_type": "stream",
     "text": [
      "Symmetry assertions passed\n"
     ]
    }
   ],
   "source": [
    "y0 = y_np[0].copy()\n",
    "for gInd, g in GIndtoGDict.items():\n",
    "    y = y_np[gInd]\n",
    "    assert np.allclose(np.dot(g.cartrot,y0), y)\n",
    "print(\"Symmetry assertions passed\")"
   ]
  }
 ],
 "metadata": {
  "kernelspec": {
   "display_name": "Python 3",
   "language": "python",
   "name": "python3"
  },
  "language_info": {
   "codemirror_mode": {
    "name": "ipython",
    "version": 3
   },
   "file_extension": ".py",
   "mimetype": "text/x-python",
   "name": "python",
   "nbconvert_exporter": "python",
   "pygments_lexer": "ipython3",
   "version": "3.6.9"
  }
 },
 "nbformat": 4,
 "nbformat_minor": 4
}
