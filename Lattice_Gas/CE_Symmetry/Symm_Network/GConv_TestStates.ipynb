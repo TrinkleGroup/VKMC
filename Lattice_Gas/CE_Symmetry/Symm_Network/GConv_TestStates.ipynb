{
 "cells": [
  {
   "cell_type": "code",
   "execution_count": 1,
   "metadata": {},
   "outputs": [],
   "source": [
    "import numpy as np\n",
    "import torch as pt\n",
    "import pickle\n",
    "from onsager import crystal, cluster, supercell"
   ]
  },
  {
   "cell_type": "code",
   "execution_count": 2,
   "metadata": {},
   "outputs": [],
   "source": [
    "# Load the data\n",
    "TestStates = np.load(\"TestStates.npy\")\n",
    "dxNN = np.load(\"nnJumpLatVecs.npy\")\n",
    "RtoSiteInd = np.load(\"RtoSiteInd.npy\")\n",
    "SiteIndtoR = np.load(\"SiteIndtoR.npy\")\n",
    "GpermNNIdx = np.load(\"GroupNNpermutations.npy\")\n",
    "\n",
    "with open(\"GroupOpsIndices.pkl\", \"rb\") as fl:\n",
    "    GIndtoGDict = pickle.load(fl)\n",
    "\n",
    "with open(\"supercellBCC.pkl\", \"rb\") as fl:\n",
    "    superBCC = pickle.load(fl)"
   ]
  },
  {
   "cell_type": "code",
   "execution_count": 43,
   "metadata": {},
   "outputs": [],
   "source": [
    "# Convert states to tensors\n",
    "StateTensors = pt.tensor(TestStates/2.0).double()\n",
    "permTensor = pt.tensor(GpermNNIdx).long()"
   ]
  },
  {
   "cell_type": "code",
   "execution_count": 44,
   "metadata": {},
   "outputs": [],
   "source": [
    "# Make a randomized filter (single channel first)\n",
    "Psi = pt.rand(TestStates.shape[1], requires_grad=True).double()"
   ]
  },
  {
   "cell_type": "code",
   "execution_count": 51,
   "metadata": {},
   "outputs": [
    {
     "name": "stdout",
     "output_type": "stream",
     "text": [
      "CPU times: user 872 µs, sys: 107 µs, total: 979 µs\n",
      "Wall time: 1.61 ms\n"
     ]
    }
   ],
   "source": [
    "Psi_repeat_perm = pt.gather(Psi.unsqueeze(0).repeat(GpermNNIdx.shape[0],1), 1, permTensor)"
   ]
  },
  {
   "cell_type": "code",
   "execution_count": 54,
   "metadata": {},
   "outputs": [],
   "source": [
    "state0 = StateTensors[0]\n",
    "state1 = StateTensors[1]\n",
    "u = GIndtoGDict[1]"
   ]
  },
  {
   "cell_type": "code",
   "execution_count": 66,
   "metadata": {},
   "outputs": [],
   "source": [
    "# Do the convolution with the original state\n",
    "out0 = pt.nn.functional.softplus(pt.matmul(Psi_repeat_perm, state0))\n",
    "\n",
    "# Do the convolution with a rotated state\n",
    "out1 = pt.nn.functional.softplus(pt.matmul(Psi_repeat_perm, state1))"
   ]
  },
  {
   "cell_type": "code",
   "execution_count": 67,
   "metadata": {},
   "outputs": [],
   "source": [
    "# Transform the product with the original state\n",
    "out0Transf = pt.zeros_like(out0)"
   ]
  },
  {
   "cell_type": "code",
   "execution_count": 68,
   "metadata": {},
   "outputs": [],
   "source": [
    "GtoGIndDict = {}\n",
    "for gInd, g in GIndtoGDict.items():\n",
    "    GtoGIndDict[g] = gInd"
   ]
  },
  {
   "cell_type": "code",
   "execution_count": 69,
   "metadata": {},
   "outputs": [],
   "source": [
    "# Multiply all Group ops with u^-1 and store new indices\n",
    "uInv = u.inv()\n",
    "for g, gInd in GtoGIndDict.items():\n",
    "    newGInd = GtoGIndDict[uInv*g]\n",
    "    for siteInd in range(state0.shape[1]):\n",
    "        Rsite = SiteIndtoR[siteInd]\n",
    "        RsiteNew, (ch, idx) = superBCC.crys.g_pos(uInv, Rsite, (0,0))\n",
    "        RsiteNew %= 8\n",
    "        siteIndNew = RtoSiteInd[RsiteNew[0], RsiteNew[1], RsiteNew[2]]\n",
    "        \n",
    "        out0Transf[gInd, siteInd] = out0[newGInd, siteIndNew]"
   ]
  },
  {
   "cell_type": "code",
   "execution_count": 70,
   "metadata": {},
   "outputs": [
    {
     "data": {
      "text/plain": [
       "True"
      ]
     },
     "execution_count": 70,
     "metadata": {},
     "output_type": "execute_result"
    }
   ],
   "source": [
    "pt.allclose(out0Transf, out1)"
   ]
  },
  {
   "cell_type": "code",
   "execution_count": null,
   "metadata": {},
   "outputs": [],
   "source": []
  }
 ],
 "metadata": {
  "kernelspec": {
   "display_name": "Python 3",
   "language": "python",
   "name": "python3"
  },
  "language_info": {
   "codemirror_mode": {
    "name": "ipython",
    "version": 3
   },
   "file_extension": ".py",
   "mimetype": "text/x-python",
   "name": "python",
   "nbconvert_exporter": "python",
   "pygments_lexer": "ipython3",
   "version": "3.6.9"
  }
 },
 "nbformat": 4,
 "nbformat_minor": 4
}
