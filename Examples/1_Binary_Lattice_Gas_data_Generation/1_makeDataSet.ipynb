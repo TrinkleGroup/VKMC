{
 "cells": [
  {
   "cell_type": "markdown",
   "metadata": {},
   "source": [
    "## Data generation for single KMC step\n",
    "In this notebook, we use the LatGas.py module to generate single step data set for the SR-2 system. In this system, there are two species (fast and slow) and a single vacancy. The vacancy exchange rate of the fast species is fixed to 1.0, while that of the slow species is set to 0.001 to maintain a fast:slow ratio of 1e3."
   ]
  },
  {
   "cell_type": "code",
   "execution_count": 1,
   "metadata": {},
   "outputs": [],
   "source": [
    "from onsager import crystal, supercell, cluster\n",
    "import numpy as np\n",
    "import LatGas\n",
    "from tqdm import tqdm\n",
    "import h5py\n",
    "import pickle"
   ]
  },
  {
   "cell_type": "code",
   "execution_count": 2,
   "metadata": {},
   "outputs": [],
   "source": [
    "from scipy.constants import physical_constants\n",
    "kB = physical_constants[\"Boltzmann constant in eV/K\"][0]"
   ]
  },
  {
   "cell_type": "code",
   "execution_count": 3,
   "metadata": {},
   "outputs": [
    {
     "name": "stdout",
     "output_type": "stream",
     "text": [
      "8\n",
      "[ 15  57 449  71 448  64   7   1   8  56 456 120]\n",
      "#Lattice:\n",
      "  a1 = [0.  0.5 0.5]\n",
      "  a2 = [0.5 0.  0.5]\n",
      "  a3 = [0.5 0.5 0. ]\n",
      "#Basis:\n",
      "  (A) 0.0 = [0. 0. 0.]\n",
      "512\n"
     ]
    }
   ],
   "source": [
    "# First, we get the necessary crystal data\n",
    "with h5py.File(\"../../CrystalData/CrystData.h5\", \"r\") as fl:\n",
    "    lattice = np.array(fl[\"Lattice_basis_vectors\"])\n",
    "    superlatt = np.array(fl[\"SuperLatt\"])\n",
    "    dxList = np.array(fl[\"dxList_1nn\"])\n",
    "    NNList = np.array(fl[\"NNsiteList_sitewise\"])\n",
    "    RtoSiteInd = np.array(fl[\"RToSiteInd\"])\n",
    "    siteIndtoR = np.array(fl[\"SiteIndToR\"])\n",
    "\n",
    "# we have 8x8x8 primitive supercells\n",
    "N_units = superlatt[0,0]\n",
    "print(N_units)\n",
    "\n",
    "# Get the nearest neighbors of site 0, the vacancy site.\n",
    "vacsiteInd = 0\n",
    "jList = NNList[1:, vacsiteInd]\n",
    "print(jList)\n",
    "\n",
    "# Create the FCC supercell\n",
    "crys = crystal.Crystal(lattice=lattice, basis=[[np.array([0., 0., 0.])]], chemistry=[\"A\"], noreduce=True)\n",
    "print(crys)\n",
    "superFCC = supercell.ClusterSupercell(crys, superlatt)\n",
    "Nsites = len(superFCC.mobilepos)\n",
    "print(Nsites)"
   ]
  },
  {
   "cell_type": "code",
   "execution_count": 4,
   "metadata": {},
   "outputs": [
    {
     "name": "stdout",
     "output_type": "stream",
     "text": [
      "0.8493150684931506\n",
      "(array([0, 1, 2], dtype=int8), array([434,  77,   1]))\n"
     ]
    }
   ],
   "source": [
    "# Make an initial state\n",
    "# species 0 is the slow species, species 1 is the fast species, species 2 is the vacancy\n",
    "# In the lattice gas simulations (SR-2,5 and CR-2,5), the vacancy will always have the largest integer\n",
    "# as its label\n",
    "\n",
    "c0 = 0.85\n",
    "N_0 = int(c0 * (Nsites -1))\n",
    "print(N_0 / (Nsites-1))\n",
    "\n",
    "# initially put fast atoms everywhere\n",
    "initState = np.ones(Nsites, dtype=np.int8)\n",
    "\n",
    "initState[vacsiteInd] = 2 # vacancy index\n",
    "\n",
    "# put slow atoms in the first N_0 sites except the vacancy\n",
    "for site in range(1, N_0 + 1):\n",
    "    initState[site] = 0\n",
    "\n",
    "# randomize the occupancies of the non-vacancy sites \n",
    "initState[1:] = np.random.permutation(initState[1:])\n",
    "\n",
    "# check the composition\n",
    "print(np.unique(initState, return_counts=True))"
   ]
  },
  {
   "cell_type": "code",
   "execution_count": 5,
   "metadata": {},
   "outputs": [
    {
     "name": "stderr",
     "output_type": "stream",
     "text": [
      "100%|████████████████████| 20000/20000 [00:14<00:00, 1400.98it/s]\n"
     ]
    }
   ],
   "source": [
    "# Now we do the KMC step and gather the necessary data.\n",
    "\n",
    "# set the exchange rates for the species\n",
    "# species 0 is the slow species, species 1 is the fast species\n",
    "NSpec = 3\n",
    "SpecRates = np.array([0.001, 1.0])\n",
    "\n",
    "# Set trajectory parameters\n",
    "Ntraj = 20000\n",
    "Nsteps = 1\n",
    "\n",
    "# Set arrays for collecting the states\n",
    "units = np.array([N_units, N_units, N_units], dtype=int)\n",
    "state1Grid = np.zeros((Ntraj, N_units, N_units, N_units), dtype=np.int8)\n",
    "state2Grid = np.zeros((Ntraj, N_units, N_units, N_units), dtype=np.int8)\n",
    "state2GridUT = np.zeros((Ntraj, N_units, N_units, N_units), dtype=np.int8)\n",
    "\n",
    "# set arrays for gathering the KMC data\n",
    "dispList = np.zeros((Ntraj, NSpec, 3))\n",
    "rateList = np.zeros(Ntraj)\n",
    "AllJumpRates_state1 = np.zeros((Ntraj, jList.shape[0]))\n",
    "AllJumpRates_state2 = np.zeros((Ntraj, jList.shape[0]))\n",
    "\n",
    "jmpSelects = np.zeros((Ntraj, Nsteps), dtype=int) # which jump was selected\n",
    "rnChecks = np.zeros((Ntraj, Nsteps)) # random numbers used to select jumps to check later\n",
    "\n",
    "for traj in tqdm(range(Ntraj), position=0, leave=True, ncols=65):\n",
    "\n",
    "    # permute the initial state to get a new one\n",
    "    state = initState.copy()\n",
    "    state[1:] = np.random.permutation(state[1:]) # leave vacancy site unchanged\n",
    "    initState = state.copy()\n",
    "    \n",
    "    assert initState[0] == NSpec - 1\n",
    "    \n",
    "    state1Grid[traj, :, :, :] = LatGas.gridState(state, siteIndtoR, units)\n",
    "    \n",
    "    # Then do the trajectory\n",
    "    X_steps, t_steps, jmpSelectSteps, rn, _ =\\\n",
    "    LatGas.LatGasKMCTraj(state, SpecRates, Nsteps, jList,\n",
    "                         dxList, vacsiteInd, N_units, siteIndtoR, RtoSiteInd)\n",
    "    \n",
    "    state2 = LatGas.gridState(state, siteIndtoR, units)\n",
    "    state2GridUT[traj, :, :, :] = state2[:, :, :]  # Store the untranslated state - we'll use all for testing\n",
    "    \n",
    "    state2Grid[traj, :, :, :] = LatGas.translateState(state2, np.where(state == NSpec-1)[0][0],\n",
    "                                               vacsiteInd, RtoSiteInd, siteIndtoR, units)\n",
    "    \n",
    "    assert state2Grid[traj, 0, 0, 0] == NSpec - 1, \"\\n{}\\n{}\".format(np.where(state == NSpec-1),\n",
    "                                                                     state2Grid[traj, 0, 0, 0])\n",
    "    \n",
    "    dispList[traj, :, :] = X_steps[-1]  # Get the end displacements\n",
    "    \n",
    "    # get all the rates\n",
    "    JumpRates_state1 = np.zeros(jList.shape[0])\n",
    "    for jInd, jSite in enumerate(jList):\n",
    "        spec = initState[jSite]\n",
    "        JumpRates_state1[jInd] = SpecRates[spec]\n",
    "    \n",
    "    rateList[traj] = 1.0/t_steps[-1]  # Inverse of the time is the rate\n",
    "    assert np.allclose(1.0/t_steps[-1], np.sum(JumpRates_state1))\n",
    "    \n",
    "    AllJumpRates_state1[traj, :] = JumpRates_state1[:]\n",
    "    \n",
    "    JumpRates_state2 = np.zeros(jList.shape[0])\n",
    "    for jInd, jSite in enumerate(jList):\n",
    "        ci, R = superFCC.ciR(jSite)\n",
    "        spec = state2Grid[traj, R[0], R[1], R[2]]\n",
    "        JumpRates_state2[jInd] = SpecRates[spec]\n",
    "    \n",
    "    AllJumpRates_state2[traj, :] = JumpRates_state2[:]\n",
    "    \n",
    "    jmpSelects[traj,:] = jmpSelectSteps[:]\n",
    "    rnChecks[traj, :] = rn[:]"
   ]
  },
  {
   "cell_type": "code",
   "execution_count": 6,
   "metadata": {},
   "outputs": [
    {
     "name": "stderr",
     "output_type": "stream",
     "text": [
      "100%|█████████████████████| 20000/20000 [00:44<00:00, 452.71it/s]\n"
     ]
    }
   ],
   "source": [
    "# Check that the flattened states have the correct species at the correct site.\n",
    "state1List = state1Grid.reshape(-1, Nsites)\n",
    "state2List = state2Grid.reshape(-1, Nsites)\n",
    "\n",
    "for check in tqdm(range(state1List.shape[0]), position=0, leave=True, ncols=65):\n",
    "    for site in range(Nsites):\n",
    "        ci, R = superFCC.ciR(site)\n",
    "        assert state1Grid[check, R[0], R[1], R[2]] == state1List[check, site]\n",
    "        assert state2Grid[check, R[0], R[1], R[2]] == state2List[check, site]    "
   ]
  },
  {
   "cell_type": "code",
   "execution_count": 7,
   "metadata": {},
   "outputs": [],
   "source": [
    "# Save the data set - commented out right now to prevent replacement\n",
    "# with h5py.File(\"Datasets/singleStep_FCC_SR2_c0_{}_Run2.h5\".format(int(c0 * 100)), \"w\") as fl:\n",
    "#     fl.create_dataset(\"InitStates\", data = state1List)\n",
    "#     fl.create_dataset(\"FinStates\", data = state2List)\n",
    "#     fl.create_dataset(\"SpecDisps\", data = dispList)\n",
    "#     fl.create_dataset(\"AllJumpRates_Init\", data = AllJumpRates_state1)\n",
    "#     fl.create_dataset(\"AllJumpRates_Fin\", data = AllJumpRates_state2)\n",
    "#     fl.create_dataset(\"rates\", data = rateList)\n",
    "#     fl.create_dataset(\"JumpSelects\", data = jmpSelects[:, 0])\n",
    "#     fl.create_dataset(\"randNums\", data = rnChecks[:, 0])"
   ]
  },
  {
   "cell_type": "code",
   "execution_count": null,
   "metadata": {},
   "outputs": [],
   "source": []
  }
 ],
 "metadata": {
  "kernelspec": {
   "display_name": "Python [conda env:VKMC_python_3.7] *",
   "language": "python",
   "name": "conda-env-VKMC_python_3.7-py"
  },
  "language_info": {
   "codemirror_mode": {
    "name": "ipython",
    "version": 3
   },
   "file_extension": ".py",
   "mimetype": "text/x-python",
   "name": "python",
   "nbconvert_exporter": "python",
   "pygments_lexer": "ipython3",
   "version": "3.7.16"
  }
 },
 "nbformat": 4,
 "nbformat_minor": 4
}
