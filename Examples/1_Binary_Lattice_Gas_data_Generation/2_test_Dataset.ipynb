{
 "cells": [
  {
   "cell_type": "markdown",
   "metadata": {},
   "source": [
    "# Test the data sets\n",
    "In this notebook, we perform checks on the generated data set to make sure we stored the correct states, displacements and selected jumps. Similar tests are also present in the unit tests for the LatGas module, but this notebook is also intended to give a more hands-on view into what data we have stored in the dataset."
   ]
  },
  {
   "cell_type": "code",
   "execution_count": 1,
   "metadata": {},
   "outputs": [],
   "source": [
    "import numpy as np\n",
    "import h5py\n",
    "from tqdm import tqdm\n",
    "import pickle\n",
    "from onsager import crystal, supercell, cluster"
   ]
  },
  {
   "cell_type": "code",
   "execution_count": 2,
   "metadata": {},
   "outputs": [
    {
     "name": "stdout",
     "output_type": "stream",
     "text": [
      "20000\n"
     ]
    }
   ],
   "source": [
    "# Load the data set to check\n",
    "\n",
    "c0 = 80 # atom percent of slow species\n",
    "with h5py.File(\"singleStep_FCC_SR2_c0_{}.h5\".format(c0), \"r\") as fl:\n",
    "    state1List = np.array(fl[\"InitStates\"])\n",
    "    state2List = np.array(fl[\"FinStates\"])\n",
    "    dispList = np.array(fl[\"SpecDisps\"])\n",
    "    rateList = np.array(fl[\"rates\"])\n",
    "    jmpSelects = np.array(fl[\"JumpSelects\"])\n",
    "    rnChecks = np.array(fl[\"randNums\"])\n",
    "    AllRates_st1 = np.array(fl[\"AllJumpRates_Init\"])\n",
    "    AllRates_st2 = np.array(fl[\"AllJumpRates_Fin\"])\n",
    "\n",
    "Ntraj = state1List.shape[0]\n",
    "print(Ntraj)"
   ]
  },
  {
   "cell_type": "code",
   "execution_count": 3,
   "metadata": {},
   "outputs": [
    {
     "name": "stdout",
     "output_type": "stream",
     "text": [
      "[0 1 2] [408 103   1]\n"
     ]
    }
   ],
   "source": [
    "specs, Spcounts = np.unique(state1List[0], return_counts=True)\n",
    "print(specs, Spcounts)"
   ]
  },
  {
   "cell_type": "code",
   "execution_count": 4,
   "metadata": {},
   "outputs": [
    {
     "name": "stdout",
     "output_type": "stream",
     "text": [
      "[ 15  57 449  71 448  64   7   1   8  56 456 120]\n",
      "#Lattice:\n",
      "  a1 = [0.  0.5 0.5]\n",
      "  a2 = [0.5 0.  0.5]\n",
      "  a3 = [0.5 0.5 0. ]\n",
      "#Basis:\n",
      "  (A) 0.0 = [0. 0. 0.]\n",
      "512\n"
     ]
    }
   ],
   "source": [
    "# get the necessary crystal data\n",
    "with h5py.File(\"../../CrysDat_FCC/CrystData.h5\", \"r\") as fl:\n",
    "    lattice = np.array(fl[\"Lattice_basis_vectors\"])\n",
    "    superlatt = np.array(fl[\"SuperLatt\"])\n",
    "    dxList = np.array(fl[\"dxList_1nn\"])\n",
    "    NNsites = np.array(fl[\"NNsiteList_sitewise\"])\n",
    "    RtoSiteInd = np.array(fl[\"RToSiteInd\"])\n",
    "    siteIndtoR = np.array(fl[\"SiteIndToR\"])\n",
    "    JumpNewSites = np.array(fl[\"JumpSiteIndexPermutation\"])\n",
    "\n",
    "jList = NNsites[1:, 0]\n",
    "print(jList)\n",
    "\n",
    "# generate a supercell with the Onsager module\n",
    "crys = crystal.Crystal(lattice=lattice, basis=[[np.array([0., 0., 0.])]], chemistry=[\"A\"])\n",
    "print(crys)\n",
    "superFCC = supercell.ClusterSupercell(crys, superlatt)\n",
    "Nsites = len(superFCC.mobilepos)\n",
    "print(Nsites)"
   ]
  },
  {
   "cell_type": "code",
   "execution_count": 5,
   "metadata": {},
   "outputs": [
    {
     "name": "stderr",
     "output_type": "stream",
     "text": [
      "100%|████████████████████████| 2000/2000 [00:34<00:00, 58.02it/s]\n"
     ]
    }
   ],
   "source": [
    "# begin tests\n",
    "v = 2 # vacancy species\n",
    "vacSiteInd = 0\n",
    "Rvac = np.array([0,0,0])\n",
    "N_units = 8\n",
    "SpecRates = np.array([0.001, 1.0])\n",
    "for traj in tqdm(range(0, Ntraj, 10), position=0, leave=True, ncols=65):\n",
    "    state1 = state1List[traj]\n",
    "    state2 = state2List[traj]\n",
    "    \n",
    "    specs_1, specNums_1 = np.unique(state1, return_counts=True)\n",
    "    specs_2, specNums_2 = np.unique(state2, return_counts=True)\n",
    "    \n",
    "    # check species conservation\n",
    "    assert np.array_equal(specNums_1, specNums_2)\n",
    "    assert np.array_equal(specNums_1, Spcounts)\n",
    "    \n",
    "    # check that the vacancy is zero in both states\n",
    "    assert state1[0] == state2[0] == v\n",
    "    \n",
    "    # Next check that the correct displacement was stored for the state selected\n",
    "    dx = dxList[jmpSelects[traj]]\n",
    "    assert np.allclose(dispList[traj, v], dx)\n",
    "    \n",
    "    # Next, check that displacement was recorded correctly\n",
    "    RJump, ci = crys.cart2pos(dxList[jmpSelects[traj]])\n",
    "    assert ci == (0, 0)\n",
    "    siteJump = superFCC.index(RJump, ci)[0]\n",
    "    specB = state1[siteJump]\n",
    "    assert np.allclose(dispList[traj, specB], -dx)\n",
    "    \n",
    "    # Next check that state2 has been translated correctly\n",
    "    assert np.array_equal(state2, state1[JumpNewSites[jmpSelects[traj]]])\n",
    "    state2UT = state1.copy()\n",
    "    state2UT[0] = state1[siteJump]\n",
    "    state2UT[siteJump] = v\n",
    "    \n",
    "    for R0 in range(N_units):\n",
    "        for R1 in range(N_units):\n",
    "            for R2 in range(N_units):\n",
    "                R0T = R0 + RJump[0]\n",
    "                R1T = R1 + RJump[1]\n",
    "                R2T = R2 + RJump[2]\n",
    "                \n",
    "                posR1 = np.array([R0, R1, R2])\n",
    "                posR1T = np.array([R0T, R1T, R2T])\n",
    "                site1 = superFCC.index(posR1, (0, 0))[0]\n",
    "                site2 = superFCC.index(posR1T, (0, 0))[0]\n",
    "                \n",
    "                assert state2[site1] == state2UT[site2], \"\\n{} {} {}\".format(R0, R1, R2)\n",
    "    \n",
    "    # Next, check that the correct escape rate was computed\n",
    "    rate = 0.\n",
    "    for jmp in range(dxList.shape[0]):\n",
    "        dx = dxList[jmp]\n",
    "        dxtoR, ci = crys.cart2pos(dx)\n",
    "        assert ci == (0, 0)\n",
    "        Jsite = superFCC.index(dxtoR, ci)[0]\n",
    "        \n",
    "        spec = state1[Jsite]\n",
    "        assert np.math.isclose(AllRates_st1[traj, jmp], SpecRates[spec])\n",
    "        rate += SpecRates[spec]\n",
    "        \n",
    "        spec = state2[Jsite]\n",
    "        assert np.math.isclose(AllRates_st2[traj, jmp], SpecRates[spec])      \n",
    "        \n",
    "    assert np.allclose(rate, rateList[traj])\n",
    "    \n",
    "    rateProbs = AllRates_st1[traj] / rate\n",
    "    rateProbs_cumul = np.cumsum(rateProbs)\n",
    "    \n",
    "    place = np.searchsorted(rateProbs_cumul, rnChecks[traj])\n",
    "    assert place == jmpSelects[traj]"
   ]
  },
  {
   "cell_type": "code",
   "execution_count": 6,
   "metadata": {},
   "outputs": [
    {
     "data": {
      "text/plain": [
       "(0.19999999999999996, 0.20085252500000003)"
      ]
     },
     "execution_count": 6,
     "metadata": {},
     "output_type": "execute_result"
    }
   ],
   "source": [
    "# check the uncorrelated value - should be close to (1-c0/100)\n",
    "1-c0/100., np.dot(np.linalg.norm(dispList[:, 1, :], axis=1)**2, rateList)/(6.0 * 20000)"
   ]
  },
  {
   "cell_type": "code",
   "execution_count": null,
   "metadata": {},
   "outputs": [],
   "source": []
  }
 ],
 "metadata": {
  "kernelspec": {
   "display_name": "Python [conda env:VKMC_python_3.7] *",
   "language": "python",
   "name": "conda-env-VKMC_python_3.7-py"
  },
  "language_info": {
   "codemirror_mode": {
    "name": "ipython",
    "version": 3
   },
   "file_extension": ".py",
   "mimetype": "text/x-python",
   "name": "python",
   "nbconvert_exporter": "python",
   "pygments_lexer": "ipython3",
   "version": "3.7.16"
  }
 },
 "nbformat": 4,
 "nbformat_minor": 4
}
