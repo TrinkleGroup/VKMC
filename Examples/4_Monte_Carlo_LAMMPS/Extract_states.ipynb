{
 "cells": [
  {
   "cell_type": "markdown",
   "id": "840c39a1",
   "metadata": {},
   "source": [
    "## Extracting and Storing States From Monte Carlo Runs\n",
    "In this notebook, we'll extract the staes (ASE supercells) stored with our Monte Carlo run (see \"job_script.sb\" for the example slurm job).\n",
    "\n",
    "We'll save our states into numpy arrays, which can then be used for initial states for Kinetic Monte Carlo calculations.\n",
    "\n",
    "Typically, as shown in our example job script, we do multiple Monte Carlo runs (also called Monte Carlo trajectories), each starting from an independent random state. Since the ultimate aim is to train machine learning models, we divide states from these trajectories equally into training and validation states."
   ]
  },
  {
   "cell_type": "code",
   "execution_count": 1,
   "id": "716fe560",
   "metadata": {},
   "outputs": [],
   "source": [
    "import numpy as np\n",
    "from ase.spacegroup import crystal\n",
    "from ase.build import make_supercell\n",
    "import pickle\n",
    "from onsager import crystal, supercell\n",
    "from tqdm import tqdm"
   ]
  },
  {
   "cell_type": "code",
   "execution_count": 2,
   "id": "fd94b54e",
   "metadata": {},
   "outputs": [],
   "source": [
    "elems = [\"Co\", \"Ni\", \"Cr\", \"Fe\", \"Mn\"]\n",
    "elemsToIndices = {\"Co\":0, \"Ni\":1, \"Cr\":2, \"Fe\":3, \"Mn\":4}\n",
    "elemsToNum = {}\n",
    "for elemInd, el in enumerate(elems):\n",
    "    elemsToNum[el] = elemInd + 1"
   ]
  },
  {
   "cell_type": "code",
   "execution_count": 3,
   "id": "5da4e774",
   "metadata": {},
   "outputs": [],
   "source": [
    "# load crystal data\n",
    "with h5py.File(\"../../CrysDat_FCC/CrystData.h5\", \"r\") as fl:\n",
    "    lattice = np.array(fl[\"Lattice_basis_vectors\"])\n",
    "    superlatt = np.array(fl[\"SuperLatt\"])\n",
    "    SiteIndtoR = np.array(fl[\"SiteIndToR\"])\n",
    "    RtoSiteInd = np.array(fl[\"RToSiteInd\"])\n",
    "\n",
    "crys = crystal.Crystal.FCC(a0 = 1.0, chemistry=[\"A\"])\n",
    "assert np.allclose(lattice, crys.lattice)\n",
    "\n",
    "superFCC_onsg = supercell.ClusterSupercell(crys, superlatt)"
   ]
  },
  {
   "cell_type": "markdown",
   "id": "cff8628b",
   "metadata": {},
   "source": [
    "## Now we go ahead and extract the states"
   ]
  },
  {
   "cell_type": "code",
   "execution_count": 5,
   "id": "d61a2a81",
   "metadata": {},
   "outputs": [],
   "source": [
    "def get_states(Temp, lowerTrajId, upperTrajId, startSamp, EndSamp, MC_interval, Nsites, a0=3.59):\n",
    "    \"\"\"\n",
    "    Function to extract ASE supercells, check them and store into numpy arrays.\n",
    "    :param: Temp - the temperature.\n",
    "    \n",
    "    For the following inputs, please also refer to example job script \"job_script.sb\" as well as the next\n",
    "    cell in this notebook.\n",
    "    \n",
    "    :param: lowerTrajId - the index of the first trajectory to gather states from.\n",
    "    :param: upperTrajId - the index of the last trajectory to gather states from.\n",
    "    \n",
    "    :param: startSamp - the Metropolis step from which states were stored after thermalization\n",
    "                        (10200 in the example run - since 10000 equilibration steps were done and\n",
    "                        sample gathered every 200 steps thereafter).\n",
    "    :param: EndSamp - the last Metropolis step (60000 in the example run).\n",
    "    :param: MC_interval - the intervals at which states were stored in the Metropolis runs.\n",
    "                          (200 for the example run).\n",
    "    :param: Nsites - the number of sites (512 in the example run).\n",
    "    \"\"\"\n",
    "    \n",
    "    N_traj = upperTrajId - lowerTrajId + 1\n",
    "    N_samps_per_traj = (EndSamp - startSamp) // MC_interval + 1\n",
    "    total_states = N_traj * N_samps_per_traj * 5 # 5 for the 5 Jobs 11 to 16\n",
    "    print(\"Gathering total {} states from trajectories {} to {} \"\n",
    "          \"for {} K.\".format(total_states, lowerTrajId, upperTrajId, Temp))\n",
    "    \n",
    "    # initialize the state array\n",
    "    # Remember the supercells have had the (0., 0., 0.) site deleted for the vacancy\n",
    "    states = np.zeros((total_states, Nsites), dtype=np.int8)\n",
    "    \n",
    "    total = 0\n",
    "    \n",
    "    counts = np.array([103, 102, 102, 102, 102])\n",
    "    Job = 1\n",
    "    for traj in tqdm(range(lowerTrajId, upperTrajId + 1), ncols=65, position=0, leave=True):\n",
    "\n",
    "        dr = \"{0}_{1}/{0}_{1}_{2}/chkpt/\".format(Temp,Job,traj)\n",
    "\n",
    "        for samp in range(startSamp, EndSamp + 1, MC_interval):\n",
    "\n",
    "            fileName = dr+\"supercell_{}.pkl\".format(samp)\n",
    "\n",
    "            with open(fileName, \"rb\") as fl:\n",
    "                superFCC = pickle.load(fl)\n",
    "\n",
    "\n",
    "            # check the supercell composition\n",
    "            elemCounts = np.zeros(len(elems), dtype=int)\n",
    "            for at_Ind in range(len(superFCC)):\n",
    "                elem = superFCC[at_Ind].symbol\n",
    "                idx = elemsToIndices[elem]\n",
    "                elemCounts[idx] += 1\n",
    "\n",
    "            # Check that the atom counts are correct\n",
    "            assert np.array_equal(elemCounts, count_11)\n",
    "\n",
    "            # Check that the supercells are always consistent with onsager and store occupancies\n",
    "            a = superFCC.cell[:]/8\n",
    "            assert np.allclose(superFCC.cell[:], superFCC_onsg.lattice * a0)\n",
    "            assert np.allclose(superFCC.cell[:]/8, superFCC_onsg.crys.lattice * a0)\n",
    "            assert len(superFCC) == Nsites - 1\n",
    "            occs = np.zeros(len(superFCC), dtype=np.int8)\n",
    "            for site in range(len(superFCC)):\n",
    "                assert not np.allclose(superFCC[site].position, 0.)\n",
    "                Rs  = np.dot(np.linalg.inv(a), superFCC[site].position)\n",
    "                Rsite = Rs.round(0).astype(int)\n",
    "                siteInd, _ = superFCC_onsg.index(Rsite, (0, 0))\n",
    "                assert siteInd == superFCC[site].index + 1, \"{} {} {} {}\".format(Rs, Rsite, siteInd,\n",
    "                                                                              superFCC[site].index)\n",
    "                assert siteInd > 0\n",
    "                occs[site] = elemsToNum[superFCC[site].symbol]\n",
    "\n",
    "            states[total, 1:] = occs[:]\n",
    "            total += 1\n",
    "                \n",
    "    print(\"Gathered total {0} states from trajectories {1} to {2}.\".format(total, lowerTrajId, upperTrajId))\n",
    "    \n",
    "    return states"
   ]
  },
  {
   "cell_type": "code",
   "execution_count": null,
   "id": "76d8437c",
   "metadata": {
    "scrolled": false
   },
   "outputs": [],
   "source": [
    "T = 1073\n",
    "# Gather states from trajectories 1 to 8 for the training set\n",
    "# We have simulated 16 trajectories. The first 8 will be training states for our machine learning\n",
    "# later on, and the last 8 will be for validation.\n",
    "statesTrain = get_states(T, 1, 8, 10200, 60000, 200, SiteIndtoR.shape[0])\n",
    "statesVal = get_states(T, 9, 16, 10200, 60000, 200, SiteIndtoR.shape[0])\n",
    "\n",
    "statesAll = np.zeros((statesTrain.shape[0] + statesVal.shape[0], statesTrain.shape[1]))\n",
    "\n",
    "np.save(\"statesAll_1073.npy\".format(T), statesAll) # statesAll is going to go to be used for\n",
    "                                                   # Kinetic Monte Carlo Simulations."
   ]
  },
  {
   "cell_type": "code",
   "execution_count": null,
   "id": "0f423be9",
   "metadata": {},
   "outputs": [],
   "source": []
  }
 ],
 "metadata": {
  "kernelspec": {
   "display_name": "Python 3 (ipykernel)",
   "language": "python",
   "name": "python3"
  },
  "language_info": {
   "codemirror_mode": {
    "name": "ipython",
    "version": 3
   },
   "file_extension": ".py",
   "mimetype": "text/x-python",
   "name": "python",
   "nbconvert_exporter": "python",
   "pygments_lexer": "ipython3",
   "version": "3.7.16"
  }
 },
 "nbformat": 4,
 "nbformat_minor": 5
}
