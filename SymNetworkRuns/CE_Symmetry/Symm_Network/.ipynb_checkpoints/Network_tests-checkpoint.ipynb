{
 "cells": [
  {
   "cell_type": "code",
   "execution_count": 1,
   "metadata": {},
   "outputs": [],
   "source": [
    "import torch as pt\n",
    "import torch.nn as nn\n",
    "import torch.nn.functional as F\n",
    "import numpy as np\n",
    "import pickle\n",
    "from SymNet import SymNet"
   ]
  },
  {
   "cell_type": "code",
   "execution_count": 2,
   "metadata": {},
   "outputs": [],
   "source": [
    "# Load test data\n",
    "TestStates = np.load(\"TestStates.npy\")[:10]\n",
    "dxNN = np.load(\"nnJumpLatVecs.npy\")\n",
    "RtoSiteInd = np.load(\"RtoSiteInd.npy\")\n",
    "SiteIndtoR = np.load(\"SiteIndtoR.npy\")\n",
    "GpermNNIdx = np.load(\"GroupNNpermutations.npy\")\n",
    "\n",
    "NNsiteList = np.load(\"NNsites_sitewise.npy\")\n",
    "N_ngb = NNsiteList.shape[0]\n",
    "Nsites = NNsiteList.shape[1]\n",
    "with open(\"GroupOpsIndices.pkl\", \"rb\") as fl:\n",
    "    GIndtoGDict = pickle.load(fl)\n",
    "\n",
    "with open(\"supercellBCC.pkl\", \"rb\") as fl:\n",
    "    superBCC = pickle.load(fl)"
   ]
  },
  {
   "cell_type": "code",
   "execution_count": 3,
   "metadata": {},
   "outputs": [
    {
     "data": {
      "text/plain": [
       "(9, 512)"
      ]
     },
     "execution_count": 3,
     "metadata": {},
     "output_type": "execute_result"
    }
   ],
   "source": [
    "N_ngb, Nsites"
   ]
  },
  {
   "cell_type": "code",
   "execution_count": 4,
   "metadata": {},
   "outputs": [],
   "source": [
    "# Make shells for symmetry-grouping sites\n",
    "shells = []\n",
    "AllSites = set()\n",
    "for siteInd in range(Nsites):\n",
    "    if siteInd not in AllSites:\n",
    "        Rsite = SiteIndtoR[siteInd]\n",
    "        newShell = set()\n",
    "        for gIng, g in GIndtoGDict.items():\n",
    "            Rnew, _ = superBCC.crys.g_pos(g, Rsite, (0, 0))\n",
    "            siteIndNew = RtoSiteInd[Rnew[0], Rnew[1], Rnew[2]]\n",
    "            newShell.add(siteIndNew)\n",
    "        AllSites.update(newShell)\n",
    "        shells.append(list(newShell))"
   ]
  },
  {
   "cell_type": "code",
   "execution_count": 5,
   "metadata": {},
   "outputs": [],
   "source": [
    "# Next, let's sort them according to distance\n",
    "def sortkey(shell):\n",
    "    R = SiteIndtoR[shell[0]]\n",
    "    xmin = np.linalg.norm(np.dot(superBCC.crys.lattice, R))\n",
    "    for siteInd in shell:\n",
    "        R = SiteIndtoR[siteInd]\n",
    "        x = np.linalg.norm(np.dot(superBCC.crys.lattice, R))\n",
    "        if x < xmin:\n",
    "            xmin = x\n",
    "    return xmin\n",
    "shellsSorted = sorted(shells, key=sortkey)"
   ]
  },
  {
   "cell_type": "code",
   "execution_count": 6,
   "metadata": {},
   "outputs": [
    {
     "data": {
      "text/plain": [
       "(tensor([ 0,  1,  2,  3,  4,  5,  6,  7,  8,  9, 10, 11, 12, 13, 14, 15, 16, 17,\n",
       "         18, 19, 20, 21, 22, 23, 24, 25, 26, 27, 28]),\n",
       " tensor([ 1,  8,  6, 12, 24,  8,  6, 24, 24, 24,  8, 24, 12, 48, 24,  6, 24, 24,\n",
       "         24,  4, 24, 24, 24, 24, 48,  3, 12, 12,  6]))"
      ]
     },
     "execution_count": 6,
     "metadata": {},
     "output_type": "execute_result"
    }
   ],
   "source": [
    "# Now let's assign shells to sites\n",
    "SitesToShells = pt.zeros(Nsites).long()\n",
    "for shellInd, shell in enumerate(shellsSorted):\n",
    "    for siteInd in shell:\n",
    "        SitesToShells[siteInd] = shellInd\n",
    "pt.unique(SitesToShells, return_counts=True)"
   ]
  },
  {
   "cell_type": "markdown",
   "metadata": {},
   "source": [
    "# Testing\n",
    "\n",
    "## First, we test for symmetry"
   ]
  },
  {
   "cell_type": "code",
   "execution_count": 7,
   "metadata": {},
   "outputs": [],
   "source": [
    "GnnPerms = pt.tensor(GpermNNIdx).long()\n",
    "NNsites = pt.tensor(NNsiteList)\n",
    "\n",
    "Nlayers = 3\n",
    "NchOuts = [2, 2, 1]\n",
    "\n",
    "Ng = GnnPerms.shape[0]\n",
    "Ndim = 3\n",
    "gdiags = pt.zeros(Ng*Ndim, Ng*Ndim).double()\n",
    "for gInd, g in GIndtoGDict.items():\n",
    "    rowStart = gInd * Ndim\n",
    "    rowEnd = (gInd + 1) * Ndim\n",
    "    gdiags[rowStart : rowEnd, rowStart : rowEnd] = pt.tensor(g.cartrot).double()\n",
    "\n",
    "TestNet = SymNet(Nlayers, NchOuts, GnnPerms, GIndtoGDict, gdiags, NNsites,\n",
    "                 SitesToShells, Ndim, act=\"relu\").double()"
   ]
  },
  {
   "cell_type": "code",
   "execution_count": 8,
   "metadata": {},
   "outputs": [],
   "source": [
    "TestNet.RotateParams()"
   ]
  },
  {
   "cell_type": "code",
   "execution_count": 9,
   "metadata": {},
   "outputs": [
    {
     "data": {
      "text/plain": [
       "torch.Size([10, 1, 512])"
      ]
     },
     "execution_count": 9,
     "metadata": {},
     "output_type": "execute_result"
    }
   ],
   "source": [
    "StateTensors = pt.tensor(TestStates/2.0).double().view(TestStates.shape[0], 1, TestStates.shape[1])\n",
    "N_batch = StateTensors.shape[0]\n",
    "StateTensors.shape"
   ]
  },
  {
   "cell_type": "code",
   "execution_count": 10,
   "metadata": {},
   "outputs": [],
   "source": [
    "InLayers, outlayersG, outlayers, outVecSites, out = TestNet.forward(StateTensors, Test=True)"
   ]
  },
  {
   "cell_type": "code",
   "execution_count": 11,
   "metadata": {},
   "outputs": [
    {
     "data": {
      "text/plain": [
       "tensor([[-11.7782,   6.6165,  -2.1869],\n",
       "        [ -6.6165,   2.1869,  11.7782],\n",
       "        [ 11.7782,   6.6165,  -2.1869],\n",
       "        [  2.1869,  -6.6165,  11.7782],\n",
       "        [ -6.6165, -11.7782,   2.1869],\n",
       "        [  2.1869,   6.6165, -11.7782],\n",
       "        [ 11.7782,  -6.6165,  -2.1869],\n",
       "        [ 11.7782,   2.1869,   6.6165],\n",
       "        [ -2.1869,  11.7782,  -6.6165],\n",
       "        [ -2.1869,  -6.6165, -11.7782]], dtype=torch.float64,\n",
       "       grad_fn=<DivBackward0>)"
      ]
     },
     "execution_count": 11,
     "metadata": {},
     "output_type": "execute_result"
    }
   ],
   "source": [
    "out"
   ]
  },
  {
   "cell_type": "code",
   "execution_count": 12,
   "metadata": {},
   "outputs": [],
   "source": [
    "# First, Let's test for symmetry conformity of each layer\n",
    "for layer in range(Nlayers):\n",
    "    \n",
    "    layerOut = outlayers[layer]\n",
    "    \n",
    "    for ch in range(NchOuts[layer]):\n",
    "        \n",
    "        out0 = layerOut[0, ch]\n",
    "        \n",
    "        for sampInd in range(layerOut.shape[0]):\n",
    "            outsamp = layerOut[sampInd, ch]\n",
    "            g = GIndtoGDict[sampInd]\n",
    "            out0Transf = pt.zeros_like(out0)\n",
    "            for siteInd in range(Nsites):\n",
    "                Rsite = SiteIndtoR[siteInd]\n",
    "                Rnew, _ = superBCC.crys.g_pos(g, Rsite, (0, 0))\n",
    "                \n",
    "                Rnew %= 8\n",
    "                \n",
    "                siteIndNew = RtoSiteInd[Rnew[0], Rnew[1], Rnew[2]]\n",
    "                \n",
    "                out0Transf[siteIndNew] = out0[siteInd]\n",
    "                \n",
    "            assert pt.allclose(outsamp, out0Transf)"
   ]
  },
  {
   "cell_type": "markdown",
   "metadata": {},
   "source": [
    "## Then we convolve explicitly and verify outputs"
   ]
  },
  {
   "cell_type": "code",
   "execution_count": 24,
   "metadata": {},
   "outputs": [],
   "source": [
    "def layerConvTest(net, layerInd, Input, GOuts, SiteIndtoR, RtoSiteInd, dxNN):\n",
    "        \n",
    "    weightAll = net.weightList[layerInd]\n",
    "    biasAll = net.biasList[layerInd]\n",
    "    \n",
    "    NchOut = weightAll.shape[0]\n",
    "    NchIn = weightAll.shape[1]\n",
    "    \n",
    "    for sampInd in range(N_batch):\n",
    "\n",
    "        for chOut in range(NchOut):\n",
    "            bias = biasAll[chOut][0]\n",
    "\n",
    "            for gInd, g in GIndtoGDict.items():\n",
    "\n",
    "                sampOut = pt.zeros(net.Nsites).double()\n",
    "                for siteInd in range(net.Nsites):\n",
    "                    Rsite = SiteIndtoR[siteInd]\n",
    "                    sumSite = 0.\n",
    "\n",
    "                    for chIn in range(NchIn):    \n",
    "                        psi_ch_in = weightAll[chOut, chIn]\n",
    "\n",
    "                        for ngb in range(1, N_ngb):\n",
    "                            dxCart = np.dot(superBCC.crys.lattice, dxNN[ngb-1])\n",
    "                            dxCartRot = np.dot(g.cartrot, dxCart)\n",
    "                            dxRotLat = np.dot(np.linalg.inv(superBCC.crys.lattice), dxCartRot).astype(int)\n",
    "                            Rngb = (Rsite + dxRotLat)%8\n",
    "                            siteIndNgb = RtoSiteInd[Rngb[0], Rngb[1], Rngb[2]]\n",
    "\n",
    "                            sumSite += Input[sampInd, chIn, siteIndNgb] * psi_ch_in[ngb]\n",
    "\n",
    "                        sumSite += Input[sampInd, chIn, siteInd] * psi_ch_in[0]\n",
    "\n",
    "                    sumSite += bias\n",
    "\n",
    "                    sampOut[siteInd] = F.relu(sumSite)\n",
    "\n",
    "                assert pt.allclose(sampOut, GOuts[sampInd, chOut, gInd]), \"{} {}\".format(sampInd, gInd)\n",
    "    print(\"Layer {} tests done\".format(layerInd))"
   ]
  },
  {
   "cell_type": "code",
   "execution_count": 25,
   "metadata": {},
   "outputs": [
    {
     "data": {
      "text/plain": [
       "torch.Size([10, 2, 512])"
      ]
     },
     "execution_count": 25,
     "metadata": {},
     "output_type": "execute_result"
    }
   ],
   "source": [
    "outlayers[0].shape"
   ]
  },
  {
   "cell_type": "code",
   "execution_count": 26,
   "metadata": {},
   "outputs": [
    {
     "name": "stdout",
     "output_type": "stream",
     "text": [
      "Layer 0 tests done\n"
     ]
    }
   ],
   "source": [
    "# Let's do the 0th layer first\n",
    "\n",
    "# get the outputs\n",
    "outlayer0G = outlayersG[0] # Before group averaging\n",
    "sumOutsLayer0 = outlayers[0] # After group averaging\n",
    "\n",
    "layerConvTest(TestNet, 0, StateTensors, outlayer0G, SiteIndtoR, RtoSiteInd, dxNN)"
   ]
  },
  {
   "cell_type": "code",
   "execution_count": 27,
   "metadata": {},
   "outputs": [
    {
     "data": {
      "text/plain": [
       "torch.Size([2, 1, 9])"
      ]
     },
     "execution_count": 27,
     "metadata": {},
     "output_type": "execute_result"
    }
   ],
   "source": [
    "TestNet.weightList[0].shape"
   ]
  },
  {
   "cell_type": "code",
   "execution_count": 28,
   "metadata": {},
   "outputs": [],
   "source": [
    "# Then check summing across G channels\n",
    "for sampInd in range(StateTensors.shape[0]):\n",
    "    for chInd in range(sumOutsLayer0.shape[1]):        \n",
    "        for siteInd in range(Nsites):\n",
    "            sumNet = sumOutsLayer0[sampInd, chInd, siteInd]\n",
    "            sumCalc = 0.\n",
    "            for gInd in range(Ng):\n",
    "                sumCalc += outlayer0G[sampInd, chInd, gInd, siteInd]\n",
    "            assert pt.allclose(sumCalc/Ng, sumNet)"
   ]
  },
  {
   "cell_type": "code",
   "execution_count": 29,
   "metadata": {},
   "outputs": [
    {
     "name": "stdout",
     "output_type": "stream",
     "text": [
      "Layer 1 tests done\n"
     ]
    }
   ],
   "source": [
    "# Now let's check the 1th layer convolution\n",
    "outlayer1G = outlayersG[1]\n",
    "sumOutsLayer1 = outlayers[1]\n",
    "\n",
    "layerConvTest(TestNet, 1, sumOutsLayer0, outlayer1G, SiteIndtoR, RtoSiteInd, dxNN)"
   ]
  },
  {
   "cell_type": "code",
   "execution_count": 30,
   "metadata": {},
   "outputs": [],
   "source": [
    "for sampInd in range(StateTensors.shape[0]):\n",
    "    for chInd in range(sumOutsLayer1.shape[1]):        \n",
    "        for siteInd in range(Nsites):\n",
    "            sumNet = sumOutsLayer1[sampInd, chInd, siteInd]\n",
    "            sumCalc = 0.\n",
    "            for gInd in range(Ng):\n",
    "                sumCalc += outlayer1G[sampInd, chInd, gInd, siteInd]\n",
    "            assert pt.allclose(sumCalc/Ng, sumNet)"
   ]
  },
  {
   "cell_type": "code",
   "execution_count": 31,
   "metadata": {},
   "outputs": [
    {
     "name": "stdout",
     "output_type": "stream",
     "text": [
      "Layer 2 tests done\n"
     ]
    }
   ],
   "source": [
    "## Next test layer 2 outputs\n",
    "outlayer2G = outlayersG[2]\n",
    "sumOutsLayer2 = outlayers[2]\n",
    "\n",
    "layerConvTest(TestNet, 2, sumOutsLayer1, outlayer2G, SiteIndtoR, RtoSiteInd, dxNN)"
   ]
  },
  {
   "cell_type": "code",
   "execution_count": 32,
   "metadata": {},
   "outputs": [],
   "source": [
    "for sampInd in range(StateTensors.shape[0]):\n",
    "    for chInd in range(sumOutsLayer2.shape[1]):        \n",
    "        for siteInd in range(Nsites):\n",
    "            sumNet = sumOutsLayer2[sampInd, chInd, siteInd]\n",
    "            sumCalc = 0.\n",
    "            for gInd in range(Ng):\n",
    "                sumCalc += outlayer2G[sampInd, chInd, gInd, siteInd]\n",
    "            assert pt.allclose(sumCalc/Ng, sumNet)"
   ]
  },
  {
   "cell_type": "code",
   "execution_count": 33,
   "metadata": {},
   "outputs": [
    {
     "data": {
      "text/plain": [
       "512"
      ]
     },
     "execution_count": 33,
     "metadata": {},
     "output_type": "execute_result"
    }
   ],
   "source": [
    "Nsites"
   ]
  },
  {
   "cell_type": "code",
   "execution_count": 40,
   "metadata": {},
   "outputs": [
    {
     "name": "stdout",
     "output_type": "stream",
     "text": [
      "R3 conv tests passed\n"
     ]
    }
   ],
   "source": [
    "# Now we need to test the R3 convolution\n",
    "\n",
    "PsiR3 = TestNet.wtVC\n",
    "\n",
    "out3Sites0 = outVecSites[0]\n",
    "\n",
    "for sampInd in range(N_batch):\n",
    "    \n",
    "    R3OutSites = pt.zeros(3, Nsites).double()\n",
    "    \n",
    "    for siteInd in range(Nsites):\n",
    "        Rsite = SiteIndtoR[siteInd]\n",
    "        sumSite = pt.zeros(3).double()\n",
    "        \n",
    "        # get the shell of this site\n",
    "        shellInd = SitesToShells[siteInd]\n",
    "        shellWeight = TestNet.ShellWeights[shellInd]\n",
    "        \n",
    "        for gInd, g in GIndtoGDict.items():\n",
    "            \n",
    "            gRotTens = pt.tensor(g.cartrot).double()            \n",
    "            for ngb in range(1, N_ngb):\n",
    "                PsiRot = pt.matmul(gRotTens, PsiR3[:, ngb])\n",
    "                dxCart = np.dot(superBCC.crys.lattice, dxNN[ngb-1])\n",
    "                dxCartRot = np.dot(g.cartrot, dxCart)\n",
    "                dxRotLat = np.dot(np.linalg.inv(superBCC.crys.lattice), dxCartRot).astype(int)\n",
    "                Rngb = (Rsite + dxRotLat)%8\n",
    "                siteIndNgb = RtoSiteInd[Rngb[0], Rngb[1], Rngb[2]]\n",
    "                sumSite += sumOutsLayer2[sampInd, 0, siteIndNgb]*PsiRot\n",
    "            \n",
    "            sumSite += sumOutsLayer2[sampInd, 0, siteInd]*pt.matmul(gRotTens, PsiR3[:, 0])\n",
    "        \n",
    "        R3OutSites[:, siteInd] = shellWeight*sumSite/TestNet.Ng\n",
    "        \n",
    "    assert pt.allclose(R3OutSites, outVecSites[sampInd])\n",
    "    \n",
    "    # Now check symmetry relationship\n",
    "    gSamp = GIndtoGDict[sampInd]\n",
    "    gSampTens = pt.tensor(gSamp.cartrot).double()\n",
    "    for siteInd in range(Nsites):\n",
    "        vec0 = out3Sites0[:, siteInd]\n",
    "        Rsite = SiteIndtoR[siteInd]\n",
    "        Rg, _ = superBCC.crys.g_pos(gSamp, Rsite, (0,0))\n",
    "        Rg%=8\n",
    "        siteIndg = RtoSiteInd[Rg[0], Rg[1], Rg[2]]\n",
    "        assert pt.allclose(outVecSites[sampInd, :, siteIndg], pt.matmul(gSampTens, vec0))\n",
    "\n",
    "print(\"R3 conv tests passed\")"
   ]
  },
  {
   "cell_type": "code",
   "execution_count": null,
   "metadata": {},
   "outputs": [],
   "source": []
  }
 ],
 "metadata": {
  "kernelspec": {
   "display_name": "Python 3",
   "language": "python",
   "name": "python3"
  },
  "language_info": {
   "codemirror_mode": {
    "name": "ipython",
    "version": 3
   },
   "file_extension": ".py",
   "mimetype": "text/x-python",
   "name": "python",
   "nbconvert_exporter": "python",
   "pygments_lexer": "ipython3",
   "version": "3.6.9"
  }
 },
 "nbformat": 4,
 "nbformat_minor": 4
}
