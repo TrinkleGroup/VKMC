{
 "cells": [
  {
   "cell_type": "code",
   "execution_count": 1,
   "metadata": {},
   "outputs": [],
   "source": [
    "%config Completer.use_jedi = False"
   ]
  },
  {
   "cell_type": "code",
   "execution_count": 2,
   "metadata": {},
   "outputs": [],
   "source": [
    "import h5py\n",
    "import pickle\n",
    "import torch as pt\n",
    "import torch.nn as nn\n",
    "import torch.nn.functional as F\n",
    "import numpy as np\n",
    "import matplotlib.pyplot as plt\n",
    "from SymNet import SymNet"
   ]
  },
  {
   "cell_type": "code",
   "execution_count": 3,
   "metadata": {},
   "outputs": [],
   "source": [
    "from onsager import crystal, cluster, supercell"
   ]
  },
  {
   "cell_type": "markdown",
   "metadata": {},
   "source": [
    "## Load crystal related data"
   ]
  },
  {
   "cell_type": "code",
   "execution_count": 4,
   "metadata": {},
   "outputs": [],
   "source": [
    "dxNN = np.load(\"nnJumpLatVecs.npy\")\n",
    "RtoSiteInd = np.load(\"RtoSiteInd.npy\")\n",
    "SiteIndtoR = np.load(\"SiteIndtoR.npy\")\n",
    "GpermNNIdx = np.load(\"GroupNNpermutations.npy\")\n",
    "\n",
    "NNsiteList = np.load(\"NNsites_sitewise.npy\")\n",
    "N_ngb = NNsiteList.shape[0]\n",
    "\n",
    "with open(\"GroupOpsIndices.pkl\", \"rb\") as fl:\n",
    "    GIndtoGDict = pickle.load(fl)\n",
    "\n",
    "with open(\"supercellBCC.pkl\", \"rb\") as fl:\n",
    "    superBCC = pickle.load(fl)\n",
    "\n",
    "crys = superBCC.crys\n",
    "N_units = 8\n",
    "\n",
    "with open(\"jnetBCC.pkl\", \"rb\") as fl:\n",
    "    jnetBCC = pickle.load(fl)"
   ]
  },
  {
   "cell_type": "code",
   "execution_count": 5,
   "metadata": {},
   "outputs": [
    {
     "data": {
      "text/plain": [
       "1"
      ]
     },
     "execution_count": 5,
     "metadata": {},
     "output_type": "execute_result"
    }
   ],
   "source": [
    "pt.cuda.device_count()"
   ]
  },
  {
   "cell_type": "code",
   "execution_count": 6,
   "metadata": {},
   "outputs": [
    {
     "name": "stdout",
     "output_type": "stream",
     "text": [
      "cuda:0\n"
     ]
    }
   ],
   "source": [
    "if pt.cuda.is_available():\n",
    "    device = pt.device(\"cuda:0\")\n",
    "else:\n",
    "    device = pt.device(\"cpu\")\n",
    "print(device)"
   ]
  },
  {
   "cell_type": "code",
   "execution_count": 7,
   "metadata": {},
   "outputs": [],
   "source": [
    "GnnPerms = pt.tensor(GpermNNIdx).long().to(device)\n",
    "NNsites = pt.tensor(NNsiteList).long().to(device)\n",
    "\n",
    "# Make the diagonal G matrix for transforming vector kernels\n",
    "Ng = GnnPerms.shape[0]\n",
    "Ndim = 3\n",
    "gdiags = pt.zeros(Ng*Ndim, Ng*Ndim).double()\n",
    "for gInd, g in GIndtoGDict.items():\n",
    "    rowStart = gInd * Ndim\n",
    "    rowEnd = (gInd + 1) * Ndim\n",
    "    gdiags[rowStart : rowEnd, rowStart : rowEnd] = pt.tensor(g.cartrot).double()\n",
    "\n",
    "gdiags = gdiags.to(device)"
   ]
  },
  {
   "cell_type": "markdown",
   "metadata": {},
   "source": [
    "## Load training data"
   ]
  },
  {
   "cell_type": "code",
   "execution_count": 8,
   "metadata": {},
   "outputs": [],
   "source": [
    "with h5py.File(r'singleStep_50.h5',\"r\") as fl:\n",
    "    state1Grid = np.array(fl[\"state1Grid\"])\n",
    "    state2Grid = np.array(fl[\"state2Grid\"])\n",
    "    rateArray = np.array(fl[\"rateList\"])\n",
    "    dispAll = np.array(fl[\"dispList\"])"
   ]
  },
  {
   "cell_type": "code",
   "execution_count": 9,
   "metadata": {},
   "outputs": [],
   "source": [
    "Nsamples = state1Grid.shape[0]\n",
    "state1List = state1Grid.reshape(Nsamples, 512)\n",
    "state2List = state2Grid.reshape(Nsamples, 512)"
   ]
  },
  {
   "cell_type": "code",
   "execution_count": 10,
   "metadata": {},
   "outputs": [],
   "source": [
    "# Now convert them to tensors\n",
    "state1Data = pt.tensor(state1List/2.0).double()\n",
    "state2Data = pt.tensor(state2List/2.0).double()\n",
    "rateData = pt.tensor(rateArray).double()\n",
    "dispSpec1Data = pt.tensor(dispAll[:, 1, :]).double()"
   ]
  },
  {
   "cell_type": "markdown",
   "metadata": {},
   "source": [
    "## Make the network"
   ]
  },
  {
   "cell_type": "code",
   "execution_count": 11,
   "metadata": {},
   "outputs": [],
   "source": [
    "Nlayers = 5\n",
    "NchOuts = [4, 4, 4, 4, 1]\n",
    "\n",
    "net = SymNet(Nlayers, NchOuts, GnnPerms, GIndtoGDict, gdiags, NNsites, Ndim, active=\"relu\").double().to(device)\n",
    "net.RotateParams()"
   ]
  },
  {
   "cell_type": "markdown",
   "metadata": {},
   "source": [
    "## Write the Training loop"
   ]
  },
  {
   "cell_type": "code",
   "execution_count": 12,
   "metadata": {},
   "outputs": [],
   "source": [
    "from tqdm import tqdm"
   ]
  },
  {
   "cell_type": "code",
   "execution_count": 13,
   "metadata": {},
   "outputs": [
    {
     "data": {
      "text/plain": [
       "torch.Size([100000, 512])"
      ]
     },
     "execution_count": 13,
     "metadata": {},
     "output_type": "execute_result"
    }
   ],
   "source": [
    "state1Data.shape"
   ]
  },
  {
   "cell_type": "code",
   "execution_count": 20,
   "metadata": {},
   "outputs": [
    {
     "name": "stderr",
     "output_type": "stream",
     "text": [
      "100%|██████████| 10/10 [02:09<00:00, 12.98s/it]\n"
     ]
    }
   ],
   "source": [
    "N_epoch = 10\n",
    "N_batch = 256\n",
    "N_train = state1Data.shape[0]//2\n",
    "N_save = 1\n",
    "optimizer = pt.optim.Adam(net.parameters(), lr=1e3)\n",
    "\n",
    "for epoch in tqdm(range(N_epoch), position=0, leave=True):\n",
    "    \n",
    "    ## checkpoint\n",
    "    if epoch%N_save==0:\n",
    "        pt.save(net, \"epochs_c0_50/spec1_c0_50_1e3_{}ep.pt\".format(epoch))\n",
    "    \n",
    "    for batch in range(0, N_train, N_batch):\n",
    "        optimizer.zero_grad()\n",
    "        \n",
    "        state1Batch = state1Data[batch : batch + N_batch].unsqueeze(1).to(device)\n",
    "        state2Batch = state2Data[batch : batch + N_batch].unsqueeze(1).to(device)\n",
    "        \n",
    "        rateBatch = rateData[batch : batch + N_batch].to(device)\n",
    "        dispBatch = dispSpec1Data[batch : batch + N_batch].to(device)\n",
    "        \n",
    "        y1 = net.forward(state1Batch)\n",
    "        y2 = net.forward(state2Batch)\n",
    "        \n",
    "        dy = (y2 - y1).view(y1.shape[0], 3)\n",
    "        \n",
    "        loss = pt.sum(rateBatch * pt.norm((dispBatch + dy), dim=1)**2)/6.\n",
    "        \n",
    "        loss.backward(retain_graph=True)\n",
    "        optimizer.step()"
   ]
  },
  {
   "cell_type": "code",
   "execution_count": null,
   "metadata": {},
   "outputs": [],
   "source": [
    "state1Batch.shape"
   ]
  },
  {
   "cell_type": "code",
   "execution_count": null,
   "metadata": {},
   "outputs": [],
   "source": [
    "state1Batch.unsqueeze(1).shape"
   ]
  },
  {
   "cell_type": "code",
   "execution_count": 22,
   "metadata": {},
   "outputs": [
    {
     "name": "stderr",
     "output_type": "stream",
     "text": [
      "100%|██████████| 10/10 [02:10<00:00, 13.04s/it]\n"
     ]
    }
   ],
   "source": [
    "## Write the loss evaluation code here\n",
    "# write loss evaluation code here\n",
    "epoch_losses_train = []\n",
    "epoch_losses_test = []\n",
    "batch_size = 128\n",
    "\n",
    "N_train = state1Data.shape[0]//2\n",
    "\n",
    "for epoch in tqdm(range(N_epoch), position=0, leave=True): \n",
    "    if (epoch)%N_save != 0:\n",
    "        continue\n",
    "    net = pt.load(\"epochs_c0_50/spec1_c0_50_1e3_{}ep.pt\".format(epoch))\n",
    "#     net.eval()\n",
    "    train_diff = 0.\n",
    "    for stInd in range(0, N_train, batch_size):\n",
    "        state1 = state1Data[stInd:stInd+batch_size].unsqueeze(1).to(device)\n",
    "        # get the final state\n",
    "        state2 = state2Data[stInd:stInd+batch_size].unsqueeze(1).to(device)\n",
    "\n",
    "        # get the rate and displacement\n",
    "        rate = rateData[stInd:stInd+batch_size].to(device)\n",
    "        disp = dispSpec1Data[stInd:stInd+batch_size].to(device)\n",
    "        \n",
    "        # do the forward pass\n",
    "        y1 = net.forward(state1)\n",
    "        y2 = net.forward(state2)\n",
    "        dy = (y2-y1).view(batch_size, 3)\n",
    "        # calculate loss\n",
    "        loss = pt.sum(rate * pt.norm((disp + dy), dim=1)**2)/6.\n",
    "        train_diff += loss.item()\n",
    "    \n",
    "    test_diff = 0.\n",
    "    for stInd in range(N_train, 2*N_train, batch_size):\n",
    "        state1 = state1Data[stInd:stInd+batch_size].unsqueeze(1).to(device)\n",
    "        # get the final state\n",
    "        state2 = state2Data[stInd:stInd+batch_size].unsqueeze(1).to(device)\n",
    "\n",
    "        # get the rate and displacement\n",
    "        rate = rateData[stInd:stInd+batch_size].to(device)\n",
    "        disp = dispSpec1Data[stInd:stInd+batch_size].to(device)\n",
    "        \n",
    "        # do the forward pass\n",
    "        y1 = net.forward(state1)\n",
    "        y2 = net.forward(state2)\n",
    "        \n",
    "        dy = (y2-y1).view(y1.shape[0], 3)\n",
    "        \n",
    "        # calculate loss\n",
    "        loss = pt.sum(rate * pt.norm((disp + dy), dim=1)**2)/6.\n",
    "        test_diff += loss.item()\n",
    "        \n",
    "    epoch_losses_train.append(train_diff/(N_train))\n",
    "    epoch_losses_test.append(test_diff/(N_train))"
   ]
  },
  {
   "cell_type": "code",
   "execution_count": 23,
   "metadata": {},
   "outputs": [
    {
     "data": {
      "text/plain": [
       "[<matplotlib.lines.Line2D at 0x7ffed44981d0>]"
      ]
     },
     "execution_count": 23,
     "metadata": {},
     "output_type": "execute_result"
    },
    {
     "data": {
      "image/png": "[encoded data removed]",
      "text/plain": [
       "<Figure size 432x288 with 1 Axes>"
      ]
     },
     "metadata": {
      "needs_background": "light"
     },
     "output_type": "display_data"
    }
   ],
   "source": [
    "plt.plot(np.array(epoch_losses_train))\n",
    "plt.plot(np.array(epoch_losses_test))"
   ]
  },
  {
   "cell_type": "code",
   "execution_count": null,
   "metadata": {},
   "outputs": [],
   "source": [
    "y1"
   ]
  },
  {
   "cell_type": "code",
   "execution_count": null,
   "metadata": {},
   "outputs": [],
   "source": [
    "train_diff/batch_size"
   ]
  },
  {
   "cell_type": "code",
   "execution_count": null,
   "metadata": {},
   "outputs": [],
   "source": []
  }
 ],
 "metadata": {
  "kernelspec": {
   "display_name": "Python 3",
   "language": "python",
   "name": "python3"
  },
  "language_info": {
   "codemirror_mode": {
    "name": "ipython",
    "version": 3
   },
   "file_extension": ".py",
   "mimetype": "text/x-python",
   "name": "python",
   "nbconvert_exporter": "python",
   "pygments_lexer": "ipython3",
   "version": "3.6.9"
  }
 },
 "nbformat": 4,
 "nbformat_minor": 4
}
