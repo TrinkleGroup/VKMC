{
 "cells": [
  {
   "cell_type": "code",
   "execution_count": 1,
   "metadata": {},
   "outputs": [],
   "source": [
    "import numpy as np\n",
    "import h5py\n",
    "from tqdm import tqdm"
   ]
  },
  {
   "cell_type": "code",
   "execution_count": 2,
   "metadata": {},
   "outputs": [],
   "source": [
    "with h5py.File(\"singleStep_60.h5\", \"r\") as fl:\n",
    "    Ntraj = np.array(fl[\"NSamples\"])\n",
    "    state1Grid = np.array(fl[\"state1Grid\"])\n",
    "    state2Grid = np.array(fl[\"state2Grid\"])\n",
    "    state2GridUT = np.array(fl[\"state2GridUT\"])\n",
    "    dispList = np.array(fl[\"dispList\"])\n",
    "    rateList = np.array(fl[\"rateList\"])\n",
    "    jmpSelects = np.array(fl[\"JumpSelection\"])\n",
    "    specRates = np.array(fl[\"vu\"])\n",
    "    dxList = np.array(fl[\"jumpDisps\"])\n",
    "    jList = np.array(fl[\"jumpFinSites\"])"
   ]
  },
  {
   "cell_type": "code",
   "execution_count": 3,
   "metadata": {},
   "outputs": [],
   "source": [
    "# load the crystal\n",
    "import pickle\n",
    "with open(\"supercellBCC.pkl\", \"rb\") as fl:\n",
    "    superBCC = pickle.load(fl)\n",
    "crys = superBCC.crys\n",
    "N_units = superBCC.superlatt[0,0]"
   ]
  },
  {
   "cell_type": "code",
   "execution_count": 4,
   "metadata": {},
   "outputs": [],
   "source": [
    "dxR = np.load(\"nnJumpLatVecs.npy\")\n",
    "RtoSiteInd = np.load(\"RtoSiteInd.npy\")\n",
    "SiteIndtoR = np.load(\"SiteIndtoR.npy\")"
   ]
  },
  {
   "cell_type": "code",
   "execution_count": 5,
   "metadata": {},
   "outputs": [
    {
     "name": "stderr",
     "output_type": "stream",
     "text": [
      "100%|██████████| 100000/100000 [05:31<00:00, 302.00it/s]\n"
     ]
    }
   ],
   "source": [
    "# begin tests\n",
    "for traj in tqdm(range(Ntraj), position=0, leave=True):\n",
    "    state1 = state1Grid[traj]\n",
    "    state2 = state2Grid[traj]\n",
    "    state2UT = state2GridUT[traj]\n",
    "    \n",
    "    # First check that the vacancy is zero in both states\n",
    "    assert state1[0,0,0] == state2[0,0,0] == 2\n",
    "    \n",
    "    # Next check that the correct displacement was stored for the state selected\n",
    "    dx = dxList[jmpSelects[traj][0]]\n",
    "    dxtoR = np.dot(np.linalg.inv(crys.lattice), dx).astype(int)\n",
    "    assert np.array_equal(dxtoR, dxR[jmpSelects[traj][0]])\n",
    "    Rnew = dxtoR % N_units\n",
    "    siteIndNew = RtoSiteInd[Rnew[0], Rnew[1], Rnew[2]]\n",
    "    assert siteIndNew == jList[jmpSelects[traj][0]]\n",
    "    specB = state1[Rnew[0], Rnew[1], Rnew[2]]\n",
    "    for spec in range(dispList.shape[1]):\n",
    "        if spec == specB:\n",
    "            assert np.allclose(dispList[traj, specB], -dx)\n",
    "        elif spec == 2:\n",
    "            assert np.allclose(dispList[traj, spec], dx)\n",
    "        else:\n",
    "            assert np.allclose(dispList[traj, spec], np.zeros(3))\n",
    "            \n",
    "    \n",
    "    assert state2UT[0,0,0] == specB  #, \"\\n{} \\n{} \\n{} \\n{}\".format(specB, Rnew, dx, dxtoR)\n",
    "    assert state2UT[Rnew[0], Rnew[1], Rnew[2]] == 2\n",
    "    \n",
    "    # Check that all the rest of the sites are the same\n",
    "    for R0 in range(N_units):\n",
    "        for R1 in range(N_units):\n",
    "            for R2 in range(N_units):\n",
    "                if R0 == 0 and R1 == 0 and R2 == 0:\n",
    "                    continue\n",
    "                if R0 == Rnew[0] and R1 == Rnew[1] and R2 == Rnew[2]:\n",
    "                    continue\n",
    "                assert state2UT[R0, R1, R2] == state1[R0, R1, R2]\n",
    "    \n",
    "    # Next check that state2 has been translated correctly\n",
    "    dR = Rnew\n",
    "    \n",
    "    for R0 in range(N_units):\n",
    "        for R1 in range(N_units):\n",
    "            for R2 in range(N_units):\n",
    "                R0T = (R0 + dR[0]) % N_units\n",
    "                R1T = (R1 + dR[1]) % N_units\n",
    "                R2T = (R2 + dR[2]) % N_units\n",
    "                assert state2[R0, R1, R2] == state2UT[R0T, R1T, R2T], \"\\n{} {} {}\".format(R0, R1, R2)\n",
    "    \n",
    "    # Next, check that the correct escape rate was computed\n",
    "    rate = 0.\n",
    "    for jmp in range(dxList.shape[0]):\n",
    "        dx = dxList[jmp]\n",
    "        dxtoR = np.dot(np.linalg.inv(crys.lattice), dx).astype(int)\n",
    "        Rnew = dxtoR % N_units\n",
    "        spec = state1[Rnew[0], Rnew[1], Rnew[2]]\n",
    "        rate += specRates[spec]\n",
    "    assert np.allclose(rate, rateList[traj])"
   ]
  },
  {
   "cell_type": "code",
   "execution_count": 6,
   "metadata": {},
   "outputs": [],
   "source": [
    "state0 = state1Grid[0].reshape(512)"
   ]
  },
  {
   "cell_type": "code",
   "execution_count": 10,
   "metadata": {},
   "outputs": [
    {
     "name": "stderr",
     "output_type": "stream",
     "text": [
      "100%|██████████| 100000/100000 [00:53<00:00, 1855.88it/s]\n",
      "100%|██████████| 100000/100000 [00:56<00:00, 1759.28it/s]\n"
     ]
    }
   ],
   "source": [
    "for stateInd in tqdm(range(state1Grid.shape[0]), position=0, leave=True):\n",
    "    stateFlat = state1Grid[stateInd].reshape(512)\n",
    "    for siteInd in range(N_units*N_units*N_units):\n",
    "        R = SiteIndtoR[siteInd]\n",
    "        assert state1Grid[stateInd, R[0], R[1], R[2]] == stateFlat[siteInd]\n",
    "        \n",
    "for stateInd in tqdm(range(state2Grid.shape[0]), position=0, leave=True):\n",
    "    stateFlat = state2Grid[stateInd].reshape(512)\n",
    "    for siteInd in range(N_units*N_units*N_units):\n",
    "        R = SiteIndtoR[siteInd]\n",
    "        assert state2Grid[stateInd, R[0], R[1], R[2]] == stateFlat[siteInd]"
   ]
  },
  {
   "cell_type": "code",
   "execution_count": null,
   "metadata": {},
   "outputs": [],
   "source": []
  },
  {
   "cell_type": "code",
   "execution_count": null,
   "metadata": {},
   "outputs": [],
   "source": []
  }
 ],
 "metadata": {
  "kernelspec": {
   "display_name": "Python 3",
   "language": "python",
   "name": "python3"
  },
  "language_info": {
   "codemirror_mode": {
    "name": "ipython",
    "version": 3
   },
   "file_extension": ".py",
   "mimetype": "text/x-python",
   "name": "python",
   "nbconvert_exporter": "python",
   "pygments_lexer": "ipython3",
   "version": "3.6.9"
  }
 },
 "nbformat": 4,
 "nbformat_minor": 4
}
