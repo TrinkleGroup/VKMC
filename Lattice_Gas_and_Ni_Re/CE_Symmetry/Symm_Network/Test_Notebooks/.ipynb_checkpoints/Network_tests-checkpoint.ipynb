{
 "cells": [
  {
   "cell_type": "code",
   "execution_count": 2,
   "metadata": {},
   "outputs": [],
   "source": [
    "import sys\n",
    "sys.path.append(\"../\")"
   ]
  },
  {
   "cell_type": "code",
   "execution_count": 3,
   "metadata": {},
   "outputs": [],
   "source": [
    "import torch as pt\n",
    "import torch.nn as nn\n",
    "import torch.nn.functional as F\n",
    "import numpy as np\n",
    "import pickle\n",
    "from SymNet import SymNet"
   ]
  },
  {
   "cell_type": "code",
   "execution_count": 5,
   "metadata": {},
   "outputs": [],
   "source": [
    "# Load test data\n",
    "TestStates = np.load(\"../CrystalDat/TestStates.npy\")\n",
    "dxNN = np.load(\"../CrystalDat/nnJumpLatVecs.npy\")\n",
    "RtoSiteInd = np.load(\"../CrystalDat/RtoSiteInd.npy\")\n",
    "SiteIndtoR = np.load(\"../CrystalDat/SiteIndtoR.npy\")\n",
    "GpermNNIdx = np.load(\"../CrystalDat/GroupNNpermutations.npy\")\n",
    "\n",
    "NNsiteList = np.load(\"../CrystalDat/NNsites_sitewise.npy\")\n",
    "N_ngb = NNsiteList.shape[0]\n",
    "Nsites = NNsiteList.shape[1]\n",
    "with open(\"../CrystalDat/GroupOpsIndices.pkl\", \"rb\") as fl:\n",
    "    GIndtoGDict = pickle.load(fl)\n",
    "\n",
    "with open(\"../CrystalDat/supercellBCC.pkl\", \"rb\") as fl:\n",
    "    superBCC = pickle.load(fl)"
   ]
  },
  {
   "cell_type": "code",
   "execution_count": 6,
   "metadata": {},
   "outputs": [
    {
     "data": {
      "text/plain": [
       "(9, 512)"
      ]
     },
     "execution_count": 6,
     "metadata": {},
     "output_type": "execute_result"
    }
   ],
   "source": [
    "N_ngb, Nsites"
   ]
  },
  {
   "cell_type": "code",
   "execution_count": 11,
   "metadata": {},
   "outputs": [],
   "source": [
    "# Make shells for symmetry-grouping sites\n",
    "shells = []\n",
    "AllSites = set()\n",
    "for siteInd in range(Nsites):\n",
    "    if siteInd not in AllSites:\n",
    "        Rsite = SiteIndtoR[siteInd]\n",
    "        newShell = set()\n",
    "        for gIng, g in GIndtoGDict.items():\n",
    "            Rnew, _ = superBCC.crys.g_pos(g, Rsite, (0, 0))\n",
    "            siteIndNew = RtoSiteInd[Rnew[0], Rnew[1], Rnew[2]]\n",
    "            newShell.add(siteIndNew)\n",
    "        AllSites.update(newShell)\n",
    "        shells.append(list(newShell))"
   ]
  },
  {
   "cell_type": "code",
   "execution_count": 12,
   "metadata": {},
   "outputs": [],
   "source": [
    "# Next, let's sort them according to distance\n",
    "def sortkey(shell):\n",
    "    R = SiteIndtoR[shell[0]]\n",
    "    xmin = np.linalg.norm(np.dot(superBCC.crys.lattice, R))\n",
    "    for siteInd in shell:\n",
    "        R = SiteIndtoR[siteInd]\n",
    "        x = np.linalg.norm(np.dot(superBCC.crys.lattice, R))\n",
    "        if x < xmin:\n",
    "            xmin = x\n",
    "    return xmin\n",
    "shellsSorted = sorted(shells, key=sortkey)"
   ]
  },
  {
   "cell_type": "code",
   "execution_count": 13,
   "metadata": {},
   "outputs": [
    {
     "data": {
      "text/plain": [
       "(tensor([ 0,  1,  2,  3,  4,  5,  6,  7,  8,  9, 10, 11, 12, 13, 14, 15, 16, 17,\n",
       "         18, 19, 20, 21, 22, 23, 24, 25, 26, 27, 28]),\n",
       " tensor([ 1,  8,  6, 12, 24,  8,  6, 24, 24, 24,  8, 24, 12, 48, 24,  6, 24, 24,\n",
       "         24,  4, 24, 24, 24, 24, 48,  3, 12, 12,  6]))"
      ]
     },
     "execution_count": 13,
     "metadata": {},
     "output_type": "execute_result"
    }
   ],
   "source": [
    "# Now let's assign shells to sites\n",
    "SitesToShells = pt.zeros(Nsites).long()\n",
    "for shellInd, shell in enumerate(shellsSorted):\n",
    "    for siteInd in shell:\n",
    "        SitesToShells[siteInd] = shellInd\n",
    "pt.unique(SitesToShells, return_counts=True)"
   ]
  },
  {
   "cell_type": "markdown",
   "metadata": {},
   "source": [
    "## Try constructing with half-translation"
   ]
  },
  {
   "cell_type": "code",
   "execution_count": 14,
   "metadata": {},
   "outputs": [],
   "source": [
    "# Make shells for symmetry-grouping sites\n",
    "shells2 = []\n",
    "N_units = 8\n",
    "BCvec = np.ones(3, dtype=int)\n",
    "AllSites = set()\n",
    "for siteInd in range(Nsites):\n",
    "    if siteInd not in AllSites:\n",
    "        Rsite = (SiteIndtoR[siteInd] + BCvec*N_units//2)%N_units - BCvec*N_units//2\n",
    "        newShell = set()\n",
    "        for gIng, g in GIndtoGDict.items():\n",
    "            Rnew, _ = superBCC.crys.g_pos(g, Rsite, (0, 0))\n",
    "            siteIndNew = RtoSiteInd[Rnew[0], Rnew[1], Rnew[2]]\n",
    "            newShell.add(siteIndNew)\n",
    "        AllSites.update(newShell)\n",
    "        shells2.append(list(newShell))"
   ]
  },
  {
   "cell_type": "code",
   "execution_count": 15,
   "metadata": {},
   "outputs": [],
   "source": [
    "# Next, let's sort them according to distance\n",
    "def sortkey2(shell):\n",
    "    R = SiteIndtoR[shell[0]]\n",
    "    xmin = np.linalg.norm(np.dot(superBCC.crys.lattice, R))\n",
    "    for siteInd in shell:\n",
    "        R = (SiteIndtoR[siteInd] + BCvec*N_units//2)%N_units - BCvec*N_units//2\n",
    "        x = np.linalg.norm(np.dot(superBCC.crys.lattice, R))\n",
    "        if x < xmin:\n",
    "            xmin = x\n",
    "    return xmin\n",
    "shellsSorted2 = sorted(shells2, key=sortkey2)"
   ]
  },
  {
   "cell_type": "code",
   "execution_count": 16,
   "metadata": {},
   "outputs": [
    {
     "data": {
      "text/plain": [
       "(tensor([ 0,  1,  2,  3,  4,  5,  6,  7,  8,  9, 10, 11, 12, 13, 14, 15, 16, 17,\n",
       "         18, 19, 20, 21, 22, 23, 24, 25, 26, 27, 28]),\n",
       " tensor([ 1,  8,  6, 12, 24,  8,  6, 24, 24, 24,  8, 24, 12, 48, 24,  6, 24, 24,\n",
       "         24,  4, 24, 24, 24, 24, 48,  3, 12, 12,  6]))"
      ]
     },
     "execution_count": 16,
     "metadata": {},
     "output_type": "execute_result"
    }
   ],
   "source": [
    "# Now let's assign shells to sites\n",
    "SitesToShells2 = pt.zeros(Nsites).long()\n",
    "for shellInd, shell in enumerate(shellsSorted2):\n",
    "    for siteInd in shell:\n",
    "        SitesToShells2[siteInd] = shellInd\n",
    "pt.unique(SitesToShells2, return_counts=True)"
   ]
  },
  {
   "cell_type": "code",
   "execution_count": 18,
   "metadata": {},
   "outputs": [
    {
     "data": {
      "text/plain": [
       "True"
      ]
     },
     "execution_count": 18,
     "metadata": {},
     "output_type": "execute_result"
    }
   ],
   "source": [
    "pt.equal(SitesToShells, SitesToShells2)"
   ]
  },
  {
   "cell_type": "markdown",
   "metadata": {},
   "source": [
    "# Testing\n",
    "\n",
    "## First, we test for symmetry"
   ]
  },
  {
   "cell_type": "code",
   "execution_count": 15,
   "metadata": {},
   "outputs": [],
   "source": [
    "GnnPerms = pt.tensor(GpermNNIdx).long()\n",
    "NNsites = pt.tensor(NNsiteList)\n",
    "\n",
    "Nlayers = 5\n",
    "NchOuts = [4, 4, 4, 4, 1]\n",
    "\n",
    "Ng = GnnPerms.shape[0]\n",
    "Ndim = 3\n",
    "gdiags = pt.zeros(Ng*Ndim, Ng*Ndim).double()\n",
    "for gInd, g in GIndtoGDict.items():\n",
    "    rowStart = gInd * Ndim\n",
    "    rowEnd = (gInd + 1) * Ndim\n",
    "    gdiags[rowStart : rowEnd, rowStart : rowEnd] = pt.tensor(g.cartrot).double()\n",
    "\n",
    "TestNet = SymNet(Nlayers, NchOuts, GnnPerms, GIndtoGDict, gdiags, NNsites,\n",
    "                 SitesToShells, Ndim, act=\"relu\").double()"
   ]
  },
  {
   "cell_type": "code",
   "execution_count": 22,
   "metadata": {},
   "outputs": [
    {
     "name": "stdout",
     "output_type": "stream",
     "text": [
      "36\n",
      "144\n",
      "144\n",
      "144\n",
      "36\n"
     ]
    }
   ],
   "source": [
    "for weight in TestNet.weightList:\n",
    "    print(weight.shape[0]*weight.shape[1]*weight.shape[2])"
   ]
  },
  {
   "cell_type": "code",
   "execution_count": 23,
   "metadata": {},
   "outputs": [
    {
     "data": {
      "text/plain": [
       "torch.Size([3, 9])"
      ]
     },
     "execution_count": 23,
     "metadata": {},
     "output_type": "execute_result"
    }
   ],
   "source": [
    "TestNet.wtVC.shape"
   ]
  },
  {
   "cell_type": "code",
   "execution_count": 32,
   "metadata": {},
   "outputs": [
    {
     "data": {
      "text/plain": [
       "577"
      ]
     },
     "execution_count": 32,
     "metadata": {},
     "output_type": "execute_result"
    }
   ],
   "source": [
    "sum(list(p.numel() for p in TestNet.parameters()))"
   ]
  },
  {
   "cell_type": "code",
   "execution_count": 31,
   "metadata": {},
   "outputs": [
    {
     "data": {
      "text/plain": [
       "{'wtVC': Parameter containing:\n",
       " tensor([[1.9749, 3.0354, 3.6529, 1.8340, 1.1075, 1.7974, 0.7462, 2.4259, 1.3908],\n",
       "         [1.6630, 3.2360, 3.7552, 2.2002, 1.7305, 1.1286, 1.9091, 2.3309, 1.8651],\n",
       "         [1.3223, 1.6829, 1.9491, 1.4509, 1.0662, 2.2843, 2.9345, 1.4059, 1.1303]],\n",
       "        dtype=torch.float64, requires_grad=True),\n",
       " 'ShellWeights': Parameter containing:\n",
       " tensor([ 1.7806,  2.0272,  1.9919,  1.9572,  1.3736,  0.4948,  1.5764,  3.6946,\n",
       "          4.4155,  1.6355,  1.9060,  2.6997,  1.1356,  1.2409,  2.2100,  2.0653,\n",
       "          3.1895,  3.1247,  0.9288,  2.7076,  1.7366, -0.7505,  2.2041,  1.3572,\n",
       "          3.2588,  1.6586,  1.5657,  2.4159,  4.3161], dtype=torch.float64,\n",
       "        requires_grad=True),\n",
       " 'weightList.0': Parameter containing:\n",
       " tensor([[[1.5276, 1.5334, 0.0286, 2.2256, 1.4351, 1.2056, 2.8965, 0.5994,\n",
       "           2.2503]],\n",
       " \n",
       "         [[2.7141, 2.4980, 3.3050, 1.5546, 3.6777, 3.7705, 2.3494, 1.7919,\n",
       "           2.1461]],\n",
       " \n",
       "         [[1.9423, 1.3845, 1.9641, 1.4264, 1.6038, 0.7944, 0.8743, 1.5884,\n",
       "           2.0283]],\n",
       " \n",
       "         [[1.0170, 2.5068, 1.7784, 3.0051, 1.1517, 1.3255, 3.5436, 0.8764,\n",
       "           0.7364]]], dtype=torch.float64, requires_grad=True),\n",
       " 'weightList.1': Parameter containing:\n",
       " tensor([[[ 2.4714e+00,  2.7395e+00,  2.7281e+00,  1.5284e-01,  3.0371e+00,\n",
       "            2.1409e+00,  1.7683e+00,  3.9084e+00,  9.3791e-01],\n",
       "          [ 1.5459e+00,  2.3614e+00,  1.7525e+00,  1.9760e+00,  1.1758e+00,\n",
       "            1.5862e+00,  3.3165e+00,  1.9794e+00,  2.4389e+00],\n",
       "          [ 2.3672e+00,  2.7881e-01,  2.8072e+00,  1.4708e+00,  9.6937e-01,\n",
       "            3.2512e+00,  3.5362e+00,  2.2342e+00,  1.9121e+00],\n",
       "          [ 2.1402e+00,  1.3846e+00,  2.1076e+00,  1.0013e+00,  1.0182e+00,\n",
       "            9.8575e-01,  2.1320e+00,  2.9111e+00,  2.6736e+00]],\n",
       " \n",
       "         [[ 5.8676e-01,  2.0912e+00,  2.3067e+00,  1.9925e+00,  7.5025e-01,\n",
       "            3.0179e+00,  2.7478e+00,  2.9098e+00,  3.1151e+00],\n",
       "          [ 1.4018e+00,  2.2966e-03,  1.0173e+00,  2.1126e+00,  2.8552e-01,\n",
       "            1.5537e+00,  2.4232e+00,  5.4009e-01,  1.4155e+00],\n",
       "          [ 4.7880e-01,  1.8248e+00,  2.7262e+00,  1.7123e+00,  1.5334e+00,\n",
       "            2.0655e+00,  7.2566e-01,  1.0170e+00,  8.0603e-01],\n",
       "          [ 2.5573e+00,  3.3220e+00,  1.3238e+00,  2.7376e+00,  3.1395e+00,\n",
       "            2.8084e+00,  2.7649e+00,  2.9793e+00,  3.0259e+00]],\n",
       " \n",
       "         [[ 3.2977e+00,  4.1049e+00,  2.1749e+00,  1.6634e+00,  1.0977e+00,\n",
       "            1.3680e+00,  2.3617e+00,  1.2464e+00,  1.3821e+00],\n",
       "          [ 3.7045e+00,  1.3101e+00,  3.5708e+00,  1.4590e+00,  9.8110e-01,\n",
       "            4.4771e+00,  1.3495e+00, -9.0761e-01,  1.9464e+00],\n",
       "          [ 2.2264e+00,  1.5412e+00,  1.0219e+00,  3.7830e+00,  1.6461e+00,\n",
       "            2.0701e+00,  2.3303e+00,  9.1376e-01,  1.7794e+00],\n",
       "          [ 4.1880e-01,  1.1584e+00,  1.7520e+00,  4.1687e-01,  1.4655e+00,\n",
       "            1.2627e+00,  9.3799e-01,  2.3890e-01,  1.4473e+00]],\n",
       " \n",
       "         [[ 1.9820e+00,  2.6432e+00,  1.6742e+00,  2.9117e+00,  1.3962e+00,\n",
       "            3.0925e+00,  1.7559e+00,  1.9387e+00,  1.6102e+00],\n",
       "          [ 2.1063e+00,  1.2893e+00,  2.5585e+00,  1.9424e+00,  1.3470e+00,\n",
       "            3.2857e+00,  2.2664e+00,  3.3383e+00,  3.1516e+00],\n",
       "          [ 3.5303e+00,  2.9290e+00,  3.5437e+00,  2.6767e-01,  2.7316e+00,\n",
       "            2.8739e+00,  2.8225e+00,  2.2315e+00,  2.6316e-01],\n",
       "          [ 3.0602e+00,  2.4807e+00,  1.2430e+00,  1.8417e+00,  2.6455e+00,\n",
       "            1.6257e+00,  1.0178e+00,  2.7181e-01,  7.2330e-01]]],\n",
       "        dtype=torch.float64, requires_grad=True),\n",
       " 'weightList.2': Parameter containing:\n",
       " tensor([[[ 1.2945,  1.0022,  1.5077,  2.0084,  0.6285,  1.0224,  2.1930,\n",
       "            2.5700,  2.0827],\n",
       "          [ 1.2193,  1.7925,  2.4022,  2.0434,  1.7616,  0.8436,  2.8164,\n",
       "           -0.9949,  2.7846],\n",
       "          [ 1.8342,  1.5330,  1.4001,  1.5774,  3.9192,  2.9139,  2.7157,\n",
       "            2.7970,  2.3121],\n",
       "          [ 3.3999,  3.0861,  3.0903,  3.4081,  2.9391,  0.7472,  2.9413,\n",
       "            2.1920,  1.5357]],\n",
       " \n",
       "         [[ 2.3658,  2.0083,  2.9701,  0.2195,  0.3354,  2.7823,  1.0437,\n",
       "            3.5942,  1.0393],\n",
       "          [ 0.8751,  2.1810,  1.8838,  1.5555,  2.6288,  2.1068,  1.7468,\n",
       "            1.4868,  2.3317],\n",
       "          [-0.0594,  1.7632,  1.3917,  3.5957,  1.3802,  4.4487,  2.3567,\n",
       "            0.2658,  3.7361],\n",
       "          [ 1.3957,  2.9873,  2.8491,  3.4940,  1.2192,  1.8937,  2.4523,\n",
       "            3.8292,  1.5535]],\n",
       " \n",
       "         [[-0.1187,  2.3581,  3.0396, -0.3925,  1.4154,  1.0270,  3.8533,\n",
       "            2.2229,  2.9097],\n",
       "          [ 1.5802,  2.4830,  0.0749,  2.1538,  3.2995,  0.6986,  0.6774,\n",
       "            4.2972,  1.2114],\n",
       "          [ 2.4851,  2.2454,  1.2037, -1.4166,  0.9622,  1.9262,  2.5981,\n",
       "            3.1973,  1.9270],\n",
       "          [ 3.3192,  1.9890,  4.5081,  2.0205,  2.0680,  2.1430,  1.7687,\n",
       "            0.7460,  1.7060]],\n",
       " \n",
       "         [[ 3.2596,  1.8559,  1.7499,  1.4899,  1.1052,  1.8978,  3.0967,\n",
       "            2.9697,  1.4245],\n",
       "          [ 1.3677,  2.9322,  0.7840,  3.0345,  3.0001,  1.2913,  2.6652,\n",
       "            1.7575,  2.2343],\n",
       "          [ 2.6017,  2.8085,  0.5195,  0.6184,  2.7393,  1.4528,  2.7240,\n",
       "            3.8021,  2.2367],\n",
       "          [ 4.8781,  1.5602,  1.3197,  2.6734,  0.4990,  1.6481,  2.0095,\n",
       "            3.8272,  2.9353]]], dtype=torch.float64, requires_grad=True),\n",
       " 'weightList.3': Parameter containing:\n",
       " tensor([[[ 1.8303,  2.3891,  3.3546,  1.5482,  1.9819,  2.4907,  0.9735,\n",
       "           -0.0984,  2.8039],\n",
       "          [ 3.5401,  2.6348,  3.2335,  0.9352,  2.9250,  2.0191,  5.6504,\n",
       "            1.1182,  2.2833],\n",
       "          [ 2.9040,  2.5222,  1.3715,  2.6129,  1.8791, -0.1620,  0.3796,\n",
       "            3.0791,  1.7758],\n",
       "          [ 3.7105,  2.1319,  1.7584,  2.1368,  2.0913, -0.0354,  2.1602,\n",
       "            2.0082,  3.4034]],\n",
       " \n",
       "         [[ 2.0410,  2.9693,  1.5530,  1.4524,  0.7876,  3.1601,  3.2903,\n",
       "            2.1514,  0.1831],\n",
       "          [ 2.3317,  2.8050, -0.2498,  2.3067,  2.9790,  3.3004,  1.1243,\n",
       "            3.4288,  1.3353],\n",
       "          [ 0.7298,  2.8825,  2.8653,  2.6717,  2.9447,  1.6464,  2.0792,\n",
       "           -0.0164,  2.9700],\n",
       "          [-0.1480,  3.3492,  1.6891,  1.8816,  2.3033,  2.7203, -0.5901,\n",
       "            0.8612,  2.3338]],\n",
       " \n",
       "         [[ 3.1788,  3.3538,  3.1466,  1.0101,  3.1184,  1.5547,  3.1772,\n",
       "            1.3534,  1.4991],\n",
       "          [ 2.2028,  2.5675,  0.0949,  0.9061,  4.6437,  0.7890,  2.3884,\n",
       "            0.8367,  2.2201],\n",
       "          [ 0.7618,  1.5048,  2.3411,  0.9613,  1.1251,  2.8235,  3.0737,\n",
       "            2.3131,  1.2790],\n",
       "          [ 2.3548,  3.5667,  2.5244,  2.3332,  3.5288,  0.1144,  0.5084,\n",
       "            1.6478,  2.4734]],\n",
       " \n",
       "         [[ 1.9248,  1.5772,  1.7281,  1.0007,  1.0917,  2.3444,  3.2247,\n",
       "            1.8767,  2.6128],\n",
       "          [ 0.5936,  3.9614,  2.0402,  1.8835,  2.3578,  0.5565,  2.7678,\n",
       "            0.8214,  1.5584],\n",
       "          [ 3.0749,  4.5824,  2.9342,  3.3761,  3.1310,  2.7674,  2.0994,\n",
       "           -0.2151,  1.5895],\n",
       "          [ 2.1179,  4.6647,  1.8623,  3.3374,  2.9777,  1.8487,  1.5974,\n",
       "           -0.1706,  2.5963]]], dtype=torch.float64, requires_grad=True),\n",
       " 'weightList.4': Parameter containing:\n",
       " tensor([[[ 1.4849,  1.6611,  2.7281,  1.6684,  3.1979,  3.1696,  1.2698,\n",
       "            1.6686,  1.2761],\n",
       "          [ 2.6779,  3.4369,  1.0963,  1.6124,  0.4143,  2.1814,  1.3192,\n",
       "            1.9531,  3.6736],\n",
       "          [ 2.9867,  1.2572,  2.2536,  3.8072,  1.4214,  1.7886,  1.4942,\n",
       "            2.4542,  2.0471],\n",
       "          [ 2.3864,  0.7555,  1.3118,  1.3258, -0.1575,  2.5683,  1.8196,\n",
       "            0.4426,  2.5495]]], dtype=torch.float64, requires_grad=True),\n",
       " 'biasList.0': Parameter containing:\n",
       " tensor([[ 2.9315],\n",
       "         [ 1.9530],\n",
       "         [ 1.5547],\n",
       "         [-0.0072]], dtype=torch.float64, requires_grad=True),\n",
       " 'biasList.1': Parameter containing:\n",
       " tensor([[5.0391],\n",
       "         [2.3222],\n",
       "         [3.3034],\n",
       "         [2.8497]], dtype=torch.float64, requires_grad=True),\n",
       " 'biasList.2': Parameter containing:\n",
       " tensor([[1.0511],\n",
       "         [1.4400],\n",
       "         [3.7568],\n",
       "         [2.0821]], dtype=torch.float64, requires_grad=True),\n",
       " 'biasList.3': Parameter containing:\n",
       " tensor([[1.4177],\n",
       "         [0.2515],\n",
       "         [2.1053],\n",
       "         [1.8280]], dtype=torch.float64, requires_grad=True),\n",
       " 'biasList.4': Parameter containing:\n",
       " tensor([[2.0930]], dtype=torch.float64, requires_grad=True)}"
      ]
     },
     "execution_count": 31,
     "metadata": {},
     "output_type": "execute_result"
    }
   ],
   "source": [
    "dict(TestNet.named_parameters())"
   ]
  },
  {
   "cell_type": "code",
   "execution_count": 9,
   "metadata": {},
   "outputs": [
    {
     "data": {
      "text/plain": [
       "torch.Size([10, 1, 512])"
      ]
     },
     "execution_count": 9,
     "metadata": {},
     "output_type": "execute_result"
    }
   ],
   "source": [
    "StateTensors = pt.tensor(TestStates/2.0).double().view(TestStates.shape[0], 1, TestStates.shape[1])\n",
    "N_batch = StateTensors.shape[0]\n",
    "StateTensors.shape"
   ]
  },
  {
   "cell_type": "code",
   "execution_count": 10,
   "metadata": {},
   "outputs": [],
   "source": [
    "InLayers, outlayersG, outlayers, outVecSites, out = TestNet.forward(StateTensors, Test=True)"
   ]
  },
  {
   "cell_type": "code",
   "execution_count": 11,
   "metadata": {},
   "outputs": [
    {
     "data": {
      "text/plain": [
       "tensor([[-11.7782,   6.6165,  -2.1869],\n",
       "        [ -6.6165,   2.1869,  11.7782],\n",
       "        [ 11.7782,   6.6165,  -2.1869],\n",
       "        [  2.1869,  -6.6165,  11.7782],\n",
       "        [ -6.6165, -11.7782,   2.1869],\n",
       "        [  2.1869,   6.6165, -11.7782],\n",
       "        [ 11.7782,  -6.6165,  -2.1869],\n",
       "        [ 11.7782,   2.1869,   6.6165],\n",
       "        [ -2.1869,  11.7782,  -6.6165],\n",
       "        [ -2.1869,  -6.6165, -11.7782]], dtype=torch.float64,\n",
       "       grad_fn=<DivBackward0>)"
      ]
     },
     "execution_count": 11,
     "metadata": {},
     "output_type": "execute_result"
    }
   ],
   "source": [
    "out"
   ]
  },
  {
   "cell_type": "code",
   "execution_count": 12,
   "metadata": {},
   "outputs": [],
   "source": [
    "# First, Let's test for symmetry conformity of each layer\n",
    "for layer in range(Nlayers):\n",
    "    \n",
    "    layerOut = outlayers[layer]\n",
    "    \n",
    "    for ch in range(NchOuts[layer]):\n",
    "        \n",
    "        out0 = layerOut[0, ch]\n",
    "        \n",
    "        for sampInd in range(layerOut.shape[0]):\n",
    "            outsamp = layerOut[sampInd, ch]\n",
    "            g = GIndtoGDict[sampInd]\n",
    "            out0Transf = pt.zeros_like(out0)\n",
    "            for siteInd in range(Nsites):\n",
    "                Rsite = SiteIndtoR[siteInd]\n",
    "                Rnew, _ = superBCC.crys.g_pos(g, Rsite, (0, 0))\n",
    "                \n",
    "                Rnew %= 8\n",
    "                \n",
    "                siteIndNew = RtoSiteInd[Rnew[0], Rnew[1], Rnew[2]]\n",
    "                \n",
    "                out0Transf[siteIndNew] = out0[siteInd]\n",
    "                \n",
    "            assert pt.allclose(outsamp, out0Transf)"
   ]
  },
  {
   "cell_type": "markdown",
   "metadata": {},
   "source": [
    "## Then we convolve explicitly and verify outputs"
   ]
  },
  {
   "cell_type": "code",
   "execution_count": 24,
   "metadata": {},
   "outputs": [],
   "source": [
    "def layerConvTest(net, layerInd, Input, GOuts, SiteIndtoR, RtoSiteInd, dxNN):\n",
    "        \n",
    "    weightAll = net.weightList[layerInd]\n",
    "    biasAll = net.biasList[layerInd]\n",
    "    \n",
    "    NchOut = weightAll.shape[0]\n",
    "    NchIn = weightAll.shape[1]\n",
    "    \n",
    "    for sampInd in range(N_batch):\n",
    "\n",
    "        for chOut in range(NchOut):\n",
    "            bias = biasAll[chOut][0]\n",
    "\n",
    "            for gInd, g in GIndtoGDict.items():\n",
    "\n",
    "                sampOut = pt.zeros(net.Nsites).double()\n",
    "                for siteInd in range(net.Nsites):\n",
    "                    Rsite = SiteIndtoR[siteInd]\n",
    "                    sumSite = 0.\n",
    "\n",
    "                    for chIn in range(NchIn):    \n",
    "                        psi_ch_in = weightAll[chOut, chIn]\n",
    "\n",
    "                        for ngb in range(1, N_ngb):\n",
    "                            dxCart = np.dot(superBCC.crys.lattice, dxNN[ngb-1])\n",
    "                            dxCartRot = np.dot(g.cartrot, dxCart)\n",
    "                            dxRotLat = np.dot(np.linalg.inv(superBCC.crys.lattice), dxCartRot).astype(int)\n",
    "                            Rngb = (Rsite + dxRotLat)%8\n",
    "                            siteIndNgb = RtoSiteInd[Rngb[0], Rngb[1], Rngb[2]]\n",
    "\n",
    "                            sumSite += Input[sampInd, chIn, siteIndNgb] * psi_ch_in[ngb]\n",
    "\n",
    "                        sumSite += Input[sampInd, chIn, siteInd] * psi_ch_in[0]\n",
    "\n",
    "                    sumSite += bias\n",
    "\n",
    "                    sampOut[siteInd] = F.relu(sumSite)\n",
    "\n",
    "                assert pt.allclose(sampOut, GOuts[sampInd, chOut, gInd]), \"{} {}\".format(sampInd, gInd)\n",
    "    print(\"Layer {} tests done\".format(layerInd))"
   ]
  },
  {
   "cell_type": "code",
   "execution_count": 25,
   "metadata": {},
   "outputs": [
    {
     "data": {
      "text/plain": [
       "torch.Size([10, 2, 512])"
      ]
     },
     "execution_count": 25,
     "metadata": {},
     "output_type": "execute_result"
    }
   ],
   "source": [
    "outlayers[0].shape"
   ]
  },
  {
   "cell_type": "code",
   "execution_count": 26,
   "metadata": {},
   "outputs": [
    {
     "name": "stdout",
     "output_type": "stream",
     "text": [
      "Layer 0 tests done\n"
     ]
    }
   ],
   "source": [
    "# Let's do the 0th layer first\n",
    "\n",
    "# get the outputs\n",
    "outlayer0G = outlayersG[0] # Before group averaging\n",
    "sumOutsLayer0 = outlayers[0] # After group averaging\n",
    "\n",
    "layerConvTest(TestNet, 0, StateTensors, outlayer0G, SiteIndtoR, RtoSiteInd, dxNN)"
   ]
  },
  {
   "cell_type": "code",
   "execution_count": 27,
   "metadata": {},
   "outputs": [
    {
     "data": {
      "text/plain": [
       "torch.Size([2, 1, 9])"
      ]
     },
     "execution_count": 27,
     "metadata": {},
     "output_type": "execute_result"
    }
   ],
   "source": [
    "TestNet.weightList[0].shape"
   ]
  },
  {
   "cell_type": "code",
   "execution_count": 28,
   "metadata": {},
   "outputs": [],
   "source": [
    "# Then check summing across G channels\n",
    "for sampInd in range(StateTensors.shape[0]):\n",
    "    for chInd in range(sumOutsLayer0.shape[1]):        \n",
    "        for siteInd in range(Nsites):\n",
    "            sumNet = sumOutsLayer0[sampInd, chInd, siteInd]\n",
    "            sumCalc = 0.\n",
    "            for gInd in range(Ng):\n",
    "                sumCalc += outlayer0G[sampInd, chInd, gInd, siteInd]\n",
    "            assert pt.allclose(sumCalc/Ng, sumNet)"
   ]
  },
  {
   "cell_type": "code",
   "execution_count": 29,
   "metadata": {},
   "outputs": [
    {
     "name": "stdout",
     "output_type": "stream",
     "text": [
      "Layer 1 tests done\n"
     ]
    }
   ],
   "source": [
    "# Now let's check the 1th layer convolution\n",
    "outlayer1G = outlayersG[1]\n",
    "sumOutsLayer1 = outlayers[1]\n",
    "\n",
    "layerConvTest(TestNet, 1, sumOutsLayer0, outlayer1G, SiteIndtoR, RtoSiteInd, dxNN)"
   ]
  },
  {
   "cell_type": "code",
   "execution_count": 30,
   "metadata": {},
   "outputs": [],
   "source": [
    "for sampInd in range(StateTensors.shape[0]):\n",
    "    for chInd in range(sumOutsLayer1.shape[1]):        \n",
    "        for siteInd in range(Nsites):\n",
    "            sumNet = sumOutsLayer1[sampInd, chInd, siteInd]\n",
    "            sumCalc = 0.\n",
    "            for gInd in range(Ng):\n",
    "                sumCalc += outlayer1G[sampInd, chInd, gInd, siteInd]\n",
    "            assert pt.allclose(sumCalc/Ng, sumNet)"
   ]
  },
  {
   "cell_type": "code",
   "execution_count": 31,
   "metadata": {},
   "outputs": [
    {
     "name": "stdout",
     "output_type": "stream",
     "text": [
      "Layer 2 tests done\n"
     ]
    }
   ],
   "source": [
    "## Next test layer 2 outputs\n",
    "outlayer2G = outlayersG[2]\n",
    "sumOutsLayer2 = outlayers[2]\n",
    "\n",
    "layerConvTest(TestNet, 2, sumOutsLayer1, outlayer2G, SiteIndtoR, RtoSiteInd, dxNN)"
   ]
  },
  {
   "cell_type": "code",
   "execution_count": 32,
   "metadata": {},
   "outputs": [],
   "source": [
    "for sampInd in range(StateTensors.shape[0]):\n",
    "    for chInd in range(sumOutsLayer2.shape[1]):        \n",
    "        for siteInd in range(Nsites):\n",
    "            sumNet = sumOutsLayer2[sampInd, chInd, siteInd]\n",
    "            sumCalc = 0.\n",
    "            for gInd in range(Ng):\n",
    "                sumCalc += outlayer2G[sampInd, chInd, gInd, siteInd]\n",
    "            assert pt.allclose(sumCalc/Ng, sumNet)"
   ]
  },
  {
   "cell_type": "code",
   "execution_count": 33,
   "metadata": {},
   "outputs": [
    {
     "data": {
      "text/plain": [
       "512"
      ]
     },
     "execution_count": 33,
     "metadata": {},
     "output_type": "execute_result"
    }
   ],
   "source": [
    "Nsites"
   ]
  },
  {
   "cell_type": "code",
   "execution_count": 40,
   "metadata": {},
   "outputs": [
    {
     "name": "stdout",
     "output_type": "stream",
     "text": [
      "R3 conv tests passed\n"
     ]
    }
   ],
   "source": [
    "# Now we need to test the R3 convolution\n",
    "\n",
    "PsiR3 = TestNet.wtVC\n",
    "\n",
    "out3Sites0 = outVecSites[0]\n",
    "\n",
    "for sampInd in range(N_batch):\n",
    "    \n",
    "    R3OutSites = pt.zeros(3, Nsites).double()\n",
    "    \n",
    "    for siteInd in range(Nsites):\n",
    "        Rsite = SiteIndtoR[siteInd]\n",
    "        sumSite = pt.zeros(3).double()\n",
    "        \n",
    "        # get the shell of this site\n",
    "        shellInd = SitesToShells[siteInd]\n",
    "        shellWeight = TestNet.ShellWeights[shellInd]\n",
    "        \n",
    "        for gInd, g in GIndtoGDict.items():\n",
    "            \n",
    "            gRotTens = pt.tensor(g.cartrot).double()            \n",
    "            for ngb in range(1, N_ngb):\n",
    "                PsiRot = pt.matmul(gRotTens, PsiR3[:, ngb])\n",
    "                dxCart = np.dot(superBCC.crys.lattice, dxNN[ngb-1])\n",
    "                dxCartRot = np.dot(g.cartrot, dxCart)\n",
    "                dxRotLat = np.dot(np.linalg.inv(superBCC.crys.lattice), dxCartRot).astype(int)\n",
    "                Rngb = (Rsite + dxRotLat)%8\n",
    "                siteIndNgb = RtoSiteInd[Rngb[0], Rngb[1], Rngb[2]]\n",
    "                sumSite += sumOutsLayer2[sampInd, 0, siteIndNgb]*PsiRot\n",
    "            \n",
    "            sumSite += sumOutsLayer2[sampInd, 0, siteInd]*pt.matmul(gRotTens, PsiR3[:, 0])\n",
    "        \n",
    "        R3OutSites[:, siteInd] = shellWeight*sumSite/TestNet.Ng\n",
    "        \n",
    "    assert pt.allclose(R3OutSites, outVecSites[sampInd])\n",
    "    \n",
    "    # Now check symmetry relationship\n",
    "    gSamp = GIndtoGDict[sampInd]\n",
    "    gSampTens = pt.tensor(gSamp.cartrot).double()\n",
    "    for siteInd in range(Nsites):\n",
    "        vec0 = out3Sites0[:, siteInd]\n",
    "        Rsite = SiteIndtoR[siteInd]\n",
    "        Rg, _ = superBCC.crys.g_pos(gSamp, Rsite, (0,0))\n",
    "        Rg%=8\n",
    "        siteIndg = RtoSiteInd[Rg[0], Rg[1], Rg[2]]\n",
    "        assert pt.allclose(outVecSites[sampInd, :, siteIndg], pt.matmul(gSampTens, vec0))\n",
    "\n",
    "print(\"R3 conv tests passed\")"
   ]
  },
  {
   "cell_type": "code",
   "execution_count": null,
   "metadata": {},
   "outputs": [],
   "source": []
  }
 ],
 "metadata": {
  "kernelspec": {
   "display_name": "Python 3",
   "language": "python",
   "name": "python3"
  },
  "language_info": {
   "codemirror_mode": {
    "name": "ipython",
    "version": 3
   },
   "file_extension": ".py",
   "mimetype": "text/x-python",
   "name": "python",
   "nbconvert_exporter": "python",
   "pygments_lexer": "ipython3",
   "version": "3.6.9"
  }
 },
 "nbformat": 4,
 "nbformat_minor": 4
}
