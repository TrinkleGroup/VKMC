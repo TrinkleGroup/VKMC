{
 "cells": [
  {
   "cell_type": "code",
   "execution_count": 1,
   "metadata": {},
   "outputs": [],
   "source": [
    "%config Completer.use_jedi = False"
   ]
  },
  {
   "cell_type": "code",
   "execution_count": 2,
   "metadata": {},
   "outputs": [],
   "source": [
    "import os\n",
    "import sys\n",
    "RunPath = os.getcwd() + \"/\"\n",
    "CrysDatPath = \"/home/sohamc2/HEA_FCC/MDMC/CrysDat_BCC/\"\n",
    "DataPath = \"/home/sohamc2/HEA_FCC/MDMC/ML_runs/DataSets/\"\n",
    "ModulePath = \"/home/sohamc2/VKMC/SymNetworkRuns/CE_Symmetry/Symm_Network/\""
   ]
  },
  {
   "cell_type": "code",
   "execution_count": 3,
   "metadata": {},
   "outputs": [],
   "source": [
    "import numpy as np\n",
    "import h5py\n",
    "import torch as pt\n",
    "from tqdm import tqdm\n",
    "import pickle\n",
    "from GCNetRun import Load_Data, makeComputeData, makeProdTensor, Load_crysDats"
   ]
  },
  {
   "cell_type": "code",
   "execution_count": 4,
   "metadata": {},
   "outputs": [],
   "source": [
    "T = 50\n",
    "state1List, state2List, dispList, rateList, AllJumpRates, jmpSelects = Load_Data(\"singleStep_BCC_bin_{}.h5\".format(T))"
   ]
  },
  {
   "cell_type": "code",
   "execution_count": 6,
   "metadata": {},
   "outputs": [
    {
     "name": "stdout",
     "output_type": "stream",
     "text": [
      "/home/sohamc2/HEA_FCC/MDMC/CrysDat_BCC/\n"
     ]
    },
    {
     "data": {
      "text/plain": [
       "8"
      ]
     },
     "execution_count": 6,
     "metadata": {},
     "output_type": "execute_result"
    }
   ],
   "source": [
    "GpermNNIdx, NNsiteList, siteShellIndices, GIndtoGDict, JumpNewSites, dxJumps = Load_crysDats(type=\"BCC\")\n",
    "print(CrysDatPath, flush=True)\n",
    "RtoSiteInd = np.load(CrysDatPath + \"RtoSiteInd.npy\")\n",
    "SiteIndToR = np.load(CrysDatPath + \"SiteIndtoR.npy\")\n",
    "\n",
    "with open(CrysDatPath + \"supercellBCC.pkl\", \"rb\") as fl:\n",
    "    superBCC = pickle.load(fl)\n",
    "N_units = superBCC.superlatt[0,0]\n",
    "N_units"
   ]
  },
  {
   "cell_type": "markdown",
   "metadata": {},
   "source": [
    "# first test with single step dataset"
   ]
  },
  {
   "cell_type": "code",
   "execution_count": 7,
   "metadata": {},
   "outputs": [
    {
     "data": {
      "text/plain": [
       "array([[ 0.5,  0.5,  0.5],\n",
       "       [-0.5, -0.5, -0.5],\n",
       "       [ 0.5, -0.5, -0.5],\n",
       "       [-0.5,  0.5,  0.5],\n",
       "       [ 0.5, -0.5,  0.5],\n",
       "       [-0.5,  0.5, -0.5],\n",
       "       [ 0.5,  0.5, -0.5],\n",
       "       [-0.5, -0.5,  0.5]])"
      ]
     },
     "execution_count": 7,
     "metadata": {},
     "output_type": "execute_result"
    }
   ],
   "source": [
    "dxJumps"
   ]
  },
  {
   "cell_type": "code",
   "execution_count": 8,
   "metadata": {},
   "outputs": [
    {
     "name": "stderr",
     "output_type": "stream",
     "text": [
      " 37%|███▋      | 148/400 [00:00<00:00, 1476.87it/s]"
     ]
    },
    {
     "name": "stdout",
     "output_type": "stream",
     "text": [
      "Building Occupancy Tensors for species : [1]\n"
     ]
    },
    {
     "name": "stderr",
     "output_type": "stream",
     "text": [
      "100%|██████████| 400/400 [00:00<00:00, 1449.21it/s]\n"
     ]
    }
   ],
   "source": [
    "specCheck = 1\n",
    "specsToTrain = [specCheck]\n",
    "VacSpec = 2\n",
    "N_check = 200\n",
    "AllJumps = False\n",
    "State1_occs, State2_occs, rateData, dispData, OnSites_state1, OnSites_state2 =\\\n",
    "makeComputeData(state1List, state2List, dispList, specsToTrain,\n",
    "                VacSpec, rateList, AllJumpRates, JumpNewSites,\n",
    "                dxJumps, NNsiteList, N_check, AllJumps=AllJumps)\n",
    "\n",
    "OnSiteTensor1 = makeProdTensor(OnSites_state1, 3)\n",
    "OnSiteTensor2 = makeProdTensor(OnSites_state2, 3)"
   ]
  },
  {
   "cell_type": "code",
   "execution_count": 9,
   "metadata": {},
   "outputs": [
    {
     "data": {
      "text/plain": [
       "array([[ 0.5,  0.5,  0.5],\n",
       "       [-0.5, -0.5, -0.5],\n",
       "       [ 0.5, -0.5, -0.5],\n",
       "       [-0.5,  0.5,  0.5],\n",
       "       [ 0.5, -0.5,  0.5],\n",
       "       [-0.5,  0.5, -0.5],\n",
       "       [ 0.5,  0.5, -0.5],\n",
       "       [-0.5, -0.5,  0.5]])"
      ]
     },
     "execution_count": 9,
     "metadata": {},
     "output_type": "execute_result"
    }
   ],
   "source": [
    "dxJumps"
   ]
  },
  {
   "cell_type": "code",
   "execution_count": 10,
   "metadata": {},
   "outputs": [
    {
     "name": "stderr",
     "output_type": "stream",
     "text": [
      "100%|██████████| 400/400 [00:10<00:00, 36.56it/s]\n"
     ]
    }
   ],
   "source": [
    "for samp in tqdm(range(2*N_check), position=0, leave=True):\n",
    "    for site in range(state1List.shape[1]):\n",
    "        if site == 0:\n",
    "            assert np.all(State1_occs[samp, :, site] == 0)\n",
    "        else:\n",
    "            spec1 = state1List[samp, site]\n",
    "            assert State1_occs[samp, spec1, site] == 1\n",
    "            assert np.sum(State1_occs[samp, :, site]) == 1\n",
    "            \n",
    "            spec2 = state2List[samp, site]\n",
    "            assert State2_occs[samp, spec2, site] == 1\n",
    "            assert np.sum(State2_occs[samp, :, site]) == 1\n",
    "        \n",
    "    # check the displacements\n",
    "    jSelect = jmpSelects[samp]\n",
    "    NNR = np.dot(np.linalg.inv(superBCC.crys.lattice), dxJumps[jSelect]).astype(int) % N_units\n",
    "    NNsiteVac = NNsiteList[jSelect + 1, 0]\n",
    "    assert np.all(NNR == SiteIndToR[NNsiteVac])\n",
    "    spec = state1List[samp, NNsiteVac]\n",
    "    assert np.allclose(dispData[samp, 0], dxJumps[jSelect])\n",
    "    if spec == specCheck:\n",
    "        assert np.allclose(dispData[samp, 1], -dxJumps[jSelect])\n",
    "    else:\n",
    "        assert np.allclose(dispData[samp, 1], 0.0)\n",
    "    \n",
    "    # check the rate\n",
    "    assert np.math.isclose(rateData[samp], rateList[samp])"
   ]
  },
  {
   "cell_type": "code",
   "execution_count": 11,
   "metadata": {},
   "outputs": [
    {
     "name": "stderr",
     "output_type": "stream",
     "text": [
      "100%|██████████| 400/400 [00:05<00:00, 71.54it/s]\n"
     ]
    }
   ],
   "source": [
    "batchStart = 0 #np.random.randint(OnSiteTensor1.shape[0] - N_check)\n",
    "batchEnd = batchStart + 2*N_check\n",
    "y = pt.rand(2*N_check, 3, state1List.shape[1]).double()\n",
    "\n",
    "y1_calc = pt.sum(y*OnSiteTensor1[batchStart : batchEnd], dim=2)\n",
    "y2_calc = pt.sum(y*OnSiteTensor2[batchStart : batchEnd], dim=2)\n",
    "\n",
    "for sampInd in tqdm(range(batchStart, batchEnd), position=0, leave=True):\n",
    "    y1_samp = pt.zeros(3).double()\n",
    "    y2_samp = pt.zeros(3).double()\n",
    "    for site in range(OnSiteTensor1.shape[2]):\n",
    "        occs1 = State1_occs[sampInd, :, site]\n",
    "        occs2 = State2_occs[sampInd, :, site]\n",
    "        if occs1[specCheck] == 1:\n",
    "            y1_samp += y[sampInd - batchStart, :, site]\n",
    "        if occs2[specCheck] == 1:\n",
    "            y2_samp += y[sampInd - batchStart, :, site]\n",
    "    \n",
    "    assert pt.allclose(y1_calc[sampInd - batchStart], y1_samp)\n",
    "    assert pt.allclose(y2_calc[sampInd - batchStart], y2_samp)"
   ]
  },
  {
   "cell_type": "markdown",
   "metadata": {},
   "source": [
    "# now let's try with all jumps"
   ]
  },
  {
   "cell_type": "code",
   "execution_count": 12,
   "metadata": {},
   "outputs": [
    {
     "name": "stderr",
     "output_type": "stream",
     "text": [
      "  9%|▉         | 18/200 [00:00<00:01, 179.45it/s]"
     ]
    },
    {
     "name": "stdout",
     "output_type": "stream",
     "text": [
      "Building Occupancy Tensors for species : [1]\n"
     ]
    },
    {
     "name": "stderr",
     "output_type": "stream",
     "text": [
      "100%|██████████| 200/200 [00:01<00:00, 178.03it/s]\n"
     ]
    }
   ],
   "source": [
    "specCheck = 1\n",
    "specsToTrain = [specCheck]\n",
    "VacSpec = 2\n",
    "N_train = 100\n",
    "AllJumps = True\n",
    "State1_occs, State2_occs, rateData, dispData, OnSites_state1, OnSites_state2 =\\\n",
    "makeComputeData(state1List, state2List, dispList, specsToTrain,\n",
    "                VacSpec, rateList, AllJumpRates, JumpNewSites,\n",
    "                dxJumps, NNsiteList, N_train, AllJumps=AllJumps)\n",
    "\n",
    "assert State1_occs.shape[0] == State2_occs.shape[0] == rateData.shape[0] == dispData.shape[0] == 1600\n",
    "assert OnSites_state1.shape[0] == OnSites_state1.shape[0] == 1600\n",
    "\n",
    "OnSiteTensor1 = makeProdTensor(OnSites_state1, 3)\n",
    "OnSiteTensor2 = makeProdTensor(OnSites_state2, 3)"
   ]
  },
  {
   "cell_type": "code",
   "execution_count": 13,
   "metadata": {},
   "outputs": [
    {
     "data": {
      "text/plain": [
       "1600"
      ]
     },
     "execution_count": 13,
     "metadata": {},
     "output_type": "execute_result"
    }
   ],
   "source": [
    "State1_occs.shape[0]"
   ]
  },
  {
   "cell_type": "code",
   "execution_count": 15,
   "metadata": {},
   "outputs": [
    {
     "name": "stderr",
     "output_type": "stream",
     "text": [
      "100%|██████████| 200/200 [01:01<00:00,  3.26it/s]\n"
     ]
    }
   ],
   "source": [
    "for stateInd in tqdm(range(N_train*2), position=0, leave=True):\n",
    "    state1 = state1List[stateInd]\n",
    "    for jInd in range(dxJumps.shape[0]):\n",
    "        state2 = state1.copy()\n",
    "        NNsiteVac = NNsiteList[jInd + 1, 0]\n",
    "        RsiteVac = SiteIndToR[NNsiteVac]\n",
    "        assert state2[0] == 2\n",
    "        state2[0] = state2[NNsiteVac]\n",
    "        state2[NNsiteVac] = 2\n",
    "        \n",
    "        for site in range(state1List.shape[1]):\n",
    "            Rsite = SiteIndToR[site]\n",
    "            RsiteNew = (Rsite + RsiteVac) % N_units\n",
    "            siteNew = RtoSiteInd[RsiteNew[0], RsiteNew[1], RsiteNew[2]]\n",
    "            spec1 = state1[site]\n",
    "            spec2 = state2[siteNew]\n",
    "            \n",
    "            if site == 0:\n",
    "                assert spec2 == 2\n",
    "                assert np.all(State1_occs[stateInd * dxJumps.shape[0] + jInd, :, site] == 0)\n",
    "                assert np.all(State2_occs[stateInd * dxJumps.shape[0] + jInd, :, site] == 0)\n",
    "            \n",
    "            else:\n",
    "                assert spec2 != 2\n",
    "                assert State1_occs[stateInd * dxJumps.shape[0] + jInd, spec1, site] == 1\n",
    "                assert np.sum(State1_occs[stateInd * dxJumps.shape[0] + jInd, :, site]) == 1\n",
    "\n",
    "                assert State2_occs[stateInd * dxJumps.shape[0] + jInd, spec2, site] == 1\n",
    "                assert np.sum(State2_occs[stateInd * dxJumps.shape[0] + jInd, :, site]) == 1\n",
    "        \n",
    "        # check the displacements\n",
    "        NNR = np.dot(np.linalg.inv(superBCC.crys.lattice), dxJumps[jInd]).astype(int) % N_units\n",
    "        NNsiteVac = NNsiteList[jInd + 1, 0]\n",
    "        assert np.all(NNR == SiteIndToR[NNsiteVac])\n",
    "        spec = state1[NNsiteVac]\n",
    "        assert np.allclose(dispData[stateInd * dxJumps.shape[0] + jInd, 0], dxJumps[jInd])\n",
    "        if spec == specCheck:\n",
    "            assert np.allclose(dispData[stateInd * dxJumps.shape[0] + jInd, 1], -dxJumps[jInd])\n",
    "        \n",
    "        # check the rate\n",
    "        assert np.allclose(rateData[stateInd * dxJumps.shape[0] + jInd], AllJumpRates[stateInd, jInd])"
   ]
  },
  {
   "cell_type": "code",
   "execution_count": 16,
   "metadata": {},
   "outputs": [
    {
     "data": {
      "text/plain": [
       "1.0"
      ]
     },
     "execution_count": 16,
     "metadata": {},
     "output_type": "execute_result"
    }
   ],
   "source": [
    "np.linalg.norm(dispList[0, VacSpec, :])/np.linalg.norm(dxJumps[0])"
   ]
  },
  {
   "cell_type": "code",
   "execution_count": 18,
   "metadata": {},
   "outputs": [
    {
     "name": "stderr",
     "output_type": "stream",
     "text": [
      "100%|██████████| 1000/1000 [00:13<00:00, 71.78it/s]\n"
     ]
    }
   ],
   "source": [
    "batchStart = 0 #np.random.randint(OnSiteTensor1.shape[0] - 1000)\n",
    "batchEnd = batchStart + 1000\n",
    "y = pt.rand(1000, 3, state1List.shape[1]).double()\n",
    "\n",
    "y1_calc = pt.sum(y*OnSiteTensor1[batchStart : batchEnd], dim=2)\n",
    "y2_calc = pt.sum(y*OnSiteTensor2[batchStart : batchEnd], dim=2)\n",
    "\n",
    "for sampInd in tqdm(range(batchStart, batchEnd), position=0, leave=True):\n",
    "    y1_samp = pt.zeros(3).double()\n",
    "    y2_samp = pt.zeros(3).double()\n",
    "    for site in range(OnSiteTensor1.shape[2]):\n",
    "        occs1 = State1_occs[sampInd, :, site]\n",
    "        occs2 = State2_occs[sampInd, :, site]\n",
    "        if occs1[specCheck] == 1:\n",
    "            y1_samp += y[sampInd - batchStart, :, site]\n",
    "        if occs2[specCheck] == 1:\n",
    "            y2_samp += y[sampInd - batchStart, :, site]\n",
    "    \n",
    "    assert pt.allclose(y1_calc[sampInd - batchStart], y1_samp)\n",
    "    assert pt.allclose(y2_calc[sampInd - batchStart], y2_samp)"
   ]
  },
  {
   "cell_type": "code",
   "execution_count": null,
   "metadata": {},
   "outputs": [],
   "source": []
  }
 ],
 "metadata": {
  "kernelspec": {
   "display_name": "Python [conda env:.conda-Soham_pt_1.7]",
   "language": "python",
   "name": "conda-env-.conda-Soham_pt_1.7-py"
  },
  "language_info": {
   "codemirror_mode": {
    "name": "ipython",
    "version": 3
   },
   "file_extension": ".py",
   "mimetype": "text/x-python",
   "name": "python",
   "nbconvert_exporter": "python",
   "pygments_lexer": "ipython3",
   "version": "3.7.10"
  }
 },
 "nbformat": 4,
 "nbformat_minor": 4
}
