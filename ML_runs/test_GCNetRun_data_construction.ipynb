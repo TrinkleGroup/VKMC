{
 "cells": [
  {
   "cell_type": "code",
   "execution_count": 5,
   "metadata": {},
   "outputs": [],
   "source": [
    "%config Completer.use_jedi = False"
   ]
  },
  {
   "cell_type": "code",
   "execution_count": 1,
   "metadata": {},
   "outputs": [],
   "source": [
    "import os\n",
    "import sys\n",
    "RunPath = os.getcwd() + \"/\"\n",
    "CrysDatPath = \"/home/sohamc2/HEA_FCC/CrysDat/\"\n",
    "DataPath = \"/home/sohamc2/HEA_FCC/MDMC/ML_runs/DataSets/\"\n",
    "ModulePath = \"/home/sohamc2/VKMC/SymNetworkRuns/CE_Symmetry/Symm_Network/\""
   ]
  },
  {
   "cell_type": "code",
   "execution_count": 2,
   "metadata": {},
   "outputs": [],
   "source": [
    "import numpy as np\n",
    "import h5py\n",
    "import torch as pt\n",
    "from tqdm import tqdm\n",
    "import pickle\n",
    "from GCNetRun import Load_Data, makeComputeData, makeProdTensor, Load_crysDats"
   ]
  },
  {
   "cell_type": "code",
   "execution_count": 4,
   "metadata": {},
   "outputs": [
    {
     "name": "stdout",
     "output_type": "stream",
     "text": [
      "found permuation\n"
     ]
    }
   ],
   "source": [
    "T = 1073\n",
    "state1List, state2List, dispList, rateList, AllJumpRates, jmpSelects = Load_Data(\"singleStep_{}.h5\".format(T))"
   ]
  },
  {
   "cell_type": "code",
   "execution_count": 6,
   "metadata": {},
   "outputs": [
    {
     "data": {
      "text/plain": [
       "8"
      ]
     },
     "execution_count": 6,
     "metadata": {},
     "output_type": "execute_result"
    }
   ],
   "source": [
    "GpermNNIdx, NNsiteList, siteShellIndices, GIndtoGDict, JumpNewSites, dxJumps = Load_crysDats()\n",
    "RtoSiteInd = np.load(CrysDatPath + \"RtoSiteInd.npy\")\n",
    "SiteIndToR = np.load(CrysDatPath + \"SiteIndtoR.npy\")\n",
    "\n",
    "with open(CrysDatPath + \"supercellFCC.pkl\", \"rb\") as fl:\n",
    "    superFCC = pickle.load(fl)\n",
    "N_units = superFCC.superlatt[0,0]\n",
    "N_units"
   ]
  },
  {
   "cell_type": "markdown",
   "metadata": {},
   "source": [
    "# first test with single step dataset"
   ]
  },
  {
   "cell_type": "code",
   "execution_count": 7,
   "metadata": {},
   "outputs": [
    {
     "name": "stderr",
     "output_type": "stream",
     "text": [
      "  1%|          | 22/4000 [00:00<00:18, 212.77it/s]"
     ]
    },
    {
     "name": "stdout",
     "output_type": "stream",
     "text": [
      "Building Occupancy Tensors for species : [5]\n"
     ]
    },
    {
     "name": "stderr",
     "output_type": "stream",
     "text": [
      "100%|██████████| 4000/4000 [00:20<00:00, 199.10it/s]\n"
     ]
    }
   ],
   "source": [
    "specCheck = 5\n",
    "specsToTrain = [specCheck]\n",
    "VacSpec = 0\n",
    "N_train = 2000\n",
    "AllJumps = False\n",
    "State1_occs, State2_occs, rateData, dispData, OnSites_state1, OnSites_state2 =\\\n",
    "makeComputeData(state1List, state2List, dispList, specsToTrain,\n",
    "                VacSpec, rateList, AllJumpRates, JumpNewSites,\n",
    "                dxJumps, NNsiteList, N_train, AllJumps=AllJumps)\n",
    "\n",
    "OnSiteTensor1 = makeProdTensor(OnSites_state1, 3)\n",
    "OnSiteTensor2 = makeProdTensor(OnSites_state2, 3)"
   ]
  },
  {
   "cell_type": "code",
   "execution_count": 9,
   "metadata": {},
   "outputs": [
    {
     "name": "stderr",
     "output_type": "stream",
     "text": [
      "100%|██████████| 1000/1000 [00:36<00:00, 27.66it/s]\n"
     ]
    }
   ],
   "source": [
    "for samp in tqdm(range(1000), position=0, leave=True):\n",
    "    for site in range(state1List.shape[1]):\n",
    "        if site == 0:\n",
    "            assert np.all(State1_occs[samp, :, site] == 0)\n",
    "        else:\n",
    "            spec1 = state1List[samp, site]\n",
    "            assert State1_occs[samp, spec1 - 1, site] == 1\n",
    "            assert np.sum(State1_occs[samp, :, site]) == 1\n",
    "            \n",
    "            spec2 = state2List[samp, site]\n",
    "            assert State2_occs[samp, spec2 - 1, site] == 1\n",
    "            assert np.sum(State2_occs[samp, :, site]) == 1\n",
    "        \n",
    "    # check the displacements\n",
    "    jSelect = jmpSelects[samp]\n",
    "    NNR = np.dot(np.linalg.inv(superFCC.crys.lattice), dxJumps[jSelect]).astype(int) % N_units\n",
    "    NNsiteVac = NNsiteList[jSelect + 1, 0]\n",
    "    assert np.all(NNR == SiteIndToR[NNsiteVac])\n",
    "    spec = state1List[samp, NNsiteVac]\n",
    "    assert np.allclose(dispData[samp, 0], 3.59*dxJumps[jSelect])\n",
    "    if spec == specCheck:\n",
    "        assert np.allclose(dispData[samp, 1], -3.59*dxJumps[jSelect])\n",
    "    else:\n",
    "        assert np.allclose(dispData[samp, 1], 0.0)\n",
    "    \n",
    "    # check the rate\n",
    "    assert np.math.isclose(rateData[samp], rateList[samp])"
   ]
  },
  {
   "cell_type": "code",
   "execution_count": 10,
   "metadata": {},
   "outputs": [
    {
     "data": {
      "text/plain": [
       "torch.Size([4000, 3, 512])"
      ]
     },
     "execution_count": 10,
     "metadata": {},
     "output_type": "execute_result"
    }
   ],
   "source": [
    "OnSiteTensor1.shape"
   ]
  },
  {
   "cell_type": "code",
   "execution_count": 11,
   "metadata": {},
   "outputs": [
    {
     "name": "stderr",
     "output_type": "stream",
     "text": [
      "100%|██████████| 1000/1000 [00:08<00:00, 117.07it/s]\n"
     ]
    }
   ],
   "source": [
    "batchStart = np.random.randint(OnSiteTensor1.shape[0] - 1000)\n",
    "batchEnd = batchStart + 1000\n",
    "y = pt.rand(1000, 3, state1List.shape[1]).double()\n",
    "\n",
    "y1_calc = pt.sum(y*OnSiteTensor1[batchStart : batchEnd], dim=2)\n",
    "y2_calc = pt.sum(y*OnSiteTensor2[batchStart : batchEnd], dim=2)\n",
    "\n",
    "for sampInd in tqdm(range(batchStart, batchEnd), position=0, leave=True):\n",
    "    y1_samp = pt.zeros(3).double()\n",
    "    y2_samp = pt.zeros(3).double()\n",
    "    for site in range(OnSiteTensor1.shape[2]):\n",
    "        occs1 = State1_occs[sampInd, :, site]\n",
    "        occs2 = State2_occs[sampInd, :, site]\n",
    "        if occs1[specCheck-1] == 1:\n",
    "            y1_samp += y[sampInd - batchStart, :, site]\n",
    "        if occs2[specCheck-1] == 1:\n",
    "            y2_samp += y[sampInd - batchStart, :, site]\n",
    "    \n",
    "    assert pt.allclose(y1_calc[sampInd - batchStart], y1_samp)\n",
    "    assert pt.allclose(y2_calc[sampInd - batchStart], y2_samp)"
   ]
  },
  {
   "cell_type": "markdown",
   "metadata": {},
   "source": [
    "# now let's try with all jumps"
   ]
  },
  {
   "cell_type": "code",
   "execution_count": 12,
   "metadata": {},
   "outputs": [
    {
     "name": "stderr",
     "output_type": "stream",
     "text": [
      "  2%|▏         | 4/200 [00:00<00:11, 16.97it/s]"
     ]
    },
    {
     "name": "stdout",
     "output_type": "stream",
     "text": [
      "Building Occupancy Tensors for species : [5]\n"
     ]
    },
    {
     "name": "stderr",
     "output_type": "stream",
     "text": [
      "100%|██████████| 200/200 [00:11<00:00, 16.81it/s]\n"
     ]
    }
   ],
   "source": [
    "specCheck = 5\n",
    "specsToTrain = [specCheck]\n",
    "VacSpec = 0\n",
    "N_train = 100\n",
    "AllJumps = True\n",
    "State1_occs, State2_occs, rateData, dispData, OnSites_state1, OnSites_state2 =\\\n",
    "makeComputeData(state1List, state2List, dispList, specsToTrain,\n",
    "                VacSpec, rateList, AllJumpRates, JumpNewSites,\n",
    "                dxJumps, NNsiteList, N_train, AllJumps=AllJumps)\n",
    "\n",
    "assert State1_occs.shape[0] == State2_occs.shape[0] == rateData.shape[0] == dispData.shape[0] == 2400\n",
    "assert OnSites_state1.shape[0] == OnSites_state1.shape[0] == 2400\n",
    "\n",
    "OnSiteTensor1 = makeProdTensor(OnSites_state1, 3)\n",
    "OnSiteTensor2 = makeProdTensor(OnSites_state2, 3)"
   ]
  },
  {
   "cell_type": "code",
   "execution_count": 13,
   "metadata": {},
   "outputs": [
    {
     "name": "stderr",
     "output_type": "stream",
     "text": [
      "100%|██████████| 200/200 [01:35<00:00,  2.10it/s]\n"
     ]
    }
   ],
   "source": [
    "for stateInd in tqdm(range(N_train*2), position=0, leave=True):\n",
    "    state1 = state1List[stateInd]\n",
    "    for jInd in range(dxJumps.shape[0]):\n",
    "        state2 = state1.copy()\n",
    "        NNsiteVac = NNsiteList[jInd + 1, 0]\n",
    "        RsiteVac = SiteIndToR[NNsiteVac]\n",
    "        state2[0] = state2[NNsiteVac]\n",
    "        state2[NNsiteVac] = 0\n",
    "        \n",
    "        for site in range(state1List.shape[1]):\n",
    "            Rsite = SiteIndToR[site]\n",
    "            RsiteNew = (Rsite + RsiteVac) % N_units\n",
    "            siteNew = RtoSiteInd[RsiteNew[0], RsiteNew[1], RsiteNew[2]]\n",
    "            spec1 = state1[site]\n",
    "            spec2 = state2[siteNew]\n",
    "            \n",
    "            if site == 0:\n",
    "                assert spec2 == 0\n",
    "                assert np.all(State1_occs[stateInd * dxJumps.shape[0] + jInd, :, site] == 0)\n",
    "                assert np.all(State2_occs[stateInd * dxJumps.shape[0] + jInd, :, site] == 0)\n",
    "            \n",
    "            else:\n",
    "                assert spec2 != 0\n",
    "                assert State1_occs[stateInd * dxJumps.shape[0] + jInd, spec1-1, site] == 1\n",
    "                assert np.sum(State1_occs[stateInd * dxJumps.shape[0] + jInd, :, site]) == 1\n",
    "\n",
    "                assert State2_occs[stateInd * dxJumps.shape[0] + jInd, spec2-1, site] == 1\n",
    "                assert np.sum(State2_occs[stateInd * dxJumps.shape[0] + jInd, :, site]) == 1\n",
    "        \n",
    "        # check the displacements\n",
    "        NNR = np.dot(np.linalg.inv(superFCC.crys.lattice), dxJumps[jInd]).astype(int) % N_units\n",
    "        NNsiteVac = NNsiteList[jInd + 1, 0]\n",
    "        assert np.all(NNR == SiteIndToR[NNsiteVac])\n",
    "        spec = state1[NNsiteVac]\n",
    "        assert np.allclose(dispData[stateInd * dxJumps.shape[0] + jInd, 0], 3.59*dxJumps[jInd])\n",
    "        if spec == specCheck:\n",
    "            assert np.allclose(dispData[stateInd * dxJumps.shape[0] + jInd, 1], -3.59*dxJumps[jInd])\n",
    "        \n",
    "        # check the rate\n",
    "        assert np.allclose(rateData[stateInd * dxJumps.shape[0] + jInd], AllJumpRates[stateInd, jInd])"
   ]
  },
  {
   "cell_type": "code",
   "execution_count": 14,
   "metadata": {},
   "outputs": [
    {
     "name": "stderr",
     "output_type": "stream",
     "text": [
      "100%|██████████| 1000/1000 [00:08<00:00, 116.60it/s]\n"
     ]
    }
   ],
   "source": [
    "batchStart = np.random.randint(OnSiteTensor1.shape[0] - 1000)\n",
    "batchEnd = batchStart + 1000\n",
    "y = pt.rand(1000, 3, state1List.shape[1]).double()\n",
    "\n",
    "y1_calc = pt.sum(y*OnSiteTensor1[batchStart : batchEnd], dim=2)\n",
    "y2_calc = pt.sum(y*OnSiteTensor2[batchStart : batchEnd], dim=2)\n",
    "\n",
    "for sampInd in tqdm(range(batchStart, batchEnd), position=0, leave=True):\n",
    "    y1_samp = pt.zeros(3).double()\n",
    "    y2_samp = pt.zeros(3).double()\n",
    "    for site in range(OnSiteTensor1.shape[2]):\n",
    "        occs1 = State1_occs[sampInd, :, site]\n",
    "        occs2 = State2_occs[sampInd, :, site]\n",
    "        if occs1[specCheck-1] == 1:\n",
    "            y1_samp += y[sampInd - batchStart, :, site]\n",
    "        if occs2[specCheck-1] == 1:\n",
    "            y2_samp += y[sampInd - batchStart, :, site]\n",
    "    \n",
    "    assert pt.allclose(y1_calc[sampInd - batchStart], y1_samp)\n",
    "    assert pt.allclose(y2_calc[sampInd - batchStart], y2_samp)"
   ]
  },
  {
   "cell_type": "code",
   "execution_count": null,
   "metadata": {},
   "outputs": [],
   "source": []
  }
 ],
 "metadata": {
  "kernelspec": {
   "display_name": "Python [conda env:.conda-Soham_pt_1.7]",
   "language": "python",
   "name": "conda-env-.conda-Soham_pt_1.7-py"
  },
  "language_info": {
   "codemirror_mode": {
    "name": "ipython",
    "version": 3
   },
   "file_extension": ".py",
   "mimetype": "text/x-python",
   "name": "python",
   "nbconvert_exporter": "python",
   "pygments_lexer": "ipython3",
   "version": "3.7.10"
  }
 },
 "nbformat": 4,
 "nbformat_minor": 4
}
