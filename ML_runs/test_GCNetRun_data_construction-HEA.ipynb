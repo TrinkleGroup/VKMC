{
 "cells": [
  {
   "cell_type": "code",
   "execution_count": 1,
   "metadata": {},
   "outputs": [],
   "source": [
    "%config Completer.use_jedi = False"
   ]
  },
  {
   "cell_type": "code",
   "execution_count": 2,
   "metadata": {},
   "outputs": [],
   "source": [
    "import os\n",
    "import sys\n",
    "RunPath = os.getcwd() + \"/\"\n",
    "CrysDatPath = \"../CrysDat_FCC/\" #\"/home/sohamc2/HEA_FCC/MDMC/CrysDat_FCC/\"\n",
    "DataPath = \"../MD_KMC_single/\" #\"/home/sohamc2/HEA_FCC/MDMC/ML_runs/DataSets/\"\n",
    "ModulePath = \"../Symm_Network/\" #\"/home/sohamc2/VKMC/SymNetworkRuns/CE_Symmetry/Symm_Network/\""
   ]
  },
  {
   "cell_type": "code",
   "execution_count": 3,
   "metadata": {},
   "outputs": [],
   "source": [
    "import numpy as np\n",
    "import h5py\n",
    "import torch as pt\n",
    "from tqdm import tqdm\n",
    "import pickle\n",
    "from GCNetRun import Load_Data, makeComputeData, makeDataTensors, Load_crysDats, SpecBatchOuts, vacBatchOuts"
   ]
  },
  {
   "cell_type": "code",
   "execution_count": 4,
   "metadata": {},
   "outputs": [
    {
     "name": "stdout",
     "output_type": "stream",
     "text": [
      "found permuation\n"
     ]
    }
   ],
   "source": [
    "T = 1073\n",
    "state1List, state2List, dispList, rateList, AllJumpRates_st1,\\\n",
    "AllJumpRates_st2, avgDisps_st1, avgDisps_st2 = Load_Data(DataPath + \"singleStep_{}_AllRates.h5\".format(T))"
   ]
  },
  {
   "cell_type": "code",
   "execution_count": 5,
   "metadata": {},
   "outputs": [
    {
     "data": {
      "text/plain": [
       "8"
      ]
     },
     "execution_count": 5,
     "metadata": {},
     "output_type": "execute_result"
    }
   ],
   "source": [
    "GpermNNIdx, NNsiteList, JumpNewSites, dxJumps = Load_crysDats(1, CrysDatPath)\n",
    "\n",
    "z = dxJumps.shape[0]\n",
    "\n",
    "RtoSiteInd = np.load(CrysDatPath + \"RtoSiteInd.npy\")\n",
    "SiteIndToR = np.load(CrysDatPath + \"SiteIndtoR.npy\")\n",
    "\n",
    "with open(CrysDatPath + \"supercellFCC.pkl\", \"rb\") as fl:\n",
    "    superFCC = pickle.load(fl)\n",
    "N_units = superFCC.superlatt[0,0]\n",
    "N_units"
   ]
  },
  {
   "cell_type": "markdown",
   "metadata": {},
   "source": [
    "# First test with single step dataset"
   ]
  },
  {
   "cell_type": "code",
   "execution_count": 6,
   "metadata": {},
   "outputs": [
    {
     "name": "stdout",
     "output_type": "stream",
     "text": [
      "Building Occupancy Tensors for species : [5]\n",
      "No. of jumps : 200\n"
     ]
    },
    {
     "name": "stderr",
     "output_type": "stream",
     "text": [
      "100%|██████████████████████████████████████████████████████████████████████████████████████████████████████████████████████████████████████████████████████████████████████████| 200/200 [00:00<00:00, 1625.85it/s]\n"
     ]
    }
   ],
   "source": [
    "specCheck = 5\n",
    "specsToTrain = [specCheck]\n",
    "VacSpec = 0\n",
    "N_check = 200\n",
    "AllJumps = False\n",
    "\n",
    "State1_occs, State2_occs, rates, disps, OnSites_state1, OnSites_state2, sp_ch =\\\n",
    "makeComputeData(state1List, state2List, dispList, specsToTrain, VacSpec, rateList,\n",
    "                AllJumpRates_st1, AllJumpRates_st2, avgDisps_st1, avgDisps_st2, JumpNewSites,\n",
    "                dxJumps, NNsiteList, N_check, AllJumps=AllJumps, mode=\"train\")"
   ]
  },
  {
   "cell_type": "markdown",
   "metadata": {},
   "source": [
    "## Test Occupancies"
   ]
  },
  {
   "cell_type": "code",
   "execution_count": 7,
   "metadata": {},
   "outputs": [
    {
     "data": {
      "text/plain": [
       "(200, 5, 512)"
      ]
     },
     "execution_count": 7,
     "metadata": {},
     "output_type": "execute_result"
    }
   ],
   "source": [
    "State1_occs.shape"
   ]
  },
  {
   "cell_type": "code",
   "execution_count": 8,
   "metadata": {},
   "outputs": [
    {
     "name": "stderr",
     "output_type": "stream",
     "text": [
      "100%|████████████████████████████████████████████████████████████████████████████████████████████████████████████████████████████████████████████████████████████████████████████| 200/200 [00:03<00:00, 50.56it/s]\n"
     ]
    }
   ],
   "source": [
    "for samp in tqdm(range(N_check), position=0, leave=True):\n",
    "    for site in range(state1List.shape[1]):\n",
    "        if site == 0:\n",
    "            assert np.all(State1_occs[samp, :, site] == 0)\n",
    "        else:\n",
    "            spec1 = state1List[samp, site]\n",
    "            assert State1_occs[samp, spec1 - 1, site] == 1\n",
    "            assert np.sum(State1_occs[samp, :, site]) == 1\n",
    "            \n",
    "            spec2 = state2List[samp, site]\n",
    "            assert State2_occs[samp, spec2 - 1, site] == 1\n",
    "            assert np.sum(State2_occs[samp, :, site]) == 1\n",
    "        \n",
    "    # check the displacements\n",
    "    jSelect = None\n",
    "    count = 0\n",
    "    for jInd in range(JumpNewSites.shape[0]):\n",
    "        state2_try = state1List[samp][JumpNewSites[jInd]]\n",
    "        if np.all(state2_try == state2List[samp]):\n",
    "            jSelect = jInd\n",
    "            count += 1\n",
    "    assert count == 1\n",
    "        \n",
    "    NNR = np.dot(np.linalg.inv(superFCC.crys.lattice), dxJumps[jSelect]).astype(int)\n",
    "    assert np.allclose(np.dot(superFCC.crys.lattice, NNR), dxJumps[jSelect])\n",
    "    NNRSite = superFCC.index(NNR, (0, 0))[0]\n",
    "    \n",
    "    NNsiteVac = NNsiteList[jSelect + 1, 0]\n",
    "    assert np.all(NNRSite == NNsiteVac)\n",
    "    \n",
    "    spec = state1List[samp, NNsiteVac]\n",
    "    assert np.allclose(disps[samp, 0], 3.59*dxJumps[jSelect])\n",
    "    if spec == specCheck:\n",
    "        assert np.allclose(disps[samp, 1], -3.59*dxJumps[jSelect])\n",
    "    else:\n",
    "        assert np.allclose(disps[samp, 1], 0.0)\n",
    "    \n",
    "    # check the rate\n",
    "    assert np.math.isclose(rates[samp], rateList[samp])"
   ]
  },
  {
   "cell_type": "markdown",
   "metadata": {},
   "source": [
    "## Check the batched calculation of y vectors"
   ]
  },
  {
   "cell_type": "markdown",
   "metadata": {},
   "source": [
    "### Check without jump channels - tests shifted to new notebook for those"
   ]
  },
  {
   "cell_type": "code",
   "execution_count": 9,
   "metadata": {},
   "outputs": [
    {
     "name": "stdout",
     "output_type": "stream",
     "text": [
      "Training Species : [5]\n"
     ]
    }
   ],
   "source": [
    "state1Data, state2Data, dispData, rateData, On_st1, On_st2 =\\\n",
    "makeDataTensors(State1_occs, State2_occs, rates, disps, OnSites_state1, OnSites_state2,\n",
    "                specsToTrain, VacSpec, sp_ch, Ndim=3)"
   ]
  },
  {
   "cell_type": "code",
   "execution_count": 10,
   "metadata": {},
   "outputs": [
    {
     "data": {
      "text/plain": [
       "(torch.Size([200, 512]), torch.Size([200, 3]))"
      ]
     },
     "execution_count": 10,
     "metadata": {},
     "output_type": "execute_result"
    }
   ],
   "source": [
    "On_st1.shape, dispData.shape"
   ]
  },
  {
   "cell_type": "code",
   "execution_count": 11,
   "metadata": {},
   "outputs": [
    {
     "data": {
      "text/plain": [
       "tensor(0.0386, dtype=torch.float64)"
      ]
     },
     "execution_count": 11,
     "metadata": {},
     "output_type": "execute_result"
    }
   ],
   "source": [
    "pt.dot(rateData, pt.norm(dispData, dim=1)**2)/(6.0 * dispData.shape[0])"
   ]
  },
  {
   "cell_type": "code",
   "execution_count": 14,
   "metadata": {},
   "outputs": [
    {
     "name": "stderr",
     "output_type": "stream",
     "text": [
      "100%|████████████████████████████████████████| 200/200 [00:01<00:00, 123.35it/s]\n"
     ]
    }
   ],
   "source": [
    "batchStart = 0\n",
    "batchEnd = batchStart + N_check\n",
    "y = pt.rand(N_check, 1, 3, state1List.shape[1]).double()\n",
    "\n",
    "jProbs_st1 = None\n",
    "jProbs_st2 = None\n",
    "NNsvac_st1 = None\n",
    "NNsvac_st2 = None\n",
    "\n",
    "y1, y2 = SpecBatchOuts(y, y, On_st1, On_st2, jProbs_st1, jProbs_st2,\n",
    "                       NNsvac_st1, NNsvac_st2, False, False)\n",
    "\n",
    "for sampInd in tqdm(range(batchStart, batchEnd), position=0, leave=True):\n",
    "    y1_samp = pt.zeros(3).double()\n",
    "    y2_samp = pt.zeros(3).double()\n",
    "    for site in range(On_st1.shape[1]):\n",
    "        occs1 = State1_occs[sampInd, :, site]\n",
    "        occs2 = State2_occs[sampInd, :, site]\n",
    "        if occs1[specCheck-1] == 1:\n",
    "            y1_samp += y[sampInd - batchStart, 0, :, site]\n",
    "        if occs2[specCheck-1] == 1:\n",
    "            y2_samp += y[sampInd - batchStart, 0, :, site]\n",
    "    \n",
    "    assert pt.allclose(y1[sampInd - batchStart], y1_samp)\n",
    "    assert pt.allclose(y2[sampInd - batchStart], y2_samp)"
   ]
  },
  {
   "cell_type": "markdown",
   "metadata": {},
   "source": [
    "# now let's try with all jumps"
   ]
  },
  {
   "cell_type": "code",
   "execution_count": 15,
   "metadata": {},
   "outputs": [
    {
     "name": "stdout",
     "output_type": "stream",
     "text": [
      "Building Occupancy Tensors for species : [5]\n",
      "No. of jumps : 2400\n"
     ]
    },
    {
     "name": "stderr",
     "output_type": "stream",
     "text": [
      "100%|████████████████████████████████████████| 200/200 [00:01<00:00, 134.15it/s]"
     ]
    },
    {
     "name": "stdout",
     "output_type": "stream",
     "text": [
      "Training Species : [5]\n"
     ]
    },
    {
     "name": "stderr",
     "output_type": "stream",
     "text": [
      "\n"
     ]
    }
   ],
   "source": [
    "specCheck = 5\n",
    "specsToTrain = [specCheck]\n",
    "VacSpec = 0\n",
    "AllJumps = True\n",
    "State1_occs, State2_occs, rates, disps, OnSites_state1, OnSites_state2, sp_ch =\\\n",
    "makeComputeData(state1List, state2List, dispList, specsToTrain, VacSpec, rateList,\n",
    "                AllJumpRates_st1, AllJumpRates_st2, avgDisps_st1, avgDisps_st2, JumpNewSites,\n",
    "                dxJumps, NNsiteList, N_check, AllJumps=AllJumps)\n",
    "\n",
    "assert State1_occs.shape[0] == State2_occs.shape[0] == rates.shape[0] == disps.shape[0] == N_check * z\n",
    "assert OnSites_state1.shape[0] == OnSites_state2.shape[0] == N_check * z\n",
    "\n",
    "state1Data, state2Data, dispData, rateData, On_st1, On_st2 =\\\n",
    "makeDataTensors(State1_occs, State2_occs, rates, disps, OnSites_state1, OnSites_state2,\n",
    "                specsToTrain, VacSpec, sp_ch, Ndim=3)\n",
    "\n",
    "assert state1Data.shape[0] == state2Data.shape[0] == rateData.shape[0] == dispData.shape[0] == N_check * z\n",
    "assert On_st1.shape[0] == On_st2.shape[0] == N_check * z"
   ]
  },
  {
   "cell_type": "markdown",
   "metadata": {},
   "source": [
    "## Test Occupancies"
   ]
  },
  {
   "cell_type": "code",
   "execution_count": 16,
   "metadata": {},
   "outputs": [
    {
     "name": "stderr",
     "output_type": "stream",
     "text": [
      "100%|█████████████████████████████████████████| 200/200 [01:09<00:00,  2.88it/s]\n"
     ]
    }
   ],
   "source": [
    "for stateInd in tqdm(range(N_check), position=0, leave=True):\n",
    "    state1 = state1List[stateInd]\n",
    "    for jInd in range(z):\n",
    "        state2 = state1.copy()\n",
    "        NNsiteVac = NNsiteList[jInd + 1, 0]\n",
    "        _, RsiteVac = superFCC.ciR(NNsiteVac)\n",
    "        state2[0] = state2[NNsiteVac]\n",
    "        state2[NNsiteVac] = 0\n",
    "        \n",
    "        for site in range(state1List.shape[1]):\n",
    "            _, Rsite = superFCC.ciR(site)\n",
    "            RsiteNew = (Rsite + RsiteVac) % N_units\n",
    "            siteNew = RtoSiteInd[RsiteNew[0], RsiteNew[1], RsiteNew[2]]\n",
    "            spec1 = state1[site]\n",
    "            spec2 = state2[siteNew]\n",
    "            \n",
    "            if site == 0:\n",
    "                assert spec2 == 0\n",
    "                assert np.all(State1_occs[stateInd * dxJumps.shape[0] + jInd, :, site] == 0)\n",
    "                assert np.all(State2_occs[stateInd * dxJumps.shape[0] + jInd, :, site] == 0)\n",
    "            \n",
    "            else:\n",
    "                assert spec2 != 0\n",
    "                assert State1_occs[stateInd * dxJumps.shape[0] + jInd, spec1-1, site] == 1\n",
    "                assert np.sum(State1_occs[stateInd * dxJumps.shape[0] + jInd, :, site]) == 1\n",
    "\n",
    "                assert State2_occs[stateInd * dxJumps.shape[0] + jInd, spec2-1, site] == 1\n",
    "                assert np.sum(State2_occs[stateInd * dxJumps.shape[0] + jInd, :, site]) == 1\n",
    "        \n",
    "        # check the displacements\n",
    "        NNR = np.dot(np.linalg.inv(superFCC.crys.lattice), dxJumps[jInd]).astype(int) % N_units\n",
    "        NNsiteVac = NNsiteList[jInd + 1, 0]\n",
    "        assert np.all(NNR == SiteIndToR[NNsiteVac])\n",
    "        spec = state1[NNsiteVac]\n",
    "        assert np.allclose(disps[stateInd * dxJumps.shape[0] + jInd, 0], 3.59*dxJumps[jInd])\n",
    "        if spec == specCheck:\n",
    "            assert np.allclose(disps[stateInd * dxJumps.shape[0] + jInd, 1], -3.59*dxJumps[jInd])\n",
    "            assert np.allclose(disps[stateInd * dxJumps.shape[0] + jInd, 1],\n",
    "                               -3.59*pt.tensor(dxJumps[jInd], dtype=pt.double))\n",
    "        \n",
    "        # check the rate\n",
    "        assert np.allclose(rateData[stateInd * dxJumps.shape[0] + jInd], AllJumpRates_st1[stateInd, jInd])"
   ]
  },
  {
   "cell_type": "code",
   "execution_count": 17,
   "metadata": {},
   "outputs": [
    {
     "name": "stderr",
     "output_type": "stream",
     "text": [
      "100%|██████████████████████████████████████| 2400/2400 [00:18<00:00, 130.96it/s]\n"
     ]
    }
   ],
   "source": [
    "batchStart = 0\n",
    "batchEnd = batchStart + N_check * z\n",
    "y = pt.rand(N_check * z, 1, 3, state1List.shape[1]).double()\n",
    "\n",
    "jProbs_st1 = None\n",
    "jProbs_st2 = None\n",
    "NNsvac_st1 = None\n",
    "NNsvac_st2 = None\n",
    "\n",
    "y1, y2 = SpecBatchOuts(y, y, On_st1, On_st2, jProbs_st1, jProbs_st2,\n",
    "                       NNsvac_st1, NNsvac_st2, False, False)\n",
    "\n",
    "for sampInd in tqdm(range(batchStart, batchEnd), position=0, leave=True):\n",
    "    y1_samp = pt.zeros(3).double()\n",
    "    y2_samp = pt.zeros(3).double()\n",
    "    for site in range(On_st1.shape[1]):\n",
    "        occs1 = State1_occs[sampInd, :, site]\n",
    "        occs2 = State2_occs[sampInd, :, site]\n",
    "        \n",
    "        if occs1[specCheck-1] == 1:\n",
    "            y1_samp += y[sampInd - batchStart, 0, :, site]\n",
    "        if occs2[specCheck-1] == 1:\n",
    "            y2_samp += y[sampInd - batchStart, 0, :, site]\n",
    "    \n",
    "    assert pt.allclose(y1[sampInd - batchStart], y1_samp)\n",
    "    assert pt.allclose(y2[sampInd - batchStart], y2_samp)"
   ]
  },
  {
   "cell_type": "code",
   "execution_count": null,
   "metadata": {},
   "outputs": [],
   "source": []
  }
 ],
 "metadata": {
  "kernelspec": {
   "display_name": "Python 3 (ipykernel)",
   "language": "python",
   "name": "python3"
  },
  "language_info": {
   "codemirror_mode": {
    "name": "ipython",
    "version": 3
   },
   "file_extension": ".py",
   "mimetype": "text/x-python",
   "name": "python",
   "nbconvert_exporter": "python",
   "pygments_lexer": "ipython3",
   "version": "3.8.10"
  }
 },
 "nbformat": 4,
 "nbformat_minor": 4
}
