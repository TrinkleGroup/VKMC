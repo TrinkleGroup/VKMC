{
 "cells": [
  {
   "cell_type": "code",
   "execution_count": 10,
   "metadata": {},
   "outputs": [],
   "source": [
    "%config Completer.use_jedi = False"
   ]
  },
  {
   "cell_type": "code",
   "execution_count": 1,
   "metadata": {},
   "outputs": [],
   "source": [
    "import sys\n",
    "sys.path.append(\"/home/sohamc2/VKMC/SymNetworkRuns/CE_Symmetry/Symm_Network/\")"
   ]
  },
  {
   "cell_type": "code",
   "execution_count": 2,
   "metadata": {},
   "outputs": [],
   "source": [
    "import numpy as np\n",
    "import pickle\n",
    "import torch as pt\n",
    "import torch.nn as nn\n",
    "import torch.nn.functional as F\n",
    "from SymmLayers import GConv, R3Conv, R3ConvSites, GAvg"
   ]
  },
  {
   "cell_type": "code",
   "execution_count": 3,
   "metadata": {},
   "outputs": [],
   "source": [
    "class GCNet(nn.Module):\n",
    "    def __init__(self, GnnPerms, gdiags, NNsites, SitesToShells,\n",
    "                dim, N_ngb, NSpec, mean=0.0, std=0.1, b=1.0, nl=3, nch=8):\n",
    "\n",
    "        super().__init__()\n",
    "        modules = []\n",
    "        modules += [GConv(NSpec, nch, GnnPerms, NNsites, N_ngb, mean=mean, std=std),\n",
    "                nn.Softplus(beta=b), GAvg()]\n",
    "\n",
    "        for i in range(nl):\n",
    "            modules += [GConv(nch, nch, GnnPerms, NNsites, N_ngb, mean=mean, std=std),\n",
    "                    nn.Softplus(beta=b), GAvg()]\n",
    "\n",
    "        modules += [GConv(nch, 1, GnnPerms, NNsites, N_ngb, mean=mean, std=std),\n",
    "                nn.Softplus(beta=b), GAvg()]\n",
    "\n",
    "        modules += [R3ConvSites(SitesToShells, GnnPerms, gdiags, NNsites, N_ngb,\n",
    "            dim, mean=mean, std=std)]\n",
    "\n",
    "        self.net = nn.Sequential(*modules)\n",
    "\n",
    "    def forward(self, InState):\n",
    "        y = self.net(InState)\n",
    "        return y"
   ]
  },
  {
   "cell_type": "code",
   "execution_count": 4,
   "metadata": {},
   "outputs": [],
   "source": [
    "CrysDatPath = \"../CrysDat/\""
   ]
  },
  {
   "cell_type": "code",
   "execution_count": 5,
   "metadata": {},
   "outputs": [
    {
     "name": "stdout",
     "output_type": "stream",
     "text": [
      "cpu\n",
      "1.7.1\n"
     ]
    }
   ],
   "source": [
    "dxNN = np.load(CrysDatPath + \"nnJumpLatVecs.npy\")\n",
    "RtoSiteInd = np.load(CrysDatPath + \"RtoSiteInd.npy\")\n",
    "SiteIndtoR = np.load(CrysDatPath + \"SiteIndtoR.npy\")\n",
    "GpermNNIdx = np.load(CrysDatPath + \"GroupNNpermutations.npy\")\n",
    "NNsiteList = np.load(CrysDatPath + \"NNsites_sitewise.npy\")\n",
    "siteShellIndices = np.load(CrysDatPath + \"SitesToShells.npy\")\n",
    "N_ngb = NNsiteList.shape[0]\n",
    "Nsites = NNsiteList.shape[1]\n",
    "with open(CrysDatPath + \"GroupCartIndices.pkl\", \"rb\") as fl:\n",
    "    GIndtoGDict = pickle.load(fl)\n",
    "\n",
    "N_ngb, GpermNNIdx.shape, NNsiteList.shape\n",
    "\n",
    "\"\"\"## Select the torch device\"\"\"\n",
    "\n",
    "if pt.cuda.is_available():\n",
    "    device = pt.device(\"cuda:0\")\n",
    "else:\n",
    "    device = pt.device(\"cpu\")\n",
    "\n",
    "print(device)\n",
    "print(pt.__version__)\n",
    "\"\"\"## Make the required crystal data tensors - use double for now\"\"\"\n",
    "\n",
    "SitesToShells = pt.tensor(siteShellIndices).long().to(device)\n",
    "GnnPerms = pt.tensor(GpermNNIdx).long().to(device)\n",
    "NNsites = pt.tensor(NNsiteList).long().to(device)\n",
    "\n",
    "Ng = GnnPerms.shape[0]\n",
    "Ndim = 3\n",
    "gdiagsCpu = pt.zeros(Ng*Ndim, Ng*Ndim).double()\n",
    "for gInd, gCart in GIndtoGDict.items():\n",
    "    rowStart = gInd * Ndim\n",
    "    rowEnd = (gInd + 1) * Ndim\n",
    "    gdiagsCpu[rowStart : rowEnd, rowStart : rowEnd] = pt.tensor(gCart)\n",
    "gdiags = gdiagsCpu.to(device)"
   ]
  },
  {
   "cell_type": "code",
   "execution_count": 6,
   "metadata": {},
   "outputs": [],
   "source": [
    "NSpec = 5\n",
    "nLayers = 3\n",
    "gNet = GCNet(GnnPerms, gdiags, NNsites, SitesToShells, Ndim, N_ngb, NSpec,\n",
    "        mean=0.02, std=0.02, b=1.0, nl=nLayers, nch=16).double().to(device)"
   ]
  },
  {
   "cell_type": "code",
   "execution_count": 7,
   "metadata": {},
   "outputs": [
    {
     "name": "stdout",
     "output_type": "stream",
     "text": [
      "torch.Size([16, 5, 13])\n",
      "torch.Size([16, 1])\n",
      "\n",
      "torch.Size([16, 16, 13])\n",
      "torch.Size([16, 1])\n",
      "\n",
      "torch.Size([16, 16, 13])\n",
      "torch.Size([16, 1])\n",
      "\n",
      "torch.Size([16, 16, 13])\n",
      "torch.Size([16, 1])\n",
      "\n",
      "torch.Size([1, 16, 13])\n",
      "torch.Size([1, 1])\n",
      "\n"
     ]
    }
   ],
   "source": [
    "for layerInd in range(0, len(gNet.net)-1, 3):\n",
    "    print(gNet.net[layerInd].Psi.shape)\n",
    "    print(gNet.net[layerInd].bias.shape)\n",
    "    print()"
   ]
  },
  {
   "cell_type": "code",
   "execution_count": 8,
   "metadata": {},
   "outputs": [
    {
     "name": "stdout",
     "output_type": "stream",
     "text": [
      "[Parameter containing:\n",
      "tensor([[ 0.0265,  0.0281,  0.0437,  0.0386,  0.0497,  0.0072,  0.0125,  0.0316,\n",
      "         -0.0057,  0.0008,  0.0442,  0.0411,  0.0178],\n",
      "        [ 0.0329, -0.0093,  0.0099,  0.0052,  0.0500,  0.0340,  0.0621,  0.0356,\n",
      "          0.0228,  0.0387,  0.0199, -0.0173,  0.0203],\n",
      "        [ 0.0255, -0.0066,  0.0225,  0.0496,  0.0047,  0.0216,  0.0031,  0.0137,\n",
      "          0.0060,  0.0279,  0.0157,  0.0093,  0.0007]], dtype=torch.float64,\n",
      "       requires_grad=True), Parameter containing:\n",
      "tensor([-0.0017,  0.0354,  0.0036,  0.0100,  0.0041,  0.0189,  0.0334,  0.0069,\n",
      "        -0.0123,  0.0151,  0.0315,  0.0159,  0.0506,  0.0083,  0.0258,  0.0475,\n",
      "         0.0441,  0.0144,  0.0008,  0.0045,  0.0311,  0.0291,  0.0149,  0.0203,\n",
      "         0.0055, -0.0037,  0.0494, -0.0033,  0.0366], dtype=torch.float64,\n",
      "       requires_grad=True)]\n"
     ]
    }
   ],
   "source": [
    "for layerInd in range(0, len(gNet.net)-1, 3):\n",
    "    gNet.net[layerInd].Psi.requires_grad = False\n",
    "    gNet.net[layerInd].bias.requires_grad = False\n",
    "print(list(filter(lambda p : p.requires_grad, gNet.parameters())))"
   ]
  },
  {
   "cell_type": "code",
   "execution_count": 11,
   "metadata": {},
   "outputs": [
    {
     "data": {
      "text/plain": [
       "(Parameter containing:\n",
       " tensor([[ 0.0265,  0.0281,  0.0437,  0.0386,  0.0497,  0.0072,  0.0125,  0.0316,\n",
       "          -0.0057,  0.0008,  0.0442,  0.0411,  0.0178],\n",
       "         [ 0.0329, -0.0093,  0.0099,  0.0052,  0.0500,  0.0340,  0.0621,  0.0356,\n",
       "           0.0228,  0.0387,  0.0199, -0.0173,  0.0203],\n",
       "         [ 0.0255, -0.0066,  0.0225,  0.0496,  0.0047,  0.0216,  0.0031,  0.0137,\n",
       "           0.0060,  0.0279,  0.0157,  0.0093,  0.0007]], dtype=torch.float64,\n",
       "        requires_grad=True),\n",
       " Parameter containing:\n",
       " tensor([-0.0017,  0.0354,  0.0036,  0.0100,  0.0041,  0.0189,  0.0334,  0.0069,\n",
       "         -0.0123,  0.0151,  0.0315,  0.0159,  0.0506,  0.0083,  0.0258,  0.0475,\n",
       "          0.0441,  0.0144,  0.0008,  0.0045,  0.0311,  0.0291,  0.0149,  0.0203,\n",
       "          0.0055, -0.0037,  0.0494, -0.0033,  0.0366], dtype=torch.float64,\n",
       "        requires_grad=True))"
      ]
     },
     "execution_count": 11,
     "metadata": {},
     "output_type": "execute_result"
    }
   ],
   "source": [
    "R3C = gNet.net[-1]\n",
    "R3C.wtVC, R3C.ShellWeights"
   ]
  },
  {
   "cell_type": "markdown",
   "metadata": {},
   "source": [
    "## Now verify the symmetry"
   ]
  },
  {
   "cell_type": "code",
   "execution_count": 17,
   "metadata": {},
   "outputs": [],
   "source": [
    "rand_state = np.zeros((10, 5, 512))\n",
    "for samp in range(10):\n",
    "    for site in range(1, 512):\n",
    "        ch = np.random.randint(0, 5)\n",
    "        rand_state[samp, ch, site] = 1.0"
   ]
  },
  {
   "cell_type": "code",
   "execution_count": 18,
   "metadata": {},
   "outputs": [
    {
     "data": {
      "text/plain": [
       "torch.Size([10, 5, 512])"
      ]
     },
     "execution_count": 18,
     "metadata": {},
     "output_type": "execute_result"
    }
   ],
   "source": [
    "rand_state = pt.tensor(rand_state)\n",
    "rand_state.shape"
   ]
  },
  {
   "cell_type": "code",
   "execution_count": 19,
   "metadata": {},
   "outputs": [],
   "source": [
    "y = gNet(rand_state).detach().numpy()"
   ]
  },
  {
   "cell_type": "code",
   "execution_count": 20,
   "metadata": {},
   "outputs": [],
   "source": [
    "G = GIndtoGDict[20]"
   ]
  },
  {
   "cell_type": "code",
   "execution_count": 21,
   "metadata": {},
   "outputs": [],
   "source": [
    "with open(\"../CrysDat/supercellFCC.pkl\", \"rb\") as fl:\n",
    "    superFCC = pickle.load(fl)"
   ]
  },
  {
   "cell_type": "code",
   "execution_count": 22,
   "metadata": {},
   "outputs": [],
   "source": [
    "rand_state_G = pt.zeros_like(rand_state)\n",
    "sitePerm = np.zeros(512, dtype=int)\n",
    "for site in range(512):\n",
    "    Rsite = SiteIndtoR[site]\n",
    "    RsiteCart = np.dot(superFCC.crys.lattice, Rsite)\n",
    "    RsiteCartNew = np.dot(G, RsiteCart)\n",
    "    RsiteNew, _ = superFCC.crys.cart2pos(RsiteCartNew)\n",
    "    RsiteNew = RsiteNew % 8\n",
    "    siteNew = RtoSiteInd[RsiteNew[0], RsiteNew[1], RsiteNew[2]]\n",
    "    sitePerm[site] = siteNew\n",
    "    for samp in range(10):\n",
    "        occ = rand_state[samp, :, site]\n",
    "        rand_state_G[samp, :, siteNew] = occ[:]"
   ]
  },
  {
   "cell_type": "code",
   "execution_count": 23,
   "metadata": {},
   "outputs": [],
   "source": [
    "y2 = gNet(rand_state_G).detach().numpy()"
   ]
  },
  {
   "cell_type": "code",
   "execution_count": 24,
   "metadata": {},
   "outputs": [
    {
     "name": "stdout",
     "output_type": "stream",
     "text": [
      "Symmetry assertion complete\n"
     ]
    }
   ],
   "source": [
    "for site in range(512):\n",
    "    for samp in range(10):\n",
    "        assert np.allclose(np.dot(G, y[samp, :, site]), y2[samp, :, sitePerm[site]])\n",
    "print(\"Symmetry assertion complete\")"
   ]
  },
  {
   "cell_type": "code",
   "execution_count": null,
   "metadata": {},
   "outputs": [],
   "source": []
  }
 ],
 "metadata": {
  "kernelspec": {
   "display_name": "Python [conda env:.conda-Soham_pt_1.7]",
   "language": "python",
   "name": "conda-env-.conda-Soham_pt_1.7-py"
  },
  "language_info": {
   "codemirror_mode": {
    "name": "ipython",
    "version": 3
   },
   "file_extension": ".py",
   "mimetype": "text/x-python",
   "name": "python",
   "nbconvert_exporter": "python",
   "pygments_lexer": "ipython3",
   "version": "3.7.10"
  }
 },
 "nbformat": 4,
 "nbformat_minor": 4
}
