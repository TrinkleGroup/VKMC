{
 "cells": [
  {
   "cell_type": "code",
   "execution_count": null,
   "metadata": {},
   "outputs": [],
   "source": [
    "%config Completer.use_jedi = False"
   ]
  },
  {
   "cell_type": "code",
   "execution_count": null,
   "metadata": {},
   "outputs": [],
   "source": [
    "import os\n",
    "import sys\n",
    "RunPath = os.getcwd() + \"/\"\n",
    "CrysDatPath = \"../CrysDat_FCC/\" #\"/home/sohamc2/HEA_FCC/MDMC/CrysDat_FCC/\"\n",
    "DataPath = \"../MD_KMC_single/\" #\"/home/sohamc2/HEA_FCC/MDMC/ML_runs/DataSets/\"\n",
    "ModulePath = \"../Symm_Network/\" #\"/home/sohamc2/VKMC/SymNetworkRuns/CE_Symmetry/Symm_Network/\""
   ]
  },
  {
   "cell_type": "code",
   "execution_count": null,
   "metadata": {},
   "outputs": [],
   "source": [
    "import numpy as np\n",
    "import h5py\n",
    "import torch as pt\n",
    "from tqdm import tqdm\n",
    "import pickle\n",
    "from GCNetRun import Load_Data, makeComputeData, makeDataTensors\n",
    "from GCNetRun import Load_crysDats, SpecBatchOuts, vacBatchOuts, sort_jp"
   ]
  },
  {
   "cell_type": "code",
   "execution_count": null,
   "metadata": {},
   "outputs": [],
   "source": [
    "T = 1073\n",
    "state1List, state2List, dispList, rateList, AllJumpRates_st1,\\\n",
    "AllJumpRates_st2, avgDisps_st1, avgDisps_st2 = Load_Data(DataPath + \"singleStep_{}_AllRates.h5\".format(T))"
   ]
  },
  {
   "cell_type": "code",
   "execution_count": null,
   "metadata": {},
   "outputs": [],
   "source": [
    "GpermNNIdx, NNsiteList, JumpNewSites, dxJumps = Load_crysDats(1, CrysDatPath)\n",
    "\n",
    "z = dxJumps.shape[0]\n",
    "\n",
    "RtoSiteInd = np.load(CrysDatPath + \"RtoSiteInd.npy\")\n",
    "SiteIndToR = np.load(CrysDatPath + \"SiteIndtoR.npy\")\n",
    "\n",
    "with open(CrysDatPath + \"supercellFCC.pkl\", \"rb\") as fl:\n",
    "    superFCC = pickle.load(fl)\n",
    "N_units = superFCC.superlatt[0,0]\n",
    "N_units"
   ]
  },
  {
   "cell_type": "markdown",
   "metadata": {},
   "source": [
    "# First test occupancy tensors"
   ]
  },
  {
   "cell_type": "code",
   "execution_count": null,
   "metadata": {},
   "outputs": [],
   "source": [
    "specCheck = 5\n",
    "specsToTrain = [specCheck]\n",
    "VacSpec = 0\n",
    "N_check = 200\n",
    "AllJumps = False\n",
    "\n",
    "State1_occs, State2_occs, rates, disps, OnSites_state1, OnSites_state2, sp_ch =\\\n",
    "makeComputeData(state1List, state2List, dispList, specsToTrain, VacSpec, rateList,\n",
    "                AllJumpRates_st1, AllJumpRates_st2, avgDisps_st1, avgDisps_st2, JumpNewSites,\n",
    "                dxJumps, NNsiteList, N_check, AllJumps=AllJumps, mode=\"train\")"
   ]
  },
  {
   "cell_type": "code",
   "execution_count": null,
   "metadata": {},
   "outputs": [],
   "source": [
    "State1_occs.shape"
   ]
  },
  {
   "cell_type": "code",
   "execution_count": null,
   "metadata": {},
   "outputs": [],
   "source": [
    "for samp in tqdm(range(N_check), position=0, leave=True):\n",
    "    for site in range(state1List.shape[1]):\n",
    "        if site == 0:\n",
    "            assert np.all(State1_occs[samp, :, site] == 0)\n",
    "        else:\n",
    "            spec1 = state1List[samp, site]\n",
    "            assert State1_occs[samp, spec1 - 1, site] == 1\n",
    "            assert np.sum(State1_occs[samp, :, site]) == 1\n",
    "            \n",
    "            spec2 = state2List[samp, site]\n",
    "            assert State2_occs[samp, spec2 - 1, site] == 1\n",
    "            assert np.sum(State2_occs[samp, :, site]) == 1\n",
    "        \n",
    "    # check the displacements\n",
    "    jSelect = None\n",
    "    count = 0\n",
    "    for jInd in range(JumpNewSites.shape[0]):\n",
    "        state2_try = state1List[samp][JumpNewSites[jInd]]\n",
    "        if np.all(state2_try == state2List[samp]):\n",
    "            jSelect = jInd\n",
    "            count += 1\n",
    "    assert count == 1\n",
    "        \n",
    "    NNR = np.dot(np.linalg.inv(superFCC.crys.lattice), dxJumps[jSelect]).astype(int)\n",
    "    assert np.allclose(np.dot(superFCC.crys.lattice, NNR), dxJumps[jSelect])\n",
    "    NNRSite = superFCC.index(NNR, (0, 0))[0]\n",
    "    \n",
    "    NNsiteVac = NNsiteList[jSelect + 1, 0]\n",
    "    assert np.all(NNRSite == NNsiteVac)\n",
    "    \n",
    "    spec = state1List[samp, NNsiteVac]\n",
    "    assert np.allclose(disps[samp, 0], 3.59*dxJumps[jSelect])\n",
    "    if spec == specCheck:\n",
    "        assert np.allclose(disps[samp, 1], -3.59*dxJumps[jSelect])\n",
    "    else:\n",
    "        assert np.allclose(disps[samp, 1], 0.0)\n",
    "    \n",
    "    # check the rate\n",
    "    assert np.math.isclose(rates[samp], rateList[samp])"
   ]
  },
  {
   "cell_type": "markdown",
   "metadata": {},
   "source": [
    "## Check the batched calculation of y vectors"
   ]
  },
  {
   "cell_type": "markdown",
   "metadata": {},
   "source": [
    "### Make Data tensors"
   ]
  },
  {
   "cell_type": "code",
   "execution_count": null,
   "metadata": {},
   "outputs": [],
   "source": [
    "state1Data, state2Data, dispData, rateData, On_st1, On_st2 =\\\n",
    "makeDataTensors(State1_occs, State2_occs, rates, disps, OnSites_state1, OnSites_state2,\n",
    "                specsToTrain, VacSpec, sp_ch, Ndim=3)"
   ]
  },
  {
   "cell_type": "code",
   "execution_count": null,
   "metadata": {},
   "outputs": [],
   "source": [
    "On_st1.shape, N_check"
   ]
  },
  {
   "cell_type": "markdown",
   "metadata": {},
   "source": [
    "### Now check output with jump channels"
   ]
  },
  {
   "cell_type": "code",
   "execution_count": null,
   "metadata": {},
   "outputs": [],
   "source": [
    "jProbs_st1_array = AllJumpRates_st1 / np.sum(AllJumpRates_st1, axis=1).reshape(-1, 1)\n",
    "jProbs_st2_array = AllJumpRates_st2 / np.sum(AllJumpRates_st2, axis=1).reshape(-1, 1)"
   ]
  },
  {
   "cell_type": "code",
   "execution_count": null,
   "metadata": {},
   "outputs": [],
   "source": [
    "jsort = True\n",
    "jSwitch = True"
   ]
  },
  {
   "cell_type": "code",
   "execution_count": null,
   "metadata": {},
   "outputs": [],
   "source": [
    "NNsites = pt.tensor(NNsiteList)\n",
    "NNsvac_st1 = NNsites[1:, 0].repeat(N_check, 1)\n",
    "NNsvac_st2 = NNsites[1:, 0].repeat(N_check, 1)\n",
    "\n",
    "jProbs_st1, jProbs_st2, NNsvac_st1, NNsvac_st2 =\\\n",
    "            sort_jp(NNsvac_st1, NNsvac_st2, jProbs_st1_array[:N_check],\n",
    "                    jProbs_st2_array[:N_check], jumpSort=True)\n",
    "\n",
    "batchStart = 0\n",
    "batchEnd = batchStart + N_check\n",
    "y = pt.rand(N_check, z, 3, state1List.shape[1]).double()\n",
    "\n",
    "y1, y2 = SpecBatchOuts(y, y, On_st1, On_st2, jp1_tensor, jp2_tensor, NNsvac_st1, NNsvac_st2,\n",
    "                       Boundary_train=True, jumpSwitch=jSwitch)"
   ]
  },
  {
   "cell_type": "code",
   "execution_count": null,
   "metadata": {},
   "outputs": [],
   "source": [
    "for sampInd in tqdm(range(batchStart, batchEnd), position=0, leave=True):\n",
    "    y1_samp = pt.zeros(z, 3).double()\n",
    "    y2_samp = pt.zeros(z, 3).double()\n",
    "    for site in range(On_st1.shape[1]):\n",
    "        occs1 = State1_occs[sampInd, :, site]\n",
    "        occs2 = State2_occs[sampInd, :, site]\n",
    "        if occs1[specCheck-1] == 1:\n",
    "            assert On_st1[sampInd, site]\n",
    "            y1_samp += y[sampInd - batchStart, :, :, site]\n",
    "        \n",
    "        else:\n",
    "            assert not On_st1[sampInd, site]\n",
    "        \n",
    "        if occs2[specCheck-1] == 1:\n",
    "            assert On_st2[sampInd, site]\n",
    "            y2_samp += y[sampInd - batchStart, :, :, site]\n",
    "        else:\n",
    "            assert not On_st2[sampInd, site]\n",
    "    \n",
    "    y1_samp_sum = pt.zeros(3).double()\n",
    "    y2_samp_sum = pt.zeros(3).double()\n",
    "    \n",
    "    # Sort the jumps by rates\n",
    "    if jsort:\n",
    "        jProbs_st1_sort = np.argsort(jProbs_st1_array[sampInd, :])\n",
    "    else:\n",
    "        jProbs_st1_sort = np.arange(jProbs_st1_array[sampInd].shape[0])\n",
    "        \n",
    "    for jRank, jInd in enumerate(jProbs_st1_sort):\n",
    "        # Get the jump site and species in the jump site\n",
    "        if not jsort:\n",
    "            assert jRank == jInd\n",
    "        if not jSwitch:\n",
    "            prob_j_st1 = jp1_tensor[sampInd, jRank]\n",
    "            y1_samp_sum += y1_samp[jRank] * prob_j_st1     \n",
    "        else:\n",
    "            jSite = NNsiteList[1 + jInd, 0]\n",
    "            sp = state1List[sampInd, jSite]\n",
    "            if sp in specsToTrain:\n",
    "                assert On_st1[sampInd, jSite]\n",
    "                prob_j_st1 = jp1_tensor[sampInd, jRank]\n",
    "                y1_samp_sum += y1_samp[jRank] * prob_j_st1     \n",
    "            else:\n",
    "                assert not On_st1[sampInd, jSite]\n",
    "    if jsort:\n",
    "        jProbs_st2_sort = np.argsort(jProbs_st2_array[sampInd, :])\n",
    "    else:\n",
    "        jProbs_st2_sort = np.arange(jProbs_st2_array[sampInd].shape[0])\n",
    "        \n",
    "    for jRank, jInd in enumerate(jProbs_st2_sort):\n",
    "        if not jsort:\n",
    "            assert jRank == jInd\n",
    "        \n",
    "        if not jSwitch:\n",
    "            prob_j_st2 = jp2_tensor[sampInd, jRank]\n",
    "            y2_samp_sum += y2_samp[jRank] * prob_j_st2\n",
    "        else:\n",
    "            jSite = NNsiteList[1 + jInd, 0]\n",
    "            sp = state2List[sampInd, jSite] \n",
    "            if sp in specsToTrain:\n",
    "                assert On_st2[sampInd, jSite]\n",
    "                prob_j_st2 = jp2_tensor[sampInd, jRank]\n",
    "                y2_samp_sum += y2_samp[jRank] * prob_j_st2\n",
    "            else:\n",
    "                assert not On_st2[sampInd, jSite]\n",
    "            \n",
    "    assert pt.allclose(y1[sampInd - batchStart], y1_samp_sum)\n",
    "    assert pt.allclose(y2[sampInd - batchStart], y2_samp_sum)"
   ]
  },
  {
   "cell_type": "code",
   "execution_count": null,
   "metadata": {},
   "outputs": [],
   "source": []
  }
 ],
 "metadata": {
  "kernelspec": {
   "display_name": "Python 3 (ipykernel)",
   "language": "python",
   "name": "python3"
  },
  "language_info": {
   "codemirror_mode": {
    "name": "ipython",
    "version": 3
   },
   "file_extension": ".py",
   "mimetype": "text/x-python",
   "name": "python",
   "nbconvert_exporter": "python",
   "pygments_lexer": "ipython3",
   "version": "3.8.10"
  }
 },
 "nbformat": 4,
 "nbformat_minor": 4
}
