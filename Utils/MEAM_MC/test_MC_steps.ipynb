{
 "cells": [
  {
   "cell_type": "code",
   "execution_count": 1,
   "id": "d8f2410b",
   "metadata": {},
   "outputs": [],
   "source": [
    "import numpy as np\n",
    "import subprocess\n",
    "import pickle\n",
    "import time\n",
    "from ase.spacegroup import crystal\n",
    "from ase.build import make_supercell\n",
    "from ase.io.lammpsdata import write_lammps_data, read_lammps_data\n",
    "import sys\n",
    "from tqdm import tqdm\n",
    "from scipy.constants import physical_constants\n",
    "kB = physical_constants[\"Boltzmann constant in eV/K\"][0]"
   ]
  },
  {
   "cell_type": "code",
   "execution_count": 2,
   "id": "ed5391fa",
   "metadata": {},
   "outputs": [],
   "source": [
    "# Load saved arrays for testing\n",
    "T=1073\n",
    "swaps = np.load(\"MC_test_traj/1/swap_atoms_all_steps.npy\")\n",
    "rands = np.load(\"MC_test_traj/1/rands_all_steps.npy\")\n",
    "en_stored = np.load(\"MC_test_traj/1/Eng_all_steps.npy\")\n",
    "accepts = np.load(\"MC_test_traj/1/accepts_all_steps.npy\")\n",
    "elems = [\"Co\", \"Ni\", \"Cr\", \"Fe\", \"Mn\"]"
   ]
  },
  {
   "cell_type": "code",
   "execution_count": 3,
   "id": "b1f3a667",
   "metadata": {},
   "outputs": [
    {
     "data": {
      "text/plain": [
       "((501,), (500,))"
      ]
     },
     "execution_count": 3,
     "metadata": {},
     "output_type": "execute_result"
    }
   ],
   "source": [
    "en_stored.shape, accepts.shape"
   ]
  },
  {
   "cell_type": "markdown",
   "id": "0dd298e0",
   "metadata": {},
   "source": [
    "## First make the test lammps command file"
   ]
  },
  {
   "cell_type": "code",
   "execution_count": 4,
   "id": "5e37856f",
   "metadata": {},
   "outputs": [
    {
     "name": "stdout",
     "output_type": "stream",
     "text": [
      "units \t metal\n",
      "\n",
      "atom_style \t atomic\n",
      "\n",
      "atom_modify \t map array\n",
      "\n",
      "boundary \t p p p\n",
      "\n",
      "atom_modify \t sort 0 0.0\n",
      "\n",
      "read_data \t inp_MC.data\n",
      "\n",
      "pair_style \t meam\n",
      "\n",
      "pair_coeff \t * * /mnt/WorkPartition/Work/Research/UIUC/MDMC/Utils/pot/library.meam Co Ni Cr Fe Mn /mnt/WorkPartition/Work/Research/UIUC/MDMC/Utils/pot/params.meam Co Ni Cr Fe Mn\n",
      "\n",
      "minimize\t\t 1e-08 0.0 500 1000000\n",
      "\n",
      "variable x equal pe\n",
      "\n",
      "print \"$x\" file Eng.txt\n"
     ]
    }
   ],
   "source": [
    "with open(\"MC_test_traj/1/in_run_1.minim\", \"r\") as fl:\n",
    "    commandList_run_1 = fl.readlines()\n",
    "\n",
    "with open(\"MC_test_traj/1/in.minim\", \"r\") as fl:\n",
    "    commandList_run_2 = fl.readlines()\n",
    "\n",
    "# check that the commands were the same\n",
    "assert commandList_run_1 == commandList_run_2\n",
    "\n",
    "# Let's view the commands for the test command file\n",
    "for command in commandList_run_1:\n",
    "    print(command)"
   ]
  },
  {
   "cell_type": "code",
   "execution_count": 5,
   "id": "40980770",
   "metadata": {},
   "outputs": [],
   "source": [
    "# Change the following potential file location line since we're one directory up \n",
    "with open(\"in_test.minim\", \"w\") as fl:\n",
    "    fl.writelines(commandList_run_1)"
   ]
  },
  {
   "cell_type": "markdown",
   "id": "a0d11f0a",
   "metadata": {},
   "source": [
    "## Check the energies of all the supercells"
   ]
  },
  {
   "cell_type": "code",
   "execution_count": 6,
   "id": "84b6f849",
   "metadata": {},
   "outputs": [
    {
     "data": {
      "text/plain": [
       "499"
      ]
     },
     "execution_count": 6,
     "metadata": {},
     "output_type": "execute_result"
    }
   ],
   "source": [
    "with open(\"MC_test_traj/1/superInitial.pkl\", \"rb\") as fl:\n",
    "    sup0 = pickle.load(fl)\n",
    "len(sup0)"
   ]
  },
  {
   "cell_type": "code",
   "execution_count": 8,
   "id": "2b4d728a",
   "metadata": {},
   "outputs": [
    {
     "name": "stderr",
     "output_type": "stream",
     "text": [
      "100%|██████████████████████████████| 5/5 [00:05<00:00,  1.13s/it]\n",
      "100%|██████████████████████████| 495/495 [11:25<00:00,  1.39s/it]"
     ]
    },
    {
     "name": "stdout",
     "output_type": "stream",
     "text": [
      "Energy assertions passed\n"
     ]
    },
    {
     "name": "stderr",
     "output_type": "stream",
     "text": [
      "\n"
     ]
    }
   ],
   "source": [
    "NEqb = 5 # we had 5 thermalization steps\n",
    "\n",
    "sup_run = sup0.copy() # this will be the running supercell which we'll compare with others\n",
    "\n",
    "supercells = []\n",
    "\n",
    "# Compute energy\n",
    "write_lammps_data(\"inp_MC.data\", sup0, specorder=elems)\n",
    "cmd = subprocess.Popen(\"$LMPPATH/lmp -in in_test.minim > out_test.txt\", shell=True)\n",
    "rt = cmd.wait()\n",
    "assert rt == 0\n",
    "\n",
    "with open(\"inp_MC.data\", \"r\") as fl:\n",
    "    lammps_file_2 = fl.readlines()\n",
    "\n",
    "# Check energy\n",
    "with open(\"Eng.txt\", \"r\") as fl:\n",
    "    en = float(fl.readline().split()[0])\n",
    "assert en_stored[0] == en \n",
    "\n",
    "# First do the swaps upto thermalization\n",
    "for i in tqdm(range(NEqb), position=0, leave=True, ncols=65):\n",
    "    acc = accepts[i]\n",
    "    if acc == 1:\n",
    "        # get the swap\n",
    "        sw = swaps[i]\n",
    "        site1 = sw[0]\n",
    "        site2 = sw[1]\n",
    "        \n",
    "        # swap occupancies in the running supercell\n",
    "        s1 = sup_run[site1].symbol\n",
    "        s2 = sup_run[site2].symbol\n",
    "        \n",
    "        # check the swapping in the code\n",
    "        tmp = sup_run[site1].symbol\n",
    "        sup_run[site1].symbol = sup_run[site2].symbol\n",
    "        assert tmp != sup_run[site1].symbol\n",
    "        sup_run[site2].symbol = tmp\n",
    "        assert sup_run[site2].symbol != sup_run[site1].symbol\n",
    "        assert sup_run[site2].symbol == s1\n",
    "        assert sup_run[site1].symbol == s2\n",
    "    \n",
    "    # Do the energy computation\n",
    "    write_lammps_data(\"inp_MC.data\", sup_run, specorder=elems)\n",
    "    cmd = subprocess.Popen(\"$LMPPATH/lmp -in in_test.minim > out_test.txt\", shell=True)\n",
    "    rt = cmd.wait()\n",
    "    assert rt == 0\n",
    "    with open(\"Eng.txt\", \"r\") as fl:\n",
    "        en = float(fl.readline().split()[0])\n",
    "    \n",
    "    # Check energy\n",
    "    assert en == en_stored[i + 1], \"{} {}\".format(en, en_stored[i + 1])\n",
    "\n",
    "with open(\"MC_test_traj/1/chkpt/supercell_{}.pkl\".format(NEqb), \"rb\") as fl:\n",
    "    sup1 = pickle.load(fl)\n",
    "        \n",
    "assert sup1 == sup_run\n",
    "supercells.append(sup1)\n",
    "\n",
    "# Up until here, the NEqb^th supercell (starting from 0) has been reached\n",
    "\n",
    "# Now go through the rest of the supercells\n",
    "for i in tqdm(range(NEqb + 1, en_stored.shape[0]), position=0, leave=True, ncols=65):\n",
    "    # Compute energy\n",
    "    with open(\"MC_test_traj/1/chkpt/supercell_{}.pkl\".format(i), \"rb\") as fl:\n",
    "        sup1 = pickle.load(fl)\n",
    "    supercells.append(sup1)\n",
    "    \n",
    "    # compare occupancies\n",
    "    # first check the if the move was accepted\n",
    "    # accepts[i-1] is the decision to go from (i-1)th state to (i)th state\n",
    "    acc = accepts[i-1]\n",
    "    if acc == 0:\n",
    "        assert sup1 == sup_run\n",
    "    \n",
    "    else:\n",
    "        # get the swap\n",
    "        sw = swaps[i-1]\n",
    "        site1 = sw[0]\n",
    "        site2 = sw[1]\n",
    "        \n",
    "        # swap occupancies in the running supercell\n",
    "        tmp = sup_run[site1].symbol\n",
    "        sup_run[site1].symbol = sup_run[site2].symbol\n",
    "        assert tmp != sup_run[site1].symbol\n",
    "        sup_run[site2].symbol = tmp\n",
    "        assert sup_run[site2].symbol != sup_run[site1].symbol\n",
    "        \n",
    "        assert sup1 == sup_run, \"{}\".format(i) # Check that the correct supercell was stored.\n",
    "    \n",
    "    # compute energies with the running supercell\n",
    "    write_lammps_data(\"inp_MC.data\", sup_run, specorder=elems)\n",
    "    cmd = subprocess.Popen(\"$LMPPATH/lmp -in in_test.minim > out_test.txt\", shell=True)\n",
    "    rt = cmd.wait()\n",
    "    assert rt == 0\n",
    "    with open(\"Eng.txt\", \"r\") as fl:\n",
    "        en = float(fl.readline().split()[0])\n",
    "    \n",
    "    # Check energy\n",
    "    assert en == en_stored[i], \"{} {}\".format(en, en_stored[i])\n",
    "    \n",
    "print(\"Energy assertions passed\")"
   ]
  },
  {
   "cell_type": "markdown",
   "id": "5910d008",
   "metadata": {},
   "source": [
    "## Match the rejected and accepted moves against the random numbers"
   ]
  },
  {
   "cell_type": "code",
   "execution_count": 9,
   "id": "0fea5192",
   "metadata": {},
   "outputs": [],
   "source": [
    "rejected = []\n",
    "accepted = []\n",
    "for enInd in range(en_stored.shape[0] - 1):\n",
    "    # If the exact same energy occurs, then move must have been rejected\n",
    "    # Assuming there will be defnitely some change, even if small when a state is changed \n",
    "    if en_stored[enInd + 1] - en_stored[enInd] == 0.0:\n",
    "        assert accepts[enInd] == 0\n",
    "        rejected.append(enInd)\n",
    "    else:\n",
    "        assert accepts[enInd] == 1\n",
    "        accepted.append(enInd)"
   ]
  },
  {
   "cell_type": "code",
   "execution_count": 10,
   "id": "6f4174e5",
   "metadata": {},
   "outputs": [
    {
     "name": "stderr",
     "output_type": "stream",
     "text": [
      "100%|██████████████████████████| 320/320 [07:17<00:00,  1.37s/it]"
     ]
    },
    {
     "name": "stdout",
     "output_type": "stream",
     "text": [
      "Acceptance tests okay.\n"
     ]
    },
    {
     "name": "stderr",
     "output_type": "stream",
     "text": [
      "\n"
     ]
    }
   ],
   "source": [
    "# Now Let's check the swaps that were accepted\n",
    "for move in tqdm(accepted, position=0, leave=True, ncols=65):\n",
    "    if move < NEqb:\n",
    "        # the \"move\"^th move takes us from the \"move\"^th to the \"move + 1\"^th state\n",
    "        # we only have supercell saved from NEqb onwards - so we can check starting with\n",
    "        # the one before that.\n",
    "        continue\n",
    "        \n",
    "    sup_temp = supercells[move - NEqb].copy()\n",
    "    tmp = sup_temp[swaps[move, 0]].symbol\n",
    "    sup_temp[swaps[move, 0]].symbol = sup_temp[swaps[move, 1]].symbol\n",
    "    sup_temp[swaps[move, 1]].symbol = tmp\n",
    "    \n",
    "    # check supercell\n",
    "    assert sup_temp == supercells[move - NEqb + 1]\n",
    "    \n",
    "    # compute energy\n",
    "    write_lammps_data(\"inp_MC.data\", sup_temp, specorder=elems)\n",
    "    cmd = subprocess.Popen(\"$LMPPATH/lmp -in in_test.minim > out_test.txt\", shell=True)\n",
    "    rt = cmd.wait()\n",
    "\n",
    "    # Read energy\n",
    "    with open(\"Eng.txt\", \"r\") as fl:\n",
    "        en_temp = float(fl.readline().split()[0])\n",
    "    \n",
    "    assert en_temp == en_stored[move + 1]\n",
    "    de = en_stored[move + 1] - en_stored[move]\n",
    "\n",
    "    test_num = np.exp(-de/(kB*T))\n",
    "    rand = rands[move]\n",
    "\n",
    "    assert rand < test_num\n",
    "\n",
    "print(\"Acceptance tests okay.\")"
   ]
  },
  {
   "cell_type": "code",
   "execution_count": 11,
   "id": "860c2497",
   "metadata": {},
   "outputs": [
    {
     "name": "stderr",
     "output_type": "stream",
     "text": [
      "100%|██████████████████████████| 180/180 [04:00<00:00,  1.34s/it]"
     ]
    },
    {
     "name": "stdout",
     "output_type": "stream",
     "text": [
      "Rejection checks okay.\n"
     ]
    },
    {
     "name": "stderr",
     "output_type": "stream",
     "text": [
      "\n"
     ]
    }
   ],
   "source": [
    "# Let's first check a swap that was rejected\n",
    "for move in tqdm(rejected, position=0, leave=True, ncols=65): # index of initial state of the move\n",
    "    assert np.allclose(en_stored[move], en_stored[move + 1])\n",
    "    \n",
    "    if move < NEqb: # the \"move\"^th move takes us from the \"move\"^th to the \"move + 1\"^th state\n",
    "        continue # we only have supercell saved from NEqb onwards\n",
    "        \n",
    "    sup_temp = supercells[move - NEqb].copy()\n",
    "    assert sup_temp == supercells[move - NEqb + 1]\n",
    "    \n",
    "    tmp = sup_temp[swaps[move, 0]].symbol\n",
    "    sup_temp[swaps[move, 0]].symbol = sup_temp[swaps[move, 1]].symbol\n",
    "    sup_temp[swaps[move, 1]].symbol = tmp\n",
    "\n",
    "    # compute energy\n",
    "    write_lammps_data(\"inp_MC.data\", sup_temp, specorder=elems)\n",
    "    cmd = subprocess.Popen(\"$LMPPATH/lmp -in in_test.minim > out_test.txt\", shell=True)\n",
    "    rt = cmd.wait()\n",
    "    assert rt == 0\n",
    "\n",
    "    # Read energy\n",
    "    with open(\"Eng.txt\", \"r\") as fl:\n",
    "        en_temp = float(fl.readline().split()[0])\n",
    "\n",
    "    # Check what the random number was\n",
    "    rand = rands[move]\n",
    "    de = en_temp - en_stored[move]\n",
    "    test_num = np.exp(-de/(kB*T))\n",
    "    # Check that rand is greater than relative prob.\n",
    "    assert rand >= test_num, \"{} {}\".format(rand, test_num)\n",
    "\n",
    "print(\"Rejection checks okay.\")"
   ]
  },
  {
   "cell_type": "code",
   "execution_count": null,
   "id": "b1ee1ad7",
   "metadata": {},
   "outputs": [],
   "source": []
  }
 ],
 "metadata": {
  "kernelspec": {
   "display_name": "Python 3 (ipykernel)",
   "language": "python",
   "name": "python3"
  },
  "language_info": {
   "codemirror_mode": {
    "name": "ipython",
    "version": 3
   },
   "file_extension": ".py",
   "mimetype": "text/x-python",
   "name": "python",
   "nbconvert_exporter": "python",
   "pygments_lexer": "ipython3",
   "version": "3.8.10"
  }
 },
 "nbformat": 4,
 "nbformat_minor": 5
}
