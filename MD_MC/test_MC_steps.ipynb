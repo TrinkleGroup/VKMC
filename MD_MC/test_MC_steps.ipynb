{
 "cells": [
  {
   "cell_type": "code",
   "execution_count": 1,
   "id": "d8f2410b",
   "metadata": {},
   "outputs": [],
   "source": [
    "import numpy as np\n",
    "import subprocess\n",
    "import pickle\n",
    "import time\n",
    "from ase.spacegroup import crystal\n",
    "from ase.build import make_supercell\n",
    "from ase.io.lammpsdata import write_lammps_data, read_lammps_data\n",
    "import sys\n",
    "from tqdm import tqdm\n",
    "from scipy.constants import physical_constants\n",
    "kB = physical_constants[\"Boltzmann constant in eV/K\"][0]"
   ]
  },
  {
   "cell_type": "code",
   "execution_count": 2,
   "id": "ed5391fa",
   "metadata": {},
   "outputs": [],
   "source": [
    "# Load saved arrays for testing\n",
    "T=1073\n",
    "swaps = np.load(\"test_1/swap_atoms_all_steps.npy\")\n",
    "rands = np.load(\"test_1/rands_all_steps.npy\")\n",
    "en_stored = np.load(\"test_1/Eng_all_steps.npy\")\n",
    "accepts = np.load(\"test_1/accepts_all_steps.npy\")\n",
    "elems = [\"Co\", \"Ni\", \"Cr\", \"Fe\", \"Mn\"]"
   ]
  },
  {
   "cell_type": "code",
   "execution_count": 3,
   "id": "b1f3a667",
   "metadata": {},
   "outputs": [
    {
     "data": {
      "text/plain": [
       "((100,), (100,))"
      ]
     },
     "execution_count": 3,
     "metadata": {},
     "output_type": "execute_result"
    }
   ],
   "source": [
    "en_stored.shape, accepts.shape"
   ]
  },
  {
   "cell_type": "markdown",
   "id": "0dd298e0",
   "metadata": {},
   "source": [
    "## First make the test lammps command file\n",
    "### The random seed should be the same as the test, so we'll read it in explicitly"
   ]
  },
  {
   "cell_type": "code",
   "execution_count": 4,
   "id": "5e37856f",
   "metadata": {},
   "outputs": [
    {
     "name": "stdout",
     "output_type": "stream",
     "text": [
      "units \t metal\n",
      "\n",
      "atom_style \t atomic\n",
      "\n",
      "atom_modify \t map array\n",
      "\n",
      "boundary \t p p p\n",
      "\n",
      "atom_modify \t sort 0 0.0\n",
      "\n",
      "read_data \t inp_MC_1.data\n",
      "\n",
      "pair_style \t meam\n",
      "\n",
      "pair_coeff \t * * ../pot/library.meam Co Ni Cr Fe Mn ../pot/params.meam Co Ni Cr Fe Mn\n",
      "\n",
      "neighbor \t 0.3 bin\n",
      "\n",
      "neigh_modify \t delay 0 every 1 check yes\n",
      "\n",
      "variable x equal pe\n",
      "\n",
      "displace_atoms all random 0.1 0.1 0.1 5028\n",
      "\n",
      "minimize\t\t 1e-5 0.0 1000 10000\n",
      "\n",
      "run 0\n",
      "\n",
      "print \"$x\" file Eng_1.txt\n"
     ]
    }
   ],
   "source": [
    "with open(\"test_1/in_1.minim\", \"r\") as fl:\n",
    "    commandList = fl.readlines()\n",
    "\n",
    "# Change the following potential file location line since we're one directory up \n",
    "commandList[7] = 'pair_coeff \\t * * ../pot/library.meam Co Ni Cr Fe Mn ../pot/params.meam Co Ni Cr Fe Mn\\n'\n",
    "\n",
    "# Let's view the commands for the test command file\n",
    "for command in commandList:\n",
    "    print(command)"
   ]
  },
  {
   "cell_type": "code",
   "execution_count": 5,
   "id": "40980770",
   "metadata": {},
   "outputs": [],
   "source": [
    "with open(\"in_test.minim\", \"w\") as fl:\n",
    "    fl.writelines(commandList)"
   ]
  },
  {
   "cell_type": "markdown",
   "id": "a0d11f0a",
   "metadata": {},
   "source": [
    "## Check the energies of all the supercells"
   ]
  },
  {
   "cell_type": "code",
   "execution_count": 6,
   "id": "2b4d728a",
   "metadata": {},
   "outputs": [
    {
     "name": "stderr",
     "output_type": "stream",
     "text": [
      "100%|████████████████████████████| 99/99 [00:58<00:00,  1.69it/s]"
     ]
    },
    {
     "name": "stdout",
     "output_type": "stream",
     "text": [
      "Energy assertions passed\n"
     ]
    },
    {
     "name": "stderr",
     "output_type": "stream",
     "text": [
      "\n"
     ]
    }
   ],
   "source": [
    "supercells = []\n",
    "enComps = np.zeros_like(en_stored)\n",
    "# start with the initial supercell\n",
    "with open(\"test_1/superInitial_1.pkl\", \"rb\") as fl:\n",
    "    sup0 = pickle.load(fl)\n",
    "supercells.append(sup0)\n",
    "\n",
    "# Compute energy\n",
    "write_lammps_data(\"inp_MC_1.data\", sup0, specorder=elems)\n",
    "cmd = subprocess.Popen(\"$LMPPATH/lmp -in in_test.minim > out_test.txt\", shell=True)\n",
    "rt = cmd.wait()\n",
    "assert rt == 0\n",
    "\n",
    "# Check energy\n",
    "with open(\"Eng_1.txt\", \"r\") as fl:\n",
    "    en = float(fl.readline().split()[0])\n",
    "assert np.allclose(en_stored[0], en) \n",
    "enComps[0] = en\n",
    "\n",
    "# Now go through the rest of the supercells\n",
    "for i in tqdm(range(1, en_stored.shape[0]), position=0, leave=True, ncols=65):\n",
    "    # Compute energy\n",
    "    with open(\"test_1/chkpt/supercell_{}.pkl\".format(i), \"rb\") as fl:\n",
    "        sup1 = pickle.load(fl)\n",
    "    \n",
    "    write_lammps_data(\"inp_MC_1.data\", sup1, specorder=elems)\n",
    "    cmd = subprocess.Popen(\"$LMPPATH/lmp -in in_test.minim > out_test.txt\", shell=True)\n",
    "    rt = cmd.wait()\n",
    "    assert rt == 0\n",
    "    with open(\"Eng_1.txt\", \"r\") as fl:\n",
    "        en = float(fl.readline().split()[0])\n",
    "    \n",
    "    # Check energy\n",
    "    assert np.allclose(en, en_stored[i])\n",
    "    supercells.append(sup1)\n",
    "    enComps[i] = en\n",
    "\n",
    "print(\"Energy assertions passed\")"
   ]
  },
  {
   "cell_type": "markdown",
   "id": "5910d008",
   "metadata": {},
   "source": [
    "## Match the rejected and accepted moves against the random numbers"
   ]
  },
  {
   "cell_type": "code",
   "execution_count": 8,
   "id": "0fea5192",
   "metadata": {},
   "outputs": [],
   "source": [
    "rejected = []\n",
    "accepted = []\n",
    "for enInd in range(en_stored.shape[0] - 1):\n",
    "    # If the same energy occurs, then move was rejected\n",
    "    if en_stored[enInd + 1] - en_stored[enInd] == 0.0:\n",
    "        assert accepts[enInd] == 0\n",
    "        rejected.append(enInd)\n",
    "    else:\n",
    "        assert accepts[enInd] == 1\n",
    "        accepted.append(enInd)"
   ]
  },
  {
   "cell_type": "code",
   "execution_count": 9,
   "id": "96b19c36",
   "metadata": {},
   "outputs": [
    {
     "data": {
      "text/plain": [
       "26"
      ]
     },
     "execution_count": 9,
     "metadata": {},
     "output_type": "execute_result"
    }
   ],
   "source": [
    "len(rejected)"
   ]
  },
  {
   "cell_type": "code",
   "execution_count": 12,
   "id": "860c2497",
   "metadata": {},
   "outputs": [
    {
     "name": "stderr",
     "output_type": "stream",
     "text": [
      "100%|████████████████████████████| 26/26 [00:15<00:00,  1.67it/s]"
     ]
    },
    {
     "name": "stdout",
     "output_type": "stream",
     "text": [
      "Rejection checks okay.\n"
     ]
    },
    {
     "name": "stderr",
     "output_type": "stream",
     "text": [
      "\n"
     ]
    }
   ],
   "source": [
    "# Let's first check a swap that was rejected\n",
    "for move in tqdm(rejected, position=0, leave=True, ncols=65): # index of initial state of the move\n",
    "    sup_temp = supercells[move].copy()\n",
    "    tmp = sup_temp[swaps[move, 0]].symbol\n",
    "    sup_temp[swaps[move, 0]].symbol = sup_temp[swaps[move, 1]].symbol\n",
    "    sup_temp[swaps[move, 1]].symbol = tmp\n",
    "\n",
    "    # compute energy\n",
    "    write_lammps_data(\"inp_MC_1.data\", sup_temp, specorder=elems)\n",
    "    cmd = subprocess.Popen(\"$LMPPATH/lmp -in in_test.minim > out_test.txt\", shell=True)\n",
    "    rt = cmd.wait()\n",
    "    assert rt == 0\n",
    "\n",
    "    # Read energy\n",
    "    with open(\"Eng_1.txt\", \"r\") as fl:\n",
    "        en_temp = float(fl.readline().split()[0])\n",
    "\n",
    "    # Check what the random number was\n",
    "    rand = rands[move]\n",
    "    de = en_temp - en_stored[move]\n",
    "    test_num = np.exp(-de/(kB*T))\n",
    "    # Check that rand is greater than relative prob.\n",
    "    assert rand > test_num\n",
    "\n",
    "print(\"Rejection checks okay.\")"
   ]
  },
  {
   "cell_type": "code",
   "execution_count": 13,
   "id": "6f4174e5",
   "metadata": {},
   "outputs": [
    {
     "name": "stderr",
     "output_type": "stream",
     "text": [
      "100%|████████████████████████████| 73/73 [00:43<00:00,  1.67it/s]"
     ]
    },
    {
     "name": "stdout",
     "output_type": "stream",
     "text": [
      "Acceptance tests okay.\n"
     ]
    },
    {
     "name": "stderr",
     "output_type": "stream",
     "text": [
      "\n"
     ]
    }
   ],
   "source": [
    "# Now Let's check the swaps that were accepted\n",
    "for move in tqdm(accepted, position=0, leave=True, ncols=65):\n",
    "    sup_temp = supercells[move].copy()\n",
    "    tmp = sup_temp[swaps[move, 0]].symbol\n",
    "    sup_temp[swaps[move, 0]].symbol = sup_temp[swaps[move, 1]].symbol\n",
    "    sup_temp[swaps[move, 1]].symbol = tmp\n",
    "\n",
    "    # compute energy\n",
    "    write_lammps_data(\"inp_MC_1.data\", sup_temp, specorder=elems)\n",
    "    cmd = subprocess.Popen(\"$LMPPATH/lmp -in in_test.minim > out_test.txt\", shell=True)\n",
    "    rt = cmd.wait()\n",
    "\n",
    "    # Read energy\n",
    "    with open(\"Eng_1.txt\", \"r\") as fl:\n",
    "        en_temp = float(fl.readline().split()[0])\n",
    "    \n",
    "    assert np.allclose(en_temp, en_stored[move + 1])\n",
    "    assert sup_temp == supercells[move + 1]\n",
    "    de = en_stored[move + 1] - en_stored[move]\n",
    "\n",
    "    test_num = np.exp(-de/(kB*T))\n",
    "    rand = rands[move]\n",
    "\n",
    "    assert rand < test_num\n",
    "\n",
    "print(\"Acceptance tests okay.\")"
   ]
  },
  {
   "cell_type": "code",
   "execution_count": null,
   "id": "b5c99c6c",
   "metadata": {},
   "outputs": [],
   "source": []
  }
 ],
 "metadata": {
  "kernelspec": {
   "display_name": "Python 3 (ipykernel)",
   "language": "python",
   "name": "python3"
  },
  "language_info": {
   "codemirror_mode": {
    "name": "ipython",
    "version": 3
   },
   "file_extension": ".py",
   "mimetype": "text/x-python",
   "name": "python",
   "nbconvert_exporter": "python",
   "pygments_lexer": "ipython3",
   "version": "3.8.10"
  }
 },
 "nbformat": 4,
 "nbformat_minor": 5
}
