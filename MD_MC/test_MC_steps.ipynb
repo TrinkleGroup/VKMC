{
 "cells": [
  {
   "cell_type": "code",
   "execution_count": 1,
   "id": "d8f2410b",
   "metadata": {},
   "outputs": [],
   "source": [
    "import numpy as np\n",
    "import subprocess\n",
    "import pickle\n",
    "import time\n",
    "from ase.spacegroup import crystal\n",
    "from ase.build import make_supercell\n",
    "from ase.io.lammpsdata import write_lammps_data, read_lammps_data\n",
    "import sys\n",
    "from tqdm import tqdm\n",
    "from scipy.constants import physical_constants\n",
    "kB = physical_constants[\"Boltzmann constant in eV/K\"][0]"
   ]
  },
  {
   "cell_type": "code",
   "execution_count": 2,
   "id": "ed5391fa",
   "metadata": {},
   "outputs": [],
   "source": [
    "# Load saved arrays for testing\n",
    "T=1073\n",
    "swaps = np.load(\"MC_test_traj/1/swap_atoms_all_steps.npy\")\n",
    "rands = np.load(\"MC_test_traj/1/rands_all_steps.npy\")\n",
    "en_stored = np.load(\"MC_test_traj/1/Eng_all_steps.npy\")\n",
    "accepts = np.load(\"MC_test_traj/1/accepts_all_steps.npy\")\n",
    "elems = [\"Co\", \"Ni\", \"Cr\", \"Fe\", \"Mn\"]"
   ]
  },
  {
   "cell_type": "code",
   "execution_count": 3,
   "id": "b1f3a667",
   "metadata": {},
   "outputs": [
    {
     "data": {
      "text/plain": [
       "((501,), (500,))"
      ]
     },
     "execution_count": 3,
     "metadata": {},
     "output_type": "execute_result"
    }
   ],
   "source": [
    "en_stored.shape, accepts.shape"
   ]
  },
  {
   "cell_type": "markdown",
   "id": "0dd298e0",
   "metadata": {},
   "source": [
    "## First make the test lammps command file\n",
    "### The random seed should be the same in both the initial and the continuation run"
   ]
  },
  {
   "cell_type": "code",
   "execution_count": 4,
   "id": "5e37856f",
   "metadata": {},
   "outputs": [
    {
     "name": "stdout",
     "output_type": "stream",
     "text": [
      "units \t metal\n",
      "\n",
      "atom_style \t atomic\n",
      "\n",
      "atom_modify \t map array\n",
      "\n",
      "boundary \t p p p\n",
      "\n",
      "atom_modify \t sort 0 0.0\n",
      "\n",
      "read_data \t inp_MC.data\n",
      "\n",
      "pair_style \t meam\n",
      "\n",
      "pair_coeff \t * * /mnt/WorkPartition/Work/Research/UIUC/MDMC/pot/library.meam Co Ni Cr Fe Mn /mnt/WorkPartition/Work/Research/UIUC/MDMC/pot/params.meam Co Ni Cr Fe Mn\n",
      "\n",
      "minimize\t\t 1e-5 0.0 1000 10000\n",
      "\n",
      "variable x equal pe\n",
      "\n",
      "print \"$x\" file Eng.txt\n"
     ]
    }
   ],
   "source": [
    "with open(\"MC_test_traj/1/in_run_1.minim\", \"r\") as fl:\n",
    "    commandList_run_1 = fl.readlines()\n",
    "\n",
    "with open(\"MC_test_traj/1/in.minim\", \"r\") as fl:\n",
    "    commandList_run_2 = fl.readlines()\n",
    "\n",
    "\n",
    "assert commandList_run_1 == commandList_run_2\n",
    "\n",
    "# Let's view the commands for the test command file\n",
    "for command in commandList_run_1:\n",
    "    print(command)"
   ]
  },
  {
   "cell_type": "code",
   "execution_count": 5,
   "id": "40980770",
   "metadata": {},
   "outputs": [],
   "source": [
    "# Change the following potential file location line since we're one directory up \n",
    "with open(\"in_test.minim\", \"w\") as fl:\n",
    "    fl.writelines(commandList_run_1)"
   ]
  },
  {
   "cell_type": "markdown",
   "id": "a0d11f0a",
   "metadata": {},
   "source": [
    "## Check the energies of all the supercells"
   ]
  },
  {
   "cell_type": "code",
   "execution_count": 6,
   "id": "2b4d728a",
   "metadata": {},
   "outputs": [
    {
     "name": "stderr",
     "output_type": "stream",
     "text": [
      "100%|██████████████████████████| 495/495 [05:14<00:00,  1.58it/s]"
     ]
    },
    {
     "name": "stdout",
     "output_type": "stream",
     "text": [
      "Energy assertions passed\n"
     ]
    },
    {
     "name": "stderr",
     "output_type": "stream",
     "text": [
      "\n"
     ]
    }
   ],
   "source": [
    "NEqb = 5 # we had 5 thermalization steps\n",
    "\n",
    "supercells = []\n",
    "# start with the initial supercell\n",
    "with open(\"MC_test_traj/1/superInitial.pkl\", \"rb\") as fl:\n",
    "    sup0 = pickle.load(fl)\n",
    "\n",
    "sup_run = sup0.copy() # this will be the running supercell which we'll compare with others\n",
    "\n",
    "# Compute energy\n",
    "write_lammps_data(\"inp_MC.data\", sup0, specorder=elems)\n",
    "cmd = subprocess.Popen(\"$LMPPATH/lmp -in in_test.minim > out_test.txt\", shell=True)\n",
    "rt = cmd.wait()\n",
    "assert rt == 0\n",
    "\n",
    "# Check energy\n",
    "with open(\"Eng.txt\", \"r\") as fl:\n",
    "    en = float(fl.readline().split()[0])\n",
    "assert en_stored[0] == en \n",
    "\n",
    "# First do the swaps upto thermalization\n",
    "for i in range(NEqb):\n",
    "    acc = accepts[i]\n",
    "    if acc == 1:\n",
    "        # get the swap\n",
    "        sw = swaps[i]\n",
    "        site1 = sw[0]\n",
    "        site2 = sw[1]\n",
    "        \n",
    "        # swap occupancies in the running supercell\n",
    "        tmp = sup_run[site1].symbol\n",
    "        sup_run[site1].symbol = sup_run[site2].symbol\n",
    "        sup_run[site2].symbol = tmp\n",
    "    \n",
    "    # Do the energy computation\n",
    "    write_lammps_data(\"inp_MC.data\", sup_run, specorder=elems)\n",
    "    cmd = subprocess.Popen(\"$LMPPATH/lmp -in in_test.minim > out_test.txt\", shell=True)\n",
    "    rt = cmd.wait()\n",
    "    assert rt == 0\n",
    "    with open(\"Eng.txt\", \"r\") as fl:\n",
    "        en = float(fl.readline().split()[0])\n",
    "    \n",
    "    # Check energy\n",
    "    assert en == en_stored[i + 1], \"{} {}\".format(en, en_stored[i + 1])\n",
    "\n",
    "with open(\"MC_test_traj/1/chkpt/supercell_{}.pkl\".format(NEqb), \"rb\") as fl:\n",
    "    sup1 = pickle.load(fl)\n",
    "        \n",
    "assert sup1 == sup_run\n",
    "supercells.append(sup1)\n",
    "\n",
    "# Up until here, the NEqb^th supercell (starting from 0) has been reached\n",
    "\n",
    "# Now go through the rest of the supercells\n",
    "for i in tqdm(range(NEqb + 1, en_stored.shape[0]), position=0, leave=True, ncols=65):\n",
    "    # Compute energy\n",
    "    with open(\"MC_test_traj/1/chkpt/supercell_{}.pkl\".format(i), \"rb\") as fl:\n",
    "        sup1 = pickle.load(fl)\n",
    "    supercells.append(sup1)\n",
    "    \n",
    "    # compare occupancies\n",
    "    # first check the if the move was accepted\n",
    "    # accepts[i-1] is the decision to go from (i-1)th state to (i)th state\n",
    "    acc = accepts[i-1]\n",
    "    if acc == 0:\n",
    "        assert sup1 == sup_run\n",
    "    \n",
    "    else:\n",
    "        # get the swap\n",
    "        sw = swaps[i-1]\n",
    "        site1 = sw[0]\n",
    "        site2 = sw[1]\n",
    "        \n",
    "        # swap occupancies in the running supercell\n",
    "        tmp = sup_run[site1].symbol\n",
    "        sup_run[site1].symbol = sup_run[site2].symbol\n",
    "        sup_run[site2].symbol = tmp\n",
    "        \n",
    "        assert sup1 == sup_run, \"{}\".format(i) # Check that the correct supercell was stored.\n",
    "    \n",
    "    # compute energies with the running supercell\n",
    "    write_lammps_data(\"inp_MC.data\", sup_run, specorder=elems)\n",
    "    cmd = subprocess.Popen(\"$LMPPATH/lmp -in in_test.minim > out_test.txt\", shell=True)\n",
    "    rt = cmd.wait()\n",
    "    assert rt == 0\n",
    "    with open(\"Eng.txt\", \"r\") as fl:\n",
    "        en = float(fl.readline().split()[0])\n",
    "    \n",
    "    # Check energy\n",
    "    assert en == en_stored[i], \"{} {}\".format(en, en_stored[i])\n",
    "    \n",
    "    \n",
    "print(\"Energy assertions passed\")"
   ]
  },
  {
   "cell_type": "markdown",
   "id": "5910d008",
   "metadata": {},
   "source": [
    "## Match the rejected and accepted moves against the random numbers"
   ]
  },
  {
   "cell_type": "code",
   "execution_count": 7,
   "id": "0fea5192",
   "metadata": {},
   "outputs": [],
   "source": [
    "rejected = []\n",
    "accepted = []\n",
    "for enInd in range(en_stored.shape[0] - 1):\n",
    "    # If the exact same energy occurs, then move must have been rejected\n",
    "    # Assuming there will be defnitely some change, even if small when a state is changed \n",
    "    if en_stored[enInd + 1] - en_stored[enInd] == 0.0:\n",
    "        assert accepts[enInd] == 0\n",
    "        rejected.append(enInd)\n",
    "    else:\n",
    "        assert accepts[enInd] == 1\n",
    "        accepted.append(enInd)"
   ]
  },
  {
   "cell_type": "code",
   "execution_count": 8,
   "id": "6f4174e5",
   "metadata": {},
   "outputs": [
    {
     "name": "stderr",
     "output_type": "stream",
     "text": [
      "100%|██████████████████████████| 301/301 [03:07<00:00,  1.60it/s]"
     ]
    },
    {
     "name": "stdout",
     "output_type": "stream",
     "text": [
      "Acceptance tests okay.\n"
     ]
    },
    {
     "name": "stderr",
     "output_type": "stream",
     "text": [
      "\n"
     ]
    }
   ],
   "source": [
    "# Now Let's check the swaps that were accepted\n",
    "for move in tqdm(accepted, position=0, leave=True, ncols=65):\n",
    "    if move < NEqb:\n",
    "        # the \"move\"^th move takes us from the \"move\"^th to the \"move + 1\"^th state\n",
    "        # we only have supercell saved from NEqb onwards - so we can check starting with\n",
    "        # the one before that.\n",
    "        continue\n",
    "        \n",
    "    sup_temp = supercells[move - NEqb].copy()\n",
    "    tmp = sup_temp[swaps[move, 0]].symbol\n",
    "    sup_temp[swaps[move, 0]].symbol = sup_temp[swaps[move, 1]].symbol\n",
    "    sup_temp[swaps[move, 1]].symbol = tmp\n",
    "    \n",
    "    # check supercell\n",
    "    assert sup_temp == supercells[move - NEqb + 1]\n",
    "    \n",
    "    # compute energy\n",
    "    write_lammps_data(\"inp_MC.data\", sup_temp, specorder=elems)\n",
    "    cmd = subprocess.Popen(\"$LMPPATH/lmp -in in_test.minim > out_test.txt\", shell=True)\n",
    "    rt = cmd.wait()\n",
    "\n",
    "    # Read energy\n",
    "    with open(\"Eng.txt\", \"r\") as fl:\n",
    "        en_temp = float(fl.readline().split()[0])\n",
    "    \n",
    "    assert np.allclose(en_temp, en_stored[move + 1])\n",
    "    de = en_stored[move + 1] - en_stored[move]\n",
    "\n",
    "    test_num = np.exp(-de/(kB*T))\n",
    "    rand = rands[move]\n",
    "\n",
    "    assert rand < test_num\n",
    "\n",
    "print(\"Acceptance tests okay.\")"
   ]
  },
  {
   "cell_type": "code",
   "execution_count": 9,
   "id": "860c2497",
   "metadata": {},
   "outputs": [
    {
     "name": "stderr",
     "output_type": "stream",
     "text": [
      "100%|██████████████████████████| 199/199 [02:05<00:00,  1.58it/s]"
     ]
    },
    {
     "name": "stdout",
     "output_type": "stream",
     "text": [
      "Rejection checks okay.\n"
     ]
    },
    {
     "name": "stderr",
     "output_type": "stream",
     "text": [
      "\n"
     ]
    }
   ],
   "source": [
    "# Let's first check a swap that was rejected\n",
    "for move in tqdm(rejected, position=0, leave=True, ncols=65): # index of initial state of the move\n",
    "    assert np.allclose(en_stored[move], en_stored[move + 1])\n",
    "    \n",
    "    if move < NEqb: # the \"move\"^th move takes us from the \"move\"^th to the \"move + 1\"^th state\n",
    "        continue # we only have supercell saved from NEqb onwards\n",
    "        \n",
    "    sup_temp = supercells[move - NEqb].copy()\n",
    "    assert sup_temp == supercells[move - NEqb + 1]\n",
    "    \n",
    "    tmp = sup_temp[swaps[move, 0]].symbol\n",
    "    sup_temp[swaps[move, 0]].symbol = sup_temp[swaps[move, 1]].symbol\n",
    "    sup_temp[swaps[move, 1]].symbol = tmp\n",
    "\n",
    "    # compute energy\n",
    "    write_lammps_data(\"inp_MC.data\", sup_temp, specorder=elems)\n",
    "    cmd = subprocess.Popen(\"$LMPPATH/lmp -in in_test.minim > out_test.txt\", shell=True)\n",
    "    rt = cmd.wait()\n",
    "    assert rt == 0\n",
    "\n",
    "    # Read energy\n",
    "    with open(\"Eng.txt\", \"r\") as fl:\n",
    "        en_temp = float(fl.readline().split()[0])\n",
    "\n",
    "    # Check what the random number was\n",
    "    rand = rands[move]\n",
    "    de = en_temp - en_stored[move]\n",
    "    test_num = np.exp(-de/(kB*T))\n",
    "    # Check that rand is greater than relative prob.\n",
    "    assert rand >= test_num, \"{} {}\".format(rand, test_num)\n",
    "\n",
    "print(\"Rejection checks okay.\")"
   ]
  },
  {
   "cell_type": "markdown",
   "id": "d69779d3",
   "metadata": {},
   "source": [
    "# Next, check the lammps coordinates that ASE generates"
   ]
  },
  {
   "cell_type": "markdown",
   "id": "697c77bd",
   "metadata": {},
   "source": [
    "## First, we write out a lammps data file from the initial supercell and read it back in"
   ]
  },
  {
   "cell_type": "code",
   "execution_count": 11,
   "id": "3de009b2",
   "metadata": {},
   "outputs": [],
   "source": [
    "with open(\"MC_test_traj/1/superInitial.pkl\", \"rb\") as fl:\n",
    "    sup0 = pickle.load(fl)\n",
    "\n",
    "write_lammps_data(\"write_lammps_test.data\", sup0, specorder=elems)\n",
    "with open(\"write_lammps_test.data\", \"r\") as fl:\n",
    "    lammps_file = fl.readlines()"
   ]
  },
  {
   "cell_type": "code",
   "execution_count": 12,
   "id": "1018ff51",
   "metadata": {},
   "outputs": [
    {
     "data": {
      "text/plain": [
       "['write_lammps_test.data (written by ASE) \\n',\n",
       " '\\n',\n",
       " '511 \\t atoms \\n',\n",
       " '5  atom types\\n',\n",
       " '0.0      20.308106755677645  xlo xhi\\n',\n",
       " '0.0      17.587336353183218  ylo yhi\\n',\n",
       " '0.0      16.581499731126051  zlo zhi\\n',\n",
       " '     10.154053377838821      10.154053377838821      5.8624454510610686  xy xz yz\\n',\n",
       " '\\n',\n",
       " '\\n',\n",
       " 'Atoms \\n',\n",
       " '\\n',\n",
       " '     1   4      1.2692566722298526     0.73280568138263358       2.072687466390756\\n',\n",
       " '     2   5      2.5385133444597052      1.4656113627652672      4.1453749327815119\\n',\n",
       " '     3   4      3.8077700166895578       2.198417044147901      6.2180623991722683\\n',\n",
       " '     4   3      5.0770266889194096      2.9312227255305334      8.2907498655630238\\n',\n",
       " '     5   4      6.3462833611492631      3.6640284069131677      10.363437331953781\\n',\n",
       " '     6   2      7.6155400333791157      4.3968340882958019      12.436124798344537\\n',\n",
       " '     7   2      8.8847967056089683      5.1296397696784348      14.508812264735292\\n',\n",
       " '     8   4      1.2692566722298526      2.1984170441479014  5.6566326320934886e-17\\n']"
      ]
     },
     "execution_count": 12,
     "metadata": {},
     "output_type": "execute_result"
    }
   ],
   "source": [
    "lammps_file[:20]"
   ]
  },
  {
   "cell_type": "markdown",
   "id": "c0f1bcbe",
   "metadata": {},
   "source": [
    "## Next, We are going to check the 9 parameters - (x, y, z)lo and hi, and xy, yz, xz <br> and the atomic coordiantes after transformation"
   ]
  },
  {
   "cell_type": "code",
   "execution_count": 13,
   "id": "55c1e1fe",
   "metadata": {},
   "outputs": [
    {
     "name": "stdout",
     "output_type": "stream",
     "text": [
      "[[ 0.   14.36 14.36]\n",
      " [14.36  0.   14.36]\n",
      " [14.36 14.36  0.  ]]\n"
     ]
    },
    {
     "name": "stderr",
     "output_type": "stream",
     "text": [
      "100%|█████████████████████████| 496/496 [00:04<00:00, 109.86it/s]\n"
     ]
    }
   ],
   "source": [
    "# Check all supercells have identical on-lattice positions and lattices\n",
    "# This will ensure that ASE writes the same initial lammps data for all.\n",
    "supLatt = sup0.cell[:]\n",
    "print(supLatt)\n",
    "for sup in tqdm(supercells, position=0, leave=True, ncols=65):\n",
    "    assert np.array_equal(sup.cell[:], supLatt)\n",
    "    for Idx in range(len(sup)):\n",
    "        assert np.array_equal(sup[Idx].position, sup0[Idx].position)"
   ]
  },
  {
   "cell_type": "code",
   "execution_count": 14,
   "id": "25764cc7",
   "metadata": {},
   "outputs": [],
   "source": [
    "# Next let's get the vectors we need ready\n",
    "Avec = supLatt[:, 0].copy()\n",
    "Bvec = supLatt[:, 1].copy()\n",
    "Cvec = supLatt[:, 2].copy()\n",
    "\n",
    "Aunit = Avec / np.linalg.norm(Avec)\n",
    "Bunit = Avec / np.linalg.norm(Avec)\n",
    "Cunit = Avec / np.linalg.norm(Avec)\n",
    "\n",
    "AcrossB_unit = np.cross(Avec, Bvec) / np.linalg.norm(np.cross(Avec, Bvec))\n",
    "Aunit_cross_B = np.cross(Aunit, Bvec)"
   ]
  },
  {
   "cell_type": "markdown",
   "id": "fa5a2ef4",
   "metadata": {},
   "source": [
    "## check (x, y, z)lo and hi"
   ]
  },
  {
   "cell_type": "code",
   "execution_count": 15,
   "id": "3966dabd",
   "metadata": {},
   "outputs": [
    {
     "name": "stdout",
     "output_type": "stream",
     "text": [
      "xlo, xhi : 0.0, 20.308106755677645\n",
      "ylo, yhi : 0.0, 17.58733635318322\n",
      "zlo, zhi : 0.0, 16.58149973112605\n"
     ]
    }
   ],
   "source": [
    "xlo = float(lammps_file[4].split()[0])\n",
    "xhi = float(lammps_file[4].split()[1])\n",
    "\n",
    "ylo = float(lammps_file[5].split()[0])\n",
    "yhi = float(lammps_file[5].split()[1])\n",
    "\n",
    "zlo = float(lammps_file[6].split()[0])\n",
    "zhi = float(lammps_file[6].split()[1])\n",
    "\n",
    "print(\"xlo, xhi : {}, {}\".format(xlo, xhi))\n",
    "print(\"ylo, yhi : {}, {}\".format(ylo, yhi))\n",
    "print(\"zlo, zhi : {}, {}\".format(zlo, zhi))\n",
    "\n",
    "xhi_minus_xlo_comp = np.linalg.norm(Avec)\n",
    "yhi_minus_ylo_comp = np.linalg.norm(Aunit_cross_B)\n",
    "zhi_minus_zlo_comp = np.abs(np.dot(Cvec, AcrossB_unit))\n",
    "\n",
    "assert np.math.isclose(xhi_minus_xlo_comp, xhi - xlo)\n",
    "assert np.math.isclose(yhi_minus_ylo_comp, yhi - ylo)\n",
    "assert np.math.isclose(zhi_minus_zlo_comp, zhi - zlo)"
   ]
  },
  {
   "cell_type": "markdown",
   "id": "57628bb7",
   "metadata": {},
   "source": [
    "## check xy, yz, xz"
   ]
  },
  {
   "cell_type": "code",
   "execution_count": 16,
   "id": "eb56662f",
   "metadata": {},
   "outputs": [
    {
     "name": "stdout",
     "output_type": "stream",
     "text": [
      "xy, xz, yz : 10.154053377838821, 10.154053377838821, 5.862445451061069\n"
     ]
    }
   ],
   "source": [
    "xy = float(lammps_file[7].split()[0])\n",
    "xz = float(lammps_file[7].split()[1])\n",
    "yz = float(lammps_file[7].split()[2])\n",
    "print(\"xy, xz, yz : {}, {}, {}\".format(xy, xz, yz))\n",
    "\n",
    "xy_comp = np.dot(Bvec, Aunit)\n",
    "xz_comp = np.dot(Cvec, Aunit)\n",
    "yz_comp = np.dot(Cvec, np.cross(AcrossB_unit, Aunit))\n",
    "\n",
    "assert np.allclose(xy, xy_comp)\n",
    "assert np.allclose(xz, xz_comp)\n",
    "assert np.allclose(yz, yz_comp)"
   ]
  },
  {
   "cell_type": "markdown",
   "id": "e05f0042",
   "metadata": {},
   "source": [
    "## Now we check all the co-ordinates"
   ]
  },
  {
   "cell_type": "code",
   "execution_count": 17,
   "id": "00ca021c",
   "metadata": {},
   "outputs": [
    {
     "name": "stdout",
     "output_type": "stream",
     "text": [
      "[[20.30810676 10.15405338 10.15405338]\n",
      " [ 0.         17.58733635  5.86244545]\n",
      " [ 0.          0.         16.58149973]]\n",
      "5922.339712\n"
     ]
    }
   ],
   "source": [
    "cellLammps = np.array([[xhi - xlo, 0., 0.], [xy, yhi-ylo, 0.], [xz, yz, zhi-zlo]]).T\n",
    "V = np.dot(Avec, np.cross(Bvec, Cvec))\n",
    "print(cellLammps)\n",
    "print(V)"
   ]
  },
  {
   "cell_type": "code",
   "execution_count": 18,
   "id": "6b4c7512",
   "metadata": {},
   "outputs": [
    {
     "data": {
      "text/plain": [
       "array([[-206.2096,  206.2096,  206.2096],\n",
       "       [ 206.2096, -206.2096,  206.2096],\n",
       "       [ 206.2096,  206.2096, -206.2096]])"
      ]
     },
     "execution_count": 18,
     "metadata": {},
     "output_type": "execute_result"
    }
   ],
   "source": [
    "matrix_transf = np.zeros((3,3))\n",
    "matrix_transf[0, :] = np.cross(Bvec, Cvec)\n",
    "matrix_transf[1, :] = np.cross(Cvec, Avec)\n",
    "matrix_transf[2, :] = np.cross(Avec, Bvec)\n",
    "matrix_transf"
   ]
  },
  {
   "cell_type": "code",
   "execution_count": 19,
   "id": "788dbaec",
   "metadata": {},
   "outputs": [
    {
     "name": "stderr",
     "output_type": "stream",
     "text": [
      "100%|████████████████████████| 511/511 [00:00<00:00, 8085.53it/s]\n"
     ]
    }
   ],
   "source": [
    "for atom in tqdm(range(len(sup0)), position=0, leave=True, ncols=65):\n",
    "    cartpos = sup0[atom].position\n",
    "    symbol = sup0[atom].symbol\n",
    "    atomID = elems.index(symbol) + 1 # lammps starts with 1\n",
    "    \n",
    "    lammps_x = float(lammps_file[12 + atom].split()[2])\n",
    "    lammps_y = float(lammps_file[12 + atom].split()[3])\n",
    "    lammps_z = float(lammps_file[12 + atom].split()[4])\n",
    "    \n",
    "    cartpos_transf = matrix_transf @ cartpos\n",
    "    cartpos_transf = cellLammps @ cartpos_transf\n",
    "    cartpos_transf /= V\n",
    "    \n",
    "    assert np.allclose(cartpos_transf, np.array([lammps_x, lammps_y, lammps_z]))\n",
    "    assert atomID == int(lammps_file[12 + atom].split()[1])"
   ]
  },
  {
   "cell_type": "code",
   "execution_count": null,
   "id": "b1ee1ad7",
   "metadata": {},
   "outputs": [],
   "source": []
  }
 ],
 "metadata": {
  "kernelspec": {
   "display_name": "Python 3 (ipykernel)",
   "language": "python",
   "name": "python3"
  },
  "language_info": {
   "codemirror_mode": {
    "name": "ipython",
    "version": 3
   },
   "file_extension": ".py",
   "mimetype": "text/x-python",
   "name": "python",
   "nbconvert_exporter": "python",
   "pygments_lexer": "ipython3",
   "version": "3.8.10"
  }
 },
 "nbformat": 4,
 "nbformat_minor": 5
}
