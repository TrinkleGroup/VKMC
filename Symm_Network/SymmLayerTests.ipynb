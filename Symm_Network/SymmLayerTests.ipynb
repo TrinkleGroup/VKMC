{
 "cells": [
  {
   "cell_type": "code",
   "execution_count": 1,
   "metadata": {},
   "outputs": [],
   "source": [
    "import numpy as np\n",
    "import torch as pt\n",
    "import torch.nn as nn\n",
    "import torch.nn.functional as F\n",
    "import pickle"
   ]
  },
  {
   "cell_type": "code",
   "execution_count": 3,
   "metadata": {},
   "outputs": [],
   "source": [
    "from onsager import crystal, cluster, supercell\n",
    "from SymmLayers import GConv, GAvg, R3ConvSites, R3Conv"
   ]
  },
  {
   "cell_type": "markdown",
   "metadata": {},
   "source": [
    "# Load Crystal data"
   ]
  },
  {
   "cell_type": "code",
   "execution_count": 6,
   "metadata": {},
   "outputs": [],
   "source": [
    "# Read crystal data\n",
    "CrysDatPath = \"../CrysDat_BCC/\"\n",
    "\n",
    "# Load the test batch of random states related to each other by symmetry\n",
    "TestStates = np.load(CrysDatPath + \"TestStates.npy\")\n",
    "\n",
    "# Load symmetry operations with which they were constructed\n",
    "with open(CrysDatPath + \"GroupOpsIndices.pkl\", \"rb\") as fl:\n",
    "    GIndtoGDict = pickle.load(fl)\n",
    "\n",
    "dxNN = np.load(CrysDatPath + \"nnJumpLatVecs_2nn.npy\")\n",
    "RtoSiteInd = np.load(CrysDatPath + \"RtoSiteInd.npy\")\n",
    "SiteIndtoR = np.load(CrysDatPath + \"SiteIndtoR.npy\")\n",
    "GpermNNIdx = np.load(CrysDatPath + \"GroupNNpermutations_2nn.npy\")\n",
    "siteShellIndices = np.load(CrysDatPath + \"SitesToShells.npy\")\n",
    "\n",
    "NNsiteList = np.load(CrysDatPath + \"NNsites_sitewise_2nn.npy\")\n",
    "N_ngb = NNsiteList.shape[0]\n",
    "Nsites = NNsiteList.shape[1]\n",
    "\n",
    "with open(CrysDatPath + \"supercellBCC.pkl\", \"rb\") as fl:\n",
    "    superBCC = pickle.load(fl)"
   ]
  },
  {
   "cell_type": "code",
   "execution_count": 7,
   "metadata": {},
   "outputs": [
    {
     "data": {
      "text/plain": [
       "(15, 512)"
      ]
     },
     "execution_count": 7,
     "metadata": {},
     "output_type": "execute_result"
    }
   ],
   "source": [
    "N_ngb, Nsites"
   ]
  },
  {
   "cell_type": "code",
   "execution_count": 8,
   "metadata": {},
   "outputs": [],
   "source": [
    "N_units = 8"
   ]
  },
  {
   "cell_type": "markdown",
   "metadata": {},
   "source": [
    "## Next we make symmetry parameters"
   ]
  },
  {
   "cell_type": "code",
   "execution_count": 9,
   "metadata": {},
   "outputs": [],
   "source": [
    "GnnPerms = pt.tensor(GpermNNIdx)\n",
    "NNsites = pt.tensor(NNsiteList)\n",
    "SitesToShells = pt.tensor(siteShellIndices).long()\n",
    "\n",
    "Ng = GnnPerms.shape[0]\n",
    "Ndim = 3\n",
    "gdiags = pt.zeros(Ng*Ndim, Ng*Ndim).double()\n",
    "for gInd, g in GIndtoGDict.items():\n",
    "    rowStart = gInd * Ndim\n",
    "    rowEnd = (gInd + 1) * Ndim\n",
    "    gdiags[rowStart : rowEnd, rowStart : rowEnd] = pt.tensor(g.cartrot)"
   ]
  },
  {
   "cell_type": "markdown",
   "metadata": {},
   "source": [
    "# Now let's build the network"
   ]
  },
  {
   "cell_type": "code",
   "execution_count": 10,
   "metadata": {},
   "outputs": [],
   "source": [
    "# for now, let's make an 8-channel, 4-layer network\n",
    "class GCNet(nn.Module):\n",
    "    def __init__(self, GnnPerms, NNsites, SitesToShells,\n",
    "                dim=3, N_ngb=N_ngb, mean=0., std=0.1):\n",
    "        \n",
    "        super().__init__()\n",
    "        \n",
    "        self.net = nn.Sequential(\n",
    "            GConv(1, 8, GnnPerms, NNsites, N_ngb, mean=mean, std=std),\n",
    "            nn.Softplus(),\n",
    "            GAvg(),\n",
    "            \n",
    "            GConv(8, 8, GnnPerms, NNsites, N_ngb, mean=mean, std=std),\n",
    "            nn.Softplus(),\n",
    "            GAvg(),\n",
    "\n",
    "            GConv(8, 8, GnnPerms, NNsites, N_ngb, mean=mean, std=std),\n",
    "            nn.Softplus(),\n",
    "            GAvg(),\n",
    "\n",
    "            GConv(8, 8, GnnPerms, NNsites, N_ngb, mean=mean, std=std),\n",
    "            nn.Softplus(),\n",
    "            GAvg(),\n",
    "\n",
    "            # The last GConv layer must have a single out channel\n",
    "            GConv(8, 1, GnnPerms, NNsites, N_ngb, mean=mean, std=std),\n",
    "            nn.Softplus(),\n",
    "            GAvg(),\n",
    "\n",
    "            R3ConvSites(SitesToShells, GnnPerms, gdiags, NNsites, N_ngb,\n",
    "                   dim, mean=mean, std=std*10)        \n",
    "        )\n",
    "    \n",
    "    def forward(self, InState):\n",
    "        y = self.net(InState)\n",
    "        return y"
   ]
  },
  {
   "cell_type": "code",
   "execution_count": 11,
   "metadata": {},
   "outputs": [],
   "source": [
    "m = 0.\n",
    "s = .2\n",
    "gNet = GCNet(GnnPerms.long(), NNsites, SitesToShells,\n",
    "                dim=3, N_ngb=N_ngb, mean=m, std=s).double()"
   ]
  },
  {
   "cell_type": "markdown",
   "metadata": {},
   "source": [
    "## Now Pass the Input states and get the output"
   ]
  },
  {
   "cell_type": "code",
   "execution_count": 13,
   "metadata": {},
   "outputs": [
    {
     "data": {
      "text/plain": [
       "torch.Size([48, 1, 512])"
      ]
     },
     "execution_count": 13,
     "metadata": {},
     "output_type": "execute_result"
    }
   ],
   "source": [
    "Nbatch = TestStates.shape[0]\n",
    "StateTensors = pt.tensor(TestStates/2.0).double().view(Nbatch, 1, TestStates.shape[1])\n",
    "StateTensors.shape"
   ]
  },
  {
   "cell_type": "code",
   "execution_count": 14,
   "metadata": {},
   "outputs": [],
   "source": [
    "y=gNet(StateTensors)"
   ]
  },
  {
   "cell_type": "code",
   "execution_count": 15,
   "metadata": {},
   "outputs": [],
   "source": [
    "y_np = y.data.numpy().copy()"
   ]
  },
  {
   "cell_type": "code",
   "execution_count": 16,
   "metadata": {},
   "outputs": [
    {
     "data": {
      "text/plain": [
       "(48, 3, 512)"
      ]
     },
     "execution_count": 16,
     "metadata": {},
     "output_type": "execute_result"
    }
   ],
   "source": [
    "y_np.shape"
   ]
  },
  {
   "cell_type": "code",
   "execution_count": 17,
   "metadata": {},
   "outputs": [
    {
     "name": "stdout",
     "output_type": "stream",
     "text": [
      "Vector Layer Symmetry assertions passed\n"
     ]
    }
   ],
   "source": [
    "# Check that subsequent y vectors are related by symmetry\n",
    "y0 = y_np[0].copy()\n",
    "for gInd, g in GIndtoGDict.items():\n",
    "    for site in range(512):\n",
    "        Rsite = SiteIndtoR[site]\n",
    "        RsiteNew, _ = superBCC.crys.g_pos(g, Rsite, (0, 0))\n",
    "        RsiteNew = RsiteNew % 8 # bring back into supercell\n",
    "        siteNew = RtoSiteInd[RsiteNew[0], RsiteNew[1], RsiteNew[2]]\n",
    "        assert np.allclose(np.dot(g.cartrot, y0[:, site]), y_np[gInd, :, siteNew])\n",
    "        \n",
    "print(\"Vector Layer Symmetry assertions passed\")"
   ]
  },
  {
   "cell_type": "code",
   "execution_count": 18,
   "metadata": {},
   "outputs": [],
   "source": [
    "def checkSymLayer(out, Nch):\n",
    "    for ch in range(Nch):\n",
    "        outsamp0 = out[0, ch, :]\n",
    "        for gInd, g in GIndtoGDict.items():\n",
    "            outsamp = pt.zeros_like(outsamp0)\n",
    "            for siteInd in range(512):\n",
    "                RSite = SiteIndtoR[siteInd]\n",
    "                Rnew, _ = superBCC.crys.g_pos(g, RSite, (0,0))\n",
    "                Rnew %= 8\n",
    "                siteIndNew = RtoSiteInd[Rnew[0], Rnew[1], Rnew[2]]\n",
    "                outsamp[siteIndNew] = outsamp0[siteInd]\n",
    "            assert pt.allclose(outsamp, out[gInd, ch, :])"
   ]
  },
  {
   "cell_type": "code",
   "execution_count": 19,
   "metadata": {},
   "outputs": [
    {
     "name": "stdout",
     "output_type": "stream",
     "text": [
      "Layer 1 symmetry assertion passed\n",
      "Layer 2 symmetry assertion passed\n",
      "Layer 3 symmetry assertion passed\n",
      "Layer 4 symmetry assertion passed\n",
      "Layer 5 symmetry assertion passed\n"
     ]
    }
   ],
   "source": [
    "# Check symmetries of internal layers:\n",
    "out = pt.clone(StateTensors)\n",
    "for l in range(0, 15, 3):\n",
    "    assert out.shape[1]==gNet.net[l].Psi.shape[1]\n",
    "    out = gNet.net[l].forward(out)\n",
    "    out = gNet.net[l+1].forward(out)\n",
    "    out = gNet.net[l+2].forward(out)\n",
    "    Nch = out.shape[1]\n",
    "    assert Nch==gNet.net[l].Psi.shape[0]\n",
    "    checkSymLayer(out, Nch)\n",
    "    print(\"Layer {} symmetry assertion passed\".format((l + 3)//3))"
   ]
  },
  {
   "cell_type": "code",
   "execution_count": 20,
   "metadata": {},
   "outputs": [
    {
     "data": {
      "text/plain": [
       "torch.Size([48, 1, 512])"
      ]
     },
     "execution_count": 20,
     "metadata": {},
     "output_type": "execute_result"
    }
   ],
   "source": [
    "out.shape"
   ]
  },
  {
   "cell_type": "code",
   "execution_count": 21,
   "metadata": {},
   "outputs": [],
   "source": [
    "# Check site-weighted vector sum\n",
    "from SymmLayers import R3Conv\n",
    "C3Conv = R3Conv(SitesToShells, GnnPerms.long(), gdiags, NNsites, N_ngb,\n",
    "                   dim=3, mean=m, std=s).double()\n",
    "\n",
    "y = C3Conv(out).detach().numpy()"
   ]
  },
  {
   "cell_type": "code",
   "execution_count": 22,
   "metadata": {},
   "outputs": [
    {
     "name": "stdout",
     "output_type": "stream",
     "text": [
      "Weighted sum of vector tests passed\n"
     ]
    }
   ],
   "source": [
    "for gInd, g in GIndtoGDict.items():\n",
    "    assert np.allclose(np.dot(g.cartrot, y[0]), y[gInd])\n",
    "print(\"Weighted sum of vector tests passed\")"
   ]
  },
  {
   "cell_type": "code",
   "execution_count": null,
   "metadata": {},
   "outputs": [],
   "source": []
  }
 ],
 "metadata": {
  "kernelspec": {
   "display_name": "Python 3 (ipykernel)",
   "language": "python",
   "name": "python3"
  },
  "language_info": {
   "codemirror_mode": {
    "name": "ipython",
    "version": 3
   },
   "file_extension": ".py",
   "mimetype": "text/x-python",
   "name": "python",
   "nbconvert_exporter": "python",
   "pygments_lexer": "ipython3",
   "version": "3.8.10"
  }
 },
 "nbformat": 4,
 "nbformat_minor": 4
}
