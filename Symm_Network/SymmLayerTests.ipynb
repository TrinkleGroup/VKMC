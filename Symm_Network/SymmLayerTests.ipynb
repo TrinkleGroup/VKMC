{
 "cells": [
  {
   "cell_type": "code",
   "execution_count": 1,
   "metadata": {},
   "outputs": [],
   "source": [
    "import numpy as np\n",
    "import torch as pt\n",
    "import torch.nn as nn\n",
    "import torch.nn.functional as F\n",
    "import pickle\n",
    "import matplotlib.pyplot as plt\n",
    "from tqdm import tqdm"
   ]
  },
  {
   "cell_type": "code",
   "execution_count": 2,
   "metadata": {},
   "outputs": [],
   "source": [
    "from onsager import crystal, cluster, supercell\n",
    "from SymmLayers import GCNet"
   ]
  },
  {
   "cell_type": "markdown",
   "metadata": {},
   "source": [
    "# Load Crystal data"
   ]
  },
  {
   "cell_type": "code",
   "execution_count": 3,
   "metadata": {},
   "outputs": [],
   "source": [
    "# Read crystal data\n",
    "crysType = \"BCC\"\n",
    "CrysDatPath = \"../CrysDat_\"+crysType+\"/\"\n",
    "\n",
    "# Load symmetry operations with which they were constructed\n",
    "with open(CrysDatPath + \"GroupOpsIndices.pkl\", \"rb\") as fl:\n",
    "    GIndtoGDict = pickle.load(fl)\n",
    "\n",
    "dxNN = np.load(CrysDatPath + \"nnJumpLatVecs.npy\")\n",
    "RtoSiteInd = np.load(CrysDatPath + \"RtoSiteInd.npy\")\n",
    "SiteIndtoR = np.load(CrysDatPath + \"SiteIndtoR.npy\")\n",
    "GpermNNIdx = np.load(CrysDatPath + \"GroupNNpermutations.npy\")\n",
    "siteShellIndices = np.load(CrysDatPath + \"SitesToShells.npy\")\n",
    "\n",
    "NNsiteList = np.load(CrysDatPath + \"NNsites_sitewise.npy\")\n",
    "dxList = np.load(CrysDatPath + \"dxList.npy\")\n",
    "\n",
    "norm = np.linalg.norm(dxList[0])\n",
    "\n",
    "dxList /= norm\n",
    "\n",
    "N_ngb = NNsiteList.shape[0]\n",
    "Nsites = NNsiteList.shape[1]\n",
    "\n",
    "with open(CrysDatPath + \"supercell\"+crysType+\".pkl\", \"rb\") as fl:\n",
    "    superBCC = pickle.load(fl)"
   ]
  },
  {
   "cell_type": "code",
   "execution_count": 5,
   "metadata": {},
   "outputs": [],
   "source": [
    "# Make a batch of states that are related by symmetry\n",
    "NspCh = 2\n",
    "TestStates = np.random.randint(0, 2, (len(GpermNNIdx), NspCh, Nsites))\n",
    "for gInd, g in GIndtoGDict.items():\n",
    "    for siteInd in range(Nsites):\n",
    "        _, RSite = superBCC.ciR(siteInd)\n",
    "        Rnew, _ = superBCC.crys.g_pos(g, RSite, (0,0))\n",
    "        Rnew %= 8\n",
    "        siteIndNew = RtoSiteInd[Rnew[0], Rnew[1], Rnew[2]]\n",
    "        TestStates[gInd, :, siteIndNew] = TestStates[0, :, siteInd]"
   ]
  },
  {
   "cell_type": "markdown",
   "metadata": {},
   "source": [
    "## Next we make symmetry parameters"
   ]
  },
  {
   "cell_type": "code",
   "execution_count": 6,
   "metadata": {},
   "outputs": [],
   "source": [
    "GnnPerms = pt.tensor(GpermNNIdx).long()\n",
    "NNsites = pt.tensor(NNsiteList).long()\n",
    "JumpUnitVecs = pt.tensor(dxList.T)\n",
    "Ng = GnnPerms.shape[0]\n",
    "Ndim = 3"
   ]
  },
  {
   "cell_type": "markdown",
   "metadata": {},
   "source": [
    "# Now let's build the network"
   ]
  },
  {
   "cell_type": "code",
   "execution_count": 9,
   "metadata": {},
   "outputs": [
    {
     "data": {
      "text/plain": [
       "torch.Size([48, 2, 512])"
      ]
     },
     "execution_count": 9,
     "metadata": {},
     "output_type": "execute_result"
    }
   ],
   "source": [
    "Nbatch = TestStates.shape[0]\n",
    "# Let's predict 5 channels of vectors\n",
    "gNet = GCNet(GnnPerms.long(), NNsites, JumpUnitVecs, dim=3, N_ngb=N_ngb,\n",
    "             NSpec=NspCh, mean=0.05, std=0.01, nl=3, nch=8, nchLast=5).double()\n",
    "StateTensors = pt.tensor(TestStates).double()\n",
    "StateTensors.shape"
   ]
  },
  {
   "cell_type": "code",
   "execution_count": 10,
   "metadata": {},
   "outputs": [],
   "source": [
    "with pt.no_grad():\n",
    "    y=gNet(StateTensors)"
   ]
  },
  {
   "cell_type": "code",
   "execution_count": 11,
   "metadata": {},
   "outputs": [
    {
     "data": {
      "text/plain": [
       "(48, 5, 3, 512)"
      ]
     },
     "execution_count": 11,
     "metadata": {},
     "output_type": "execute_result"
    }
   ],
   "source": [
    "y_np = y.data.numpy().copy()\n",
    "# y_np = y_np[:, 0, :, :]\n",
    "y_np.shape"
   ]
  },
  {
   "cell_type": "code",
   "execution_count": 12,
   "metadata": {},
   "outputs": [
    {
     "data": {
      "image/png": "[encoded data removed]",
      "text/plain": [
       "<Figure size 432x288 with 1 Axes>"
      ]
     },
     "metadata": {
      "needs_background": "light"
     },
     "output_type": "display_data"
    }
   ],
   "source": [
    "# Check that y vectors are not too small so as to have meaningful tests\n",
    "_, _, _ = plt.hist(y_np.flatten(), bins=50)"
   ]
  },
  {
   "cell_type": "code",
   "execution_count": 13,
   "metadata": {},
   "outputs": [
    {
     "name": "stdout",
     "output_type": "stream",
     "text": [
      "Vector Layer Symmetry assertions passed\n"
     ]
    }
   ],
   "source": [
    "# Check that subsequent y vectors are related by symmetry\n",
    "y0 = y_np[0].copy()\n",
    "for gInd, g in GIndtoGDict.items():\n",
    "    for site in range(512):\n",
    "        Rsite = SiteIndtoR[site]\n",
    "        RsiteNew, _ = superBCC.crys.g_pos(g, Rsite, (0, 0))\n",
    "        RsiteNew = RsiteNew % 8 # bring back into supercell\n",
    "        siteNew = RtoSiteInd[RsiteNew[0], RsiteNew[1], RsiteNew[2]]\n",
    "        for ch in range(y0.shape[0]):\n",
    "            assert np.allclose(np.dot(g.cartrot, y0[ch, :, site]), y_np[gInd, ch, :, siteNew])\n",
    "        \n",
    "print(\"Vector Layer Symmetry assertions passed\")"
   ]
  },
  {
   "cell_type": "code",
   "execution_count": 14,
   "metadata": {},
   "outputs": [
    {
     "name": "stderr",
     "output_type": "stream",
     "text": [
      "100%|███████████████████████████████████████████| 48/48 [00:38<00:00,  1.25it/s]\n"
     ]
    }
   ],
   "source": [
    "# Check the y vectors explicitly\n",
    "with pt.no_grad():\n",
    "    out = gNet.net(StateTensors)\n",
    "    for stateInd in tqdm(range(out.shape[0])):\n",
    "        for channel in range(out.shape[1]):\n",
    "            for site in range(Nsites):\n",
    "                a_site = out[stateInd, channel, NNsites[1:, site]]\n",
    "                siteVec = sum(a_site[i]*JumpUnitVecs[:, i] for i in range(N_ngb -1)).detach().numpy()\n",
    "                assert np.allclose(siteVec, y_np[stateInd, channel, :, site])"
   ]
  },
  {
   "cell_type": "code",
   "execution_count": 15,
   "metadata": {},
   "outputs": [],
   "source": [
    "def checkSymLayer(out, Nch):\n",
    "    for ch in range(Nch):\n",
    "        outsamp0 = out[0, ch, :]\n",
    "        for gInd, g in GIndtoGDict.items():\n",
    "            outsamp = pt.zeros_like(outsamp0)\n",
    "            for siteInd in range(512):\n",
    "                RSite = SiteIndtoR[siteInd]\n",
    "                Rnew, _ = superBCC.crys.g_pos(g, RSite, (0,0))\n",
    "                Rnew %= 8\n",
    "                siteIndNew = RtoSiteInd[Rnew[0], Rnew[1], Rnew[2]]\n",
    "                outsamp[siteIndNew] = outsamp0[siteInd]\n",
    "            assert pt.allclose(outsamp, out[gInd, ch, :], atol=1e-12)"
   ]
  },
  {
   "cell_type": "code",
   "execution_count": 16,
   "metadata": {},
   "outputs": [
    {
     "data": {
      "text/plain": [
       "15"
      ]
     },
     "execution_count": 16,
     "metadata": {},
     "output_type": "execute_result"
    }
   ],
   "source": [
    "len(gNet.net)"
   ]
  },
  {
   "cell_type": "code",
   "execution_count": 17,
   "metadata": {},
   "outputs": [
    {
     "name": "stdout",
     "output_type": "stream",
     "text": [
      "Layer 1 symmetry assertion passed\n",
      "Layer 2 symmetry assertion passed\n",
      "Layer 3 symmetry assertion passed\n",
      "Layer 4 symmetry assertion passed\n",
      "Layer 5 symmetry assertion passed\n"
     ]
    }
   ],
   "source": [
    "# Check symmetries of internal layers:\n",
    "out = pt.clone(StateTensors)\n",
    "with pt.no_grad():\n",
    "    for l in range(0, len(gNet.net), 3):\n",
    "        assert out.shape[1]==gNet.net[l].Psi.shape[1]\n",
    "        out = gNet.net[l].forward(out)\n",
    "        out = gNet.net[l+1].forward(out)\n",
    "        out = gNet.net[l+2].forward(out)\n",
    "        Nch = out.shape[1]\n",
    "        assert Nch==gNet.net[l].Psi.shape[0]\n",
    "        checkSymLayer(out, Nch)\n",
    "        print(\"Layer {} symmetry assertion passed\".format((l + 3)//3))"
   ]
  },
  {
   "cell_type": "code",
   "execution_count": 41,
   "metadata": {},
   "outputs": [
    {
     "name": "stderr",
     "output_type": "stream",
     "text": [
      "100%|██████████████████████████████| 2/2 [01:35<00:00, 47.81s/it]"
     ]
    },
    {
     "name": "stdout",
     "output_type": "stream",
     "text": [
      "Gconv explicit test passed\n"
     ]
    },
    {
     "name": "stderr",
     "output_type": "stream",
     "text": [
      "\n"
     ]
    }
   ],
   "source": [
    "# Do a layer convolution explicitly and check value\n",
    "with pt.no_grad():\n",
    "    l = 0\n",
    "    outl_Gconv = gNet.net[l].forward(StateTensors)\n",
    "    for stateInd in tqdm(range(2), ncols=65, position=0, leave=True):\n",
    "        for chOut in range(gNet.net[l].Psi.shape[0]):\n",
    "            b = gNet.net[l].bias[chOut]\n",
    "            for site in range(Nsites):\n",
    "                sitesNgb = NNsites[:, site]\n",
    "                lm_sum = 0.\n",
    "                for gInd in range(GnnPerms.shape[0]):\n",
    "                    sm = 0.\n",
    "                    for chIn in range(gNet.net[l].Psi.shape[1]):\n",
    "                        Psi_g = gNet.net[l].Psi[chOut, chIn][GnnPerms[gInd]]\n",
    "                        siteConv = pt.sum(Psi_g * StateTensors[stateInd, chIn, sitesNgb])\n",
    "                        sm += siteConv\n",
    "                    assert pt.allclose(outl_Gconv[stateInd, chOut, gInd, site], sm + b)\n",
    "    print(\"Gconv explicit test passed\")"
   ]
  },
  {
   "cell_type": "code",
   "execution_count": 43,
   "metadata": {},
   "outputs": [
    {
     "data": {
      "text/plain": [
       "2996"
      ]
     },
     "execution_count": 43,
     "metadata": {},
     "output_type": "execute_result"
    }
   ],
   "source": [
    "# Use the following for counting parameters\n",
    "gNet = GCNet(GnnPerms.long(), NNsites, JumpUnitVecs, dim=3, N_ngb=N_ngb,\n",
    "             NSpec=5, mean=0.05, std=0.01, nl=3, nch=8, nchLast=12).double()\n",
    "\n",
    "sm = 0\n",
    "for layer in range(0, len(gNet.net), 3):\n",
    "    sm += gNet.net[layer].Psi.shape[0] * gNet.net[layer].Psi.shape[1] * gNet.net[layer].Psi.shape[2]\n",
    "    sm += gNet.net[layer].bias.shape[0]\n",
    "sm"
   ]
  },
  {
   "cell_type": "code",
   "execution_count": null,
   "metadata": {},
   "outputs": [],
   "source": []
  }
 ],
 "metadata": {
  "kernelspec": {
   "display_name": "Python 3 (ipykernel)",
   "language": "python",
   "name": "python3"
  },
  "language_info": {
   "codemirror_mode": {
    "name": "ipython",
    "version": 3
   },
   "file_extension": ".py",
   "mimetype": "text/x-python",
   "name": "python",
   "nbconvert_exporter": "python",
   "pygments_lexer": "ipython3",
   "version": "3.8.10"
  }
 },
 "nbformat": 4,
 "nbformat_minor": 4
}
