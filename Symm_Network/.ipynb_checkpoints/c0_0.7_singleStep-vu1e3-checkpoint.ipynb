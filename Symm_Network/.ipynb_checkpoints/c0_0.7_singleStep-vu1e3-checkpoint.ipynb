{
 "cells": [
  {
   "cell_type": "code",
   "execution_count": 1,
   "metadata": {},
   "outputs": [],
   "source": [
    "import sys\n",
    "sys.path.append(\"../../../\")"
   ]
  },
  {
   "cell_type": "code",
   "execution_count": 2,
   "metadata": {},
   "outputs": [],
   "source": [
    "from onsager import crystal, supercell, cluster\n",
    "import numpy as np\n",
    "import LatGas\n",
    "import collections\n",
    "from numba import jit, int64, float64\n",
    "from tqdm import tqdm\n",
    "import h5py\n",
    "import pickle"
   ]
  },
  {
   "cell_type": "code",
   "execution_count": 3,
   "metadata": {},
   "outputs": [],
   "source": [
    "# Function to randomly permute a flat state N times\n",
    "@jit(nopython=True)\n",
    "def permuteState(state, N):\n",
    "    stateNew = np.random.permutation(state)\n",
    "    for i in range(N-1):\n",
    "        stateNew = np.random.permutation(stateNew)\n",
    "    return stateNew"
   ]
  },
  {
   "cell_type": "code",
   "execution_count": 4,
   "metadata": {},
   "outputs": [],
   "source": [
    "# chem = 0\n",
    "# a0 = 1.0  # Choose Fe lattice parameters for now\n",
    "# crys = crystal.Crystal.BCC(a0, chemistry=\"A\")\n",
    "# jnetBCC = crys.jumpnetwork(0, 1.01*np.sqrt(3)*a0/2)\n",
    "# N_unit = 8\n",
    "# superlatt = N_unit * np.eye(3, dtype=int)\n",
    "# superBCC = supercell.ClusterSupercell(crys, superlatt)\n",
    "\n",
    "dxR = np.load(\"nnJumpLatVecs.npy\")\n",
    "RtoSiteInd = np.load(\"RtoSiteInd.npy\")\n",
    "SiteIndtoR = np.load(\"SiteIndtoR.npy\")\n",
    "\n",
    "with open(\"GroupOpsIndices.pkl\", \"rb\") as fl:\n",
    "    GIndtoGDict = pickle.load(fl)\n",
    "\n",
    "with open(\"supercellBCC.pkl\", \"rb\") as fl:\n",
    "    superBCC = pickle.load(fl)\n",
    "\n",
    "with open(\"jnetBCC.pkl\", \"rb\") as fl:\n",
    "    jnetBCC = pickle.load(fl)\n",
    "\n",
    "# initial vacancy site to be at the origin\n",
    "vacsite = cluster.ClusterSite((0, 0), np.zeros(3, dtype=int))\n",
    "vacsiteInd = superBCC.index(np.zeros(3, dtype=int), (0, 0))[0]"
   ]
  },
  {
   "cell_type": "code",
   "execution_count": 5,
   "metadata": {},
   "outputs": [],
   "source": [
    "chem = 0\n",
    "jList, dxList, dxtoR = LatGas.makeSupJumps(superBCC, jnetBCC, chem)"
   ]
  },
  {
   "cell_type": "code",
   "execution_count": 7,
   "metadata": {},
   "outputs": [],
   "source": [
    "assert np.array_equal(dxtoR, dxR)"
   ]
  },
  {
   "cell_type": "code",
   "execution_count": 8,
   "metadata": {},
   "outputs": [
    {
     "name": "stdout",
     "output_type": "stream",
     "text": [
      "[8 8 8]\n",
      "\n",
      "0.7, 358\n"
     ]
    },
    {
     "name": "stderr",
     "output_type": "stream",
     "text": [
      "100%|██████████| 100000/100000 [00:18<00:00, 5279.31it/s]\n"
     ]
    }
   ],
   "source": [
    "# Set trajectory parameters\n",
    "Ntraj = 100000\n",
    "Nsteps = 1\n",
    "NPerm = 10\n",
    "NSpec = 3\n",
    "\n",
    "N_units = np.array([superBCC.superlatt[0,0], superBCC.superlatt[1,1], superBCC.superlatt[2,2]])\n",
    "print(N_units)\n",
    "# Set the state collectors\n",
    "state1Grid = np.zeros((Ntraj, N_units[0], N_units[1], N_units[2]), dtype=int)\n",
    "state2Grid = np.zeros((Ntraj, N_units[0], N_units[1], N_units[2]), dtype=int)\n",
    "state2GridUT = np.zeros((Ntraj, N_units[0], N_units[1], N_units[2]), dtype=int)\n",
    "\n",
    "dispList = np.zeros((Ntraj, NSpec, 3))\n",
    "rateList = np.zeros(Ntraj)\n",
    "\n",
    "jmpSelects = np.zeros((Ntraj, Nsteps), dtype=int)  \n",
    "# we'll test the jumps taken later with this\n",
    "\n",
    "# Set rates for species - species 0 is slower.\n",
    "SpecRates = np.array([0.001, 1.])\n",
    "\n",
    "Nsites = len(superBCC.mobilepos)\n",
    "initState = np.zeros(Nsites, dtype=int)\n",
    "\n",
    "c0 = 0.7\n",
    "    \n",
    "N_0 = int(c0*Nsites)\n",
    "print(\"\\n{}, {}\".format(c0, N_0), flush=True)\n",
    "\n",
    "for i in range(N_0):\n",
    "    initState[i] = 0\n",
    "\n",
    "for i in range(N_0, Nsites):\n",
    "    initState[i] = 1\n",
    "\n",
    "# Permute it up\n",
    "initState = np.random.permutation(initState)\n",
    "\n",
    "# Now put in the vacancy at the vacancy site\n",
    "initState[vacsiteInd] = NSpec - 1\n",
    "\n",
    "for traj in tqdm(range(Ntraj), position=0, leave=True):\n",
    "\n",
    "    # permute the initial state to get a new one\n",
    "    state0 = permuteState(initState, NPerm)\n",
    "    \n",
    "    # swap the vacancy site back to the origin\n",
    "    vacNow = np.where(state0 == NSpec-1)[0][0]\n",
    "    temp = state0[vacNow]\n",
    "    state0[vacNow] = state0[vacsiteInd]\n",
    "    state0[vacsiteInd] = temp\n",
    "    \n",
    "    assert temp == NSpec - 1\n",
    "    \n",
    "    initState = state0.copy()  # to be permuted in the next iteration\n",
    "    \n",
    "    state1Grid[traj, :, :, :] = LatGas.gridState(state0, SiteIndtoR, N_units)\n",
    "    \n",
    "    # Then do the trajectory\n",
    "    X_steps, t_steps, jmpSelectSteps, jmpFinSiteList = LatGas.LatGasKMCTraj(state0, SpecRates, Nsteps,\n",
    "                                                                            jList, dxList, vacsiteInd,\n",
    "                                                                            N_units, SiteIndtoR, RtoSiteInd)\n",
    "    \n",
    "    state2 = LatGas.gridState(state0, SiteIndtoR, N_units)\n",
    "    state2GridUT[traj, :, :, :] = state2.copy()  # Store the untranslated state - we'll use all for testing\n",
    "    \n",
    "    state2Grid[traj, :, :, :] = LatGas.translateState(state2, np.where(state0 == NSpec-1)[0][0],\n",
    "                                               vacsiteInd, RtoSiteInd, SiteIndtoR, N_units)\n",
    "    \n",
    "    assert state2Grid[traj, 0, 0, 0] == NSpec - 1, \"\\n{}\\n{}\".format(np.where(state0 == NSpec-1),\n",
    "                                                                     state2Grid[traj, 0, 0, 0])\n",
    "    \n",
    "    dispList[traj, :, :] = X_steps[-1]  # Get the end displacements\n",
    "    \n",
    "    rateList[traj] = 1.0/t_steps[-1]  # Inverse of the time is the rate\n",
    "    jmpSelects[traj,:] = jmpSelectSteps.copy()"
   ]
  },
  {
   "cell_type": "code",
   "execution_count": 11,
   "metadata": {},
   "outputs": [
    {
     "data": {
      "text/plain": [
       "(array([0, 1, 2]), array([358, 153,   1]))"
      ]
     },
     "execution_count": 11,
     "metadata": {},
     "output_type": "execute_result"
    }
   ],
   "source": [
    "np.unique(state1Grid[2], return_counts=True)"
   ]
  },
  {
   "cell_type": "code",
   "execution_count": 16,
   "metadata": {},
   "outputs": [
    {
     "name": "stderr",
     "output_type": "stream",
     "text": [
      "100%|██████████| 100000/100000 [00:10<00:00, 9548.66it/s]\n"
     ]
    }
   ],
   "source": [
    "for stateInd in tqdm(range(Ntraj), position=0, leave=True):\n",
    "    unique = np.unique(state1Grid[stateInd], return_counts=True)\n",
    "    for specInd in range(NSpec):\n",
    "        spec = unique[0][specInd]\n",
    "        count = unique[1][specInd]\n",
    "        \n",
    "        if spec == 0:\n",
    "            assert count == N_0\n",
    "        elif spec == 1:\n",
    "            assert count == 512-N_0-1\n",
    "        else:\n",
    "            assert count == 1\n",
    "    \n",
    "    unique = np.unique(state2Grid[stateInd], return_counts=True)\n",
    "    for specInd in range(NSpec):\n",
    "        spec = unique[0][specInd]\n",
    "        count = unique[1][specInd]\n",
    "        \n",
    "        if spec == 0:\n",
    "            assert count == N_0\n",
    "        elif spec == 1:\n",
    "            assert count == 512-N_0-1\n",
    "        else:\n",
    "            assert count == 1\n",
    "    \n",
    "    unique = np.unique(state2GridUT[stateInd], return_counts=True)\n",
    "    for specInd in range(NSpec):\n",
    "        spec = unique[0][specInd]\n",
    "        count = unique[1][specInd]\n",
    "        \n",
    "        if spec == 0:\n",
    "            assert count == N_0\n",
    "        elif spec == 1:\n",
    "            assert count == 512-N_0-1\n",
    "        else:\n",
    "            assert count == 1"
   ]
  },
  {
   "cell_type": "code",
   "execution_count": 17,
   "metadata": {},
   "outputs": [],
   "source": [
    "with h5py.File(\"singleStep_70.h5\", \"w\") as fl:\n",
    "    fl.create_dataset(\"NSamples\", data = Ntraj)\n",
    "    fl.create_dataset(\"state1Grid\", data = state1Grid)\n",
    "    fl.create_dataset(\"state2Grid\", data = state2Grid)\n",
    "    fl.create_dataset(\"state2GridUT\", data = state2GridUT)\n",
    "    fl.create_dataset(\"dispList\", data = dispList)\n",
    "    fl.create_dataset(\"rateList\", data = rateList)\n",
    "    fl.create_dataset(\"JumpSelection\", data = jmpSelects)\n",
    "    fl.create_dataset(\"vu\", data = SpecRates)\n",
    "    fl.create_dataset(\"jumpDisps\", data = dxList)\n",
    "    fl.create_dataset(\"jumpFinSites\", data = jList)"
   ]
  },
  {
   "cell_type": "code",
   "execution_count": null,
   "metadata": {},
   "outputs": [],
   "source": []
  }
 ],
 "metadata": {
  "kernelspec": {
   "display_name": "Python 3",
   "language": "python",
   "name": "python3"
  },
  "language_info": {
   "codemirror_mode": {
    "name": "ipython",
    "version": 3
   },
   "file_extension": ".py",
   "mimetype": "text/x-python",
   "name": "python",
   "nbconvert_exporter": "python",
   "pygments_lexer": "ipython3",
   "version": "3.6.9"
  }
 },
 "nbformat": 4,
 "nbformat_minor": 4
}
