{
 "cells": [
  {
   "cell_type": "code",
   "execution_count": 1,
   "metadata": {},
   "outputs": [],
   "source": [
    "from onsager import crystal, supercell, cluster\n",
    "import numpy as np"
   ]
  },
  {
   "cell_type": "code",
   "execution_count": 2,
   "metadata": {},
   "outputs": [],
   "source": [
    "N_units = 8 # No. of unit cells along each axis in the supercell\n",
    "MaxOrder = 2\n",
    "MaxOrderTrans = 3\n",
    "\n",
    "a0 = 1.0\n",
    "cut = 1.01*a0*np.sqrt(3)/2  # Nearest neighbor cutoff\n",
    "\n",
    "crys = crystal.Crystal.BCC(a0, chemistry=\"A\")\n",
    "jnetBCC = crys.jumpnetwork(0, cut)\n",
    "\n",
    "superlatt = N_units * np.eye(3, dtype=int)\n",
    "superBCC = supercell.ClusterSupercell(crys, superlatt)\n",
    "# Since the \"spectator\" tuple in the argument is left empty, all\n",
    "# sites of chemistry 0 will be mobile sites.\n",
    "\n",
    "vacsite = cluster.ClusterSite((0, 0), np.zeros(3, dtype=int))\n",
    "vacsiteInd = superBCC.index(np.zeros(3, dtype=int), (0, 0))[0]\n",
    "assert vacsiteInd == 0"
   ]
  },
  {
   "cell_type": "markdown",
   "metadata": {},
   "source": [
    "## State generation"
   ]
  },
  {
   "cell_type": "code",
   "execution_count": 3,
   "metadata": {},
   "outputs": [],
   "source": [
    "# Set up a random binary alloy\n",
    "NSpec = 3\n",
    "Nsites = len(superBCC.mobilepos)\n",
    "state = np.zeros(Nsites, dtype=np.uint8)\n",
    "c0 = 0.7\n",
    "N0 = int(c0*Nsites)\n",
    "for i in range(N0):\n",
    "    state[i] = 0\n",
    "for i in range(N0, Nsites):\n",
    "    state[i] = 1\n",
    "\n",
    "# permute it\n",
    "state = np.random.permutation(state)\n",
    "# put the vacancy at the origin\n",
    "state[vacsiteInd] = NSpec - 1\n",
    "specs, counts = np.unique(state, return_counts=True)"
   ]
  },
  {
   "cell_type": "code",
   "execution_count": 4,
   "metadata": {},
   "outputs": [],
   "source": [
    "# Next, for every site, make indices\n",
    "RtoSiteInd = np.zeros((N_units, N_units, N_units), dtype=int)\n",
    "SiteIndtoR = np.zeros((N_units*N_units*N_units, 3), dtype=int)\n",
    "\n",
    "for i in range(N_units):\n",
    "    for j in range(N_units):\n",
    "        for k in range(N_units):\n",
    "            Rsite=np.array([i,j,k])\n",
    "            siteInd = superBCC.index(Rsite, (0,0))[0]\n",
    "            RtoSiteInd[i,j,k] = siteInd\n",
    "            SiteIndtoR[siteInd] = Rsite"
   ]
  },
  {
   "cell_type": "code",
   "execution_count": 5,
   "metadata": {},
   "outputs": [],
   "source": [
    "# Convert the jump displacements into lattice translation\n",
    "dxR = np.zeros((8, 3), dtype=int)\n",
    "for jInd, ((i, j), dx) in enumerate(jnetBCC[0]):\n",
    "    Rnn = np.dot(np.linalg.inv(crys.lattice), dx).astype(int)\n",
    "    dxR[jInd] = Rnn"
   ]
  },
  {
   "cell_type": "code",
   "execution_count": 6,
   "metadata": {},
   "outputs": [],
   "source": [
    "N_ngb = len(dxR)"
   ]
  },
  {
   "cell_type": "markdown",
   "metadata": {},
   "source": [
    "## Gather all the symmetrically rotated states"
   ]
  },
  {
   "cell_type": "code",
   "execution_count": 7,
   "metadata": {},
   "outputs": [],
   "source": [
    "GIndtoGDict = {}\n",
    "count = 0\n",
    "for g in crys.G:\n",
    "    # Check if the group op is identity\n",
    "    if np.allclose(g.cartrot, np.eye(3)):\n",
    "        GIndtoGDict[0] = g\n",
    "    else:\n",
    "        count += 1\n",
    "        GIndtoGDict[count] = g"
   ]
  },
  {
   "cell_type": "code",
   "execution_count": 8,
   "metadata": {},
   "outputs": [],
   "source": [
    "# Now apply all the group operations to the test state\n",
    "z = np.zeros(3, dtype=int)\n",
    "StateGops = np.zeros((len(GIndtoGDict), Nsites), dtype=np.uint8)\n",
    "for (gInd, g) in GIndtoGDict.items():\n",
    "    stateRot = state.copy()\n",
    "    \n",
    "    # First, rotate the state\n",
    "    for siteInd in range(Nsites):\n",
    "        Rsite = SiteIndtoR[siteInd]\n",
    "        \n",
    "        RsiteNew, (ch, idx) = crys.g_pos(g, Rsite, (0,0))\n",
    "        assert ch == 0\n",
    "        assert idx == 0\n",
    "        if siteInd == 0:\n",
    "            assert np.array_equal(Rsite, z)\n",
    "            assert np.array_equal(RsiteNew, z)\n",
    "        \n",
    "        # Bring it back in the supercell\n",
    "        RsiteNew %= N_units\n",
    "        siteIndNew = RtoSiteInd[RsiteNew[0], RsiteNew[1], RsiteNew[2]]\n",
    "        stateRot[siteIndNew] = state[siteInd]\n",
    "    \n",
    "    if gInd == 0:\n",
    "        assert np.array_equal(state, stateRot)\n",
    "    \n",
    "    # Then store it\n",
    "    StateGops[gInd, :] = stateRot"
   ]
  },
  {
   "cell_type": "code",
   "execution_count": 9,
   "metadata": {},
   "outputs": [],
   "source": [
    "assert np.array_equal(StateGops[0], state)"
   ]
  },
  {
   "cell_type": "code",
   "execution_count": 10,
   "metadata": {},
   "outputs": [],
   "source": [
    "# Next, for each site, store the nearest neighbors\n",
    "NNList = np.zeros((N_ngb + 1, Nsites), dtype=int)\n",
    "for siteInd in range(Nsites):\n",
    "    NNList[0, siteInd] = siteInd\n",
    "    Rsite = SiteIndtoR[siteInd]\n",
    "    for ngbInd, Rnn in enumerate(dxR):\n",
    "        RsiteNN = (Rsite + Rnn)%N_units\n",
    "        siteIndNN = RtoSiteInd[RsiteNN[0], RsiteNN[1], RsiteNN[2]]\n",
    "        NNList[ngbInd + 1, siteInd] = siteIndNN"
   ]
  },
  {
   "cell_type": "markdown",
   "metadata": {},
   "source": [
    "## Store permutation of nearest neighbors"
   ]
  },
  {
   "cell_type": "code",
   "execution_count": 11,
   "metadata": {},
   "outputs": [],
   "source": [
    "# For each group operation, store the permuation of the nearest neighbors\n",
    "# First assign indices to nearest neighbor vectors\n",
    "nntoIdx = {}\n",
    "for ngbInd, Rnn in enumerate(dxR):\n",
    "    RnnTup = tuple(Rnn)\n",
    "    nntoIdx[RnnTup] = ngbInd+1"
   ]
  },
  {
   "cell_type": "code",
   "execution_count": 12,
   "metadata": {},
   "outputs": [],
   "source": [
    "# Now for each group operation, store, the permutation of the nearest neighbors\n",
    "GpermIdx = np.zeros((len(GIndtoGDict), N_ngb + 1), dtype=np.uint8)\n",
    "for gInd, g in GIndtoGDict.items():\n",
    "    for nnTup, nnIdx in nntoIdx.items():\n",
    "        nnVec = np.array(nnTup)\n",
    "        nnRot, _ = crys.g_pos(g.inv(), nnVec, (0, 0))\n",
    "        nnIdxNew = nntoIdx[tuple(nnRot)]\n",
    "        GpermIdx[gInd, nnIdx] = nnIdxNew"
   ]
  },
  {
   "cell_type": "code",
   "execution_count": null,
   "metadata": {},
   "outputs": [],
   "source": [
    "# Now save everything\n",
    "import pickle\n",
    "np.save(\"TestStates.npy\", StateGops)\n",
    "np.save(\"NNsites_sitewise.npy\", NNList)\n",
    "np.save(\"nnJumpLatVecs.npy\", dxR)\n",
    "np.save(\"RtoSiteInd.npy\", RtoSiteInd)\n",
    "np.save(\"SiteIndtoR.npy\", SiteIndtoR)\n",
    "np.save(\"GroupNNpermutations.npy\", GpermIdx)\n",
    "\n",
    "with open(\"GroupOpsIndices.pkl\", \"wb\") as fl:\n",
    "    pickle.dump(GIndtoGDict, fl)\n",
    "\n",
    "with open(\"supercellBCC.pkl\", \"wb\") as fl:\n",
    "    pickle.dump(superBCC, fl)\n",
    "\n",
    "with open(\"jnetBCC.pkl\", \"wb\") as fl:\n",
    "    pickle.dump(jnetBCC, fl)"
   ]
  },
  {
   "cell_type": "code",
   "execution_count": null,
   "metadata": {},
   "outputs": [],
   "source": []
  }
 ],
 "metadata": {
  "kernelspec": {
   "display_name": "Python 3",
   "language": "python",
   "name": "python3"
  },
  "language_info": {
   "codemirror_mode": {
    "name": "ipython",
    "version": 3
   },
   "file_extension": ".py",
   "mimetype": "text/x-python",
   "name": "python",
   "nbconvert_exporter": "python",
   "pygments_lexer": "ipython3",
   "version": "3.6.9"
  }
 },
 "nbformat": 4,
 "nbformat_minor": 4
}
