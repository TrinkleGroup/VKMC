{
 "cells": [
  {
   "cell_type": "code",
   "execution_count": 1,
   "metadata": {},
   "outputs": [],
   "source": [
    "import torch as pt\n",
    "import torch.nn as nn\n",
    "import torch.nn.functional as F\n",
    "import numpy as np\n",
    "import pickle\n",
    "from SymNet import SymNet\n",
    "import h5py"
   ]
  },
  {
   "cell_type": "code",
   "execution_count": null,
   "metadata": {},
   "outputs": [],
   "source": [
    "N_ngb, Nsites"
   ]
  },
  {
   "cell_type": "markdown",
   "metadata": {},
   "source": [
    "## Make the symmetry-related parameters"
   ]
  },
  {
   "cell_type": "code",
   "execution_count": 29,
   "metadata": {},
   "outputs": [],
   "source": [
    "GnnPerms = pt.tensor(GpermNNIdx).long()\n",
    "NNsites = pt.tensor(NNsiteList)\n",
    "\n",
    "Nlayers = 5\n",
    "NchOuts = [16,16,16,16, 1]\n",
    "\n",
    "Ng = GnnPerms.shape[0]\n",
    "Ndim = 3\n",
    "gdiags = pt.zeros(Ng*Ndim, Ng*Ndim).double()\n",
    "for gInd, g in GIndtoGDict.items():\n",
    "    rowStart = gInd * Ndim\n",
    "    rowEnd = (gInd + 1) * Ndim\n",
    "    gdiags[rowStart : rowEnd, rowStart : rowEnd] = pt.tensor(g.cartrot).double()"
   ]
  },
  {
   "cell_type": "code",
   "execution_count": 30,
   "metadata": {},
   "outputs": [],
   "source": [
    "# Make shells for symmetry-grouping sites\n",
    "shells = []\n",
    "AllSites = set()\n",
    "for siteInd in range(Nsites):\n",
    "    if siteInd not in AllSites:\n",
    "        Rsite = SiteIndtoR[siteInd]\n",
    "        newShell = set()\n",
    "        for gIng, g in GIndtoGDict.items():\n",
    "            Rnew, _ = superBCC.crys.g_pos(g, Rsite, (0, 0))\n",
    "            siteIndNew = RtoSiteInd[Rnew[0], Rnew[1], Rnew[2]]\n",
    "            newShell.add(siteIndNew)\n",
    "        AllSites.update(newShell)\n",
    "        shells.append(list(newShell))"
   ]
  },
  {
   "cell_type": "code",
   "execution_count": 31,
   "metadata": {},
   "outputs": [],
   "source": [
    "# Next, let's sort them according to distance\n",
    "def sortkey(shell):\n",
    "    R = SiteIndtoR[shell[0]]\n",
    "    xmin = np.linalg.norm(np.dot(superBCC.crys.lattice, R))\n",
    "    for siteInd in shell:\n",
    "        R = SiteIndtoR[siteInd]\n",
    "        x = np.linalg.norm(np.dot(superBCC.crys.lattice, R))\n",
    "        if x < xmin:\n",
    "            xmin = x\n",
    "    return xmin\n",
    "shellsSorted = sorted(shells, key=sortkey)"
   ]
  },
  {
   "cell_type": "code",
   "execution_count": 32,
   "metadata": {},
   "outputs": [
    {
     "data": {
      "text/plain": [
       "(tensor([ 0,  1,  2,  3,  4,  5,  6,  7,  8,  9, 10, 11, 12, 13, 14, 15, 16, 17,\n",
       "         18, 19, 20, 21, 22, 23, 24, 25, 26, 27, 28]),\n",
       " tensor([ 1,  8,  6, 12, 24,  8,  6, 24, 24, 24,  8, 24, 12, 48, 24,  6, 24, 24,\n",
       "         24,  4, 24, 24, 24, 24, 48,  3, 12, 12,  6]))"
      ]
     },
     "execution_count": 32,
     "metadata": {},
     "output_type": "execute_result"
    }
   ],
   "source": [
    "# Now let's assign shells to sites\n",
    "SitesToShells = pt.zeros(Nsites).long()\n",
    "for shellInd, shell in enumerate(shellsSorted):\n",
    "    for siteInd in shell:\n",
    "        SitesToShells[siteInd] = shellInd\n",
    "pt.unique(SitesToShells, return_counts=True)"
   ]
  },
  {
   "cell_type": "markdown",
   "metadata": {},
   "source": [
    "## Let's do backpropagation tests to make sure gradients are calculated correctly"
   ]
  },
  {
   "cell_type": "code",
   "execution_count": 33,
   "metadata": {},
   "outputs": [],
   "source": [
    "# Let's take a dummy loss function that tries to force\n",
    "# all vectors to -1\n",
    "def loss_fn(rate, dx, dy):\n",
    "    return pt.sum(rate * pt.norm(dx + dy)**2)/6."
   ]
  },
  {
   "cell_type": "code",
   "execution_count": 34,
   "metadata": {},
   "outputs": [],
   "source": [
    "TestNet = SymNet(Nlayers, NchOuts, GnnPerms, GIndtoGDict, gdiags, NNsites, SitesToShells,\n",
    "                 Ndim, act=\"relu\").double()"
   ]
  },
  {
   "cell_type": "code",
   "execution_count": 35,
   "metadata": {},
   "outputs": [
    {
     "data": {
      "text/plain": [
       "7200.0"
      ]
     },
     "execution_count": 35,
     "metadata": {},
     "output_type": "execute_result"
    }
   ],
   "source": [
    "sm = 0.\n",
    "for weight in TestNet.weightList:\n",
    "    sm += weight.shape[0]*weight.shape[1]*weight.shape[2]\n",
    "sm"
   ]
  },
  {
   "cell_type": "code",
   "execution_count": 36,
   "metadata": {},
   "outputs": [
    {
     "data": {
      "text/plain": [
       "torch.Size([29])"
      ]
     },
     "execution_count": 36,
     "metadata": {},
     "output_type": "execute_result"
    }
   ],
   "source": [
    "TestNet.ShellWeights.shape"
   ]
  },
  {
   "cell_type": "code",
   "execution_count": 37,
   "metadata": {},
   "outputs": [
    {
     "data": {
      "text/plain": [
       "torch.Size([3, 9])"
      ]
     },
     "execution_count": 37,
     "metadata": {},
     "output_type": "execute_result"
    }
   ],
   "source": [
    "TestNet.wtVC.shape"
   ]
  },
  {
   "cell_type": "code",
   "execution_count": 38,
   "metadata": {},
   "outputs": [
    {
     "data": {
      "text/plain": [
       "65.0"
      ]
     },
     "execution_count": 38,
     "metadata": {},
     "output_type": "execute_result"
    }
   ],
   "source": [
    "sm = 0.\n",
    "for bias in TestNet.biasList:\n",
    "    sm += bias.shape[0]\n",
    "sm"
   ]
  },
  {
   "cell_type": "code",
   "execution_count": 39,
   "metadata": {},
   "outputs": [
    {
     "name": "stdout",
     "output_type": "stream",
     "text": [
      "16\n",
      "16\n",
      "16\n",
      "16\n",
      "1\n"
     ]
    }
   ],
   "source": [
    "for bias in TestNet.biasList:\n",
    "    print(bias.shape[0])"
   ]
  },
  {
   "cell_type": "code",
   "execution_count": 40,
   "metadata": {},
   "outputs": [
    {
     "data": {
      "text/plain": [
       "7318"
      ]
     },
     "execution_count": 40,
     "metadata": {},
     "output_type": "execute_result"
    }
   ],
   "source": [
    "7200+29+24+65"
   ]
  },
  {
   "cell_type": "code",
   "execution_count": null,
   "metadata": {},
   "outputs": [],
   "source": []
  }
 ],
 "metadata": {
  "kernelspec": {
   "display_name": "Python 3",
   "language": "python",
   "name": "python3"
  },
  "language_info": {
   "codemirror_mode": {
    "name": "ipython",
    "version": 3
   },
   "file_extension": ".py",
   "mimetype": "text/x-python",
   "name": "python",
   "nbconvert_exporter": "python",
   "pygments_lexer": "ipython3",
   "version": "3.6.9"
  }
 },
 "nbformat": 4,
 "nbformat_minor": 4
}
