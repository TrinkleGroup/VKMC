{
 "cells": [
  {
   "cell_type": "code",
   "execution_count": 1,
   "metadata": {},
   "outputs": [],
   "source": [
    "import torch as pt\n",
    "import torch.nn as nn\n",
    "import torch.nn.functional as F\n",
    "import numpy as np\n",
    "import pickle\n",
    "from SymNet import SymNet\n",
    "import h5py"
   ]
  },
  {
   "cell_type": "code",
   "execution_count": 2,
   "metadata": {},
   "outputs": [],
   "source": [
    "# Load test data\n",
    "with h5py.File(r'singleStep_50.h5',\"r\") as fl:\n",
    "    state1Grid = np.array(fl[\"state1Grid\"][0])\n",
    "    state2Grid = np.array(fl[\"state2Grid\"][0])\n",
    "    rateArray = np.array(fl[\"rateList\"][0])\n",
    "    dispAll = np.array(fl[\"dispList\"][0])\n",
    "\n",
    "dxNN = np.load(\"nnJumpLatVecs.npy\")\n",
    "RtoSiteInd = np.load(\"RtoSiteInd.npy\")\n",
    "SiteIndtoR = np.load(\"SiteIndtoR.npy\")\n",
    "GpermNNIdx = np.load(\"GroupNNpermutations.npy\")\n",
    "\n",
    "NNsiteList = np.load(\"NNsites_sitewise.npy\")\n",
    "N_ngb = NNsiteList.shape[0]\n",
    "Nsites = NNsiteList.shape[1]\n",
    "with open(\"GroupOpsIndices.pkl\", \"rb\") as fl:\n",
    "    GIndtoGDict = pickle.load(fl)\n",
    "\n",
    "with open(\"supercellBCC.pkl\", \"rb\") as fl:\n",
    "    superBCC = pickle.load(fl)"
   ]
  },
  {
   "cell_type": "code",
   "execution_count": 3,
   "metadata": {},
   "outputs": [
    {
     "data": {
      "text/plain": [
       "(9, 512)"
      ]
     },
     "execution_count": 3,
     "metadata": {},
     "output_type": "execute_result"
    }
   ],
   "source": [
    "N_ngb, Nsites"
   ]
  },
  {
   "cell_type": "markdown",
   "metadata": {},
   "source": [
    "## Make the symmetry-related parameters"
   ]
  },
  {
   "cell_type": "code",
   "execution_count": 4,
   "metadata": {},
   "outputs": [],
   "source": [
    "GnnPerms = pt.tensor(GpermNNIdx).long()\n",
    "NNsites = pt.tensor(NNsiteList)\n",
    "\n",
    "Nlayers = 1\n",
    "NchOuts = [1]\n",
    "\n",
    "Ng = GnnPerms.shape[0]\n",
    "Ndim = 3\n",
    "gdiags = pt.zeros(Ng*Ndim, Ng*Ndim).double()\n",
    "for gInd, g in GIndtoGDict.items():\n",
    "    rowStart = gInd * Ndim\n",
    "    rowEnd = (gInd + 1) * Ndim\n",
    "    gdiags[rowStart : rowEnd, rowStart : rowEnd] = pt.tensor(g.cartrot).double()"
   ]
  },
  {
   "cell_type": "code",
   "execution_count": 5,
   "metadata": {},
   "outputs": [],
   "source": [
    "state1Tensor = pt.tensor(state1Grid/2.0).double().view(1, 1, 512)\n",
    "state2Tensor = pt.tensor(state2Grid/2.0).double().view(1, 1, 512)\n",
    "dispSpec1 = pt.tensor(dispAll[1, :]).double()\n",
    "rate = pt.tensor(rateArray).double()"
   ]
  },
  {
   "cell_type": "code",
   "execution_count": 6,
   "metadata": {},
   "outputs": [
    {
     "data": {
      "text/plain": [
       "torch.Size([1, 1, 512])"
      ]
     },
     "execution_count": 6,
     "metadata": {},
     "output_type": "execute_result"
    }
   ],
   "source": [
    "state2Tensor.shape"
   ]
  },
  {
   "cell_type": "code",
   "execution_count": 7,
   "metadata": {},
   "outputs": [],
   "source": [
    "# Make shells for symmetry-grouping sites\n",
    "shells = []\n",
    "AllSites = set()\n",
    "for siteInd in range(Nsites):\n",
    "    if siteInd not in AllSites:\n",
    "        Rsite = SiteIndtoR[siteInd]\n",
    "        newShell = set()\n",
    "        for gIng, g in GIndtoGDict.items():\n",
    "            Rnew, _ = superBCC.crys.g_pos(g, Rsite, (0, 0))\n",
    "            siteIndNew = RtoSiteInd[Rnew[0], Rnew[1], Rnew[2]]\n",
    "            newShell.add(siteIndNew)\n",
    "        AllSites.update(newShell)\n",
    "        shells.append(list(newShell))"
   ]
  },
  {
   "cell_type": "code",
   "execution_count": 8,
   "metadata": {},
   "outputs": [],
   "source": [
    "# Next, let's sort them according to distance\n",
    "def sortkey(shell):\n",
    "    R = SiteIndtoR[shell[0]]\n",
    "    xmin = np.linalg.norm(np.dot(superBCC.crys.lattice, R))\n",
    "    for siteInd in shell:\n",
    "        R = SiteIndtoR[siteInd]\n",
    "        x = np.linalg.norm(np.dot(superBCC.crys.lattice, R))\n",
    "        if x < xmin:\n",
    "            xmin = x\n",
    "    return xmin\n",
    "shellsSorted = sorted(shells, key=sortkey)"
   ]
  },
  {
   "cell_type": "code",
   "execution_count": 9,
   "metadata": {},
   "outputs": [
    {
     "data": {
      "text/plain": [
       "(tensor([ 0,  1,  2,  3,  4,  5,  6,  7,  8,  9, 10, 11, 12, 13, 14, 15, 16, 17,\n",
       "         18, 19, 20, 21, 22, 23, 24, 25, 26, 27, 28]),\n",
       " tensor([ 1,  8,  6, 12, 24,  8,  6, 24, 24, 24,  8, 24, 12, 48, 24,  6, 24, 24,\n",
       "         24,  4, 24, 24, 24, 24, 48,  3, 12, 12,  6]))"
      ]
     },
     "execution_count": 9,
     "metadata": {},
     "output_type": "execute_result"
    }
   ],
   "source": [
    "# Now let's assign shells to sites\n",
    "SitesToShells = pt.zeros(Nsites).long()\n",
    "for shellInd, shell in enumerate(shellsSorted):\n",
    "    for siteInd in shell:\n",
    "        SitesToShells[siteInd] = shellInd\n",
    "pt.unique(SitesToShells, return_counts=True)"
   ]
  },
  {
   "cell_type": "markdown",
   "metadata": {},
   "source": [
    "## Let's do backpropagation tests to make sure gradients are calculated correctly"
   ]
  },
  {
   "cell_type": "code",
   "execution_count": 10,
   "metadata": {},
   "outputs": [],
   "source": [
    "# Let's take a dummy loss function that tries to force\n",
    "# all vectors to -1\n",
    "def loss_fn(rate, dx, dy):\n",
    "    return pt.sum(rate * pt.norm(dx + dy)**2)/6."
   ]
  },
  {
   "cell_type": "code",
   "execution_count": 11,
   "metadata": {},
   "outputs": [
    {
     "name": "stderr",
     "output_type": "stream",
     "text": [
      "/home/soham/.local/lib/python3.6/site-packages/torch/autograd/__init__.py:132: UserWarning: CUDA initialization: Found no NVIDIA driver on your system. Please check that you have an NVIDIA GPU and installed a driver from http://www.nvidia.com/Download/index.aspx (Triggered internally at  /pytorch/c10/cuda/CUDAFunctions.cpp:100.)\n",
      "  allow_unreachable=True)  # allow_unreachable flag\n"
     ]
    }
   ],
   "source": [
    "TestNet = SymNet(Nlayers, NchOuts, GnnPerms, GIndtoGDict, gdiags, NNsites,\n",
    "                 SitesToShells, Ndim, act=\"relu\").double()\n",
    "\n",
    "optimizer = pt.optim.Adam(TestNet.parameters(), lr = 0.001)\n",
    "TestNet.RotateParams()\n",
    "\n",
    "# Now let's first evaluate gradients with the network\n",
    "\n",
    "# We only use the first sample for now\n",
    "optimizer.zero_grad()\n",
    "InLayers1, outlayersG1, outlayers1, outVecSites1, y1 = TestNet.forward(state1Tensor,\n",
    "                                                                       UseShellWeights=False, Test=True)\n",
    "InLayers2, outlayersG2, outlayers2, outVecSites2, y2 = TestNet.forward(state2Tensor,\n",
    "                                                                       UseShellWeights=False, Test=True)\n",
    "dy = (y2-y1).view(3)\n",
    "l = loss_fn(rate, dispSpec1, dy)\n",
    "l.backward()"
   ]
  },
  {
   "cell_type": "code",
   "execution_count": 12,
   "metadata": {},
   "outputs": [],
   "source": [
    "gradLayer1 = TestNet.weightList[0].grad.data.numpy().copy()"
   ]
  },
  {
   "cell_type": "code",
   "execution_count": 13,
   "metadata": {},
   "outputs": [],
   "source": [
    "gradR3 = TestNet.wtVC.grad.data.numpy().copy()"
   ]
  },
  {
   "cell_type": "code",
   "execution_count": 14,
   "metadata": {},
   "outputs": [
    {
     "data": {
      "text/plain": [
       "array([[[0., 0., 0., 0., 0., 0., 0., 0., 0.]]])"
      ]
     },
     "execution_count": 14,
     "metadata": {},
     "output_type": "execute_result"
    }
   ],
   "source": [
    "gradLayer1"
   ]
  },
  {
   "cell_type": "code",
   "execution_count": 15,
   "metadata": {},
   "outputs": [
    {
     "name": "stdout",
     "output_type": "stream",
     "text": [
      "[0. 0. 0.]\n",
      "[3.88578059e-16 3.88578059e-16 3.88578059e-16]\n",
      "[-3.88578059e-16 -3.88578059e-16 -3.88578059e-16]\n",
      "[ 3.88578059e-16 -3.88578059e-16 -3.88578059e-16]\n",
      "[-3.88578059e-16  3.88578059e-16  3.88578059e-16]\n",
      "[ 3.88578059e-16 -3.88578059e-16  3.88578059e-16]\n",
      "[-3.88578059e-16  3.88578059e-16 -3.88578059e-16]\n",
      "[ 3.88578059e-16  3.88578059e-16 -3.88578059e-16]\n",
      "[-3.88578059e-16 -3.88578059e-16  3.88578059e-16]\n"
     ]
    }
   ],
   "source": [
    "for i in range(N_ngb):\n",
    "    print(gradR3[:, i])"
   ]
  },
  {
   "cell_type": "code",
   "execution_count": 16,
   "metadata": {},
   "outputs": [
    {
     "data": {
      "text/plain": [
       "array([[ 0.5,  0.5,  0.5],\n",
       "       [-0.5, -0.5, -0.5],\n",
       "       [ 0.5, -0.5, -0.5],\n",
       "       [-0.5,  0.5,  0.5],\n",
       "       [ 0.5, -0.5,  0.5],\n",
       "       [-0.5,  0.5, -0.5],\n",
       "       [ 0.5,  0.5, -0.5],\n",
       "       [-0.5, -0.5,  0.5]])"
      ]
     },
     "execution_count": 16,
     "metadata": {},
     "output_type": "execute_result"
    }
   ],
   "source": [
    "np.dot(superBCC.crys.lattice, dxNN.T).T"
   ]
  },
  {
   "cell_type": "code",
   "execution_count": null,
   "metadata": {},
   "outputs": [],
   "source": [
    "# Now let's evaluate the gradients explicitly"
   ]
  },
  {
   "cell_type": "code",
   "execution_count": 17,
   "metadata": {},
   "outputs": [],
   "source": [
    "def gradR3(InputR3):\n",
    "    \n",
    "    grad = np.ones((N_ngb, Ndim, Ndim))\n",
    "    \n",
    "    for ngb in range(N_ngb):\n",
    "        # get the nn vector\n",
    "        if ngb == 0:\n",
    "            dx = np.zeros(3)\n",
    "        else:\n",
    "            dx = dxNN[ngb-1]\n",
    "            \n",
    "        for alpha in range(3):\n",
    "            sumOverSites = np.zeros(3)\n",
    "            for siteInd in range(Nsites):\n",
    "                Rsite = SiteIndtoR[siteInd]\n",
    "                \n",
    "                sumOverG = np.zeros(3)\n",
    "                for gInd, g in GIndtoGDict.items():\n",
    "                    \n",
    "                    # get the rotated nearest neighbor vector\n",
    "                    dxCart = np.dot(superBCC.crys.lattice, dx)\n",
    "                    dxCartRot = np.dot(g.cartrot, dxCart)\n",
    "                    dxRotLat = np.dot(np.linalg.inv(superBCC.crys.lattice), dxCartRot).astype(int)\n",
    "                    \n",
    "                    # get the neighboring site\n",
    "                    Rngb = (Rsite + dxRotLat)%8\n",
    "                    siteNgb = RtoSiteInd[Rngb[0], Rngb[1], Rngb[2]]\n",
    "                    # get the Input value at the nn site\n",
    "                    s = InputR3[0, 0, siteNgb].detach().item()\n",
    "                    \n",
    "                    # Now get the vector to multiply with\n",
    "                    gvec = np.array([g.cartrot[0, alpha],\n",
    "                                      g.cartrot[1, alpha], g.cartrot[2, alpha]])\n",
    "                    \n",
    "                    sumOverG += s * gvec\n",
    "                \n",
    "                sumOverSites += sumOverG\n",
    "            \n",
    "            grad[ngb, alpha, :] = sumOverSites\n",
    "    \n",
    "    return grad"
   ]
  },
  {
   "cell_type": "code",
   "execution_count": 18,
   "metadata": {},
   "outputs": [],
   "source": [
    "gradR3_state1 = gradR3(outlayers1[0])\n",
    "gradR3_state2 = gradR3(outlayers2[0])"
   ]
  },
  {
   "cell_type": "code",
   "execution_count": 19,
   "metadata": {},
   "outputs": [
    {
     "data": {
      "text/plain": [
       "array([[[0., 0., 0.],\n",
       "        [0., 0., 0.],\n",
       "        [0., 0., 0.]],\n",
       "\n",
       "       [[0., 0., 0.],\n",
       "        [0., 0., 0.],\n",
       "        [0., 0., 0.]],\n",
       "\n",
       "       [[0., 0., 0.],\n",
       "        [0., 0., 0.],\n",
       "        [0., 0., 0.]],\n",
       "\n",
       "       [[0., 0., 0.],\n",
       "        [0., 0., 0.],\n",
       "        [0., 0., 0.]],\n",
       "\n",
       "       [[0., 0., 0.],\n",
       "        [0., 0., 0.],\n",
       "        [0., 0., 0.]],\n",
       "\n",
       "       [[0., 0., 0.],\n",
       "        [0., 0., 0.],\n",
       "        [0., 0., 0.]],\n",
       "\n",
       "       [[0., 0., 0.],\n",
       "        [0., 0., 0.],\n",
       "        [0., 0., 0.]],\n",
       "\n",
       "       [[0., 0., 0.],\n",
       "        [0., 0., 0.],\n",
       "        [0., 0., 0.]],\n",
       "\n",
       "       [[0., 0., 0.],\n",
       "        [0., 0., 0.],\n",
       "        [0., 0., 0.]]])"
      ]
     },
     "execution_count": 19,
     "metadata": {},
     "output_type": "execute_result"
    }
   ],
   "source": [
    "gradR3_state1"
   ]
  },
  {
   "cell_type": "code",
   "execution_count": 28,
   "metadata": {},
   "outputs": [
    {
     "name": "stdout",
     "output_type": "stream",
     "text": [
      "[0. 0. 0.]\n"
     ]
    }
   ],
   "source": [
    "np.set_printoptions(precision=5)\n",
    "nn = 7\n",
    "alpha = 0\n",
    "\n",
    "for nn in range(1, 2):\n",
    "    dx = dxNN[nn-1]\n",
    "    dxCart = np.dot(superBCC.crys.lattice, dx)\n",
    "    SiteGrads = np.zeros((3, 512))\n",
    "    siteSumVec = np.zeros(3)\n",
    "    for siteInd in range(Nsites):\n",
    "        Rsite = SiteIndtoR[siteInd]\n",
    "        sumVec = np.zeros(3)\n",
    "        for gInd, g in GIndtoGDict.items():\n",
    "            dxCartRot = np.dot(g.cartrot, dxCart)\n",
    "            dxRotLat = np.dot(np.linalg.inv(superBCC.crys.lattice), dxCartRot).astype(int)\n",
    "\n",
    "            Rngb = (Rsite + dxRotLat)%8\n",
    "\n",
    "            siteNgb = RtoSiteInd[Rngb[0], Rngb[1], Rngb[2]]\n",
    "\n",
    "            s = outlayers1[0][0, 0, siteNgb].detach().item()\n",
    "\n",
    "            gvec = np.array([g.cartrot[0, alpha], g.cartrot[1, alpha], g.cartrot[2, alpha]])\n",
    "\n",
    "            sumVec += s*gvec\n",
    "    #         print(s*gvec)\n",
    "        SiteGrads[:, siteInd] = sumVec\n",
    "        siteSumVec += sumVec\n",
    "    print(\"{}\".format(siteSumVec))"
   ]
  },
  {
   "cell_type": "code",
   "execution_count": 30,
   "metadata": {},
   "outputs": [
    {
     "data": {
      "text/plain": [
       "array([[ -5.18219,   1.36567,  -4.77371,   1.22542],\n",
       "       [ 11.18132,   7.3648 ,  15.95503, -15.95503],\n",
       "       [-10.36437,   7.3648 ,   5.59066,  26.3194 ]])"
      ]
     },
     "execution_count": 30,
     "metadata": {},
     "output_type": "execute_result"
    }
   ],
   "source": [
    "SiteGrads[:, :4]"
   ]
  },
  {
   "cell_type": "code",
   "execution_count": 39,
   "metadata": {},
   "outputs": [
    {
     "data": {
      "text/plain": [
       "array([0., 0., 0.])"
      ]
     },
     "execution_count": 39,
     "metadata": {},
     "output_type": "execute_result"
    }
   ],
   "source": [
    "np.sum(SiteGrads,axis=1)"
   ]
  },
  {
   "cell_type": "code",
   "execution_count": 51,
   "metadata": {},
   "outputs": [
    {
     "name": "stdout",
     "output_type": "stream",
     "text": [
      "58\t9.359555155038834\t1.0\t9.359555155038834\n",
      "450\t8.064008824527264\t-1.0\t-8.064008824527264\n",
      "3\t10.655101485550404\t1.0\t10.655101485550404\n",
      "10\t6.768462494015694\t-1.0\t-6.768462494015694\n",
      "66\t10.655101485550404\t1.0\t10.655101485550404\n",
      "1\t10.655101485550404\t-1.0\t-10.655101485550404\n",
      "58\t9.359555155038834\t1.0\t9.359555155038834\n",
      "3\t10.655101485550404\t1.0\t10.655101485550404\n",
      "450\t8.064008824527264\t-1.0\t-8.064008824527264\n",
      "66\t10.655101485550404\t1.0\t10.655101485550404\n",
      "505\t7.859771877527237\t-1.0\t-7.859771877527237\n",
      "75\t10.655101485550404\t1.0\t10.655101485550404\n",
      "505\t7.859771877527237\t-1.0\t-7.859771877527237\n",
      "1\t10.655101485550404\t-1.0\t-10.655101485550404\n",
      "75\t10.655101485550404\t1.0\t10.655101485550404\n",
      "10\t6.768462494015694\t-1.0\t-6.768462494015694\n"
     ]
    },
    {
     "data": {
      "text/plain": [
       "15.955029860138893"
      ]
     },
     "execution_count": 51,
     "metadata": {},
     "output_type": "execute_result"
    }
   ],
   "source": [
    "sumVec = 0.\n",
    "Rsite = SiteIndtoR[2]\n",
    "for gInd, g in GIndtoGDict.items():\n",
    "    dxCartRot = np.dot(g.cartrot, dxCart)\n",
    "    dxRotLat = np.dot(np.linalg.inv(superBCC.crys.lattice), dxCartRot).astype(int)\n",
    "\n",
    "    Rngb = (Rsite + dxRotLat)%8\n",
    "\n",
    "    siteNgb = RtoSiteInd[Rngb[0], Rngb[1], Rngb[2]]\n",
    "\n",
    "    s = outlayers1[0][0, 0, siteNgb].detach().item()\n",
    "\n",
    "    gvec = np.array([g.cartrot[0, alpha], g.cartrot[1, alpha], g.cartrot[2, alpha]])\n",
    "    if not np.allclose(gvec[1], 0.0):\n",
    "        print(\"{}\\t{}\\t{}\\t{}\".format(siteNgb, s, gvec[1], s*gvec[1]))\n",
    "        sumVec += s*gvec[1]\n",
    "sumVec"
   ]
  },
  {
   "cell_type": "code",
   "execution_count": 50,
   "metadata": {},
   "outputs": [
    {
     "name": "stdout",
     "output_type": "stream",
     "text": [
      "59\t6.564225547015667\t1.0\t6.564225547015667\n",
      "451\t9.359555155038834\t-1.0\t-9.359555155038834\n",
      "4\t8.064008824527264\t1.0\t8.064008824527264\n",
      "11\t11.950647816061974\t-1.0\t-11.950647816061974\n",
      "67\t10.450864538550377\t1.0\t10.450864538550377\n",
      "2\t13.246194146573544\t-1.0\t-13.246194146573544\n",
      "59\t6.564225547015667\t1.0\t6.564225547015667\n",
      "4\t8.064008824527264\t1.0\t8.064008824527264\n",
      "451\t9.359555155038834\t-1.0\t-9.359555155038834\n",
      "67\t10.450864538550377\t1.0\t10.450864538550377\n",
      "506\t9.155318208038807\t-1.0\t-9.155318208038807\n",
      "76\t10.655101485550404\t1.0\t10.655101485550404\n",
      "506\t9.155318208038807\t-1.0\t-9.155318208038807\n",
      "2\t13.246194146573544\t-1.0\t-13.246194146573544\n",
      "76\t10.655101485550404\t1.0\t10.655101485550404\n",
      "11\t11.950647816061974\t-1.0\t-11.950647816061974\n"
     ]
    },
    {
     "data": {
      "text/plain": [
       "-15.955029860138893"
      ]
     },
     "execution_count": 50,
     "metadata": {},
     "output_type": "execute_result"
    }
   ],
   "source": [
    "sumVec = 0.\n",
    "Rsite = SiteIndtoR[3]\n",
    "for gInd, g in GIndtoGDict.items():\n",
    "    dxCartRot = np.dot(g.cartrot, dxCart)\n",
    "    dxRotLat = np.dot(np.linalg.inv(superBCC.crys.lattice), dxCartRot).astype(int)\n",
    "\n",
    "    Rngb = (Rsite + dxRotLat)%8\n",
    "\n",
    "    siteNgb = RtoSiteInd[Rngb[0], Rngb[1], Rngb[2]]\n",
    "\n",
    "    s = outlayers1[0][0, 0, siteNgb].detach().item()\n",
    "\n",
    "    gvec = np.array([g.cartrot[0, alpha], g.cartrot[1, alpha], g.cartrot[2, alpha]])\n",
    "    \n",
    "    if not np.allclose(gvec[1], 0.0):\n",
    "        print(\"{}\\t{}\\t{}\\t{}\".format(siteNgb, s, gvec[1], s*gvec[1]))\n",
    "        sumVec += s*gvec[1]\n",
    "sumVec"
   ]
  },
  {
   "cell_type": "code",
   "execution_count": 52,
   "metadata": {},
   "outputs": [
    {
     "data": {
      "text/plain": [
       "array([0, 7, 2])"
      ]
     },
     "execution_count": 52,
     "metadata": {},
     "output_type": "execute_result"
    }
   ],
   "source": [
    "SiteIndtoR[58]"
   ]
  },
  {
   "cell_type": "code",
   "execution_count": 53,
   "metadata": {},
   "outputs": [
    {
     "data": {
      "text/plain": [
       "array([7, 0, 3])"
      ]
     },
     "execution_count": 53,
     "metadata": {},
     "output_type": "execute_result"
    }
   ],
   "source": [
    "SiteIndtoR[451]"
   ]
  },
  {
   "cell_type": "code",
   "execution_count": 58,
   "metadata": {},
   "outputs": [
    {
     "name": "stdout",
     "output_type": "stream",
     "text": [
      "0.5\n",
      "0.0\n",
      "0.0\n",
      "0.0\n",
      "0.0\n",
      "0.5\n",
      "0.5\n",
      "0.0\n"
     ]
    }
   ],
   "source": [
    "for ngb in dxNN:\n",
    "    Rngb = (SiteIndtoR[451] + ngb)%8\n",
    "    print(state2Tensor[0, 0, RtoSiteInd[Rngb[0], Rngb[1], Rngb[2]]].item())"
   ]
  },
  {
   "cell_type": "code",
   "execution_count": 59,
   "metadata": {},
   "outputs": [
    {
     "name": "stdout",
     "output_type": "stream",
     "text": [
      "0.5\n",
      "0.0\n",
      "0.5\n",
      "0.5\n",
      "0.0\n",
      "0.5\n",
      "0.5\n",
      "0.0\n"
     ]
    }
   ],
   "source": [
    "for ngb in dxNN:\n",
    "    Rngb = (SiteIndtoR[58] + ngb)%8\n",
    "    print(state2Tensor[0, 0, RtoSiteInd[Rngb[0], Rngb[1], Rngb[2]]].item())"
   ]
  },
  {
   "cell_type": "code",
   "execution_count": null,
   "metadata": {},
   "outputs": [],
   "source": []
  }
 ],
 "metadata": {
  "kernelspec": {
   "display_name": "Python 3 (ipykernel)",
   "language": "python",
   "name": "python3"
  },
  "language_info": {
   "codemirror_mode": {
    "name": "ipython",
    "version": 3
   },
   "file_extension": ".py",
   "mimetype": "text/x-python",
   "name": "python",
   "nbconvert_exporter": "python",
   "pygments_lexer": "ipython3",
   "version": "3.8.10"
  }
 },
 "nbformat": 4,
 "nbformat_minor": 4
}
