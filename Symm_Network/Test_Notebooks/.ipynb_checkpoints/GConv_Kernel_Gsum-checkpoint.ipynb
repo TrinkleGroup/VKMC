{
 "cells": [
  {
   "cell_type": "code",
   "execution_count": 1,
   "metadata": {},
   "outputs": [],
   "source": [
    "import numpy as np\n",
    "import torch as pt\n",
    "import pickle\n",
    "from onsager import crystal, cluster, supercell\n",
    "from tqdm import tqdm"
   ]
  },
  {
   "cell_type": "code",
   "execution_count": 2,
   "metadata": {},
   "outputs": [],
   "source": [
    "# Load the data\n",
    "TestStates = np.load(\"TestStates.npy\")[:10]\n",
    "dxNN = np.load(\"nnJumpLatVecs.npy\")\n",
    "RtoSiteInd = np.load(\"RtoSiteInd.npy\")\n",
    "SiteIndtoR = np.load(\"SiteIndtoR.npy\")\n",
    "GpermNNIdx = np.load(\"GroupNNpermutations.npy\")\n",
    "\n",
    "NNsiteList = np.load(\"NNsites_sitewise.npy\")\n",
    "N_ngb = NNsiteList.shape[0]\n",
    "\n",
    "with open(\"GroupOpsIndices.pkl\", \"rb\") as fl:\n",
    "    GIndtoGDict = pickle.load(fl)\n",
    "\n",
    "with open(\"supercellBCC.pkl\", \"rb\") as fl:\n",
    "    superBCC = pickle.load(fl)"
   ]
  },
  {
   "cell_type": "markdown",
   "metadata": {},
   "source": [
    "## Expand the states"
   ]
  },
  {
   "cell_type": "code",
   "execution_count": 3,
   "metadata": {},
   "outputs": [
    {
     "data": {
      "text/plain": [
       "torch.Size([10, 1, 512])"
      ]
     },
     "execution_count": 3,
     "metadata": {},
     "output_type": "execute_result"
    }
   ],
   "source": [
    "StateTensors = pt.tensor(TestStates/2.0).double().view(TestStates.shape[0], 1, TestStates.shape[1])\n",
    "StateTensors.shape"
   ]
  },
  {
   "cell_type": "code",
   "execution_count": 4,
   "metadata": {},
   "outputs": [
    {
     "data": {
      "text/plain": [
       "torch.Size([10, 9, 512])"
      ]
     },
     "execution_count": 4,
     "metadata": {},
     "output_type": "execute_result"
    }
   ],
   "source": [
    "StateTensors_repeat = StateTensors.repeat_interleave(N_ngb, dim=1)\n",
    "StateTensors_repeat.shape"
   ]
  },
  {
   "cell_type": "code",
   "execution_count": 5,
   "metadata": {},
   "outputs": [],
   "source": [
    "for i in range(0, StateTensors.shape[0]):\n",
    "    for j in range(N_ngb):\n",
    "        assert pt.allclose(StateTensors[i], StateTensors_repeat[i,j]), \"{} {}\".format(i,j)"
   ]
  },
  {
   "cell_type": "code",
   "execution_count": 6,
   "metadata": {},
   "outputs": [],
   "source": [
    "# Next, repeat the NNsites tensor\n",
    "NNsiteTensor = pt.tensor(NNsiteList).long()\n",
    "NNsitesBatchRepeat = NNsiteTensor.unsqueeze(0).repeat(StateTensors_repeat.shape[0], 1, 1)"
   ]
  },
  {
   "cell_type": "code",
   "execution_count": 7,
   "metadata": {},
   "outputs": [
    {
     "data": {
      "text/plain": [
       "torch.Size([9, 512])"
      ]
     },
     "execution_count": 7,
     "metadata": {},
     "output_type": "execute_result"
    }
   ],
   "source": [
    "NNsiteTensor.shape"
   ]
  },
  {
   "cell_type": "code",
   "execution_count": 8,
   "metadata": {},
   "outputs": [
    {
     "data": {
      "text/plain": [
       "torch.Size([10, 9, 512])"
      ]
     },
     "execution_count": 8,
     "metadata": {},
     "output_type": "execute_result"
    }
   ],
   "source": [
    "NNsitesBatchRepeat.shape"
   ]
  },
  {
   "cell_type": "code",
   "execution_count": 9,
   "metadata": {},
   "outputs": [],
   "source": [
    "for i in range(0, StateTensors_repeat.shape[0]):\n",
    "    assert pt.equal(NNsiteTensor, NNsitesBatchRepeat[i])"
   ]
  },
  {
   "cell_type": "code",
   "execution_count": 10,
   "metadata": {},
   "outputs": [
    {
     "data": {
      "text/plain": [
       "torch.Size([10, 9, 512])"
      ]
     },
     "execution_count": 10,
     "metadata": {},
     "output_type": "execute_result"
    }
   ],
   "source": [
    "StatesTensorFull = pt.gather(StateTensors_repeat, 2, NNsitesBatchRepeat)\n",
    "StatesTensorFull.shape"
   ]
  },
  {
   "cell_type": "code",
   "execution_count": 11,
   "metadata": {},
   "outputs": [],
   "source": [
    "for stateInd in range(StateTensors.shape[0]):\n",
    "    stateFull = StatesTensorFull[stateInd]\n",
    "    for i in range(N_ngb):\n",
    "        indices=NNsiteTensor[i] # i^th nn site indices for all sites\n",
    "        nnSpecies = StateTensors[stateInd, 0][indices]\n",
    "        assert pt.equal(stateFull[i], nnSpecies)"
   ]
  },
  {
   "cell_type": "markdown",
   "metadata": {},
   "source": [
    "## Create a random filter and test input image convolution"
   ]
  },
  {
   "cell_type": "code",
   "execution_count": 13,
   "metadata": {},
   "outputs": [],
   "source": [
    "# Make a randomized filter with Nch channels\n",
    "Nch = 1\n",
    "Psi = pt.rand(Nch, 1, N_ngb, requires_grad=True).double()"
   ]
  },
  {
   "cell_type": "code",
   "execution_count": 14,
   "metadata": {},
   "outputs": [],
   "source": [
    "# Expand the kernels by adding group permutations of nearest neighbor translations\n",
    "GnnPermTensor= pt.tensor(GpermNNIdx).long()\n",
    "Ng = GnnPermTensor.shape[0]\n",
    "\n",
    "# repeat the permutations Nch times for each channel\n",
    "GnnPermTensor_repeat = GnnPermTensor.repeat(Nch, 1).view(-1, 1, N_ngb)\n",
    "\n",
    "# Now repeat each filter channel Ng times and permute according to group ops\n",
    "Psi_repeat = Psi.repeat_interleave(Ng, dim=0)\n",
    "Psi_repeat_perm = pt.gather(Psi_repeat, 2, GnnPermTensor_repeat).view(-1, 1*N_ngb)"
   ]
  },
  {
   "cell_type": "code",
   "execution_count": 15,
   "metadata": {},
   "outputs": [
    {
     "data": {
      "text/plain": [
       "torch.Size([48, 9])"
      ]
     },
     "execution_count": 15,
     "metadata": {},
     "output_type": "execute_result"
    }
   ],
   "source": [
    "Psi_repeat_perm.shape"
   ]
  },
  {
   "cell_type": "code",
   "execution_count": 16,
   "metadata": {},
   "outputs": [],
   "source": [
    "# Test the repeated kernels\n",
    "for ch in range(Nch):\n",
    "    FullPsiCh = Psi_repeat_perm[ch*Ng : (ch+1)*Ng]\n",
    "    for g in range(Ng):\n",
    "        Psiperm_g = Psi[ch,0][GnnPermTensor[g]]\n",
    "        assert pt.equal(FullPsiCh[g], Psiperm_g)"
   ]
  },
  {
   "cell_type": "code",
   "execution_count": 17,
   "metadata": {},
   "outputs": [
    {
     "data": {
      "text/plain": [
       "tensor([17.6272, 26.7087, 26.7087, 26.7087, 26.7087, 26.7087, 26.7087, 26.7087,\n",
       "        26.7087], dtype=torch.float64, grad_fn=<SumBackward1>)"
      ]
     },
     "execution_count": 17,
     "metadata": {},
     "output_type": "execute_result"
    }
   ],
   "source": [
    "pt.sum(Psi_repeat_perm, dim=0)"
   ]
  },
  {
   "cell_type": "code",
   "execution_count": 18,
   "metadata": {},
   "outputs": [
    {
     "data": {
      "text/plain": [
       "tensor([[0.3672, 0.7994, 0.5222, 0.4142, 0.9901, 0.2632, 0.2498, 0.9120, 0.3006]],\n",
       "       dtype=torch.float64, grad_fn=<SelectBackward>)"
      ]
     },
     "execution_count": 18,
     "metadata": {},
     "output_type": "execute_result"
    }
   ],
   "source": [
    "Psi[0]"
   ]
  },
  {
   "cell_type": "code",
   "execution_count": 19,
   "metadata": {},
   "outputs": [
    {
     "data": {
      "text/plain": [
       "17.625600000000002"
      ]
     },
     "execution_count": 19,
     "metadata": {},
     "output_type": "execute_result"
    }
   ],
   "source": [
    "0.3672*48"
   ]
  },
  {
   "cell_type": "code",
   "execution_count": null,
   "metadata": {},
   "outputs": [],
   "source": []
  }
 ],
 "metadata": {
  "kernelspec": {
   "display_name": "Python 3 (ipykernel)",
   "language": "python",
   "name": "python3"
  },
  "language_info": {
   "codemirror_mode": {
    "name": "ipython",
    "version": 3
   },
   "file_extension": ".py",
   "mimetype": "text/x-python",
   "name": "python",
   "nbconvert_exporter": "python",
   "pygments_lexer": "ipython3",
   "version": "3.8.10"
  }
 },
 "nbformat": 4,
 "nbformat_minor": 4
}
