{
 "cells": [
  {
   "cell_type": "code",
   "execution_count": 1,
   "metadata": {},
   "outputs": [],
   "source": [
    "import numpy as np\n",
    "import h5py\n",
    "import pickle\n",
    "from tqdm import tqdm\n",
    "import sys\n",
    "\n",
    "from scipy.constants import physical_constants\n",
    "kB = physical_constants[\"Boltzmann constant in eV/K\"][0]"
   ]
  },
  {
   "cell_type": "code",
   "execution_count": 2,
   "metadata": {},
   "outputs": [],
   "source": [
    "# Let's load the data first\n",
    "T = 1073\n",
    "start = 16000\n",
    "end = 18000\n",
    "intervalPath = \"1073_step1/16e3_18e3/\"\n",
    "fl_dat = intervalPath + \"data_{}_0_{}.h5\".format(T, start)\n",
    "Init_States = np.load(\"states_{}_0.npy\".format(T))\n",
    "with h5py.File(fl_dat, \"r\") as fl:\n",
    "    FinalStates = np.array(fl[\"FinalStates\"])\n",
    "    SpecDisps = np.array(fl[\"SpecDisps\"])\n",
    "    tarr = np.array(fl[\"times\"])\n",
    "    JumpSelects = np.array(fl[\"JumpSelects\"])\n",
    "    TestRandomNums = np.array(fl[\"TestRandNums\"])\n",
    "    TestRates = np.array(fl[\"TestRates\"])\n",
    "    TestBarriers = np.array(fl[\"TestBarriers\"])"
   ]
  },
  {
   "cell_type": "code",
   "execution_count": 4,
   "metadata": {},
   "outputs": [
    {
     "data": {
      "text/plain": [
       "array([ 15,  57, 449,  71, 448,  64,   7,   1,   8,  56, 456, 120])"
      ]
     },
     "execution_count": 4,
     "metadata": {},
     "output_type": "execute_result"
    }
   ],
   "source": [
    "# Next we need the neighborhood information\n",
    "NNsites = np.load(\"../CrysDat_FCC/NNsites_sitewise.npy\")\n",
    "NNsites_vac = NNsites[1:, 0]\n",
    "NNsites_vac"
   ]
  },
  {
   "cell_type": "code",
   "execution_count": 5,
   "metadata": {},
   "outputs": [
    {
     "data": {
      "text/plain": [
       "array([[ 0.   , -1.795,  1.795],\n",
       "       [-0.   ,  1.795, -1.795],\n",
       "       [ 1.795,  0.   , -1.795],\n",
       "       [-1.795, -0.   ,  1.795],\n",
       "       [ 0.   , -1.795, -1.795],\n",
       "       [-0.   ,  1.795,  1.795],\n",
       "       [-1.795, -1.795,  0.   ],\n",
       "       [ 1.795,  1.795, -0.   ],\n",
       "       [ 1.795,  0.   ,  1.795],\n",
       "       [-1.795, -0.   , -1.795],\n",
       "       [ 1.795, -1.795,  0.   ],\n",
       "       [-1.795,  1.795, -0.   ]])"
      ]
     },
     "execution_count": 5,
     "metadata": {},
     "output_type": "execute_result"
    }
   ],
   "source": [
    "# next, get the displacements\n",
    "dxJumps = np.load(\"../CrysDat_FCC/dxList.npy\") * 3.59\n",
    "dxJumps"
   ]
  },
  {
   "cell_type": "code",
   "execution_count": 6,
   "metadata": {},
   "outputs": [
    {
     "name": "stderr",
     "output_type": "stream",
     "text": [
      "100%|█████████████████████████████████████| 2000/2000 [00:00<00:00, 2223.17it/s]\n"
     ]
    }
   ],
   "source": [
    "# First, let's check that the vacancies have been put in properly\n",
    "assert np.all(FinalStates[np.arange(FinalStates.shape[0]), NNsites_vac[JumpSelects]] == 0)\n",
    "\n",
    "# Next, check that the correct displacements have been stored for the correct species\n",
    "z = np.zeros(3)\n",
    "for traj in tqdm(range(2000), position=0, leave=True):\n",
    "    state1 = Init_States[traj + start, :]\n",
    "    state2 = FinalStates[traj, :]\n",
    "    \n",
    "    SpecJump = state1[NNsites_vac[JumpSelects[traj]]]\n",
    "    assert state2[0] == SpecJump\n",
    "    assert state1[0] == 0\n",
    "    \n",
    "    # Now check the displacements\n",
    "    assert np.allclose(np.sum(SpecDisps[traj], axis=0), z)\n",
    "    assert np.allclose(SpecDisps[traj, 0], dxJumps[JumpSelects[traj]])\n",
    "    \n",
    "    for sp in range(1, 6):\n",
    "        if sp == SpecJump:\n",
    "            assert np.allclose(SpecDisps[traj, sp], -dxJumps[JumpSelects[traj]])\n",
    "        else:\n",
    "            assert np.allclose(SpecDisps[traj, sp], z)"
   ]
  },
  {
   "cell_type": "code",
   "execution_count": 7,
   "metadata": {},
   "outputs": [],
   "source": [
    "# Check lammps input writing\n",
    "specs = np.zeros_like(Init_States[0])\n",
    "with open(intervalPath + \"initial_19.data\", \"r\") as fl:\n",
    "    lines = fl.readlines()\n",
    "    atomLines = lines[12:]\n",
    "    for atom in atomLines:\n",
    "        splitLine = atom.split()\n",
    "        idx = int(splitLine[0])\n",
    "        sp = int(splitLine[1])\n",
    "        specs[idx] = sp\n",
    "assert np.all(Init_States[end-1] == specs)"
   ]
  },
  {
   "cell_type": "code",
   "execution_count": 8,
   "metadata": {},
   "outputs": [],
   "source": [
    "# Check lammps output writing\n",
    "batchSize = 20\n",
    "for traj in range(batchSize):\n",
    "    for jumpInd in range(NNsites_vac.shape[0]):\n",
    "        with open(intervalPath+\"final_{}_{}.data\".format(traj, jumpInd)) as fl:\n",
    "            lines = fl.readlines()\n",
    "            atomLines = lines[1:]\n",
    "        site = NNsites_vac[jumpInd] - 1\n",
    "        coords = np.array([float(x) for x in atomLines[site].split()[1:]])\n",
    "        assert np.allclose(coords, z)"
   ]
  },
  {
   "cell_type": "code",
   "execution_count": 9,
   "metadata": {},
   "outputs": [],
   "source": [
    "# Now check the stochastic decisions\n",
    "for samp in range(batchSize):\n",
    "    Barriers = TestBarriers[samp]\n",
    "    rates = TestRates[samp]\n",
    "    rn = TestRandomNums[samp]\n",
    "    assert np.allclose(rates, np.exp(-Barriers/(kB*T)))\n",
    "    \n",
    "    rateSum = np.sum(rates)\n",
    "    assert np.math.isclose(tarr[samp], 1.0/rateSum)\n",
    "    \n",
    "    rateProbs = np.cumsum(rates/rateSum)\n",
    "    assert JumpSelects[samp] == np.searchsorted(rateProbs, rn)"
   ]
  },
  {
   "cell_type": "code",
   "execution_count": null,
   "metadata": {},
   "outputs": [],
   "source": []
  }
 ],
 "metadata": {
  "kernelspec": {
   "display_name": "Python 3 (ipykernel)",
   "language": "python",
   "name": "python3"
  },
  "language_info": {
   "codemirror_mode": {
    "name": "ipython",
    "version": 3
   },
   "file_extension": ".py",
   "mimetype": "text/x-python",
   "name": "python",
   "nbconvert_exporter": "python",
   "pygments_lexer": "ipython3",
   "version": "3.8.10"
  }
 },
 "nbformat": 4,
 "nbformat_minor": 4
}
